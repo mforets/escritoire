{
 "cells": [
  {
   "cell_type": "code",
   "execution_count": 9,
   "metadata": {},
   "outputs": [],
   "source": [
    "using ReachabilityAnalysis, Plots, SparseArrays"
   ]
  },
  {
   "cell_type": "code",
   "execution_count": 10,
   "metadata": {},
   "outputs": [
    {
     "data": {
      "text/plain": [
       "print_dynamics (generic function with 1 method)"
      ]
     },
     "execution_count": 10,
     "metadata": {},
     "output_type": "execute_result"
    }
   ],
   "source": [
    "function print_dynamics(A, b, location_name)\n",
    "    println(\"dynamics of location $location_name:\")\n",
    "    for i in 1:size(A, 1)-1  # ignore the last dimension (time)\n",
    "        print(\"x_$i' = \")\n",
    "        for j in 1:size(A, 2)\n",
    "            if !iszero(A[i,j])\n",
    "                print(\"$(A[i,j]) x_$j + \")\n",
    "            end\n",
    "        end\n",
    "        println(\"$(b[i])\\n\")\n",
    "    end\n",
    "end"
   ]
  },
  {
   "cell_type": "code",
   "execution_count": 48,
   "metadata": {},
   "outputs": [
    {
     "data": {
      "text/plain": [
       "powertrain (generic function with 2 methods)"
      ]
     },
     "execution_count": 48,
     "metadata": {},
     "output_type": "execute_result"
    }
   ],
   "source": [
    "function powertrain(; θ::Int=1, X0_scale::Float64=1.0)\n",
    "    @assert θ > 0 \"θ must be positive, but was $θ\"\n",
    "    @assert (X0_scale > 0.0 && X0_scale <= 1.0) \"scale $X0_scale ∉ (0, 1]\"\n",
    "\n",
    "    # activate for printing the dynamics\n",
    "    display_dynamics = false\n",
    "\n",
    "    # dimension of state space (last dimension is time)\n",
    "    n = 2 * θ + 7 + 1\n",
    "\n",
    "    # constants\n",
    "    # indices 'm' (ₘ) and 'l' (ₗ) refer to the motor and the load\n",
    "    # indices 'i' (ᵢ) refer to the numbering of additional rotating masses\n",
    "    t_init = 0.2  # time to stay in the initial location\n",
    "    α = 0.03  # backlash size (half of the gap width)\n",
    "    τ_eng = 0.1  # engine time constant\n",
    "    γ = 12.0 # gearbox ratio (dimensionless)\n",
    "    u = 5.0 # requested engine torque\n",
    "    # moments of inertia [kg m²]\n",
    "    Jₗ = 140.\n",
    "    Jₘ = 0.3\n",
    "    Jᵢ = 100.0  # TODO the paper says 0.01, the SpaceEx model uses 100\n",
    "    # viscous friction constants [Nm s/rad]\n",
    "    bₗ = 5.6\n",
    "    bₘ = 0.0\n",
    "    bᵢ = 1.0\n",
    "    # shaft stiffness [Nm/rad]\n",
    "    kᵢ = 1e5\n",
    "    kₛ = 1e4\n",
    "    # PID parameters\n",
    "    k_P = 0.5  # [Nms/rad]\n",
    "    k_I = 0.5  # [Nm/rad]\n",
    "    k_D = 0.5  # [Nms²/rad]\n",
    "\n",
    "    function get_dynamics(kₛ, α, u)\n",
    "        # physical units of the state variables\n",
    "        # [x₁] = rad\n",
    "        # [x₂] = Nm\n",
    "        # [x₃] = rad\n",
    "        # [x₄] = rad/s\n",
    "        # [x₅] = rad\n",
    "        # [x₆] = rad/s\n",
    "        # [x₇] = rad/s\n",
    "        # [x₈] = rad\n",
    "        # [x₉] = rad/s\n",
    "        # ...\n",
    "        # [x_(2θ+6)] = rad\n",
    "        # [x_(2θ+7)] = rad/s\n",
    "\n",
    "        # linear dynamics\n",
    "        A = spzeros(n, n)\n",
    "\n",
    "        A[1, 7] = 1.0 / γ\n",
    "        A[1, 9] = -1.0\n",
    "\n",
    "        A[2, 1] = (-k_I * γ + k_D * kₛ / (γ * Jₘ)) / τ_eng\n",
    "        A[2, 2] = (-k_D / Jₘ - 1.0) / τ_eng\n",
    "        A[2, 3] = k_I * γ / τ_eng\n",
    "        A[2, 4] = k_P * γ / τ_eng\n",
    "        A[2, 7] = (-k_P + k_D * bₘ /Jₘ) / τ_eng\n",
    "        A[2, 8] = -k_I * γ / τ_eng\n",
    "\n",
    "        A[3, 4] = 1.0\n",
    "\n",
    "        A[5, 6] = 1.0\n",
    "\n",
    "        A[6, 5] = -kᵢ / Jₗ\n",
    "        A[6, 6] = -bₗ / Jₗ\n",
    "        A[6, 2*θ+6] = kᵢ / Jₗ\n",
    "\n",
    "        A[7, 1] = -kₛ / (Jₘ * γ)\n",
    "        A[7, 2] = 1.0 / Jₘ\n",
    "        A[7, 7] = -bₘ / Jₘ\n",
    "\n",
    "        i = 8\n",
    "        while i < n-1\n",
    "            A[i, i+1] = 1.0\n",
    "\n",
    "            if i == 8\n",
    "                # x9 has special dynamics\n",
    "                A[i+1, 1] = kₛ / Jᵢ\n",
    "                A[i+1, i] = -kᵢ / Jᵢ\n",
    "            else\n",
    "                A[i+1, i-2] = kᵢ / Jᵢ\n",
    "                A[i+1, i] = -2. * kᵢ / Jᵢ\n",
    "            end\n",
    "            A[i+1, i+1] = -bᵢ / Jᵢ\n",
    "\n",
    "            # wrap-around to x5 in the last step\n",
    "            j = (i == n-2) ? 5 : i+2\n",
    "            A[i+1, j] = kᵢ / Jᵢ\n",
    "\n",
    "            i += 2\n",
    "        end\n",
    "\n",
    "        # affine vector\n",
    "        b = spzeros(n)\n",
    "        b[2] = k_D * (γ * u - kₛ * α / (Jₘ * γ)) / τ_eng\n",
    "        b[4] = u\n",
    "        b[7] = kₛ * α / (Jₘ * γ)\n",
    "        b[9] = -kₛ * α / Jᵢ\n",
    "        b[n] = 1.0  # time\n",
    "\n",
    "        return A, b\n",
    "    end\n",
    "\n",
    "    # hybrid automaton\n",
    "    automaton = LightAutomaton(4)\n",
    "\n",
    "    # negAngle\n",
    "    A, b = get_dynamics(kₛ, -α, u)\n",
    "    X = HalfSpace(sparsevec([1], [1.], n), -α)  # x1 <= -α\n",
    "    m_negAngle = @system(x' = A * x + b, x ∈ X)\n",
    "    if display_dynamics\n",
    "        print_dynamics(A, b, \"negAngle\")\n",
    "    end\n",
    "\n",
    "    # deadzone\n",
    "    A, b = get_dynamics(0., -α, u)\n",
    "    X = HPolyhedron([HalfSpace(sparsevec([1], [-1.], n), α),  # x1 >= -α\n",
    "                     HalfSpace(sparsevec([1], [1.], n), α)])  # x1 <= α\n",
    "    m_deadzone = @system(x' = A * x + b, x ∈ X)\n",
    "    if display_dynamics\n",
    "        print_dynamics(A, b, \"deadzone\")\n",
    "    end\n",
    "\n",
    "    # posAngle\n",
    "    A, b = get_dynamics(kₛ, α, u)\n",
    "    X = HalfSpace(sparsevec([1], [-1.], n), -α)  # x1 >= α\n",
    "    m_posAngle = @system(x' = A * x + b, x ∈ X)\n",
    "    if display_dynamics\n",
    "        print_dynamics(A, b, \"posAngle\")\n",
    "    end\n",
    "\n",
    "    # negAngleInit\n",
    "    A, b = get_dynamics(kₛ, -α, -u)\n",
    "    X = HalfSpace(sparsevec([n], [1.], n), t_init)  # t <= t_init\n",
    "    m_negAngleInit = @system(x' = A * x + b, x ∈ X)\n",
    "    if display_dynamics\n",
    "        print_dynamics(A, b, \"negAngleInit\")\n",
    "    end\n",
    "\n",
    "    # modes\n",
    "    modes = [m_negAngle, m_deadzone, m_posAngle, m_negAngleInit]\n",
    "\n",
    "    # transition negAngleInit -> negAngle\n",
    "    add_transition!(automaton, 4, 1, 1)\n",
    "    guard = HalfSpace(sparsevec([n], [-1.], n), -t_init)  # t >= t_init\n",
    "    r_41 = ConstrainedIdentityMap(n, guard)\n",
    "\n",
    "    # transition negAngle -> deadzone\n",
    "    add_transition!(automaton, 1, 2, 2)\n",
    "    guard = HalfSpace(sparsevec([1], [-1.], n), α)  # x1 >= -α\n",
    "    r_12 = ConstrainedIdentityMap(n, guard)\n",
    "\n",
    "    # transition deadzone -> posAngle\n",
    "    add_transition!(automaton, 2, 3, 3)\n",
    "    guard = HalfSpace(sparsevec([1], [-1.], n), -α)  # x1 >= α\n",
    "    r_23 = ConstrainedIdentityMap(n, guard)\n",
    "\n",
    "    # TODO the SpaceEx model does not contain the following transitions\n",
    "#     # transition deadzone -> negAngle\n",
    "#     add_transition!(automaton, 2, 1, 4)\n",
    "#     guard = HalfSpace(sparsevec([1], [1.], n), -α)  # x1 <= -α\n",
    "#     r_21 = ConstrainedIdentityMap(n, guard)\n",
    "#     # transition posAngle -> deadzone\n",
    "#     add_transition!(automaton, 3, 2, 5)\n",
    "#     guard = HalfSpace(sparsevec([1], [1.], n), α)  # x1 <= α\n",
    "#     r_32 = ConstrainedIdentityMap(n, guard)\n",
    "\n",
    "    # transition annotations\n",
    "    resetmaps = [r_41, r_12, r_23]\n",
    "\n",
    "    # switching\n",
    "    switchings = [HybridSystems.AutonomousSwitching()]\n",
    "\n",
    "    H = HybridSystem(automaton, modes, resetmaps, switchings)\n",
    "\n",
    "    # initial condition in mode 1\n",
    "    c = Vector{Float64}(undef, n)\n",
    "    g = Vector{Float64}(undef, n)\n",
    "    c[1:7] = [-0.0432, -11., 0., 30., 0., 30., 360.]\n",
    "    g[1:7] = [0.0056, 4.67, 0., 10., 0., 10., 120.]\n",
    "    i = 8\n",
    "    while i < n\n",
    "        c[i] = -0.0013\n",
    "        g[i] = 0.0006\n",
    "        i += 1\n",
    "        c[i] = 30.\n",
    "        g[i] = 10.\n",
    "        i += 1\n",
    "    end\n",
    "    c[n] = 0.0\n",
    "    g[n] = 0.0\n",
    "    if X0_scale < 1.0\n",
    "        g = X0_scale * g\n",
    "    end\n",
    "    \n",
    "    X0 = Zonotope(c, hcat(g))\n",
    "    # TODO\n",
    "    X0 = overapproximate(X0, Hyperrectangle)\n",
    "    \n",
    "    initial_condition = [(4, X0)]\n",
    "\n",
    "    return InitialValueProblem(H, initial_condition)\n",
    "end"
   ]
  },
  {
   "cell_type": "markdown",
   "metadata": {},
   "source": [
    "## Safety properties"
   ]
  },
  {
   "cell_type": "code",
   "execution_count": 23,
   "metadata": {},
   "outputs": [],
   "source": [
    "#=\n",
    "function run_powertrain(system, options)\n",
    "    opC = BFFPSV18(:δ => 0.0005, :assume_sparse => true)\n",
    "    opD = LazyDiscretePost(:lazy_R⋂I => true, :lazy_R⋂G => true)\n",
    "    options[:mode] = \"check\"\n",
    "    options[:plot_vars] = [1, 3]\n",
    "    solve(system, options, opC, opD)\n",
    "end\n",
    "\n",
    "    system = \n",
    "\n",
    "    # safety property\n",
    "    property_2 = is_disjoint_from(HalfSpace(sparsevec([1], [1.], n), -α))  # x1 <= -α\n",
    "    property_3 = is_disjoint_from(HalfSpace(sparsevec([1], [1.], n), α))   # x1 <= α\n",
    "    property = Dict(2 => property_2, 3 => property_3)\n",
    "\n",
    "    # default options\n",
    "    options = Options(:T=>2.0, :property=>property)\n",
    "\n",
    "=#"
   ]
  },
  {
   "cell_type": "markdown",
   "metadata": {},
   "source": [
    "# $\\theta = 2$"
   ]
  },
  {
   "cell_type": "code",
   "execution_count": 45,
   "metadata": {},
   "outputs": [
    {
     "data": {
      "text/plain": [
       "Zonotope{Float64,Array{Float64,1},Array{Float64,2}}([-0.0432, -11.0, 0.0, 30.0, 0.0, 30.0, 360.0, -0.0013, 30.0, -0.0013, 30.0, 0.0], [0.0056; 4.67; … ; 10.0; 0.0])"
      ]
     },
     "execution_count": 45,
     "metadata": {},
     "output_type": "execute_result"
    }
   ],
   "source": [
    "ivp = powertrain(θ=2);\n",
    "boxdirs = BoxDirections{Float64, Vector{Float64}}(dim(X0))\n",
    "X0 = ivp.x0[1][2] # in mode 4"
   ]
  },
  {
   "cell_type": "code",
   "execution_count": 40,
   "metadata": {},
   "outputs": [],
   "source": [
    "sol = solve(@ivp(mode(ivp.s, 1), x(0) ∈ X0), T=2.0, alg=BOX(δ=0.0005));"
   ]
  },
  {
   "cell_type": "code",
   "execution_count": 41,
   "metadata": {},
   "outputs": [
    {
     "data": {
      "text/plain": [
       "12"
      ]
     },
     "execution_count": 41,
     "metadata": {},
     "output_type": "execute_result"
    }
   ],
   "source": [
    "dim(sol)"
   ]
  },
  {
   "cell_type": "code",
   "execution_count": null,
   "metadata": {},
   "outputs": [],
   "source": [
    "#plot(sol, vars=(1, 3))"
   ]
  },
  {
   "cell_type": "markdown",
   "metadata": {},
   "source": [
    "### Hybrid"
   ]
  },
  {
   "cell_type": "code",
   "execution_count": 49,
   "metadata": {},
   "outputs": [],
   "source": [
    "ivp = powertrain(θ=2);\n",
    "\n",
    "sol = solve(ivp, T=2.0, alg=BOX(δ=0.005),\n",
    "              clustering_method=LazyClustering(13),\n",
    "              intersection_method=TemplateHullIntersection(boxdirs),\n",
    "              intersect_source_invariant=false,\n",
    "              intersect_source_invariant_method=TemplateHullIntersection(boxdirs));"
   ]
  },
  {
   "cell_type": "code",
   "execution_count": null,
   "metadata": {},
   "outputs": [],
   "source": [
    "#plot(sol, vars=(1, 3))"
   ]
  },
  {
   "cell_type": "code",
   "execution_count": null,
   "metadata": {},
   "outputs": [],
   "source": []
  },
  {
   "cell_type": "code",
   "execution_count": null,
   "metadata": {},
   "outputs": [],
   "source": []
  }
 ],
 "metadata": {
  "kernelspec": {
   "display_name": "Julia 1.6.0",
   "language": "julia",
   "name": "julia-1.6"
  },
  "language_info": {
   "file_extension": ".jl",
   "mimetype": "application/julia",
   "name": "julia",
   "version": "1.6.0"
  }
 },
 "nbformat": 4,
 "nbformat_minor": 2
}
