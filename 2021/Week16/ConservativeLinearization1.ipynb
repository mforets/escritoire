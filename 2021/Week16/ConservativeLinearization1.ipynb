{
 "cells": [
  {
   "cell_type": "markdown",
   "metadata": {},
   "source": [
    "## References:\n",
    "\n",
    "- http://stanleybak.com/papers/li2020formats.pdf\n",
    "- https://mediatum.ub.tum.de/doc/1287517/"
   ]
  },
  {
   "cell_type": "markdown",
   "metadata": {},
   "source": [
    "## Example: Brusselator"
   ]
  },
  {
   "cell_type": "code",
   "execution_count": 1,
   "metadata": {},
   "outputs": [
    {
     "name": "stderr",
     "output_type": "stream",
     "text": [
      "┌ Info: Precompiling LazySets [b4f0291d-fe17-52bc-9479-3d1a343d9043]\n",
      "└ @ Base loading.jl:1317\n",
      "┌ Info: Precompiling ForwardDiff [f6369f11-7733-5829-9624-2563aa707210]\n",
      "└ @ Base loading.jl:1317\n",
      "┌ Info: Precompiling Symbolics [0c5d862f-8b57-4792-8d23-62f2024744c7]\n",
      "└ @ Base loading.jl:1317\n",
      "WARNING: using Plots.center in module Main conflicts with an existing identifier.\n"
     ]
    }
   ],
   "source": [
    "using LazySets\n",
    "using LazySets: center\n",
    "using ForwardDiff\n",
    "using Symbolics\n",
    "using Plots\n",
    "using Symbolics: jacobian, hessian\n",
    "using IntervalArithmetic"
   ]
  },
  {
   "cell_type": "markdown",
   "metadata": {},
   "source": [
    "Let $x' = f(x)$ with state vector $x(t) \\in \\mathbb{R}^n$ and vector field $f : \\mathbb{R}^n \\to \\mathbb{R}^n$."
   ]
  },
  {
   "cell_type": "markdown",
   "metadata": {},
   "source": [
    "Let $x^* \\in \\mathbb{R}^n$ be the linearization point."
   ]
  },
  {
   "cell_type": "markdown",
   "metadata": {},
   "source": [
    "$$\n",
    "x_i' \\in f_i(x^*) + \\dfrac{\\partial f_i(x)}{\\partial x}_{\\vert x = x^*}(x - x^*) + \\dfrac{1}{2}(x - x^*)^T\\dfrac{\\partial^2 f_i(\\xi)}{\\partial x^2} (x - x^*)\n",
    "$$"
   ]
  },
  {
   "cell_type": "markdown",
   "metadata": {},
   "source": [
    "If we fix $x$ and $x^*$, then the Lagrange remainder can take any value resulting from $\\xi \\in \\{x^* + \\alpha (x - x^*), \\alpha \\in [0, 1] \\}$."
   ]
  },
  {
   "cell_type": "markdown",
   "metadata": {},
   "source": [
    "Let $J \\in \\mathbb{R}^{n \\times n}$ be the Jacobian matrix of the system $x' = f(x)$."
   ]
  },
  {
   "cell_type": "markdown",
   "metadata": {},
   "source": [
    "Then, $J_{ij}(x) = \\dfrac{\\partial f_i(x)}{\\partial x_j}$."
   ]
  },
  {
   "cell_type": "markdown",
   "metadata": {},
   "source": [
    "Let $H_k$ be the Hessian matrix associated to the $k$-th component of the vector field $f$."
   ]
  },
  {
   "cell_type": "markdown",
   "metadata": {},
   "source": [
    "Then $H_k \\in \\mathbb{R}^{n\\times n}$ such that $(H_k)_{ij} = \\dfrac{\\partial^2 f_{k}}{\\partial x_i \\partial x_j}$."
   ]
  },
  {
   "cell_type": "markdown",
   "metadata": {},
   "source": [
    "--"
   ]
  },
  {
   "cell_type": "code",
   "execution_count": 69,
   "metadata": {},
   "outputs": [
    {
     "data": {
      "text/latex": [
       "\\begin{equation}\n",
       "\\left[\n",
       "\\begin{array}{cc}\n",
       "-0.5 + \\frac{2}{x} & y^{-1} \\\\\n",
       "1.5 - 2 x y &  - x^{2} \\\\\n",
       "\\end{array}\n",
       "\\right]\n",
       "\\end{equation}\n"
      ],
      "text/plain": [
       "2×2 Matrix{Num}:\n",
       " (2//1)*(x^-1) - 0.5             y^-1\n",
       "                 1.5 - (2x*y)  -(x^2)"
      ]
     },
     "execution_count": 69,
     "metadata": {},
     "output_type": "execute_result"
    }
   ],
   "source": [
    "var = @variables x y\n",
    "var = [x, y]\n",
    "\n",
    "# ∂t = Differential(t)\n",
    "# vector field (rhs)\n",
    "f = [1 + log(x^2*y) - 0.5x, 1.5x - x^2*y]\n",
    "\n",
    "X0 = Hyperrectangle(low=[0.8, 0.0], high=[1.0, 0.2]);\n",
    "c = center(X0)\n",
    "\n",
    "J = jacobian(f, var)"
   ]
  },
  {
   "cell_type": "code",
   "execution_count": 9,
   "metadata": {},
   "outputs": [
    {
     "data": {
      "text/latex": [
       "\\begin{equation}\n",
       "\\left[\n",
       "\\begin{array}{cc}\n",
       "2 y & 2 x \\\\\n",
       "2 x & 0 \\\\\n",
       "\\end{array}\n",
       "\\right]\n",
       "\\end{equation}\n"
      ],
      "text/plain": [
       "2×2 Matrix{Num}:\n",
       " 2y  2x\n",
       " 2x   0"
      ]
     },
     "execution_count": 9,
     "metadata": {},
     "output_type": "execute_result"
    }
   ],
   "source": [
    "H1 = hessian(f[1], var)"
   ]
  },
  {
   "cell_type": "code",
   "execution_count": 10,
   "metadata": {},
   "outputs": [
    {
     "data": {
      "text/latex": [
       "\\begin{equation}\n",
       "\\left[\n",
       "\\begin{array}{cc}\n",
       " - 2 y &  - 2 x \\\\\n",
       " - 2 x & 0 \\\\\n",
       "\\end{array}\n",
       "\\right]\n",
       "\\end{equation}\n"
      ],
      "text/plain": [
       "2×2 Matrix{Num}:\n",
       " -2y  -2x\n",
       " -2x    0"
      ]
     },
     "execution_count": 10,
     "metadata": {},
     "output_type": "execute_result"
    }
   ],
   "source": [
    "H2 = hessian(f[2], var)"
   ]
  },
  {
   "cell_type": "code",
   "execution_count": 16,
   "metadata": {},
   "outputs": [
    {
     "data": {
      "text/plain": [
       "[0.8, 1] × [0, 0.200001]"
      ]
     },
     "execution_count": 16,
     "metadata": {},
     "output_type": "execute_result"
    }
   ],
   "source": [
    "B0 = convert(IntervalBox, X0)\n",
    "\n",
    "#H2[1, 1](B0)"
   ]
  },
  {
   "cell_type": "code",
   "execution_count": 21,
   "metadata": {},
   "outputs": [
    {
     "data": {
      "text/plain": [
       "2-element Vector{Float64}:\n",
       " 0.9\n",
       " 0.1"
      ]
     },
     "execution_count": 21,
     "metadata": {},
     "output_type": "execute_result"
    }
   ],
   "source": [
    "c"
   ]
  },
  {
   "cell_type": "code",
   "execution_count": 22,
   "metadata": {},
   "outputs": [
    {
     "data": {
      "text/latex": [
       "\\begin{equation}\n",
       "\\left[\n",
       "\\begin{array}{cc}\n",
       "-0.5 + 2 x y & x^{2} \\\\\n",
       "1.5 - 2 x y &  - x^{2} \\\\\n",
       "\\end{array}\n",
       "\\right]\n",
       "\\end{equation}\n"
      ],
      "text/plain": [
       "2×2 Matrix{Num}:\n",
       " 2x*y - 0.5              x^2\n",
       "        1.5 - (2x*y)  -(x^2)"
      ]
     },
     "execution_count": 22,
     "metadata": {},
     "output_type": "execute_result"
    }
   ],
   "source": [
    "J"
   ]
  },
  {
   "cell_type": "code",
   "execution_count": 29,
   "metadata": {},
   "outputs": [
    {
     "data": {
      "text/latex": [
       "\\begin{equation}\n",
       "-0.5 + 2 x y\n",
       "\\end{equation}\n"
      ],
      "text/plain": [
       "2x*y - 0.5"
      ]
     },
     "execution_count": 29,
     "metadata": {},
     "output_type": "execute_result"
    }
   ],
   "source": [
    "J[1, 1]"
   ]
  },
  {
   "cell_type": "code",
   "execution_count": 34,
   "metadata": {},
   "outputs": [
    {
     "data": {
      "text/plain": [
       "2-element Vector{Tuple{Num, Float64}}:\n",
       " (x, 0.9)\n",
       " (y, 0.1)"
      ]
     },
     "execution_count": 34,
     "metadata": {},
     "output_type": "execute_result"
    }
   ],
   "source": []
  },
  {
   "cell_type": "code",
   "execution_count": 42,
   "metadata": {},
   "outputs": [
    {
     "name": "stderr",
     "output_type": "stream",
     "text": [
      "┌ Info: Precompiling ReachabilityAnalysis [1e97bd63-91d1-579d-8e8d-501d2b57c93f]\n",
      "└ @ Base loading.jl:1317\n"
     ]
    }
   ],
   "source": [
    "using ReachabilityAnalysis"
   ]
  },
  {
   "cell_type": "code",
   "execution_count": 43,
   "metadata": {},
   "outputs": [],
   "source": [
    "dict = [vi => ci for (vi, ci) in zip(var, c)] # ??\n",
    "\n",
    "A = substitute.(J, Ref(dict))\n",
    "\n",
    "fc = substitute.(f, Ref(dict))\n",
    "b = fc - A*c;"
   ]
  },
  {
   "cell_type": "code",
   "execution_count": 44,
   "metadata": {},
   "outputs": [
    {
     "data": {
      "text/plain": [
       "2-element Vector{Pair{Num, IntervalArithmetic.Interval{Float64}}}:\n",
       " x => [0.8, 1]\n",
       " y => [0, 0.200001]"
      ]
     },
     "execution_count": 44,
     "metadata": {},
     "output_type": "execute_result"
    }
   ],
   "source": [
    "dict_X0 = [vi => bi for (vi, bi) in zip(var, B0)] # ??"
   ]
  },
  {
   "cell_type": "code",
   "execution_count": 53,
   "metadata": {},
   "outputs": [],
   "source": [
    "M = substitute.(H1, Ref(dict_X0))\n",
    "v = var - c # var = [x, y]\n",
    "z = 1/2 * v' * M * v\n",
    "hh1 = substitute(z, dict_X0)\n",
    "\n",
    "M = substitute.(H2, Ref(dict_X0))\n",
    "z = 1/2 * v' * M * v\n",
    "hh2 = substitute(z, dict_X0);"
   ]
  },
  {
   "cell_type": "code",
   "execution_count": 54,
   "metadata": {},
   "outputs": [
    {
     "data": {
      "text/latex": [
       "\\begin{equation}\n",
       "[-0.0600001, 0.0600001]\n",
       "\\end{equation}\n"
      ],
      "text/plain": [
       "[-0.0600001, 0.0600001]"
      ]
     },
     "execution_count": 54,
     "metadata": {},
     "output_type": "execute_result"
    }
   ],
   "source": [
    "hh1"
   ]
  },
  {
   "cell_type": "code",
   "execution_count": 55,
   "metadata": {},
   "outputs": [
    {
     "data": {
      "text/latex": [
       "\\begin{equation}\n",
       "[-0.0600001, 0.0600001]\n",
       "\\end{equation}\n"
      ],
      "text/plain": [
       "[-0.0600001, 0.0600001]"
      ]
     },
     "execution_count": 55,
     "metadata": {},
     "output_type": "execute_result"
    }
   ],
   "source": [
    "hh2"
   ]
  },
  {
   "cell_type": "code",
   "execution_count": 58,
   "metadata": {},
   "outputs": [
    {
     "data": {
      "text/plain": [
       "Hyperrectangle{Float64, StaticArrays.SVector{2, Float64}, StaticArrays.SVector{2, Float64}}([0.0, 0.0], [0.06000000000000001, 0.06000000000000001])"
      ]
     },
     "execution_count": 58,
     "metadata": {},
     "output_type": "execute_result"
    }
   ],
   "source": [
    "U = IntervalBox(hh1.val, hh2.val)\n",
    "U = convert(Hyperrectangle, U)"
   ]
  },
  {
   "cell_type": "code",
   "execution_count": 66,
   "metadata": {},
   "outputs": [],
   "source": [
    "B = Matrix(1.0I, 2, 2)\n",
    "\n",
    "Aval = [v.val for v in A]\n",
    "bval = [v.val for v in b]\n",
    "\n",
    "prob = @ivp(x' = Aval*x + bval + B*u, x(0) ∈ X0, x ∈ Universe(2), u ∈ U);"
   ]
  },
  {
   "cell_type": "code",
   "execution_count": 67,
   "metadata": {},
   "outputs": [],
   "source": [
    "sol = solve(prob, T=0.5, alg=GLGM06(δ=0.1));"
   ]
  },
  {
   "cell_type": "code",
   "execution_count": 70,
   "metadata": {},
   "outputs": [
    {
     "data": {
      "image/svg+xml": [
       "<?xml version=\"1.0\" encoding=\"utf-8\"?>\n",
       "<svg xmlns=\"http://www.w3.org/2000/svg\" xmlns:xlink=\"http://www.w3.org/1999/xlink\" width=\"600\" height=\"400\" viewBox=\"0 0 2400 1600\">\n",
       "<defs>\n",
       "  <clipPath id=\"clip330\">\n",
       "    <rect x=\"0\" y=\"0\" width=\"2400\" height=\"1600\"/>\n",
       "  </clipPath>\n",
       "</defs>\n",
       "<path clip-path=\"url(#clip330)\" d=\"\n",
       "M0 1600 L2400 1600 L2400 0 L0 0  Z\n",
       "  \" fill=\"#ffffff\" fill-rule=\"evenodd\" fill-opacity=\"1\"/>\n",
       "<defs>\n",
       "  <clipPath id=\"clip331\">\n",
       "    <rect x=\"480\" y=\"0\" width=\"1681\" height=\"1600\"/>\n",
       "  </clipPath>\n",
       "</defs>\n",
       "<path clip-path=\"url(#clip330)\" d=\"\n",
       "M156.598 1486.45 L2352.76 1486.45 L2352.76 47.2441 L156.598 47.2441  Z\n",
       "  \" fill=\"#ffffff\" fill-rule=\"evenodd\" fill-opacity=\"1\"/>\n",
       "<defs>\n",
       "  <clipPath id=\"clip332\">\n",
       "    <rect x=\"156\" y=\"47\" width=\"2197\" height=\"1440\"/>\n",
       "  </clipPath>\n",
       "</defs>\n",
       "<polyline clip-path=\"url(#clip332)\" style=\"stroke:#000000; stroke-width:2; stroke-opacity:0.1; fill:none\" points=\"\n",
       "  218.754,1486.45 218.754,47.2441 \n",
       "  \"/>\n",
       "<polyline clip-path=\"url(#clip332)\" style=\"stroke:#000000; stroke-width:2; stroke-opacity:0.1; fill:none\" points=\"\n",
       "  818.644,1486.45 818.644,47.2441 \n",
       "  \"/>\n",
       "<polyline clip-path=\"url(#clip332)\" style=\"stroke:#000000; stroke-width:2; stroke-opacity:0.1; fill:none\" points=\"\n",
       "  1418.53,1486.45 1418.53,47.2441 \n",
       "  \"/>\n",
       "<polyline clip-path=\"url(#clip332)\" style=\"stroke:#000000; stroke-width:2; stroke-opacity:0.1; fill:none\" points=\"\n",
       "  2018.42,1486.45 2018.42,47.2441 \n",
       "  \"/>\n",
       "<polyline clip-path=\"url(#clip330)\" style=\"stroke:#000000; stroke-width:4; stroke-opacity:1; fill:none\" points=\"\n",
       "  156.598,1486.45 2352.76,1486.45 \n",
       "  \"/>\n",
       "<polyline clip-path=\"url(#clip330)\" style=\"stroke:#000000; stroke-width:4; stroke-opacity:1; fill:none\" points=\"\n",
       "  218.754,1486.45 218.754,1469.18 \n",
       "  \"/>\n",
       "<polyline clip-path=\"url(#clip330)\" style=\"stroke:#000000; stroke-width:4; stroke-opacity:1; fill:none\" points=\"\n",
       "  818.644,1486.45 818.644,1469.18 \n",
       "  \"/>\n",
       "<polyline clip-path=\"url(#clip330)\" style=\"stroke:#000000; stroke-width:4; stroke-opacity:1; fill:none\" points=\"\n",
       "  1418.53,1486.45 1418.53,1469.18 \n",
       "  \"/>\n",
       "<polyline clip-path=\"url(#clip330)\" style=\"stroke:#000000; stroke-width:4; stroke-opacity:1; fill:none\" points=\"\n",
       "  2018.42,1486.45 2018.42,1469.18 \n",
       "  \"/>\n",
       "<path clip-path=\"url(#clip330)\" d=\"M 0 0 M196.184 1515.64 Q192.573 1515.64 190.745 1519.2 Q188.939 1522.75 188.939 1529.87 Q188.939 1536.98 190.745 1540.55 Q192.573 1544.09 196.184 1544.09 Q199.819 1544.09 201.624 1540.55 Q203.453 1536.98 203.453 1529.87 Q203.453 1522.75 201.624 1519.2 Q199.819 1515.64 196.184 1515.64 M196.184 1511.93 Q201.994 1511.93 205.05 1516.54 Q208.129 1521.12 208.129 1529.87 Q208.129 1538.6 205.05 1543.21 Q201.994 1547.79 196.184 1547.79 Q190.374 1547.79 187.295 1543.21 Q184.24 1538.6 184.24 1529.87 Q184.24 1521.12 187.295 1516.54 Q190.374 1511.93 196.184 1511.93 Z\" fill=\"#000000\" fill-rule=\"evenodd\" fill-opacity=\"1\" /><path clip-path=\"url(#clip330)\" d=\"M 0 0 M216.346 1541.24 L221.23 1541.24 L221.23 1547.12 L216.346 1547.12 L216.346 1541.24 Z\" fill=\"#000000\" fill-rule=\"evenodd\" fill-opacity=\"1\" /><path clip-path=\"url(#clip330)\" d=\"M 0 0 M241.416 1530.71 Q238.082 1530.71 236.161 1532.49 Q234.263 1534.27 234.263 1537.4 Q234.263 1540.52 236.161 1542.31 Q238.082 1544.09 241.416 1544.09 Q244.749 1544.09 246.67 1542.31 Q248.591 1540.5 248.591 1537.4 Q248.591 1534.27 246.67 1532.49 Q244.772 1530.71 241.416 1530.71 M236.74 1528.72 Q233.73 1527.98 232.041 1525.92 Q230.374 1523.86 230.374 1520.89 Q230.374 1516.75 233.314 1514.34 Q236.277 1511.93 241.416 1511.93 Q246.578 1511.93 249.517 1514.34 Q252.457 1516.75 252.457 1520.89 Q252.457 1523.86 250.767 1525.92 Q249.101 1527.98 246.115 1528.72 Q249.494 1529.5 251.369 1531.8 Q253.267 1534.09 253.267 1537.4 Q253.267 1542.42 250.189 1545.11 Q247.133 1547.79 241.416 1547.79 Q235.698 1547.79 232.619 1545.11 Q229.564 1542.42 229.564 1537.4 Q229.564 1534.09 231.462 1531.8 Q233.36 1529.5 236.74 1528.72 M235.027 1521.33 Q235.027 1524.02 236.693 1525.52 Q238.383 1527.03 241.416 1527.03 Q244.425 1527.03 246.115 1525.52 Q247.828 1524.02 247.828 1521.33 Q247.828 1518.65 246.115 1517.14 Q244.425 1515.64 241.416 1515.64 Q238.383 1515.64 236.693 1517.14 Q235.027 1518.65 235.027 1521.33 Z\" fill=\"#000000\" fill-rule=\"evenodd\" fill-opacity=\"1\" /><path clip-path=\"url(#clip330)\" d=\"M 0 0 M785.797 1543.18 L793.436 1543.18 L793.436 1516.82 L785.126 1518.49 L785.126 1514.23 L793.389 1512.56 L798.065 1512.56 L798.065 1543.18 L805.704 1543.18 L805.704 1547.12 L785.797 1547.12 L785.797 1543.18 Z\" fill=\"#000000\" fill-rule=\"evenodd\" fill-opacity=\"1\" /><path clip-path=\"url(#clip330)\" d=\"M 0 0 M815.148 1541.24 L820.033 1541.24 L820.033 1547.12 L815.148 1547.12 L815.148 1541.24 Z\" fill=\"#000000\" fill-rule=\"evenodd\" fill-opacity=\"1\" /><path clip-path=\"url(#clip330)\" d=\"M 0 0 M840.218 1515.64 Q836.607 1515.64 834.778 1519.2 Q832.972 1522.75 832.972 1529.87 Q832.972 1536.98 834.778 1540.55 Q836.607 1544.09 840.218 1544.09 Q843.852 1544.09 845.658 1540.55 Q847.486 1536.98 847.486 1529.87 Q847.486 1522.75 845.658 1519.2 Q843.852 1515.64 840.218 1515.64 M840.218 1511.93 Q846.028 1511.93 849.083 1516.54 Q852.162 1521.12 852.162 1529.87 Q852.162 1538.6 849.083 1543.21 Q846.028 1547.79 840.218 1547.79 Q834.408 1547.79 831.329 1543.21 Q828.273 1538.6 828.273 1529.87 Q828.273 1521.12 831.329 1516.54 Q834.408 1511.93 840.218 1511.93 Z\" fill=\"#000000\" fill-rule=\"evenodd\" fill-opacity=\"1\" /><path clip-path=\"url(#clip330)\" d=\"M 0 0 M1386.49 1543.18 L1394.12 1543.18 L1394.12 1516.82 L1385.81 1518.49 L1385.81 1514.23 L1394.08 1512.56 L1398.75 1512.56 L1398.75 1543.18 L1406.39 1543.18 L1406.39 1547.12 L1386.49 1547.12 L1386.49 1543.18 Z\" fill=\"#000000\" fill-rule=\"evenodd\" fill-opacity=\"1\" /><path clip-path=\"url(#clip330)\" d=\"M 0 0 M1415.84 1541.24 L1420.72 1541.24 L1420.72 1547.12 L1415.84 1547.12 L1415.84 1541.24 Z\" fill=\"#000000\" fill-rule=\"evenodd\" fill-opacity=\"1\" /><path clip-path=\"url(#clip330)\" d=\"M 0 0 M1434.93 1543.18 L1451.25 1543.18 L1451.25 1547.12 L1429.31 1547.12 L1429.31 1543.18 Q1431.97 1540.43 1436.55 1535.8 Q1441.16 1531.15 1442.34 1529.81 Q1444.59 1527.28 1445.47 1525.55 Q1446.37 1523.79 1446.37 1522.1 Q1446.37 1519.34 1444.43 1517.61 Q1442.5 1515.87 1439.4 1515.87 Q1437.2 1515.87 1434.75 1516.63 Q1432.32 1517.4 1429.54 1518.95 L1429.54 1514.23 Q1432.36 1513.09 1434.82 1512.51 Q1437.27 1511.93 1439.31 1511.93 Q1444.68 1511.93 1447.87 1514.62 Q1451.07 1517.31 1451.07 1521.8 Q1451.07 1523.93 1450.26 1525.85 Q1449.47 1527.74 1447.36 1530.34 Q1446.79 1531.01 1443.68 1534.23 Q1440.58 1537.42 1434.93 1543.18 Z\" fill=\"#000000\" fill-rule=\"evenodd\" fill-opacity=\"1\" /><path clip-path=\"url(#clip330)\" d=\"M 0 0 M1985.33 1543.18 L1992.97 1543.18 L1992.97 1516.82 L1984.66 1518.49 L1984.66 1514.23 L1992.93 1512.56 L1997.6 1512.56 L1997.6 1543.18 L2005.24 1543.18 L2005.24 1547.12 L1985.33 1547.12 L1985.33 1543.18 Z\" fill=\"#000000\" fill-rule=\"evenodd\" fill-opacity=\"1\" /><path clip-path=\"url(#clip330)\" d=\"M 0 0 M2014.69 1541.24 L2019.57 1541.24 L2019.57 1547.12 L2014.69 1547.12 L2014.69 1541.24 Z\" fill=\"#000000\" fill-rule=\"evenodd\" fill-opacity=\"1\" /><path clip-path=\"url(#clip330)\" d=\"M 0 0 M2042.6 1516.63 L2030.8 1535.08 L2042.6 1535.08 L2042.6 1516.63 M2041.38 1512.56 L2047.26 1512.56 L2047.26 1535.08 L2052.19 1535.08 L2052.19 1538.97 L2047.26 1538.97 L2047.26 1547.12 L2042.6 1547.12 L2042.6 1538.97 L2027 1538.97 L2027 1534.46 L2041.38 1512.56 Z\" fill=\"#000000\" fill-rule=\"evenodd\" fill-opacity=\"1\" /><polyline clip-path=\"url(#clip332)\" style=\"stroke:#000000; stroke-width:2; stroke-opacity:0.1; fill:none\" points=\"\n",
       "  156.598,1445.72 2352.76,1445.72 \n",
       "  \"/>\n",
       "<polyline clip-path=\"url(#clip332)\" style=\"stroke:#000000; stroke-width:2; stroke-opacity:0.1; fill:none\" points=\"\n",
       "  156.598,1147.32 2352.76,1147.32 \n",
       "  \"/>\n",
       "<polyline clip-path=\"url(#clip332)\" style=\"stroke:#000000; stroke-width:2; stroke-opacity:0.1; fill:none\" points=\"\n",
       "  156.598,848.919 2352.76,848.919 \n",
       "  \"/>\n",
       "<polyline clip-path=\"url(#clip332)\" style=\"stroke:#000000; stroke-width:2; stroke-opacity:0.1; fill:none\" points=\"\n",
       "  156.598,550.521 2352.76,550.521 \n",
       "  \"/>\n",
       "<polyline clip-path=\"url(#clip332)\" style=\"stroke:#000000; stroke-width:2; stroke-opacity:0.1; fill:none\" points=\"\n",
       "  156.598,252.123 2352.76,252.123 \n",
       "  \"/>\n",
       "<polyline clip-path=\"url(#clip330)\" style=\"stroke:#000000; stroke-width:4; stroke-opacity:1; fill:none\" points=\"\n",
       "  156.598,1486.45 156.598,47.2441 \n",
       "  \"/>\n",
       "<polyline clip-path=\"url(#clip330)\" style=\"stroke:#000000; stroke-width:4; stroke-opacity:1; fill:none\" points=\"\n",
       "  156.598,1445.72 182.952,1445.72 \n",
       "  \"/>\n",
       "<polyline clip-path=\"url(#clip330)\" style=\"stroke:#000000; stroke-width:4; stroke-opacity:1; fill:none\" points=\"\n",
       "  156.598,1147.32 182.952,1147.32 \n",
       "  \"/>\n",
       "<polyline clip-path=\"url(#clip330)\" style=\"stroke:#000000; stroke-width:4; stroke-opacity:1; fill:none\" points=\"\n",
       "  156.598,848.919 182.952,848.919 \n",
       "  \"/>\n",
       "<polyline clip-path=\"url(#clip330)\" style=\"stroke:#000000; stroke-width:4; stroke-opacity:1; fill:none\" points=\"\n",
       "  156.598,550.521 182.952,550.521 \n",
       "  \"/>\n",
       "<polyline clip-path=\"url(#clip330)\" style=\"stroke:#000000; stroke-width:4; stroke-opacity:1; fill:none\" points=\"\n",
       "  156.598,252.123 182.952,252.123 \n",
       "  \"/>\n",
       "<path clip-path=\"url(#clip330)\" d=\"M 0 0 M63.4226 1431.51 Q59.8115 1431.51 57.9828 1435.08 Q56.1773 1438.62 56.1773 1445.75 Q56.1773 1452.86 57.9828 1456.42 Q59.8115 1459.96 63.4226 1459.96 Q67.0569 1459.96 68.8624 1456.42 Q70.6911 1452.86 70.6911 1445.75 Q70.6911 1438.62 68.8624 1435.08 Q67.0569 1431.51 63.4226 1431.51 M63.4226 1427.81 Q69.2328 1427.81 72.2883 1432.42 Q75.367 1437 75.367 1445.75 Q75.367 1454.48 72.2883 1459.08 Q69.2328 1463.67 63.4226 1463.67 Q57.6125 1463.67 54.5338 1459.08 Q51.4782 1454.48 51.4782 1445.75 Q51.4782 1437 54.5338 1432.42 Q57.6125 1427.81 63.4226 1427.81 Z\" fill=\"#000000\" fill-rule=\"evenodd\" fill-opacity=\"1\" /><path clip-path=\"url(#clip330)\" d=\"M 0 0 M83.5845 1457.12 L88.4688 1457.12 L88.4688 1463 L83.5845 1463 L83.5845 1457.12 Z\" fill=\"#000000\" fill-rule=\"evenodd\" fill-opacity=\"1\" /><path clip-path=\"url(#clip330)\" d=\"M 0 0 M108.654 1431.51 Q105.043 1431.51 103.214 1435.08 Q101.409 1438.62 101.409 1445.75 Q101.409 1452.86 103.214 1456.42 Q105.043 1459.96 108.654 1459.96 Q112.288 1459.96 114.094 1456.42 Q115.922 1452.86 115.922 1445.75 Q115.922 1438.62 114.094 1435.08 Q112.288 1431.51 108.654 1431.51 M108.654 1427.81 Q114.464 1427.81 117.52 1432.42 Q120.598 1437 120.598 1445.75 Q120.598 1454.48 117.52 1459.08 Q114.464 1463.67 108.654 1463.67 Q102.844 1463.67 99.765 1459.08 Q96.7095 1454.48 96.7095 1445.75 Q96.7095 1437 99.765 1432.42 Q102.844 1427.81 108.654 1427.81 Z\" fill=\"#000000\" fill-rule=\"evenodd\" fill-opacity=\"1\" /><path clip-path=\"url(#clip330)\" d=\"M 0 0 M65.0198 1133.12 Q61.4087 1133.12 59.58 1136.68 Q57.7745 1140.22 57.7745 1147.35 Q57.7745 1154.46 59.58 1158.02 Q61.4087 1161.57 65.0198 1161.57 Q68.6541 1161.57 70.4596 1158.02 Q72.2883 1154.46 72.2883 1147.35 Q72.2883 1140.22 70.4596 1136.68 Q68.6541 1133.12 65.0198 1133.12 M65.0198 1129.41 Q70.83 1129.41 73.8855 1134.02 Q76.9642 1138.6 76.9642 1147.35 Q76.9642 1156.08 73.8855 1160.69 Q70.83 1165.27 65.0198 1165.27 Q59.2097 1165.27 56.131 1160.69 Q53.0754 1156.08 53.0754 1147.35 Q53.0754 1138.6 56.131 1134.02 Q59.2097 1129.41 65.0198 1129.41 Z\" fill=\"#000000\" fill-rule=\"evenodd\" fill-opacity=\"1\" /><path clip-path=\"url(#clip330)\" d=\"M 0 0 M85.1818 1158.72 L90.066 1158.72 L90.066 1164.6 L85.1818 1164.6 L85.1818 1158.72 Z\" fill=\"#000000\" fill-rule=\"evenodd\" fill-opacity=\"1\" /><path clip-path=\"url(#clip330)\" d=\"M 0 0 M104.279 1160.66 L120.598 1160.66 L120.598 1164.6 L98.6539 1164.6 L98.6539 1160.66 Q101.316 1157.91 105.899 1153.28 Q110.506 1148.63 111.686 1147.28 Q113.932 1144.76 114.811 1143.02 Q115.714 1141.26 115.714 1139.57 Q115.714 1136.82 113.77 1135.08 Q111.848 1133.35 108.746 1133.35 Q106.547 1133.35 104.094 1134.11 Q101.663 1134.88 98.8854 1136.43 L98.8854 1131.7 Q101.709 1130.57 104.163 1129.99 Q106.617 1129.41 108.654 1129.41 Q114.024 1129.41 117.219 1132.1 Q120.413 1134.78 120.413 1139.27 Q120.413 1141.4 119.603 1143.32 Q118.816 1145.22 116.709 1147.82 Q116.131 1148.49 113.029 1151.7 Q109.927 1154.9 104.279 1160.66 Z\" fill=\"#000000\" fill-rule=\"evenodd\" fill-opacity=\"1\" /><path clip-path=\"url(#clip330)\" d=\"M 0 0 M62.9365 834.718 Q59.3254 834.718 57.4967 838.283 Q55.6912 841.824 55.6912 848.954 Q55.6912 856.061 57.4967 859.625 Q59.3254 863.167 62.9365 863.167 Q66.5707 863.167 68.3763 859.625 Q70.205 856.061 70.205 848.954 Q70.205 841.824 68.3763 838.283 Q66.5707 834.718 62.9365 834.718 M62.9365 831.014 Q68.7467 831.014 71.8022 835.621 Q74.8809 840.204 74.8809 848.954 Q74.8809 857.681 71.8022 862.287 Q68.7467 866.871 62.9365 866.871 Q57.1264 866.871 54.0477 862.287 Q50.9921 857.681 50.9921 848.954 Q50.9921 840.204 54.0477 835.621 Q57.1264 831.014 62.9365 831.014 Z\" fill=\"#000000\" fill-rule=\"evenodd\" fill-opacity=\"1\" /><path clip-path=\"url(#clip330)\" d=\"M 0 0 M83.0984 860.32 L87.9827 860.32 L87.9827 866.199 L83.0984 866.199 L83.0984 860.32 Z\" fill=\"#000000\" fill-rule=\"evenodd\" fill-opacity=\"1\" /><path clip-path=\"url(#clip330)\" d=\"M 0 0 M111.015 835.713 L99.2095 854.162 L111.015 854.162 L111.015 835.713 M109.788 831.639 L115.668 831.639 L115.668 854.162 L120.598 854.162 L120.598 858.051 L115.668 858.051 L115.668 866.199 L111.015 866.199 L111.015 858.051 L95.4132 858.051 L95.4132 853.537 L109.788 831.639 Z\" fill=\"#000000\" fill-rule=\"evenodd\" fill-opacity=\"1\" /><path clip-path=\"url(#clip330)\" d=\"M 0 0 M63.2606 536.32 Q59.6495 536.32 57.8208 539.885 Q56.0152 543.426 56.0152 550.556 Q56.0152 557.662 57.8208 561.227 Q59.6495 564.769 63.2606 564.769 Q66.8948 564.769 68.7004 561.227 Q70.5291 557.662 70.5291 550.556 Q70.5291 543.426 68.7004 539.885 Q66.8948 536.32 63.2606 536.32 M63.2606 532.616 Q69.0707 532.616 72.1263 537.223 Q75.205 541.806 75.205 550.556 Q75.205 559.283 72.1263 563.889 Q69.0707 568.472 63.2606 568.472 Q57.4504 568.472 54.3717 563.889 Q51.3162 559.283 51.3162 550.556 Q51.3162 541.806 54.3717 537.223 Q57.4504 532.616 63.2606 532.616 Z\" fill=\"#000000\" fill-rule=\"evenodd\" fill-opacity=\"1\" /><path clip-path=\"url(#clip330)\" d=\"M 0 0 M83.4225 561.922 L88.3067 561.922 L88.3067 567.801 L83.4225 567.801 L83.4225 561.922 Z\" fill=\"#000000\" fill-rule=\"evenodd\" fill-opacity=\"1\" /><path clip-path=\"url(#clip330)\" d=\"M 0 0 M109.071 548.658 Q105.922 548.658 104.071 550.811 Q102.242 552.963 102.242 556.713 Q102.242 560.44 104.071 562.616 Q105.922 564.769 109.071 564.769 Q112.219 564.769 114.047 562.616 Q115.899 560.44 115.899 556.713 Q115.899 552.963 114.047 550.811 Q112.219 548.658 109.071 548.658 M118.353 534.005 L118.353 538.264 Q116.594 537.431 114.788 536.991 Q113.006 536.551 111.246 536.551 Q106.617 536.551 104.163 539.676 Q101.733 542.801 101.385 549.121 Q102.751 547.107 104.811 546.042 Q106.871 544.954 109.348 544.954 Q114.557 544.954 117.566 548.125 Q120.598 551.273 120.598 556.713 Q120.598 562.037 117.45 565.255 Q114.302 568.472 109.071 568.472 Q103.075 568.472 99.9039 563.889 Q96.7326 559.283 96.7326 550.556 Q96.7326 542.362 100.621 537.5 Q104.51 532.616 111.061 532.616 Q112.82 532.616 114.603 532.963 Q116.408 533.311 118.353 534.005 Z\" fill=\"#000000\" fill-rule=\"evenodd\" fill-opacity=\"1\" /><path clip-path=\"url(#clip330)\" d=\"M 0 0 M63.5152 237.922 Q59.9041 237.922 58.0754 241.487 Q56.2699 245.028 56.2699 252.158 Q56.2699 259.264 58.0754 262.829 Q59.9041 266.371 63.5152 266.371 Q67.1494 266.371 68.955 262.829 Q70.7837 259.264 70.7837 252.158 Q70.7837 245.028 68.955 241.487 Q67.1494 237.922 63.5152 237.922 M63.5152 234.218 Q69.3254 234.218 72.3809 238.824 Q75.4596 243.408 75.4596 252.158 Q75.4596 260.885 72.3809 265.491 Q69.3254 270.074 63.5152 270.074 Q57.7051 270.074 54.6264 265.491 Q51.5708 260.885 51.5708 252.158 Q51.5708 243.408 54.6264 238.824 Q57.7051 234.218 63.5152 234.218 Z\" fill=\"#000000\" fill-rule=\"evenodd\" fill-opacity=\"1\" /><path clip-path=\"url(#clip330)\" d=\"M 0 0 M83.6771 263.523 L88.5614 263.523 L88.5614 269.403 L83.6771 269.403 L83.6771 263.523 Z\" fill=\"#000000\" fill-rule=\"evenodd\" fill-opacity=\"1\" /><path clip-path=\"url(#clip330)\" d=\"M 0 0 M108.746 252.991 Q105.413 252.991 103.492 254.773 Q101.594 256.556 101.594 259.681 Q101.594 262.806 103.492 264.588 Q105.413 266.371 108.746 266.371 Q112.08 266.371 114.001 264.588 Q115.922 262.783 115.922 259.681 Q115.922 256.556 114.001 254.773 Q112.103 252.991 108.746 252.991 M104.071 251 Q101.061 250.26 99.3715 248.199 Q97.7048 246.139 97.7048 243.176 Q97.7048 239.033 100.645 236.625 Q103.608 234.218 108.746 234.218 Q113.908 234.218 116.848 236.625 Q119.788 239.033 119.788 243.176 Q119.788 246.139 118.098 248.199 Q116.432 250.26 113.445 251 Q116.825 251.787 118.7 254.079 Q120.598 256.371 120.598 259.681 Q120.598 264.704 117.52 267.389 Q114.464 270.074 108.746 270.074 Q103.029 270.074 99.9502 267.389 Q96.8947 264.704 96.8947 259.681 Q96.8947 256.371 98.7928 254.079 Q100.691 251.787 104.071 251 M102.358 243.616 Q102.358 246.301 104.024 247.806 Q105.714 249.311 108.746 249.311 Q111.756 249.311 113.445 247.806 Q115.158 246.301 115.158 243.616 Q115.158 240.931 113.445 239.426 Q111.756 237.922 108.746 237.922 Q105.714 237.922 104.024 239.426 Q102.358 240.931 102.358 243.616 Z\" fill=\"#000000\" fill-rule=\"evenodd\" fill-opacity=\"1\" /><path clip-path=\"url(#clip332)\" d=\"\n",
       "M1076.8 929.071 L218.754 929.071 L218.754 1445.72 L1076.8 1445.72 L1076.8 929.071 L1076.8 929.071  Z\n",
       "  \" fill=\"#009af9\" fill-rule=\"evenodd\" fill-opacity=\"0.5\"/>\n",
       "<polyline clip-path=\"url(#clip332)\" style=\"stroke:#000000; stroke-width:4; stroke-opacity:0.5; fill:none\" points=\"\n",
       "  1076.8,929.071 218.754,929.071 218.754,1445.72 1076.8,1445.72 1076.8,929.071 \n",
       "  \"/>\n",
       "<path clip-path=\"url(#clip332)\" d=\"\n",
       "M385.209 1289.85 L428.334 1289.85 L1263.73 1236.5 L1343.39 757.466 L1343.39 722.502 L1300.26 722.502 L464.867 775.846 L385.209 1254.88 L385.209 1289.85 L385.209 1289.85 \n",
       "   Z\n",
       "  \" fill=\"#009af9\" fill-rule=\"evenodd\" fill-opacity=\"0.5\"/>\n",
       "<polyline clip-path=\"url(#clip332)\" style=\"stroke:#000000; stroke-width:4; stroke-opacity:0.5; fill:none\" points=\"\n",
       "  385.209,1289.85 428.334,1289.85 1263.73,1236.5 1343.39,757.466 1343.39,722.502 1300.26,722.502 464.867,775.846 385.209,1254.88 385.209,1289.85 \n",
       "  \n",
       "  \"/>\n",
       "<path clip-path=\"url(#clip332)\" d=\"\n",
       "M571.303 1134.98 L614.429 1134.98 L656.416 1132.3 L1477.99 1030.9 L1629.4 581.778 L1634.79 549.359 L1634.79 514.395 L1591.67 514.395 L1549.68 517.077 L728.11 618.474 \n",
       "  L576.694 1067.59 L571.303 1100.01 L571.303 1134.98 L571.303 1134.98  Z\n",
       "  \" fill=\"#009af9\" fill-rule=\"evenodd\" fill-opacity=\"0.5\"/>\n",
       "<polyline clip-path=\"url(#clip332)\" style=\"stroke:#000000; stroke-width:4; stroke-opacity:0.5; fill:none\" points=\"\n",
       "  571.303,1134.98 614.429,1134.98 656.416,1132.3 1477.99,1030.9 1629.4,581.778 1634.79,549.359 1634.79,514.395 1591.67,514.395 1549.68,517.077 728.11,618.474 \n",
       "  576.694,1067.59 571.303,1100.01 571.303,1134.98 \n",
       "  \"/>\n",
       "<path clip-path=\"url(#clip332)\" d=\"\n",
       "M776.364 979.81 L819.49 979.81 L861.477 977.129 L902.769 972.032 L1718.29 826.939 L1934.95 401.097 L1945.2 370.703 L1950.59 338.284 L1950.59 303.32 L1907.47 303.32 \n",
       "  L1865.48 306.001 L1824.19 311.098 L1008.67 456.191 L792.002 882.033 L781.755 912.427 L776.364 944.846 L776.364 979.81 L776.364 979.81  Z\n",
       "  \" fill=\"#009af9\" fill-rule=\"evenodd\" fill-opacity=\"0.5\"/>\n",
       "<polyline clip-path=\"url(#clip332)\" style=\"stroke:#000000; stroke-width:4; stroke-opacity:0.5; fill:none\" points=\"\n",
       "  776.364,979.81 819.49,979.81 861.477,977.129 902.769,972.032 1718.29,826.939 1934.95,401.097 1945.2,370.703 1950.59,338.284 1950.59,303.32 1907.47,303.32 \n",
       "  1865.48,306.001 1824.19,311.098 1008.67,456.191 792.002,882.033 781.755,912.427 776.364,944.846 776.364,979.81 \n",
       "  \"/>\n",
       "<path clip-path=\"url(#clip332)\" d=\"\n",
       "M999.937 823.189 L1043.06 823.189 L1085.05 820.508 L1126.34 815.411 L1167.33 808.119 L1983.69 622.887 L2260.3 214.571 L2274.96 185.753 L2285.21 155.359 L2290.6 122.94 \n",
       "  L2290.6 87.9763 L2247.48 87.9763 L2205.49 90.6574 L2164.2 95.7536 L2123.21 103.046 L1306.84 288.278 L1030.24 696.594 L1015.57 725.412 L1005.33 755.806 L999.937 788.225 \n",
       "  L999.937 823.189 L999.937 823.189  Z\n",
       "  \" fill=\"#009af9\" fill-rule=\"evenodd\" fill-opacity=\"0.5\"/>\n",
       "<polyline clip-path=\"url(#clip332)\" style=\"stroke:#000000; stroke-width:4; stroke-opacity:0.5; fill:none\" points=\"\n",
       "  999.937,823.189 1043.06,823.189 1085.05,820.508 1126.34,815.411 1167.33,808.119 1983.69,622.887 2260.3,214.571 2274.96,185.753 2285.21,155.359 2290.6,122.94 \n",
       "  2290.6,87.9763 2247.48,87.9763 2205.49,90.6574 2164.2,95.7536 2123.21,103.046 1306.84,288.278 1030.24,696.594 1015.57,725.412 1005.33,755.806 999.937,788.225 \n",
       "  999.937,823.189 \n",
       "  \"/>\n",
       "</svg>\n"
      ]
     },
     "execution_count": 70,
     "metadata": {},
     "output_type": "execute_result"
    }
   ],
   "source": [
    "plot(sol, vars=(1, 2))"
   ]
  },
  {
   "cell_type": "code",
   "execution_count": null,
   "metadata": {},
   "outputs": [],
   "source": []
  },
  {
   "cell_type": "code",
   "execution_count": null,
   "metadata": {},
   "outputs": [],
   "source": [
    "\n",
    "z = t + t^2\n",
    "D(z) # symbolic representation of derivative(t + t^2, t)\n",
    "expand_derivatives(D(z)) # 1 + 2t\n",
    "\n",
    "Symbolics.jacobian([x + x*y, x^2 + y],[x, y])\n",
    "\n",
    "#2×2 Matrix{Num}:\n",
    "# 1 + y  x\n",
    "#    2x  1\n",
    "\n",
    "B = simplify.([t^2 + t + t^2  2t + 4t\n",
    "              x + y + y + 2t  x^2 - x^2 + y^2])\n",
    "\n",
    "#2×2 Matrix{Num}:\n",
    "#   t + 2(t^2)   6t\n",
    "# x + 2(t + y)  y^2\n",
    "\n",
    "simplify.(substitute.(B, (Dict(x => y^2),)))\n",
    "\n",
    "#2×2 Matrix{Num}:\n",
    "#     t + 2(t^2)   6t\n",
    "# y^2 + 2(t + y)  y^2\n",
    "\n",
    "substitute.(B, (Dict(x => 2.0, y => 3.0, t => 4.0),))\n",
    "\n",
    "#2×2 Matrix{Num}:\n",
    "# 36.0  24.0\n",
    "# 16.0   9.0"
   ]
  },
  {
   "cell_type": "code",
   "execution_count": null,
   "metadata": {},
   "outputs": [],
   "source": []
  }
 ],
 "metadata": {
  "@webio": {
   "lastCommId": null,
   "lastKernelId": null
  },
  "kernelspec": {
   "display_name": "Julia 1.6.0",
   "language": "julia",
   "name": "julia-1.6"
  },
  "language_info": {
   "file_extension": ".jl",
   "mimetype": "application/julia",
   "name": "julia",
   "version": "1.6.0"
  }
 },
 "nbformat": 4,
 "nbformat_minor": 2
}
