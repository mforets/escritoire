{
 "cells": [
  {
   "cell_type": "code",
   "execution_count": 1,
   "metadata": {},
   "outputs": [],
   "source": [
    "using Revise\n",
    "\n",
    "using ReachabilityAnalysis, SparseArrays, JLD2\n",
    "\n",
    "LazySets.set_ztol(Float64, 1e-14); # remove if this is not needed for the plots"
   ]
  },
  {
   "cell_type": "code",
   "execution_count": 2,
   "metadata": {},
   "outputs": [],
   "source": [
    "# LOAD model in RA#master (8/04/2021)\n",
    "examples_dir = \"/home/mforets/.julia/dev/ReachabilityAnalysis/examples/\"\n",
    "building_path = joinpath(examples_dir, \"Building\", \"building.jld2\");"
   ]
  },
  {
   "cell_type": "code",
   "execution_count": 3,
   "metadata": {},
   "outputs": [
    {
     "name": "stderr",
     "output_type": "stream",
     "text": [
      "┌ Warning: saved type OrderedCollections.OrderedDict{Symbol, Dict{String, Any}} is missing field maxprobe in workspace type; reconstructing\n",
      "└ @ JLD2 /home/mforets/.julia/packages/JLD2/qncOK/src/data/reconstructing_datatypes.jl:152\n"
     ]
    }
   ],
   "source": [
    "using JLD2, FileIO\n",
    "\n",
    "H = load(building_path)[\"H\"];"
   ]
  },
  {
   "cell_type": "code",
   "execution_count": 4,
   "metadata": {},
   "outputs": [
    {
     "data": {
      "text/plain": [
       "ConstrainedLinearControlContinuousSystem{Float64, Matrix{Float64}, Matrix{Float64}, Vector{LazySet{Float64}}, Vector{CartesianProduct{Float64, Singleton{Float64, Vector{Float64}}, HalfSpace{Float64, Vector{Float64}}}}}([0.0 0.0 … 0.0 0.0; 0.0 0.0 … 0.0 0.0; … ; 12.708461033093819 4.866919335674403 … -5.188448853349926 0.0; 0.0 0.0 … 0.0 0.0], [0.0 0.0; 0.0 0.0; … ; 0.0 0.0; 0.0 1.0], LazySet{Float64}[], CartesianProduct{Float64, Singleton{Float64, Vector{Float64}}, HalfSpace{Float64, Vector{Float64}}}[CartesianProduct{Float64, Singleton{Float64, Vector{Float64}}, HalfSpace{Float64, Vector{Float64}}}(Singleton{Float64, Vector{Float64}}([1.0]), HalfSpace{Float64, Vector{Float64}}([-1.0], -0.8)), CartesianProduct{Float64, Singleton{Float64, Vector{Float64}}, HalfSpace{Float64, Vector{Float64}}}(Singleton{Float64, Vector{Float64}}([1.0]), HalfSpace{Float64, Vector{Float64}}([1.0], 1.0))])"
      ]
     },
     "execution_count": 4,
     "metadata": {},
     "output_type": "execute_result"
    }
   ],
   "source": [
    "H.ext[:variables].keys; # x1 a x48, t, u1\n",
    "\n",
    "H.modes[1]"
   ]
  },
  {
   "cell_type": "code",
   "execution_count": 5,
   "metadata": {},
   "outputs": [
    {
     "name": "stdout",
     "output_type": "stream",
     "text": [
      "search: \u001b[0m\u001b[1mC\u001b[22m\u001b[0m\u001b[1mo\u001b[22m\u001b[0m\u001b[1mn\u001b[22m\u001b[0m\u001b[1ms\u001b[22m\u001b[0m\u001b[1mt\u001b[22m\u001b[0m\u001b[1mr\u001b[22m\u001b[0m\u001b[1ma\u001b[22m\u001b[0m\u001b[1mi\u001b[22m\u001b[0m\u001b[1mn\u001b[22m\u001b[0m\u001b[1me\u001b[22m\u001b[0m\u001b[1md\u001b[22m\u001b[0m\u001b[1mL\u001b[22m\u001b[0m\u001b[1mi\u001b[22m\u001b[0m\u001b[1mn\u001b[22m\u001b[0m\u001b[1me\u001b[22m\u001b[0m\u001b[1ma\u001b[22m\u001b[0m\u001b[1mr\u001b[22m\u001b[0m\u001b[1mC\u001b[22m\u001b[0m\u001b[1mo\u001b[22m\u001b[0m\u001b[1mn\u001b[22m\u001b[0m\u001b[1mt\u001b[22m\u001b[0m\u001b[1mr\u001b[22m\u001b[0m\u001b[1mo\u001b[22m\u001b[0m\u001b[1ml\u001b[22m\u001b[0m\u001b[1mC\u001b[22m\u001b[0m\u001b[1mo\u001b[22m\u001b[0m\u001b[1mn\u001b[22m\u001b[0m\u001b[1mt\u001b[22m\u001b[0m\u001b[1mi\u001b[22m\u001b[0m\u001b[1mn\u001b[22m\u001b[0m\u001b[1mu\u001b[22m\u001b[0m\u001b[1mo\u001b[22m\u001b[0m\u001b[1mu\u001b[22m\u001b[0m\u001b[1ms\u001b[22m\u001b[0m\u001b[1mS\u001b[22m\u001b[0m\u001b[1my\u001b[22m\u001b[0m\u001b[1ms\u001b[22m\u001b[0m\u001b[1mt\u001b[22m\u001b[0m\u001b[1me\u001b[22m\u001b[0m\u001b[1mm\u001b[22m\n",
      "\n"
     ]
    },
    {
     "data": {
      "text/latex": [
       "\\begin{verbatim}\n",
       "ConstrainedLinearControlContinuousSystem\n",
       "\\end{verbatim}\n",
       "Continuous-time linear control system with domain constraints of the form:\n",
       "\n",
       "$$    x(t)' = A x(t) + B u(t), \\; x(t) ∈ \\mathcal{X}, \\; u(t) ∈ \\mathcal{U} \\; \\forall t.$$\n",
       "\\subsubsection{Fields}\n",
       "\\begin{itemize}\n",
       "\\item \\texttt{A} – state matrix\n",
       "\n",
       "\n",
       "\\item \\texttt{B} – input matrix\n",
       "\n",
       "\n",
       "\\item \\texttt{X} – state constraints\n",
       "\n",
       "\n",
       "\\item \\texttt{U} – input constraints\n",
       "\n",
       "\\end{itemize}\n"
      ],
      "text/markdown": [
       "```\n",
       "ConstrainedLinearControlContinuousSystem\n",
       "```\n",
       "\n",
       "Continuous-time linear control system with domain constraints of the form:\n",
       "\n",
       "$$\n",
       "    x(t)' = A x(t) + B u(t), \\; x(t) ∈ \\mathcal{X}, \\; u(t) ∈ \\mathcal{U} \\; \\forall t.\n",
       "$$\n",
       "\n",
       "### Fields\n",
       "\n",
       "  * `A` – state matrix\n",
       "  * `B` – input matrix\n",
       "  * `X` – state constraints\n",
       "  * `U` – input constraints\n"
      ],
      "text/plain": [
       "\u001b[36m  ConstrainedLinearControlContinuousSystem\u001b[39m\n",
       "\n",
       "  Continuous-time linear control system with domain constraints of the form:\n",
       "\n",
       "\u001b[35m      x(t)' = A x(t) + B u(t), \\; x(t) ∈ \\mathcal{X}, \\; u(t) ∈ \\mathcal{U} \\; \\forall t.\u001b[39m\n",
       "\n",
       "\u001b[1m  Fields\u001b[22m\n",
       "\u001b[1m  ––––––––\u001b[22m\n",
       "\n",
       "    •  \u001b[36mA\u001b[39m – state matrix\n",
       "\n",
       "    •  \u001b[36mB\u001b[39m – input matrix\n",
       "\n",
       "    •  \u001b[36mX\u001b[39m – state constraints\n",
       "\n",
       "    •  \u001b[36mU\u001b[39m – input constraints"
      ]
     },
     "execution_count": 5,
     "metadata": {},
     "output_type": "execute_result"
    }
   ],
   "source": [
    "?ConstrainedLinearControlContinuousSystem"
   ]
  },
  {
   "cell_type": "code",
   "execution_count": 6,
   "metadata": {
    "scrolled": true
   },
   "outputs": [],
   "source": [
    "m = H.modes[1];"
   ]
  },
  {
   "cell_type": "code",
   "execution_count": 7,
   "metadata": {},
   "outputs": [
    {
     "data": {
      "text/plain": [
       "2-element Vector{CartesianIndex{2}}:\n",
       " CartesianIndex(25, 1)\n",
       " CartesianIndex(49, 2)"
      ]
     },
     "execution_count": 7,
     "metadata": {},
     "output_type": "execute_result"
    }
   ],
   "source": [
    "findall(!iszero, input_matrix(m))"
   ]
  },
  {
   "cell_type": "code",
   "execution_count": 8,
   "metadata": {},
   "outputs": [
    {
     "data": {
      "text/plain": [
       "0.013696753869332967"
      ]
     },
     "execution_count": 8,
     "metadata": {},
     "output_type": "execute_result"
    }
   ],
   "source": [
    "input_matrix(m)[25, 1]"
   ]
  },
  {
   "cell_type": "code",
   "execution_count": 9,
   "metadata": {},
   "outputs": [
    {
     "data": {
      "text/plain": [
       "1.0"
      ]
     },
     "execution_count": 9,
     "metadata": {},
     "output_type": "execute_result"
    }
   ],
   "source": [
    "input_matrix(m)[49, 2]"
   ]
  },
  {
   "cell_type": "code",
   "execution_count": 10,
   "metadata": {},
   "outputs": [],
   "source": [
    "vars = H.ext[:variables].keys\n",
    "\n",
    "n = 48\n",
    "A = state_matrix(mode(H, 1));\n",
    "A = A[1:n, 1:n] # OK\n",
    "\n",
    "B = input_matrix(mode(H, 1))[1:n, 1];\n",
    "\n",
    "B[25]\n",
    "\n",
    "C = zeros(48)\n",
    "C[25] = 1.0\n",
    "\n",
    "@save \"building_new.jld2\" A B C"
   ]
  },
  {
   "cell_type": "code",
   "execution_count": 13,
   "metadata": {},
   "outputs": [
    {
     "data": {
      "text/plain": [
       "1.0"
      ]
     },
     "execution_count": 13,
     "metadata": {},
     "output_type": "execute_result"
    }
   ],
   "source": [
    "ff = @load \"building_new.jld2\" A B C"
   ]
  },
  {
   "cell_type": "code",
   "execution_count": null,
   "metadata": {},
   "outputs": [],
   "source": [
    "function building_BLDF01()\n",
    "    @load building_path A B\n",
    "    n = size(A, 1)\n",
    "    U = Hyperrectangle(low=[0.8], high=[1.0])\n",
    "    S = @system(x' = Ax + Bu, u ∈ U, x ∈ Universe(n))\n",
    "\n",
    "    #initial states\n",
    "    center_X0 = [fill(0.000225, 10); fill(0.0, 38)]\n",
    "    radius_X0 = [fill(0.000025, 10); fill(0.0, 14); 0.0001; fill(0.0, 23)]\n",
    "    X0 = Hyperrectangle(center_X0, radius_X0)\n",
    "\n",
    "    prob_BLDF01 = InitialValueProblem(S, X0)\n",
    "end"
   ]
  },
  {
   "cell_type": "code",
   "execution_count": null,
   "metadata": {},
   "outputs": [],
   "source": [
    "[fill(0.1, 2); fill(10, 3)]"
   ]
  },
  {
   "cell_type": "code",
   "execution_count": null,
   "metadata": {},
   "outputs": [],
   "source": [
    "using ReachabilityAnalysis: add_dimension\n",
    "\n",
    "function building_BLDC01()\n",
    "    @load building_path A B\n",
    "    n = size(A, 1)\n",
    "    Ae = add_dimension(A)\n",
    "\n",
    "    #initial states\n",
    "    center_X0 = [fill(0.000225, 10); fill(0.0, 38)]\n",
    "    radius_X0 = [fill(0.000025, 10); fill(0.0, 14); 0.0001; fill(0.0, 23)]\n",
    "    X0 = Hyperrectangle(center_X0, radius_X0)\n",
    "    U = Hyperrectangle(low=[0.8], high=[1.0])\n",
    "    X0 = X0 * U\n",
    "\n",
    "    prob_BLDC01 = @ivp(x' = Ae * x, x ∈ X0)\n",
    "end"
   ]
  },
  {
   "cell_type": "code",
   "execution_count": 15,
   "metadata": {},
   "outputs": [
    {
     "ename": "LoadError",
     "evalue": "MethodError: no method matching homogeneize(::InitialValueProblem{ConstrainedLinearControlContinuousSystem{Float64, Matrix{Float64}, Matrix{Float64}, Universe{Float64}, Interval{Float64, IntervalArithmetic.Interval{Float64}}}, Hyperrectangle{Float64, Vector{Float64}, Vector{Float64}}})\n\u001b[0mClosest candidates are:\n\u001b[0m  homogeneize(\u001b[91m::InitialValueProblem{ConstrainedLinearControlContinuousSystem{N, MT, IdentityMultiple{N}, XT, ConstantInput{SI}}, ST}\u001b[39m) where {N, MT<:AbstractMatrix{N}, XT<:LazySet{N}, SI<:(Singleton{N, VN} where VN<:AbstractVector{N}), ST<:LazySet{N}} at /home/mforets/.julia/dev/ReachabilityAnalysis/src/Continuous/normalization.jl:588",
     "output_type": "error",
     "traceback": [
      "MethodError: no method matching homogeneize(::InitialValueProblem{ConstrainedLinearControlContinuousSystem{Float64, Matrix{Float64}, Matrix{Float64}, Universe{Float64}, Interval{Float64, IntervalArithmetic.Interval{Float64}}}, Hyperrectangle{Float64, Vector{Float64}, Vector{Float64}}})\n\u001b[0mClosest candidates are:\n\u001b[0m  homogeneize(\u001b[91m::InitialValueProblem{ConstrainedLinearControlContinuousSystem{N, MT, IdentityMultiple{N}, XT, ConstantInput{SI}}, ST}\u001b[39m) where {N, MT<:AbstractMatrix{N}, XT<:LazySet{N}, SI<:(Singleton{N, VN} where VN<:AbstractVector{N}), ST<:LazySet{N}} at /home/mforets/.julia/dev/ReachabilityAnalysis/src/Continuous/normalization.jl:588",
      "",
      "Stacktrace:",
      " [1] top-level scope",
      "   @ In[15]:11",
      " [2] eval",
      "   @ ./boot.jl:360 [inlined]",
      " [3] include_string(mapexpr::typeof(REPL.softscope), mod::Module, code::String, filename::String)",
      "   @ Base ./loading.jl:1094"
     ]
    }
   ],
   "source": [
    "@load \"building_new.jld2\" A B\n",
    "n = size(A, 1)\n",
    "U = Interval(0.8, 1.0)\n",
    "\n",
    "## initial states\n",
    "center_X0 = [fill(0.000225, 10); fill(0.0, 38)]\n",
    "radius_X0 = [fill(0.000025, 10); fill(0.0, 14); 0.0001; fill(0.0, 23)]\n",
    "X0 = Hyperrectangle(center_X0, radius_X0)\n",
    "#prob = @ivp(x' = Ax + Bu, x(0) ∈ X0, u ∈ U, x ∈ Universe(n))\n",
    "\n",
    "#prob_BLDC01 = homogeneize(prob)"
   ]
  },
  {
   "cell_type": "code",
   "execution_count": null,
   "metadata": {},
   "outputs": [],
   "source": []
  },
  {
   "cell_type": "code",
   "execution_count": null,
   "metadata": {},
   "outputs": [],
   "source": [
    "using Plots\n",
    "\n",
    "# ### BLDF01\n",
    "\n",
    "prob_BLDF01 = building_BLDF01()\n",
    "\n",
    "# #### Dense time"
   ]
  },
  {
   "cell_type": "code",
   "execution_count": null,
   "metadata": {},
   "outputs": [],
   "source": [
    "@time sol_BLDF01_dense = solve(prob_BLDF01, T=20.0,\n",
    "                               alg=LGG09(δ=0.004, template=[x25, -x25]));"
   ]
  },
  {
   "cell_type": "code",
   "execution_count": null,
   "metadata": {},
   "outputs": [],
   "source": [
    "using LazySets.Arrays\n",
    "\n",
    "n = statedim(prob_BLDF01)\n",
    "const dire_sev = [SingleEntryVector(25, n, 1.0), SingleEntryVector(25, n, -1.0)]\n",
    "\n",
    "@time sol_BLDF01_dense = solve(prob_BLDF01, T=20.0,\n",
    "                               alg=LGG09(δ=0.004, template=dire_sev));"
   ]
  },
  {
   "cell_type": "code",
   "execution_count": null,
   "metadata": {},
   "outputs": [],
   "source": [
    "alg = LGG09(δ=0.004, vars=(25), n=48)\n",
    "@time sol_BLDF01_dense = solve(prob_BLDF01, T=20.0, alg=alg);"
   ]
  },
  {
   "cell_type": "code",
   "execution_count": null,
   "metadata": {},
   "outputs": [],
   "source": [
    "n = dim(sol_BLDF01_dense)\n",
    "@time sol_BLDF01_dense = solve(prob_BLDF01, T=20.0, alg=LGG09(δ=0.004, vars=[25], n=n));"
   ]
  },
  {
   "cell_type": "code",
   "execution_count": null,
   "metadata": {},
   "outputs": [],
   "source": [
    "flowpipe(sol_BLDF01_dense).ext[:alg_vars] # if this is not missing => use it !"
   ]
  },
  {
   "cell_type": "markdown",
   "metadata": {},
   "source": [
    "## Use cases"
   ]
  },
  {
   "cell_type": "markdown",
   "metadata": {},
   "source": [
    "- plot `sol_BLDF01_dense[1]`: TemplateReachSet\n",
    "\n",
    "- plot `sol_BLDF01_dense[1:10]`: array of TemplateReachSet\n",
    "\n",
    "- plot `flowpipe(sol_BLDF01_dense)`: flowpipe of TemplateReachSet\n",
    "\n",
    "- plot `sol_BLDF01_dense`: ReachSolution of TemplateReachSet\n",
    "\n",
    "Also related:\n",
    "\n",
    "- concrete projection of a `TemplateReachSet`\n",
    "- concrete projection of a vector of `TemplateReachSet`\n",
    "- concrete projection of a flowpipe `TemplateReachSet`\n",
    "- concrete projection of a solution `TemplateReachSet`"
   ]
  },
  {
   "cell_type": "markdown",
   "metadata": {},
   "source": [
    "## Strategy\n",
    "\n",
    "- only in the two cases we have access to the `alg_vars` data\n",
    "- for the first two, we can quickly compare the plotting vars with the computed alg vars if the template uses SEV; otherwise it depends on the number of directions to check... so maybe it's not worth it"
   ]
  },
  {
   "cell_type": "code",
   "execution_count": null,
   "metadata": {},
   "outputs": [],
   "source": [
    "R = sol_BLDF01_dense[1]"
   ]
  },
  {
   "cell_type": "code",
   "execution_count": null,
   "metadata": {},
   "outputs": [],
   "source": [
    "project(R, (25))"
   ]
  },
  {
   "cell_type": "code",
   "execution_count": null,
   "metadata": {},
   "outputs": [],
   "source": [
    "@which project(R, (25))"
   ]
  },
  {
   "cell_type": "code",
   "execution_count": null,
   "metadata": {},
   "outputs": [],
   "source": [
    "@which project(set(R), [25])"
   ]
  },
  {
   "cell_type": "code",
   "execution_count": null,
   "metadata": {},
   "outputs": [],
   "source": []
  },
  {
   "cell_type": "code",
   "execution_count": null,
   "metadata": {},
   "outputs": [],
   "source": [
    "using BenchmarkTools"
   ]
  },
  {
   "cell_type": "code",
   "execution_count": null,
   "metadata": {},
   "outputs": [],
   "source": [
    "@btime solve($prob_BLDF01, T=20.0, alg=LGG09(δ=0.004, template=[$x25, -$x25]));"
   ]
  },
  {
   "cell_type": "code",
   "execution_count": null,
   "metadata": {},
   "outputs": [],
   "source": [
    "# Safety properties\n",
    "\n",
    "@show ρ(x25, sol_BLDF01_dense)\n",
    "#-\n",
    "@show ρ(x25, sol_BLDF01_dense) <= 5.1e-3 # BLDF01 - BDS01\n",
    "#-\n",
    "@show ρ(x25, sol_BLDF01_dense) <= 4e-3 # BLDF01 - BDU01\n",
    "#-\n",
    "@show ρ(x25, sol_BLDF01_dense(20.0))\n",
    "#-\n",
    "@show ρ(x25, sol_BLDF01_dense(20.0)) <= -0.78e-3 # BLDF01 - BDU02"
   ]
  },
  {
   "cell_type": "code",
   "execution_count": null,
   "metadata": {},
   "outputs": [],
   "source": [
    "sol_BLDF01_dense[1]"
   ]
  },
  {
   "cell_type": "code",
   "execution_count": null,
   "metadata": {},
   "outputs": [],
   "source": [
    "plot(sol_BLDF01_dense, vars=(0, 25), lc=:blue, color=:blue, alpha=0.8, lw=1.0, xlab=\"t\", ylab=\"x25\")"
   ]
  },
  {
   "cell_type": "code",
   "execution_count": null,
   "metadata": {},
   "outputs": [],
   "source": []
  },
  {
   "cell_type": "code",
   "execution_count": null,
   "metadata": {},
   "outputs": [],
   "source": [
    "\n",
    "# #### Discrete time\n",
    "\n",
    "sol_BLDF01_discrete = solve(prob_BLDF01, T=20.0, alg=LGG09(δ=0.01, template=[x25, -x25], approx_model=NoBloating()));\n",
    "\n",
    "plot(sol_BLDF01_discrete, vars=(0, 25), linecolor=:blue, color=:blue, alpha=0.8, lw=1.0, xlab=\"t\", ylab=\"x25\")\n",
    "\n",
    "# Safety properties\n",
    "\n",
    "ρ(x25, sol_BLDF01_discrete)\n",
    "#-\n",
    "ρ(x25, sol_BLDF01_discrete) <= 5.1e-3 # BLDF01 - BDS01\n",
    "#-\n",
    "ρ(x25, sol_BLDF01_discrete)\n",
    "#-\n",
    "ρ(x25, sol_BLDF01_discrete) <= 4e-3 # BLDF01 - BDU01\n",
    "#-\n",
    "ρ(x25, sol_BLDF01_discrete(20.0))\n",
    "#-\n",
    "ρ(x25, sol_BLDF01_discrete(20.0)) <= -0.78e-3 # BLDF01 - BDU02\n",
    "\n",
    "# ### BLDC01\n",
    "\n",
    "prob_BLDC01 = building_BLDC01()\n",
    "\n",
    "# #### Dense time\n",
    "\n",
    "sol_BLDC01_dense = solve(prob_BLDC01, T=20.0, alg=LGG09(δ=0.006, template=[x25e, -x25e]))\n",
    "\n",
    "plot(sol_BLDC01_dense, vars=(0, 25), linecolor=:blue, color=:blue, alpha=0.8, lw=1.0, xlab=\"t\", ylab=\"x25\")\n",
    "\n",
    "# Safety properties\n",
    "\n",
    "ρ(x25e, sol_BLDC01_dense)\n",
    "#-\n",
    "ρ(x25e, sol_BLDC01_dense) <= 5.1e-3 # BLDC01 - BDS01\n",
    "#-\n",
    "ρ(x25e, sol_BLDC01_dense) <= 4e-3 # BLDC01 - BDU01\n",
    "#-\n",
    "ρ(x25, sol_BLDF01_discrete(20.0))\n",
    "#-\n",
    "ρ(x25e, sol_BLDC01_dense(20.0)) <= -0.78e-3 # BLDC01 - BDU02\n",
    "\n",
    "# #### Discrete time\n",
    "\n",
    "sol_BLDC01_discrete = solve(prob_BLDC01, T=20.0, alg=LGG09(δ=0.01, template=[x25e, -x25e], approx_model=NoBloating()))\n",
    "\n",
    "plot(sol_BLDC01_discrete, vars=(0, 25), linecolor=:blue, color=:blue, alpha=0.8, lw=1.0, xlab=\"t\", ylab=\"x25\")\n",
    "\n",
    "# Safety properties\n",
    "\n",
    "ρ(x25e, sol_BLDC01_discrete)\n",
    "#-\n",
    "ρ(x25e, sol_BLDC01_discrete) <= 5.1e-3 # BLDC01 - BDS01\n",
    "#-\n",
    "ρ(x25e, sol_BLDC01_discrete)\n",
    "#-\n",
    "ρ(x25e, sol_BLDC01_discrete) <= 4e-3 # BLDC01 - BDU01\n",
    "#-\n",
    "ρ(x25e, sol_BLDC01_discrete(20.0))\n",
    "#-\n",
    "ρ(x25e, sol_BLDC01_discrete(20.0)) <= -0.78e-3 # BLDC01 - BDU02\n",
    "\n",
    "# ## References\n",
    "\n",
    "# [^]:\n"
   ]
  }
 ],
 "metadata": {
  "@webio": {
   "lastCommId": null,
   "lastKernelId": null
  },
  "kernelspec": {
   "display_name": "Julia 1.6.0",
   "language": "julia",
   "name": "julia-1.6"
  },
  "language_info": {
   "file_extension": ".jl",
   "mimetype": "application/julia",
   "name": "julia",
   "version": "1.6.0"
  }
 },
 "nbformat": 4,
 "nbformat_minor": 2
}
