{
 "cells": [
  {
   "cell_type": "code",
   "execution_count": 1,
   "metadata": {},
   "outputs": [],
   "source": [
    "using Revise\n",
    "using ReachabilityAnalysis, SparseArrays, JLD2, FileIO"
   ]
  },
  {
   "cell_type": "markdown",
   "metadata": {},
   "source": [
    "## Old functions"
   ]
  },
  {
   "cell_type": "code",
   "execution_count": 2,
   "metadata": {},
   "outputs": [],
   "source": [
    "examples_dir = \"/home/mforets/.julia/dev/ReachabilityAnalysis/examples/\"\n",
    "building_path = joinpath(examples_dir, \"Building\", \"building.jld2\");"
   ]
  },
  {
   "cell_type": "code",
   "execution_count": 3,
   "metadata": {},
   "outputs": [
    {
     "data": {
      "text/plain": [
       "building_BLDC01 (generic function with 1 method)"
      ]
     },
     "execution_count": 3,
     "metadata": {},
     "output_type": "execute_result"
    }
   ],
   "source": [
    "function building_BLDF01()\n",
    "    @load building_path H\n",
    "    vars = H.ext[:variables].keys\n",
    "    A = state_matrix(mode(H, 1))\n",
    "    n = size(A, 1) - 1\n",
    "    A = A[1:n, 1:n]\n",
    "    B = input_matrix(mode(H, 1))[1:n, 1]\n",
    "    U = Hyperrectangle(low=[0.8], high=[1.0])\n",
    "    S = @system(x' = Ax + Bu, u ∈ U, x ∈ Universe(n))\n",
    "\n",
    "    #initial states\n",
    "    center_X0 = [fill(0.000225, 10); fill(0.0, 38)]\n",
    "    radius_X0 = [fill(0.000025, 10); fill(0.0, 14); 0.0001; fill(0.0, 23)]\n",
    "    X0 = Hyperrectangle(center_X0, radius_X0)\n",
    "\n",
    "    prob_BLDF01 = InitialValueProblem(S, X0)\n",
    "end\n",
    "\n",
    "function building_BLDC01()\n",
    "    @load building_path H\n",
    "    vars = H.ext[:variables].keys\n",
    "    A = state_matrix(mode(H, 1))\n",
    "    n = size(A, 1) - 1\n",
    "    A = A[1:n, 1:n]\n",
    "    Ae = copy(transpose(hcat(transpose(hcat(A, zeros(48))), zeros(49))))\n",
    "    S = LinearContinuousSystem(Ae)\n",
    "\n",
    "    #initial states\n",
    "    center_X0 = [fill(0.000225, 10); fill(0.0, 38)]\n",
    "    radius_X0 = [fill(0.000025, 10); fill(0.0, 14); 0.0001; fill(0.0, 23)]\n",
    "    X0 = Hyperrectangle(center_X0, radius_X0)\n",
    "    U = Hyperrectangle(low=[0.8], high=[1.0])\n",
    "    X0 = X0 * U\n",
    "\n",
    "    prob_BLDC01 = InitialValueProblem(S, X0)\n",
    "end"
   ]
  },
  {
   "cell_type": "code",
   "execution_count": 4,
   "metadata": {},
   "outputs": [
    {
     "name": "stderr",
     "output_type": "stream",
     "text": [
      "┌ Warning: saved type OrderedCollections.OrderedDict{Symbol, Dict{String, Any}} is missing field maxprobe in workspace type; reconstructing\n",
      "└ @ JLD2 /home/mforets/.julia/packages/JLD2/qncOK/src/data/reconstructing_datatypes.jl:152\n"
     ]
    },
    {
     "data": {
      "text/plain": [
       "InitialValueProblem{ConstrainedLinearControlContinuousSystem{Float64, Matrix{Float64}, Matrix{Float64}, Universe{Float64}, Hyperrectangle{Float64, Vector{Float64}, Vector{Float64}}}, Hyperrectangle{Float64, Vector{Float64}, Vector{Float64}}}(ConstrainedLinearControlContinuousSystem{Float64, Matrix{Float64}, Matrix{Float64}, Universe{Float64}, Hyperrectangle{Float64, Vector{Float64}, Vector{Float64}}}([0.0 0.0 … 0.0 0.0; 0.0 0.0 … 0.0 0.0; … ; -18.026860037353558 -37.470309581753355 … -4.669038768464542 -0.9226247665402684; 12.708461033093819 4.866919335674403 … -0.925047908095889 -5.188448853349926], [0.0; 0.0; … ; 0.0; 0.0], Universe{Float64}(48), Hyperrectangle{Float64, Vector{Float64}, Vector{Float64}}([0.9], [0.09999999999999998])), Hyperrectangle{Float64, Vector{Float64}, Vector{Float64}}([0.000225, 0.000225, 0.000225, 0.000225, 0.000225, 0.000225, 0.000225, 0.000225, 0.000225, 0.000225  …  0.0, 0.0, 0.0, 0.0, 0.0, 0.0, 0.0, 0.0, 0.0, 0.0], [2.5e-5, 2.5e-5, 2.5e-5, 2.5e-5, 2.5e-5, 2.5e-5, 2.5e-5, 2.5e-5, 2.5e-5, 2.5e-5  …  0.0, 0.0, 0.0, 0.0, 0.0, 0.0, 0.0, 0.0, 0.0, 0.0]))"
      ]
     },
     "execution_count": 4,
     "metadata": {},
     "output_type": "execute_result"
    }
   ],
   "source": [
    "probf = building_BLDF01()"
   ]
  },
  {
   "cell_type": "code",
   "execution_count": 5,
   "metadata": {
    "scrolled": false
   },
   "outputs": [
    {
     "name": "stderr",
     "output_type": "stream",
     "text": [
      "┌ Warning: saved type OrderedCollections.OrderedDict{Symbol, Dict{String, Any}} is missing field maxprobe in workspace type; reconstructing\n",
      "└ @ JLD2 /home/mforets/.julia/packages/JLD2/qncOK/src/data/reconstructing_datatypes.jl:152\n"
     ]
    },
    {
     "data": {
      "text/plain": [
       "InitialValueProblem{LinearContinuousSystem{Float64, Matrix{Float64}}, CartesianProduct{Float64, Hyperrectangle{Float64, Vector{Float64}, Vector{Float64}}, Hyperrectangle{Float64, Vector{Float64}, Vector{Float64}}}}(LinearContinuousSystem{Float64, Matrix{Float64}}([0.0 0.0 … 0.0 0.0; 0.0 0.0 … 0.0 0.0; … ; 12.708461033093819 4.866919335674403 … -5.188448853349926 0.0; 0.0 0.0 … 0.0 0.0]), CartesianProduct{Float64, Hyperrectangle{Float64, Vector{Float64}, Vector{Float64}}, Hyperrectangle{Float64, Vector{Float64}, Vector{Float64}}}(Hyperrectangle{Float64, Vector{Float64}, Vector{Float64}}([0.000225, 0.000225, 0.000225, 0.000225, 0.000225, 0.000225, 0.000225, 0.000225, 0.000225, 0.000225  …  0.0, 0.0, 0.0, 0.0, 0.0, 0.0, 0.0, 0.0, 0.0, 0.0], [2.5e-5, 2.5e-5, 2.5e-5, 2.5e-5, 2.5e-5, 2.5e-5, 2.5e-5, 2.5e-5, 2.5e-5, 2.5e-5  …  0.0, 0.0, 0.0, 0.0, 0.0, 0.0, 0.0, 0.0, 0.0, 0.0]), Hyperrectangle{Float64, Vector{Float64}, Vector{Float64}}([0.9], [0.09999999999999998])))"
      ]
     },
     "execution_count": 5,
     "metadata": {},
     "output_type": "execute_result"
    }
   ],
   "source": [
    "probc = building_BLDC01()"
   ]
  },
  {
   "cell_type": "markdown",
   "metadata": {},
   "source": [
    "## New functions"
   ]
  },
  {
   "cell_type": "code",
   "execution_count": 6,
   "metadata": {},
   "outputs": [
    {
     "data": {
      "text/plain": [
       "\"building_new.jld2\""
      ]
     },
     "execution_count": 6,
     "metadata": {},
     "output_type": "execute_result"
    }
   ],
   "source": [
    "building_path_new = \"building_new.jld2\""
   ]
  },
  {
   "cell_type": "code",
   "execution_count": 17,
   "metadata": {},
   "outputs": [
    {
     "data": {
      "text/plain": [
       "building_BLDC01_new (generic function with 1 method)"
      ]
     },
     "execution_count": 17,
     "metadata": {},
     "output_type": "execute_result"
    }
   ],
   "source": [
    "function building_BLDF01_new()\n",
    "    @load building_path_new A B\n",
    "    n = size(A, 1)\n",
    "    U = Interval(0.8, 1.0)\n",
    "    S = @system(x' = Ax + Bu, u ∈ U, x ∈ Universe(n))\n",
    "\n",
    "    ## initial states\n",
    "    center_X0 = [fill(0.000225, 10); fill(0.0, 38)]\n",
    "    radius_X0 = [fill(0.000025, 10); fill(0.0, 14); 0.0001; fill(0.0, 23)]\n",
    "    X0 = Hyperrectangle(center_X0, radius_X0)\n",
    "\n",
    "    prob_BLDF01 = InitialValueProblem(S, X0)\n",
    "end\n",
    "\n",
    "using ReachabilityAnalysis: add_dimension\n",
    "\n",
    "function building_BLDC01_new()\n",
    "    @load building_path_new A B\n",
    "    n = size(A, 1)\n",
    "    U = Interval(0.8, 1.0)\n",
    "\n",
    "    ## initial states\n",
    "    center_X0 = [fill(0.000225, 10); fill(0.0, 38)]\n",
    "    radius_X0 = [fill(0.000025, 10); fill(0.0, 14); 0.0001; fill(0.0, 23)]\n",
    "    X0 = Hyperrectangle(center_X0, radius_X0)\n",
    "\n",
    "    ## TODO\n",
    "    ## prob = @ivp(x' = Ax + Bu, x(0) ∈ X0, u ∈ U, x ∈ Universe(n))\n",
    "    ## probh = homogeneize(prob)\n",
    "\n",
    "    Ae = add_dimension(A)\n",
    "    Ae[1:n, end] = B\n",
    "    prob_BLDC01 = @ivp(x' = Ae * x, x(0) ∈ X0 × U)\n",
    "end"
   ]
  },
  {
   "cell_type": "code",
   "execution_count": 18,
   "metadata": {},
   "outputs": [
    {
     "data": {
      "text/plain": [
       "InitialValueProblem{ConstrainedLinearControlContinuousSystem{Float64, Matrix{Float64}, Matrix{Float64}, Universe{Float64}, Interval{Float64, IntervalArithmetic.Interval{Float64}}}, Hyperrectangle{Float64, Vector{Float64}, Vector{Float64}}}(ConstrainedLinearControlContinuousSystem{Float64, Matrix{Float64}, Matrix{Float64}, Universe{Float64}, Interval{Float64, IntervalArithmetic.Interval{Float64}}}([0.0 0.0 … 0.0 0.0; 0.0 0.0 … 0.0 0.0; … ; -18.026860037353558 -37.470309581753355 … -4.669038768464542 -0.9226247665402684; 12.708461033093819 4.866919335674403 … -0.925047908095889 -5.188448853349926], [0.0; 0.0; … ; 0.0; 0.0], Universe{Float64}(48), Interval{Float64, IntervalArithmetic.Interval{Float64}}([0.8, 1])), Hyperrectangle{Float64, Vector{Float64}, Vector{Float64}}([0.000225, 0.000225, 0.000225, 0.000225, 0.000225, 0.000225, 0.000225, 0.000225, 0.000225, 0.000225  …  0.0, 0.0, 0.0, 0.0, 0.0, 0.0, 0.0, 0.0, 0.0, 0.0], [2.5e-5, 2.5e-5, 2.5e-5, 2.5e-5, 2.5e-5, 2.5e-5, 2.5e-5, 2.5e-5, 2.5e-5, 2.5e-5  …  0.0, 0.0, 0.0, 0.0, 0.0, 0.0, 0.0, 0.0, 0.0, 0.0]))"
      ]
     },
     "execution_count": 18,
     "metadata": {},
     "output_type": "execute_result"
    }
   ],
   "source": [
    "probf_new = building_BLDF01_new()"
   ]
  },
  {
   "cell_type": "code",
   "execution_count": 19,
   "metadata": {},
   "outputs": [
    {
     "data": {
      "text/plain": [
       "InitialValueProblem{LinearContinuousSystem{Float64, Matrix{Float64}}, CartesianProduct{Float64, Hyperrectangle{Float64, Vector{Float64}, Vector{Float64}}, Interval{Float64, IntervalArithmetic.Interval{Float64}}}}(LinearContinuousSystem{Float64, Matrix{Float64}}([0.0 0.0 … 0.0 0.0; 0.0 0.0 … 0.0 0.0; … ; 12.708461033093819 4.866919335674403 … -5.188448853349926 0.0; 0.0 0.0 … 0.0 0.0]), CartesianProduct{Float64, Hyperrectangle{Float64, Vector{Float64}, Vector{Float64}}, Interval{Float64, IntervalArithmetic.Interval{Float64}}}(Hyperrectangle{Float64, Vector{Float64}, Vector{Float64}}([0.000225, 0.000225, 0.000225, 0.000225, 0.000225, 0.000225, 0.000225, 0.000225, 0.000225, 0.000225  …  0.0, 0.0, 0.0, 0.0, 0.0, 0.0, 0.0, 0.0, 0.0, 0.0], [2.5e-5, 2.5e-5, 2.5e-5, 2.5e-5, 2.5e-5, 2.5e-5, 2.5e-5, 2.5e-5, 2.5e-5, 2.5e-5  …  0.0, 0.0, 0.0, 0.0, 0.0, 0.0, 0.0, 0.0, 0.0, 0.0]), Interval{Float64, IntervalArithmetic.Interval{Float64}}([0.8, 1])))"
      ]
     },
     "execution_count": 19,
     "metadata": {},
     "output_type": "execute_result"
    }
   ],
   "source": [
    "probc_new = building_BLDC01_new()"
   ]
  },
  {
   "cell_type": "markdown",
   "metadata": {},
   "source": [
    "Check that the old and new initial-value problems are the same:"
   ]
  },
  {
   "cell_type": "code",
   "execution_count": 38,
   "metadata": {},
   "outputs": [],
   "source": [
    "@assert probf.x0 == probf_new.x0\n",
    "\n",
    "@assert state_matrix(probf) == state_matrix(probf_new)\n",
    "\n",
    "@assert input_matrix(probf) == input_matrix(probf_new)\n",
    "\n",
    "@assert stateset(probf) == stateset(probf_new)\n",
    "\n",
    "@assert isequivalent(inputset(probf), inputset(probf_new))"
   ]
  },
  {
   "cell_type": "markdown",
   "metadata": {},
   "source": [
    "---"
   ]
  },
  {
   "cell_type": "code",
   "execution_count": 45,
   "metadata": {},
   "outputs": [
    {
     "ename": "LoadError",
     "evalue": "AssertionError: state_matrix(probc) == state_matrix(probc_new)",
     "output_type": "error",
     "traceback": [
      "AssertionError: state_matrix(probc) == state_matrix(probc_new)",
      "",
      "Stacktrace:",
      " [1] top-level scope",
      "   @ In[45]:3",
      " [2] eval",
      "   @ ./boot.jl:360 [inlined]",
      " [3] include_string(mapexpr::typeof(REPL.softscope), mod::Module, code::String, filename::String)",
      "   @ Base ./loading.jl:1094"
     ]
    }
   ],
   "source": [
    "@assert isequivalent(probc.x0, probc_new.x0)\n",
    "\n",
    "@assert state_matrix(probc) == state_matrix(probc_new) # FAILS\n",
    "\n",
    "#@assert input_matrix(probf) == input_matrix(probf_new)\n",
    "\n",
    "#@assert stateset(probf) == stateset(probf_new)\n",
    "\n",
    "#@assert isequivalent(inputset(probf), inputset(probf_new))"
   ]
  },
  {
   "cell_type": "code",
   "execution_count": 49,
   "metadata": {},
   "outputs": [
    {
     "data": {
      "text/plain": [
       "1-element Vector{CartesianIndex{2}}:\n",
       " CartesianIndex(25, 49)"
      ]
     },
     "execution_count": 49,
     "metadata": {},
     "output_type": "execute_result"
    }
   ],
   "source": [
    "findall(!iszero, state_matrix(probc) - state_matrix(probc_new))"
   ]
  },
  {
   "cell_type": "code",
   "execution_count": 51,
   "metadata": {},
   "outputs": [
    {
     "data": {
      "text/plain": [
       "0.0"
      ]
     },
     "execution_count": 51,
     "metadata": {},
     "output_type": "execute_result"
    }
   ],
   "source": [
    "state_matrix(probc)[25, 49]"
   ]
  },
  {
   "cell_type": "code",
   "execution_count": 52,
   "metadata": {},
   "outputs": [
    {
     "data": {
      "text/plain": [
       "0.013696753869332967"
      ]
     },
     "execution_count": 52,
     "metadata": {},
     "output_type": "execute_result"
    }
   ],
   "source": [
    "state_matrix(probc_new)[25, 49]"
   ]
  },
  {
   "cell_type": "code",
   "execution_count": 53,
   "metadata": {},
   "outputs": [],
   "source": [
    "input_matrix(probc)"
   ]
  },
  {
   "cell_type": "code",
   "execution_count": 54,
   "metadata": {},
   "outputs": [],
   "source": [
    "input_matrix(probc_new)"
   ]
  },
  {
   "cell_type": "code",
   "execution_count": 55,
   "metadata": {},
   "outputs": [],
   "source": [
    "inputset(probc)"
   ]
  },
  {
   "cell_type": "code",
   "execution_count": 56,
   "metadata": {},
   "outputs": [],
   "source": [
    "inputset(probc_new)"
   ]
  }
 ],
 "metadata": {
  "kernelspec": {
   "display_name": "Julia 1.6.0",
   "language": "julia",
   "name": "julia-1.6"
  },
  "language_info": {
   "file_extension": ".jl",
   "mimetype": "application/julia",
   "name": "julia",
   "version": "1.6.0"
  }
 },
 "nbformat": 4,
 "nbformat_minor": 2
}
