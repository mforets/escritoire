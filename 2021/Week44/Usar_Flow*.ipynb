{
 "cells": [
  {
   "cell_type": "markdown",
   "id": "42029096",
   "metadata": {},
   "source": [
    "# Exploring Flow*"
   ]
  },
  {
   "cell_type": "markdown",
   "id": "b96187e0",
   "metadata": {},
   "source": [
    "In this blog post we [...]"
   ]
  },
  {
   "cell_type": "markdown",
   "id": "0b717695",
   "metadata": {},
   "source": [
    "## Installing the tool"
   ]
  },
  {
   "cell_type": "markdown",
   "id": "4bf97cac",
   "metadata": {},
   "source": [
    "We first download the tool version 2.1.0 (May 2017) from the webpage https://flowstar.org/dowloads/"
   ]
  },
  {
   "cell_type": "markdown",
   "id": "a7ba3d41",
   "metadata": {},
   "source": [
    "The installation process is simple provided that the required dependencies are met."
   ]
  },
  {
   "cell_type": "markdown",
   "id": "8b823840",
   "metadata": {},
   "source": [
    "We installed Flow* in two different machines:\n",
    "\n",
    "- Ubuntu LTS v20.04 running on a Windows desktop machine (Asus ZenBook UX331UA-AS51).\n",
    "- Dell XPS15 running Linux Fedora 34."
   ]
  },
  {
   "cell_type": "markdown",
   "id": "04dfdc0c",
   "metadata": {},
   "source": [
    "In Fedora, we used `dnf install` to install the required dependencies `gmp-devel`, `gsl-devel`, `glpk-devel`, `flex` and `bison`. The library `mpfr` was downloaded and compiled using the instructions in the [downloads page](https://www.mpfr.org/mpfr-current/)."
   ]
  },
  {
   "cell_type": "markdown",
   "id": "1c6edbdb",
   "metadata": {},
   "source": [
    "The required dependencies are detailed in Flow*'s [user manual](https://home.cs.colorado.edu/~xich8622/manual/manual-2.0.0.pdf)."
   ]
  },
  {
   "cell_type": "markdown",
   "id": "7a0b4dfb",
   "metadata": {},
   "source": [
    "## Solving the Lotka-Volterra model"
   ]
  },
  {
   "cell_type": "markdown",
   "id": "78136956",
   "metadata": {},
   "source": [
    "Apart from the models that can be downloaded in the [Flow* webpage](https://flowstar.org/), we are aware of an online model repository from the [*Theory of Hybrid Systems Group* from RWTH Aachen University](https://ths.rwth-aachen.de/research/projects/hypro/benchmarks-of-continuous-and-hybrid-systems/)."
   ]
  },
  {
   "cell_type": "markdown",
   "id": "81fca841",
   "metadata": {},
   "source": [
    "We use the Lotka-Volterra model because it is a simple model. For comparison, the same model can be found in the documentation ReachabilityAnalysis.jl [here](https://juliareach.github.io/ReachabilityAnalysis.jl/dev/models/LotkaVolterra/). "
   ]
  },
  {
   "cell_type": "markdown",
   "id": "459d7249",
   "metadata": {},
   "source": [
    "The model file is copied next. It can be read as a plain text file."
   ]
  },
  {
   "cell_type": "markdown",
   "id": "06352439",
   "metadata": {},
   "source": [
    "```\n",
    "continuous reachability\n",
    "{\n",
    " state var x,y\n",
    "\t\n",
    " setting\n",
    " {\n",
    "  fixed steps 0.02\n",
    "  time 5\n",
    "  remainder estimation 1e-5\n",
    "  QR precondition\n",
    "  gnuplot octagon x,y\n",
    "  adaptive orders { min 4 , max 6 }\n",
    "  cutoff 1e-20\n",
    "  precision 53\n",
    "  output Lotka_Volterra\n",
    "  print on\n",
    " }\n",
    "\t\n",
    " poly ode 2\n",
    " {\n",
    "  x' = 1.5*x - x*y\n",
    "  y' = -3*y + x*y\n",
    " }\n",
    " \n",
    " init\n",
    " {\n",
    "  x in [4.8 , 5.2]\n",
    "  y in [1.8 , 2.2]\n",
    " }\n",
    "}\n",
    "```"
   ]
  },
  {
   "cell_type": "markdown",
   "id": "4e82604d",
   "metadata": {},
   "source": [
    "The model file describes a purely continuous model (`continuous reachability`), then the names for the state variables are defined (`state var x,y`)."
   ]
  },
  {
   "cell_type": "markdown",
   "id": "a79c8af5",
   "metadata": {},
   "source": [
    "The next part defines the settings for reachability analysis (`setting`):\n",
    "\n",
    "- `fixed steps 0.02`: use fixed time steps of size `0.02`\n",
    "- `time 5`: time horizon for the simulation\n",
    "- `remainder estimation 1e-5`: estimate of the remainder before each iteration\n",
    "- `QR precondition`: preconditioning technique for the Taylor expansion\n",
    "- `gnuplot octagon x,y`: overapproximation method for plotting\n",
    "- `adaptive orders { min 4 , max 6 }`: range of Taylor model's order\n",
    "- `cutoff 1e-20`: threshold for polynomial coefficients (\n",
    "- `precision 53`: precision (number of bits) for the interval bounds\n",
    "- `output Lotka_Volterra`: number of output file\n",
    "- `print on`: verbose on"
   ]
  },
  {
   "cell_type": "markdown",
   "id": "c1581cc4",
   "metadata": {},
   "source": [
    "The following block of code defines the differential equations; in this case,"
   ]
  },
  {
   "cell_type": "markdown",
   "id": "116d815e",
   "metadata": {},
   "source": [
    "```\n",
    " poly ode 2\n",
    " {\n",
    "  x' = 1.5*x - x*y\n",
    "  y' = -3*y + x*y\n",
    " }\n",
    "```"
   ]
  },
  {
   "cell_type": "markdown",
   "id": "964f27bf",
   "metadata": {},
   "source": [
    "Where `poly ode 2` specifies a system with two variables."
   ]
  },
  {
   "cell_type": "markdown",
   "id": "6a2c060b",
   "metadata": {},
   "source": [
    "Finally, the `init` block specify the settings for reachability analysis. "
   ]
  },
  {
   "cell_type": "markdown",
   "id": "81bb4274",
   "metadata": {},
   "source": [
    "```julia\n",
    " init\n",
    " {\n",
    "  x in [4.8 , 5.2]\n",
    "  y in [1.8 , 2.2]\n",
    " }\n",
    "```"
   ]
  },
  {
   "cell_type": "markdown",
   "id": "bfc7e8b9",
   "metadata": {},
   "source": [
    "In this case this defines a hyperrectangle of sides `4.8 .. 5.2` and `1.8 .. 2.2`."
   ]
  },
  {
   "cell_type": "markdown",
   "id": "3c66434f",
   "metadata": {},
   "source": [
    "## Running the example"
   ]
  },
  {
   "cell_type": "markdown",
   "id": "45f3d76d",
   "metadata": {},
   "source": [
    "We made a small modification in the model that can be downloaded from "
   ]
  },
  {
   "cell_type": "markdown",
   "id": "05bc0292",
   "metadata": {},
   "source": [
    "[ ..... ]"
   ]
  },
  {
   "cell_type": "markdown",
   "id": "02138654",
   "metadata": {},
   "source": [
    "## Parsing the result"
   ]
  },
  {
   "cell_type": "code",
   "execution_count": 118,
   "id": "9c45c3e0",
   "metadata": {},
   "outputs": [
    {
     "data": {
      "text/plain": [
       "\"LotkaVolterra/outputs/Lotka_Volterra.flow\""
      ]
     },
     "execution_count": 118,
     "metadata": {},
     "output_type": "execute_result"
    }
   ],
   "source": [
    "src = \"LotkaVolterra/outputs/Lotka_Volterra.flow\""
   ]
  },
  {
   "cell_type": "code",
   "execution_count": 119,
   "id": "d93308b4",
   "metadata": {},
   "outputs": [
    {
     "name": "stdout",
     "output_type": "stream",
     "text": [
      "N = length(flow) = 500\n"
     ]
    },
    {
     "data": {
      "text/plain": [
       "5-element Vector{SubString{String}}:\n",
       " \"x = [5.00000000000000e0 , 5.00\" ⋯ 2446 bytes ⋯ \"0625e-8 , 1.70313210117098e-8]\"\n",
       " \"y = [2.00000000000000e0 , 2.00\" ⋯ 2452 bytes ⋯ \"2587e-8 , 1.77595808728572e-8]\"\n",
       " \"local_t in [0 , 1.00000000000001e-2]\"\n",
       " \"local_var_1 in [-1.00000000000000e0 , 1.00000000000000e0]\"\n",
       " \"local_var_2 in [-1.00000000000000e0 , 1.00000000000000e0]\""
      ]
     },
     "execution_count": 119,
     "metadata": {},
     "output_type": "execute_result"
    }
   ],
   "source": [
    "text = String(read(src))\n",
    "flow = split(text, \"{\");\n",
    "\n",
    "flow = flow[3:end]\n",
    "\n",
    "@show N = length(flow) # number of reach-sets\n",
    "\n",
    "R = flow[1] # first reach-set\n",
    "data = split(R, \"\\n\")\n",
    "filter!(!isempty, data) # saco los que estan vacios\n",
    "pop!(data) # saco el ultimo \"}\"\n",
    "data"
   ]
  },
  {
   "cell_type": "code",
   "execution_count": 110,
   "id": "d7cc6b61",
   "metadata": {},
   "outputs": [
    {
     "data": {
      "text/plain": [
       "\"x = [5.00000000000000e0 , 5.00000000000000e0] + [2.00000000000000e-1 , 2.00000000000001e-1] * local_var_1 + [-2.50000000000000e0 , -2.50000000000000e0] * local_t + [-1.00000000000001e0 , -1.00000000000000e0] * local_t * local_var_2 + [-1.00000000000001e-1 , -1.000000000\" ⋯ 1966 bytes ⋯ \"cal_t^4 * local_var_1^2 + [-8.41718750000027e0 , -8.41718749999971e0] * local_t^5 * local_var_2 + [5.42578124999991e0 , 5.42578125000012e0] * local_t^5 * local_var_1 + [-3.93610026041663e1 , -3.93610026041660e1] * local_t^6 + [-1.43728770330625e-8 , 1.70313210117098e-8]\""
      ]
     },
     "execution_count": 110,
     "metadata": {},
     "output_type": "execute_result"
    }
   ],
   "source": [
    "data_x = data[1] # \"x\" variable"
   ]
  },
  {
   "cell_type": "code",
   "execution_count": 111,
   "id": "9d80cc2c",
   "metadata": {},
   "outputs": [],
   "source": [
    "using TaylorModels"
   ]
  },
  {
   "cell_type": "code",
   "execution_count": 112,
   "id": "d4703a0b",
   "metadata": {},
   "outputs": [
    {
     "data": {
      "text/plain": [
       "[1, 2]"
      ]
     },
     "execution_count": 112,
     "metadata": {},
     "output_type": "execute_result"
    }
   ],
   "source": [
    "1 .. 2 # define un intervalo (si bien imprime como [1, 2])"
   ]
  },
  {
   "cell_type": "code",
   "execution_count": 113,
   "id": "21c81dd2",
   "metadata": {},
   "outputs": [
    {
     "data": {
      "text/plain": [
       "2-element Vector{Int64}:\n",
       " 1\n",
       " 2"
      ]
     },
     "execution_count": 113,
     "metadata": {},
     "output_type": "execute_result"
    }
   ],
   "source": [
    "[1, 2] # define un array (no interesa)"
   ]
  },
  {
   "cell_type": "code",
   "execution_count": 115,
   "id": "4b553935",
   "metadata": {},
   "outputs": [
    {
     "ename": "LoadError",
     "evalue": "BoundsError: attempt to access 1-element Vector{SubString{String}} at index [2]",
     "output_type": "error",
     "traceback": [
      "BoundsError: attempt to access 1-element Vector{SubString{String}} at index [2]",
      "",
      "Stacktrace:",
      " [1] getindex(A::Vector{SubString{String}}, i1::Int64)",
      "   @ Base ./array.jl:839",
      " [2] top-level scope",
      "   @ In[115]:2",
      " [3] eval",
      "   @ ./boot.jl:373 [inlined]",
      " [4] include_string(mapexpr::typeof(REPL.softscope), mod::Module, code::String, filename::String)",
      "   @ Base ./loading.jl:1196"
     ]
    }
   ],
   "source": [
    "# quedarme con el right-hand side\n",
    "data_x = split(data_x, \"=\")[2] |> strip\n",
    "\n",
    "# renombrar variables\n",
    "data_x = replace(data_x, \"local_var_1\" => \"x\")\n",
    "data_x = replace(data_x, \"local_var_2\" => \"y\")\n",
    "data_x = replace(data_x, \"local_t\" => \"t\")\n",
    "\n",
    "# renombrar intervalos\n",
    "data_x = replace(data_x, \",\" => \"..\")\n",
    "data_x = replace(data_x, \"[\" => \"(\")\n",
    "data_x = replace(data_x, \"]\" => \")\")\n",
    "\n",
    "data_x"
   ]
  },
  {
   "cell_type": "markdown",
   "id": "89daa161",
   "metadata": {},
   "source": [
    "The aim is to convert this reach-set to a `TaylorModelN` whose coefficients are intervals."
   ]
  },
  {
   "cell_type": "code",
   "execution_count": 116,
   "id": "a88bdc94",
   "metadata": {},
   "outputs": [],
   "source": [
    "using TaylorModels"
   ]
  },
  {
   "cell_type": "code",
   "execution_count": 117,
   "id": "72c109c3",
   "metadata": {},
   "outputs": [
    {
     "data": {
      "text/plain": [
       "3-element Vector{TaylorN{Float64}}:\n",
       "  1.0 t + 𝒪(‖x‖⁹)\n",
       "  1.0 x + 𝒪(‖x‖⁹)\n",
       "  1.0 y + 𝒪(‖x‖⁹)"
      ]
     },
     "execution_count": 117,
     "metadata": {},
     "output_type": "execute_result"
    }
   ],
   "source": [
    "t, x, y = set_variables(\"t x y\", order=8)"
   ]
  },
  {
   "cell_type": "code",
   "execution_count": 20,
   "id": "347d52c1",
   "metadata": {},
   "outputs": [
    {
     "data": {
      "text/plain": [
       " [4.99999, 5.00001] + [-2.5, -2.5] t + [0.199999, 0.200001] x + [-9.375, -9.375] t² + [-0.100001, -0.0999999] t x + [-1.00001, -1] t y + [2.39583, 2.39584] t³ + [-1.37501, -1.375] t² x + [-0.500001, -0.5] t² y + [-0.0400001, -0.0399999] t x y + [20.7421, 20.7422] t⁴ + [-0.570834, -0.570833] t³ x + [3.79166, 3.79167] t³ y + [-0.0400001, -0.0399999] t² x² + [-0.120001, -0.119999] t² x y + [0.0999999, 0.100001] t² y² + [7.93619, 7.9362] t⁵ + [4.30885, 4.30886] t⁴ x + [4.67708, 4.67709] t⁴ y + [-0.0933334, -0.0933333] t³ x² + [0.351666, 0.351667] t³ x y + [0.316666, 0.316667] t³ y² + [-0.00400001, -0.00399999] t² x² y + [0.00399999, 0.00400001] t² x y² + [-39.3611, -39.361] t⁶ + [5.42578, 5.42579] t⁵ x + [-8.41719, -8.41718] t⁵ y + [0.230833, 0.230834] t⁴ x² + [1.28499, 1.28501] t⁴ x y + [-0.345834, -0.345833] t⁴ y² + [-0.00266667, -0.00266666] t³ x³ + [0.00133333, 0.00133334] t³ x² y + [0.0393333, 0.0393334] t³ x y² + [-0.00666667, -0.00666666] t³ y³ + 𝒪(‖x‖⁹)"
      ]
     },
     "execution_count": 20,
     "metadata": {},
     "output_type": "execute_result"
    }
   ],
   "source": [
    "R = Meta.parse(data_x) |> eval"
   ]
  },
  {
   "cell_type": "code",
   "execution_count": 21,
   "id": "4c1bbc38",
   "metadata": {},
   "outputs": [
    {
     "data": {
      "text/plain": [
       "TaylorN{Interval{Float64}}"
      ]
     },
     "execution_count": 21,
     "metadata": {},
     "output_type": "execute_result"
    }
   ],
   "source": [
    "typeof(R)"
   ]
  },
  {
   "cell_type": "code",
   "execution_count": 23,
   "id": "9435013b",
   "metadata": {},
   "outputs": [
    {
     "data": {
      "text/plain": [
       "2"
      ]
     },
     "execution_count": 23,
     "metadata": {},
     "output_type": "execute_result"
    }
   ],
   "source": [
    "eval(Meta.parse(\"1+1\"))"
   ]
  },
  {
   "cell_type": "markdown",
   "id": "53ab22fc",
   "metadata": {},
   "source": [
    "- Taylor1\n",
    "- TaylorN\n",
    "- TaylorModel1\n",
    "- TaylorModelN"
   ]
  },
  {
   "cell_type": "markdown",
   "id": "972bbc4f",
   "metadata": {},
   "source": [
    "Vemos que el resto del modelo de taylor aparece al final de la expresion."
   ]
  },
  {
   "cell_type": "code",
   "execution_count": 79,
   "id": "9ff31060",
   "metadata": {},
   "outputs": [
    {
     "data": {
      "text/plain": [
       "[-1.43729e-08, 1.70314e-08]"
      ]
     },
     "execution_count": 79,
     "metadata": {},
     "output_type": "execute_result"
    }
   ],
   "source": [
    "aux = split(data_x, \"+\")\n",
    "rem = aux[end]\n",
    "rem = Meta.parse(rem) |> eval # resto del modelo de Taylor"
   ]
  },
  {
   "cell_type": "code",
   "execution_count": 80,
   "id": "ecf58c2e",
   "metadata": {},
   "outputs": [
    {
     "data": {
      "text/plain": [
       "3-element Vector{SubString{String}}:\n",
       " \"A \"\n",
       " \" B \"\n",
       " \" C\""
      ]
     },
     "execution_count": 80,
     "metadata": {},
     "output_type": "execute_result"
    }
   ],
   "source": [
    "split(\"A + B + C\", \"+\") # observar que el + no lo cuenta"
   ]
  },
  {
   "cell_type": "code",
   "execution_count": 107,
   "id": "f294adf1",
   "metadata": {},
   "outputs": [
    {
     "data": {
      "text/plain": [
       "\"(5.00000000000000e0 .. 5.00000000000000e0) + (2.00000000000000e-1 .. 2.00000000000001e-1) * x + (-2.50000000000000e0 .. -2.50000000000000e0) * t + (-1.00000000000001e0 .. -1.00000000000000e0) * t * y + (-1.00000000000001e-1 .. -1.00000000000000e-1) * t * x + (-9.3750000\" ⋯ 1408 bytes ⋯ \"999999e0 .. 1.28500000000001e0) * t^4 * x * y + (2.30833333333333e-1 .. 2.30833333333335e-1) * t^4 * x^2 + (-8.41718750000027e0 .. -8.41718749999971e0) * t^5 * y + (5.42578124999991e0 .. 5.42578125000012e0) * t^5 * x + (-3.93610026041663e1 .. -3.93610026041660e1) * t^6 \""
      ]
     },
     "execution_count": 107,
     "metadata": {},
     "output_type": "execute_result"
    }
   ],
   "source": [
    "# le saco la parte del remainder (el +1 es para que tambien elimine el simbolo +)\n",
    "q = length(data_x) - (length(aux[end]) + 1)\n",
    "pol = data_x[1:q]\n",
    "#pol = Meta.parse(pol) |> eval"
   ]
  },
  {
   "cell_type": "code",
   "execution_count": 108,
   "id": "88dc559f",
   "metadata": {},
   "outputs": [
    {
     "data": {
      "text/plain": [
       "\"(5.00000000000000e0 .. 5.00000000000000e0) + (2.00000000000000e-1 .. 2.00000000000001e-1) * x + (-2.50000000000000e0 .. -2.50000000000000e0) * t + (-1.00000000000001e0 .. -1.00000000000000e0) * t * y + (-1.00000000000001e-1 .. -1.00000000000000e-1) * t * x + (-9.3750000\" ⋯ 1455 bytes ⋯ \" (2.30833333333333e-1 .. 2.30833333333335e-1) * t^4 * x^2 + (-8.41718750000027e0 .. -8.41718749999971e0) * t^5 * y + (5.42578124999991e0 .. 5.42578125000012e0) * t^5 * x + (-3.93610026041663e1 .. -3.93610026041660e1) * t^6 + (-1.43728770330625e-8 .. 1.70313210117098e-8)\""
      ]
     },
     "execution_count": 108,
     "metadata": {},
     "output_type": "execute_result"
    }
   ],
   "source": [
    "data_x"
   ]
  },
  {
   "cell_type": "code",
   "execution_count": 32,
   "id": "a99caa91",
   "metadata": {},
   "outputs": [
    {
     "data": {
      "text/plain": [
       "\"local_t in [0 , 1.00000000000001e-2]\""
      ]
     },
     "execution_count": 32,
     "metadata": {},
     "output_type": "execute_result"
    }
   ],
   "source": [
    "data[3]"
   ]
  },
  {
   "cell_type": "code",
   "execution_count": 38,
   "id": "36f32c7e",
   "metadata": {},
   "outputs": [
    {
     "data": {
      "text/plain": [
       "[0, 0.0100001] × [-1, 1] × [-1, 1]"
      ]
     },
     "execution_count": 38,
     "metadata": {},
     "output_type": "execute_result"
    }
   ],
   "source": [
    "dom_t = strip(split(data[3], \"in\")[2])\n",
    "dom_t = replace(dom_t, \",\" => \"..\")\n",
    "dom_t = replace(dom_t, \"[\" => \"(\")\n",
    "dom_t = replace(dom_t, \"]\" => \")\")\n",
    "dom_t = Meta.parse(dom_t) |> eval\n",
    "\n",
    "dom_x = strip(split(data[4], \"in\")[2])\n",
    "dom_x = replace(dom_x, \",\" => \"..\")\n",
    "dom_x = replace(dom_x, \"[\" => \"(\")\n",
    "dom_x = replace(dom_x, \"]\" => \")\")\n",
    "dom_x = Meta.parse(dom_x) |> eval\n",
    "\n",
    "dom_y = strip(split(data[4], \"in\")[2])\n",
    "dom_y = replace(dom_y, \",\" => \"..\")\n",
    "dom_y = replace(dom_y, \"[\" => \"(\")\n",
    "dom_y = replace(dom_y, \"]\" => \")\")\n",
    "dom_y = Meta.parse(dom_y) |> eval\n",
    "\n",
    "dom = IntervalBox(dom_t, dom_x, dom_y)"
   ]
  },
  {
   "cell_type": "code",
   "execution_count": 39,
   "id": "9f8624a5",
   "metadata": {},
   "outputs": [
    {
     "data": {
      "text/plain": [
       "IntervalBox{3, Float64}"
      ]
     },
     "execution_count": 39,
     "metadata": {},
     "output_type": "execute_result"
    }
   ],
   "source": [
    "typeof(dom)"
   ]
  },
  {
   "cell_type": "code",
   "execution_count": 41,
   "id": "2695af77",
   "metadata": {},
   "outputs": [
    {
     "data": {
      "text/plain": [
       "[0, 0]³"
      ]
     },
     "execution_count": 41,
     "metadata": {},
     "output_type": "execute_result"
    }
   ],
   "source": [
    "x0 = IntervalBox(zeros(3)) # n + 1"
   ]
  },
  {
   "cell_type": "code",
   "execution_count": 42,
   "id": "ca9ce858",
   "metadata": {},
   "outputs": [
    {
     "ename": "LoadError",
     "evalue": "MethodError: no method matching TaylorModelN(::Vector{SubString{String}}, ::Interval{Float64}, ::IntervalBox{3, Float64}, ::IntervalBox{3, Float64})\n\u001b[0mClosest candidates are:\n\u001b[0m  TaylorModelN(\u001b[91m::TaylorN{T}\u001b[39m, ::Interval{S}, ::IntervalBox{N, S}, ::IntervalBox{N, S}) where {N, T, S} at /home/mforets/.julia/packages/TaylorModels/HzpNT/src/constructors.jl:127\n\u001b[0m  TaylorModelN(\u001b[91m::Interval{T}\u001b[39m, \u001b[91m::Integer\u001b[39m, ::IntervalBox{N, T}, ::IntervalBox{N, T}) where {N, T} at /home/mforets/.julia/packages/TaylorModels/HzpNT/src/constructors.jl:138\n\u001b[0m  TaylorModelN(\u001b[91m::Integer\u001b[39m, \u001b[91m::Integer\u001b[39m, ::IntervalBox{N, T}, ::IntervalBox{N, T}) where {N, T} at /home/mforets/.julia/packages/TaylorModels/HzpNT/src/constructors.jl:134\n\u001b[0m  ...",
     "output_type": "error",
     "traceback": [
      "MethodError: no method matching TaylorModelN(::Vector{SubString{String}}, ::Interval{Float64}, ::IntervalBox{3, Float64}, ::IntervalBox{3, Float64})\n\u001b[0mClosest candidates are:\n\u001b[0m  TaylorModelN(\u001b[91m::TaylorN{T}\u001b[39m, ::Interval{S}, ::IntervalBox{N, S}, ::IntervalBox{N, S}) where {N, T, S} at /home/mforets/.julia/packages/TaylorModels/HzpNT/src/constructors.jl:127\n\u001b[0m  TaylorModelN(\u001b[91m::Interval{T}\u001b[39m, \u001b[91m::Integer\u001b[39m, ::IntervalBox{N, T}, ::IntervalBox{N, T}) where {N, T} at /home/mforets/.julia/packages/TaylorModels/HzpNT/src/constructors.jl:138\n\u001b[0m  TaylorModelN(\u001b[91m::Integer\u001b[39m, \u001b[91m::Integer\u001b[39m, ::IntervalBox{N, T}, ::IntervalBox{N, T}) where {N, T} at /home/mforets/.julia/packages/TaylorModels/HzpNT/src/constructors.jl:134\n\u001b[0m  ...",
      "",
      "Stacktrace:",
      " [1] top-level scope",
      "   @ In[42]:2",
      " [2] eval",
      "   @ ./boot.jl:373 [inlined]",
      " [3] include_string(mapexpr::typeof(REPL.softscope), mod::Module, code::String, filename::String)",
      "   @ Base ./loading.jl:1196"
     ]
    }
   ],
   "source": [
    "# quedarme con el right-hand side\n",
    "pol = split(data_x, \"=\")[2] |> strip\n",
    "\n",
    "# renombrar variables\n",
    "data_x = replace(data_x, \"local_var_1\" => \"x\")\n",
    "data_x = replace(data_x, \"local_var_2\" => \"y\")\n",
    "data_x = replace(data_x, \"local_t\" => \"t\")\n",
    "\n",
    "# renombrar intervalos\n",
    "data_x = replace(data_x, \",\" => \"..\")\n",
    "data_x = replace(data_x, \"[\" => \"(\")\n",
    "data_x = replace(data_x, \"]\" => \")\")\n",
    "\n",
    "data_x\n",
    "\n",
    "TaylorModelN(pol, rem, x0, dom)"
   ]
  },
  {
   "cell_type": "code",
   "execution_count": null,
   "id": "ae5e4528",
   "metadata": {},
   "outputs": [],
   "source": []
  },
  {
   "cell_type": "code",
   "execution_count": null,
   "id": "a2d76222",
   "metadata": {},
   "outputs": [],
   "source": []
  },
  {
   "cell_type": "code",
   "execution_count": null,
   "id": "a30973e4",
   "metadata": {},
   "outputs": [],
   "source": []
  },
  {
   "cell_type": "code",
   "execution_count": null,
   "id": "94da046b",
   "metadata": {},
   "outputs": [],
   "source": []
  },
  {
   "cell_type": "code",
   "execution_count": null,
   "id": "b8d9a979",
   "metadata": {},
   "outputs": [],
   "source": []
  },
  {
   "cell_type": "markdown",
   "id": "03913ea6",
   "metadata": {},
   "source": [
    "### cosas viejas"
   ]
  },
  {
   "cell_type": "code",
   "execution_count": null,
   "id": "f9bd119b",
   "metadata": {},
   "outputs": [],
   "source": []
  },
  {
   "cell_type": "code",
   "execution_count": null,
   "id": "34e74fc3",
   "metadata": {},
   "outputs": [],
   "source": []
  },
  {
   "cell_type": "code",
   "execution_count": null,
   "id": "b12fc9b2",
   "metadata": {},
   "outputs": [],
   "source": [
    "using Symbolics, IntervalArithmetic"
   ]
  },
  {
   "cell_type": "code",
   "execution_count": null,
   "id": "2fdfcaa1",
   "metadata": {},
   "outputs": [],
   "source": [
    "@variables local_t local_var_1 local_var_2"
   ]
  },
  {
   "cell_type": "code",
   "execution_count": null,
   "id": "a37ee611",
   "metadata": {},
   "outputs": [],
   "source": [
    "f = eval(Meta.parse(data_x));"
   ]
  },
  {
   "cell_type": "code",
   "execution_count": null,
   "id": "5fba89ad",
   "metadata": {},
   "outputs": [],
   "source": []
  },
  {
   "cell_type": "code",
   "execution_count": null,
   "id": "9e76aa9a",
   "metadata": {},
   "outputs": [],
   "source": [
    "expr = :([5.00000000000000e0 , 5.00000000000000e0] + [2.00000000000000e-1 , 2.00000000000001e-1] * local_var_1 + [-2.50000000000000e0 , -2.50000000000000e0] * local_t + [-1.00000000000001e0 , -1.00000000000000e0] * local_t * local_var_2 + [-1.00000000000001e-1 , -1.00000000000000e-1] * local_t * local_var_1 + [-9.37500000000000e0 , -9.37500000000000e0] * local_t^2 + [-4.00000000000002e-2 , -4.00000000000000e-2] * local_t * local_var_1 * local_var_2 + [-5.00000000000001e-1 , -5.00000000000000e-1] * local_t^2 * local_var_2 + [-1.37500000000001e0 , -1.37500000000000e0] * local_t^2 * local_var_1 + [2.39583333333333e0 , 2.39583333333334e0] * local_t^3 + [1.00000000000000e-1 , 1.00000000000001e-1] * local_t^2 * local_var_2^2 + [-1.20000000000001e-1 , -1.20000000000000e-1] * local_t^2 * local_var_1 * local_var_2 + [-4.00000000000002e-2 , -4.00000000000000e-2] * local_t^2 * local_var_1^2 + [3.79166666666666e0 , 3.79166666666668e0] * local_t^3 * local_var_2 + [-5.70833333333335e-1 , -5.70833333333333e-1] * local_t^3 * local_var_1 + [2.07421874999999e1 , 2.07421875000001e1] * local_t^4 + [4.00000000000000e-3 , 4.00000000000002e-3] * local_t^2 * local_var_1 * local_var_2^2 + [-4.00000000000002e-3 , -4.00000000000000e-3] * local_t^2 * local_var_1^2 * local_var_2 + [3.16666666666666e-1 , 3.16666666666668e-1] * local_t^3 * local_var_2^2 + [3.51666666666667e-1 , 3.51666666666668e-1] * local_t^3 * local_var_1 * local_var_2 + [-9.33333333333337e-2 , -9.33333333333334e-2] * local_t^3 * local_var_1^2 + [4.67708333333331e0 , 4.67708333333336e0] * local_t^4 * local_var_2 + [4.30885416666666e0 , 4.30885416666669e0] * local_t^4 * local_var_1 + [7.93619791666664e0 , 7.93619791666665e0] * local_t^5 + [-3.71654142564716e-6 , 3.61155996611113e-6])"
   ]
  },
  {
   "cell_type": "code",
   "execution_count": null,
   "id": "4021c167",
   "metadata": {},
   "outputs": [],
   "source": [
    "flow[4]"
   ]
  },
  {
   "cell_type": "code",
   "execution_count": null,
   "id": "cabc56a2",
   "metadata": {},
   "outputs": [],
   "source": [
    "flow[5]"
   ]
  },
  {
   "cell_type": "code",
   "execution_count": null,
   "id": "53d2dbdd",
   "metadata": {},
   "outputs": [],
   "source": [
    "using TaylorModels"
   ]
  },
  {
   "cell_type": "code",
   "execution_count": null,
   "id": "27db7e8b",
   "metadata": {},
   "outputs": [],
   "source": []
  },
  {
   "cell_type": "markdown",
   "id": "26adf658",
   "metadata": {},
   "source": [
    "In Flow*, the reach-sets are represented using Taylor models in N+1 variables, where the last variable represents \"time\"."
   ]
  },
  {
   "cell_type": "markdown",
   "id": "cc9dacea",
   "metadata": {},
   "source": [
    "The text file `Lotka_Volterra.flow` contains the output generated by the algorithm."
   ]
  },
  {
   "cell_type": "markdown",
   "id": "d16e36d2",
   "metadata": {},
   "source": [
    "Let's analyze in more detail the contents of this file."
   ]
  },
  {
   "cell_type": "markdown",
   "id": "b592bc5c",
   "metadata": {},
   "source": [
    "The first part defines the symbols used for the state variables, in this case `x` and `y`. Also defined is the order of the Taylor models (in this case, `6`), the cutoff threshold (in this case, `1e-20`), and finally the models' name (in this case, `Lotka_Volterra`)."
   ]
  },
  {
   "cell_type": "markdown",
   "id": "34fbef99",
   "metadata": {},
   "source": [
    "Header of `Lotka_Volterra.flow`:\n",
    "\n",
    "```\n",
    "state var x,y\n",
    "\n",
    "gnuplot octagon x , y\n",
    "\n",
    "order 6\n",
    "\n",
    "cutoff 1.000000e-20\n",
    "\n",
    "output Lotka_Volterra\n",
    "```"
   ]
  }
 ],
 "metadata": {
  "kernelspec": {
   "display_name": "Julia 1.7.0-rc1",
   "language": "julia",
   "name": "julia-1.7"
  },
  "language_info": {
   "file_extension": ".jl",
   "mimetype": "application/julia",
   "name": "julia",
   "version": "1.7.0"
  }
 },
 "nbformat": 4,
 "nbformat_minor": 5
}
