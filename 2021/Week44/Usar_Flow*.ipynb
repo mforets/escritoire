{
 "cells": [
  {
   "cell_type": "markdown",
   "id": "42029096",
   "metadata": {},
   "source": [
    "# Exploring Flow*"
   ]
  },
  {
   "cell_type": "markdown",
   "id": "b96187e0",
   "metadata": {},
   "source": [
    "In this blog post we [...]"
   ]
  },
  {
   "cell_type": "markdown",
   "id": "0b717695",
   "metadata": {},
   "source": [
    "## Installing the tool"
   ]
  },
  {
   "cell_type": "markdown",
   "id": "4bf97cac",
   "metadata": {},
   "source": [
    "We first download the tool version 2.1.0 (May 2017) from the webpage https://flowstar.org/dowloads/"
   ]
  },
  {
   "cell_type": "markdown",
   "id": "a7ba3d41",
   "metadata": {},
   "source": [
    "The installation process is simple provided that the required dependencies are met."
   ]
  },
  {
   "cell_type": "markdown",
   "id": "8b823840",
   "metadata": {},
   "source": [
    "We installed Flow* in two different machines:\n",
    "\n",
    "- Ubuntu LTS v20.04 running on a Windows desktop machine (Asus ZenBook UX331UA-AS51).\n",
    "- Dell XPS15 running Linux Fedora 34."
   ]
  },
  {
   "cell_type": "markdown",
   "id": "04dfdc0c",
   "metadata": {},
   "source": [
    "In Fedora, we used `dnf install` to install the required dependencies `gmp-devel`, `gsl-devel`, `glpk-devel`, `flex` and `bison`. The library `mpfr` was downloaded and compiled using the instructions in the [downloads page](https://www.mpfr.org/mpfr-current/)."
   ]
  },
  {
   "cell_type": "markdown",
   "id": "1c6edbdb",
   "metadata": {},
   "source": [
    "The required dependencies are detailed in Flow*'s [user manual](https://home.cs.colorado.edu/~xich8622/manual/manual-2.0.0.pdf)."
   ]
  },
  {
   "cell_type": "markdown",
   "id": "7a0b4dfb",
   "metadata": {},
   "source": [
    "## Solving the Lotka-Volterra model"
   ]
  },
  {
   "cell_type": "markdown",
   "id": "78136956",
   "metadata": {},
   "source": [
    "Apart from the models that can be downloaded in the [Flow* webpage](https://flowstar.org/), we are aware of an online model repository from the [*Theory of Hybrid Systems Group* from RWTH Aachen University](https://ths.rwth-aachen.de/research/projects/hypro/benchmarks-of-continuous-and-hybrid-systems/)."
   ]
  },
  {
   "cell_type": "markdown",
   "id": "81fca841",
   "metadata": {},
   "source": [
    "We use the Lotka-Volterra model because it is a simple model. For comparison, the same model can be found in the documentation ReachabilityAnalysis.jl [here](https://juliareach.github.io/ReachabilityAnalysis.jl/dev/models/LotkaVolterra/). "
   ]
  },
  {
   "cell_type": "markdown",
   "id": "459d7249",
   "metadata": {},
   "source": [
    "The model file is copied next. It can be read as a plain text file."
   ]
  },
  {
   "cell_type": "markdown",
   "id": "06352439",
   "metadata": {},
   "source": [
    "```\n",
    "continuous reachability\n",
    "{\n",
    " state var x,y\n",
    "\t\n",
    " setting\n",
    " {\n",
    "  fixed steps 0.02\n",
    "  time 5\n",
    "  remainder estimation 1e-5\n",
    "  QR precondition\n",
    "  gnuplot octagon x,y\n",
    "  adaptive orders { min 4 , max 6 }\n",
    "  cutoff 1e-20\n",
    "  precision 53\n",
    "  output Lotka_Volterra\n",
    "  print on\n",
    " }\n",
    "\t\n",
    " poly ode 2\n",
    " {\n",
    "  x' = 1.5*x - x*y\n",
    "  y' = -3*y + x*y\n",
    " }\n",
    " \n",
    " init\n",
    " {\n",
    "  x in [4.8 , 5.2]\n",
    "  y in [1.8 , 2.2]\n",
    " }\n",
    "}\n",
    "```"
   ]
  },
  {
   "cell_type": "markdown",
   "id": "4e82604d",
   "metadata": {},
   "source": [
    "The model file describes a purely continuous model (`continuous reachability`), then the names for the state variables are defined (`state var x,y`)."
   ]
  },
  {
   "cell_type": "markdown",
   "id": "a79c8af5",
   "metadata": {},
   "source": [
    "The next part defines the settings for reachability analysis (`setting`):\n",
    "\n",
    "- `fixed steps 0.02`: use fixed time steps of size `0.02`\n",
    "- `time 5`: time horizon for the simulation\n",
    "- `remainder estimation 1e-5`: estimate of the remainder before each iteration\n",
    "- `QR precondition`: preconditioning technique for the Taylor expansion\n",
    "- `gnuplot octagon x,y`: overapproximation method for plotting\n",
    "- `adaptive orders { min 4 , max 6 }`: range of Taylor model's order\n",
    "- `cutoff 1e-20`: threshold for polynomial coefficients (\n",
    "- `precision 53`: precision (number of bits) for the interval bounds\n",
    "- `output Lotka_Volterra`: number of output file\n",
    "- `print on`: verbose on"
   ]
  },
  {
   "cell_type": "markdown",
   "id": "c1581cc4",
   "metadata": {},
   "source": [
    "The following block of code defines the differential equations; in this case,"
   ]
  },
  {
   "cell_type": "markdown",
   "id": "116d815e",
   "metadata": {},
   "source": [
    "```\n",
    " poly ode 2\n",
    " {\n",
    "  x' = 1.5*x - x*y\n",
    "  y' = -3*y + x*y\n",
    " }\n",
    "```"
   ]
  },
  {
   "cell_type": "markdown",
   "id": "964f27bf",
   "metadata": {},
   "source": [
    "Where `poly ode 2` specifies a system with two variables."
   ]
  },
  {
   "cell_type": "markdown",
   "id": "6a2c060b",
   "metadata": {},
   "source": [
    "Finally, the `init` block specify the settings for reachability analysis. "
   ]
  },
  {
   "cell_type": "markdown",
   "id": "81bb4274",
   "metadata": {},
   "source": [
    "```julia\n",
    " init\n",
    " {\n",
    "  x in [4.8 , 5.2]\n",
    "  y in [1.8 , 2.2]\n",
    " }\n",
    "```"
   ]
  },
  {
   "cell_type": "markdown",
   "id": "bfc7e8b9",
   "metadata": {},
   "source": [
    "In this case this defines a hyperrectangle of sides `4.8 .. 5.2` and `1.8 .. 2.2`."
   ]
  },
  {
   "cell_type": "markdown",
   "id": "3c66434f",
   "metadata": {},
   "source": [
    "## Running the example"
   ]
  },
  {
   "cell_type": "markdown",
   "id": "45f3d76d",
   "metadata": {},
   "source": [
    "We made a small modification in the model that can be downloaded from "
   ]
  },
  {
   "cell_type": "markdown",
   "id": "05bc0292",
   "metadata": {},
   "source": [
    "[ ..... ]"
   ]
  },
  {
   "cell_type": "markdown",
   "id": "02138654",
   "metadata": {},
   "source": [
    "## Parsing the result"
   ]
  },
  {
   "cell_type": "code",
   "execution_count": 1,
   "id": "9c45c3e0",
   "metadata": {},
   "outputs": [
    {
     "data": {
      "text/plain": [
       "\"LotkaVolterra/outputs/Lotka_Volterra.flow\""
      ]
     },
     "execution_count": 1,
     "metadata": {},
     "output_type": "execute_result"
    }
   ],
   "source": [
    "src = \"LotkaVolterra/outputs/Lotka_Volterra.flow\""
   ]
  },
  {
   "cell_type": "code",
   "execution_count": 2,
   "id": "d93308b4",
   "metadata": {},
   "outputs": [
    {
     "name": "stdout",
     "output_type": "stream",
     "text": [
      "N = length(flow) = 500\n"
     ]
    },
    {
     "data": {
      "text/plain": [
       "5-element Vector{SubString{String}}:\n",
       " \"x = [5.00000000000000e0 , 5.00\" ⋯ 2446 bytes ⋯ \"0625e-8 , 1.70313210117098e-8]\"\n",
       " \"y = [2.00000000000000e0 , 2.00\" ⋯ 2452 bytes ⋯ \"2587e-8 , 1.77595808728572e-8]\"\n",
       " \"local_t in [0 , 1.00000000000001e-2]\"\n",
       " \"local_var_1 in [-1.00000000000000e0 , 1.00000000000000e0]\"\n",
       " \"local_var_2 in [-1.00000000000000e0 , 1.00000000000000e0]\""
      ]
     },
     "execution_count": 2,
     "metadata": {},
     "output_type": "execute_result"
    }
   ],
   "source": [
    "text = String(read(src))\n",
    "flow = split(text, \"{\");\n",
    "\n",
    "flow = flow[3:end]\n",
    "\n",
    "@show N = length(flow) # number of reach-sets\n",
    "\n",
    "R = flow[1] # first reach-set\n",
    "data = split(R, \"\\n\")\n",
    "filter!(!isempty, data) # saco los que estan vacios\n",
    "pop!(data) # saco el ultimo \"}\"\n",
    "data"
   ]
  },
  {
   "cell_type": "code",
   "execution_count": 3,
   "id": "d7cc6b61",
   "metadata": {},
   "outputs": [
    {
     "data": {
      "text/plain": [
       "\"x = [5.00000000000000e0 , 5.00000000000000e0] + [2.00000000000000e-1 , 2.00000000000001e-1] * local_var_1 + [-2.50000000000000e0 , -2.50000000000000e0] * local_t + [-1.00000000000001e0 , -1.00000000000000e0] * local_t * local_var_2 + [-1.00000000000001e-1 , -1.000000000\" ⋯ 1966 bytes ⋯ \"cal_t^4 * local_var_1^2 + [-8.41718750000027e0 , -8.41718749999971e0] * local_t^5 * local_var_2 + [5.42578124999991e0 , 5.42578125000012e0] * local_t^5 * local_var_1 + [-3.93610026041663e1 , -3.93610026041660e1] * local_t^6 + [-1.43728770330625e-8 , 1.70313210117098e-8]\""
      ]
     },
     "execution_count": 3,
     "metadata": {},
     "output_type": "execute_result"
    }
   ],
   "source": [
    "data_x = data[1] # \"x\" variable"
   ]
  },
  {
   "cell_type": "code",
   "execution_count": 4,
   "id": "449e0717",
   "metadata": {},
   "outputs": [],
   "source": [
    "using TaylorModels"
   ]
  },
  {
   "cell_type": "code",
   "execution_count": 5,
   "id": "91f72a4b",
   "metadata": {},
   "outputs": [
    {
     "data": {
      "text/plain": [
       "[1, 2]"
      ]
     },
     "execution_count": 5,
     "metadata": {},
     "output_type": "execute_result"
    }
   ],
   "source": [
    "1 .. 2 # define un intervalo (si bien imprime como [1, 2])"
   ]
  },
  {
   "cell_type": "code",
   "execution_count": 6,
   "id": "882c5669",
   "metadata": {},
   "outputs": [
    {
     "data": {
      "text/plain": [
       "2-element Vector{Int64}:\n",
       " 1\n",
       " 2"
      ]
     },
     "execution_count": 6,
     "metadata": {},
     "output_type": "execute_result"
    }
   ],
   "source": [
    "[1, 2] # define un array (no interesa)"
   ]
  },
  {
   "cell_type": "code",
   "execution_count": 7,
   "id": "fb3653a6",
   "metadata": {},
   "outputs": [
    {
     "data": {
      "text/plain": [
       "\"(5.00000000000000e0 .. 5.00000000000000e0) + (2.00000000000000e-1 .. 2.00000000000001e-1) * x + (-2.50000000000000e0 .. -2.50000000000000e0) * t + (-1.00000000000001e0 .. -1.00000000000000e0) * t * y + (-1.00000000000001e-1 .. -1.00000000000000e-1) * t * x + (-9.3750000\" ⋯ 1455 bytes ⋯ \" (2.30833333333333e-1 .. 2.30833333333335e-1) * t^4 * x^2 + (-8.41718750000027e0 .. -8.41718749999971e0) * t^5 * y + (5.42578124999991e0 .. 5.42578125000012e0) * t^5 * x + (-3.93610026041663e1 .. -3.93610026041660e1) * t^6 + (-1.43728770330625e-8 .. 1.70313210117098e-8)\""
      ]
     },
     "execution_count": 7,
     "metadata": {},
     "output_type": "execute_result"
    }
   ],
   "source": [
    "# quedarme con el right-hand side\n",
    "data_x = split(data_x, \"=\")[2] |> strip\n",
    "\n",
    "# renombrar variables\n",
    "data_x = replace(data_x, \"local_var_1\" => \"x\")\n",
    "data_x = replace(data_x, \"local_var_2\" => \"y\")\n",
    "data_x = replace(data_x, \"local_t\" => \"t\")\n",
    "\n",
    "# renombrar intervalos\n",
    "data_x = replace(data_x, \",\" => \"..\")\n",
    "data_x = replace(data_x, \"[\" => \"(\")\n",
    "data_x = replace(data_x, \"]\" => \")\")\n",
    "\n",
    "data_x"
   ]
  },
  {
   "cell_type": "markdown",
   "id": "89daa161",
   "metadata": {},
   "source": [
    "The aim is to convert this reach-set to a `TaylorModelN` whose coefficients are intervals."
   ]
  },
  {
   "cell_type": "code",
   "execution_count": 8,
   "id": "a88bdc94",
   "metadata": {},
   "outputs": [],
   "source": [
    "using TaylorModels"
   ]
  },
  {
   "cell_type": "code",
   "execution_count": 9,
   "id": "72c109c3",
   "metadata": {},
   "outputs": [
    {
     "data": {
      "text/plain": [
       "3-element Vector{TaylorN{Float64}}:\n",
       "  1.0 t + 𝒪(‖x‖⁹)\n",
       "  1.0 x + 𝒪(‖x‖⁹)\n",
       "  1.0 y + 𝒪(‖x‖⁹)"
      ]
     },
     "execution_count": 9,
     "metadata": {},
     "output_type": "execute_result"
    }
   ],
   "source": [
    "t, x, y = set_variables(\"t x y\", order=8)"
   ]
  },
  {
   "cell_type": "code",
   "execution_count": 10,
   "id": "347d52c1",
   "metadata": {},
   "outputs": [
    {
     "data": {
      "text/plain": [
       " [4.99999, 5.00001] + [-2.5, -2.5] t + [0.199999, 0.200001] x + [-9.375, -9.375] t² + [-0.100001, -0.0999999] t x + [-1.00001, -1] t y + [2.39583, 2.39584] t³ + [-1.37501, -1.375] t² x + [-0.500001, -0.5] t² y + [-0.0400001, -0.0399999] t x y + [20.7421, 20.7422] t⁴ + [-0.570834, -0.570833] t³ x + [3.79166, 3.79167] t³ y + [-0.0400001, -0.0399999] t² x² + [-0.120001, -0.119999] t² x y + [0.0999999, 0.100001] t² y² + [7.93619, 7.9362] t⁵ + [4.30885, 4.30886] t⁴ x + [4.67708, 4.67709] t⁴ y + [-0.0933334, -0.0933333] t³ x² + [0.351666, 0.351667] t³ x y + [0.316666, 0.316667] t³ y² + [-0.00400001, -0.00399999] t² x² y + [0.00399999, 0.00400001] t² x y² + [-39.3611, -39.361] t⁶ + [5.42578, 5.42579] t⁵ x + [-8.41719, -8.41718] t⁵ y + [0.230833, 0.230834] t⁴ x² + [1.28499, 1.28501] t⁴ x y + [-0.345834, -0.345833] t⁴ y² + [-0.00266667, -0.00266666] t³ x³ + [0.00133333, 0.00133334] t³ x² y + [0.0393333, 0.0393334] t³ x y² + [-0.00666667, -0.00666666] t³ y³ + 𝒪(‖x‖⁹)"
      ]
     },
     "execution_count": 10,
     "metadata": {},
     "output_type": "execute_result"
    }
   ],
   "source": [
    "R = Meta.parse(data_x) |> eval"
   ]
  },
  {
   "cell_type": "code",
   "execution_count": 11,
   "id": "4c1bbc38",
   "metadata": {},
   "outputs": [
    {
     "data": {
      "text/plain": [
       "TaylorN{Interval{Float64}}"
      ]
     },
     "execution_count": 11,
     "metadata": {},
     "output_type": "execute_result"
    }
   ],
   "source": [
    "typeof(R)"
   ]
  },
  {
   "cell_type": "code",
   "execution_count": 12,
   "id": "b008a1ac",
   "metadata": {},
   "outputs": [
    {
     "data": {
      "text/plain": [
       "2"
      ]
     },
     "execution_count": 12,
     "metadata": {},
     "output_type": "execute_result"
    }
   ],
   "source": [
    "eval(Meta.parse(\"1+1\"))"
   ]
  },
  {
   "cell_type": "markdown",
   "id": "53ab22fc",
   "metadata": {},
   "source": [
    "- Taylor1\n",
    "- TaylorN\n",
    "- TaylorModel1\n",
    "- TaylorModelN"
   ]
  },
  {
   "cell_type": "markdown",
   "id": "db600765",
   "metadata": {},
   "source": [
    "Vemos que el resto del modelo de taylor aparece al final de la expresion."
   ]
  },
  {
   "cell_type": "code",
   "execution_count": 13,
   "id": "9ff31060",
   "metadata": {},
   "outputs": [
    {
     "data": {
      "text/plain": [
       "[-1.43729e-08, 1.70314e-08]"
      ]
     },
     "execution_count": 13,
     "metadata": {},
     "output_type": "execute_result"
    }
   ],
   "source": [
    "aux = split(data_x, \"+\")\n",
    "rem = aux[end]\n",
    "rem = Meta.parse(rem) |> eval # resto del modelo de Taylor"
   ]
  },
  {
   "cell_type": "code",
   "execution_count": 14,
   "id": "0a9d5c16",
   "metadata": {},
   "outputs": [
    {
     "data": {
      "text/plain": [
       "3-element Vector{SubString{String}}:\n",
       " \"A \"\n",
       " \" B \"\n",
       " \" C\""
      ]
     },
     "execution_count": 14,
     "metadata": {},
     "output_type": "execute_result"
    }
   ],
   "source": [
    "split(\"A + B + C\", \"+\") # observar que el + no lo cuenta"
   ]
  },
  {
   "cell_type": "code",
   "execution_count": 15,
   "id": "e2afd416",
   "metadata": {},
   "outputs": [
    {
     "data": {
      "text/plain": [
       " [5, 5] + [-2.5, -2.5] t + [0.199999, 0.200001] x + [-9.375, -9.375] t² + [-0.100001, -0.0999999] t x + [-1.00001, -1] t y + [2.39583, 2.39584] t³ + [-1.37501, -1.375] t² x + [-0.500001, -0.5] t² y + [-0.0400001, -0.0399999] t x y + [20.7421, 20.7422] t⁴ + [-0.570834, -0.570833] t³ x + [3.79166, 3.79167] t³ y + [-0.0400001, -0.0399999] t² x² + [-0.120001, -0.119999] t² x y + [0.0999999, 0.100001] t² y² + [7.93619, 7.9362] t⁵ + [4.30885, 4.30886] t⁴ x + [4.67708, 4.67709] t⁴ y + [-0.0933334, -0.0933333] t³ x² + [0.351666, 0.351667] t³ x y + [0.316666, 0.316667] t³ y² + [-0.00400001, -0.00399999] t² x² y + [0.00399999, 0.00400001] t² x y² + [-39.3611, -39.361] t⁶ + [5.42578, 5.42579] t⁵ x + [-8.41719, -8.41718] t⁵ y + [0.230833, 0.230834] t⁴ x² + [1.28499, 1.28501] t⁴ x y + [-0.345834, -0.345833] t⁴ y² + [-0.00266667, -0.00266666] t³ x³ + [0.00133333, 0.00133334] t³ x² y + [0.0393333, 0.0393334] t³ x y² + [-0.00666667, -0.00666666] t³ y³ + 𝒪(‖x‖⁹)"
      ]
     },
     "execution_count": 15,
     "metadata": {},
     "output_type": "execute_result"
    }
   ],
   "source": [
    "# le saco la parte del remainder (el +1 es para que tambien elimine el simbolo +)\n",
    "q = length(data_x) - (length(aux[end]) + 1)\n",
    "pol = data_x[1:q]\n",
    "pol = Meta.parse(pol) |> eval"
   ]
  },
  {
   "cell_type": "code",
   "execution_count": 16,
   "id": "082d4094",
   "metadata": {},
   "outputs": [
    {
     "data": {
      "text/plain": [
       "\"(5.00000000000000e0 .. 5.00000000000000e0) + (2.00000000000000e-1 .. 2.00000000000001e-1) * x + (-2.50000000000000e0 .. -2.50000000000000e0) * t + (-1.00000000000001e0 .. -1.00000000000000e0) * t * y + (-1.00000000000001e-1 .. -1.00000000000000e-1) * t * x + (-9.3750000\" ⋯ 1455 bytes ⋯ \" (2.30833333333333e-1 .. 2.30833333333335e-1) * t^4 * x^2 + (-8.41718750000027e0 .. -8.41718749999971e0) * t^5 * y + (5.42578124999991e0 .. 5.42578125000012e0) * t^5 * x + (-3.93610026041663e1 .. -3.93610026041660e1) * t^6 + (-1.43728770330625e-8 .. 1.70313210117098e-8)\""
      ]
     },
     "execution_count": 16,
     "metadata": {},
     "output_type": "execute_result"
    }
   ],
   "source": [
    "data_x"
   ]
  },
  {
   "cell_type": "code",
   "execution_count": 17,
   "id": "45944f88",
   "metadata": {},
   "outputs": [
    {
     "data": {
      "text/plain": [
       "[0, 0.0100001] × [-1, 1] × [-1, 1]"
      ]
     },
     "execution_count": 17,
     "metadata": {},
     "output_type": "execute_result"
    }
   ],
   "source": [
    "dom_t = strip(split(data[3], \"in\")[2])\n",
    "dom_t = replace(dom_t, \",\" => \"..\")\n",
    "dom_t = replace(dom_t, \"[\" => \"(\")\n",
    "dom_t = replace(dom_t, \"]\" => \")\")\n",
    "dom_t = Meta.parse(dom_t) |> eval\n",
    "\n",
    "dom_x = strip(split(data[4], \"in\")[2])\n",
    "dom_x = replace(dom_x, \",\" => \"..\")\n",
    "dom_x = replace(dom_x, \"[\" => \"(\")\n",
    "dom_x = replace(dom_x, \"]\" => \")\")\n",
    "dom_x = Meta.parse(dom_x) |> eval\n",
    "\n",
    "dom_y = strip(split(data[4], \"in\")[2])\n",
    "dom_y = replace(dom_y, \",\" => \"..\")\n",
    "dom_y = replace(dom_y, \"[\" => \"(\")\n",
    "dom_y = replace(dom_y, \"]\" => \")\")\n",
    "dom_y = Meta.parse(dom_y) |> eval\n",
    "\n",
    "dom = IntervalBox(dom_t, dom_x, dom_y)"
   ]
  },
  {
   "cell_type": "code",
   "execution_count": 55,
   "id": "136e31cf",
   "metadata": {},
   "outputs": [
    {
     "data": {
      "text/plain": [
       "5-element Vector{SubString{String}}:\n",
       " \"x = [5.00000000000000e0 , 5.00\" ⋯ 2446 bytes ⋯ \"0625e-8 , 1.70313210117098e-8]\"\n",
       " \"y = [2.00000000000000e0 , 2.00\" ⋯ 2452 bytes ⋯ \"2587e-8 , 1.77595808728572e-8]\"\n",
       " \"local_t in [0 , 1.00000000000001e-2]\"\n",
       " \"local_var_1 in [-1.00000000000000e0 , 1.00000000000000e0]\"\n",
       " \"local_var_2 in [-1.00000000000000e0 , 1.00000000000000e0]\""
      ]
     },
     "execution_count": 55,
     "metadata": {},
     "output_type": "execute_result"
    }
   ],
   "source": [
    "data"
   ]
  },
  {
   "cell_type": "code",
   "execution_count": 18,
   "id": "4fa284d9",
   "metadata": {},
   "outputs": [
    {
     "data": {
      "text/plain": [
       "IntervalBox{3, Float64}"
      ]
     },
     "execution_count": 18,
     "metadata": {},
     "output_type": "execute_result"
    }
   ],
   "source": [
    "typeof(dom)"
   ]
  },
  {
   "cell_type": "code",
   "execution_count": 19,
   "id": "d6faf925",
   "metadata": {},
   "outputs": [
    {
     "data": {
      "text/plain": [
       "[0, 0]³"
      ]
     },
     "execution_count": 19,
     "metadata": {},
     "output_type": "execute_result"
    }
   ],
   "source": [
    "x0 = IntervalBox(zeros(3)) # n + 1"
   ]
  },
  {
   "cell_type": "code",
   "execution_count": 20,
   "id": "d28ba8b6",
   "metadata": {},
   "outputs": [
    {
     "data": {
      "text/plain": [
       " [5, 5] + [-2.5, -2.5] t + [0.199999, 0.200001] x + [-9.375, -9.375] t² + [-0.100001, -0.0999999] t x + [-1.00001, -1] t y + [2.39583, 2.39584] t³ + [-1.37501, -1.375] t² x + [-0.500001, -0.5] t² y + [-0.0400001, -0.0399999] t x y + [20.7421, 20.7422] t⁴ + [-0.570834, -0.570833] t³ x + [3.79166, 3.79167] t³ y + [-0.0400001, -0.0399999] t² x² + [-0.120001, -0.119999] t² x y + [0.0999999, 0.100001] t² y² + [7.93619, 7.9362] t⁵ + [4.30885, 4.30886] t⁴ x + [4.67708, 4.67709] t⁴ y + [-0.0933334, -0.0933333] t³ x² + [0.351666, 0.351667] t³ x y + [0.316666, 0.316667] t³ y² + [-0.00400001, -0.00399999] t² x² y + [0.00399999, 0.00400001] t² x y² + [-39.3611, -39.361] t⁶ + [5.42578, 5.42579] t⁵ x + [-8.41719, -8.41718] t⁵ y + [0.230833, 0.230834] t⁴ x² + [1.28499, 1.28501] t⁴ x y + [-0.345834, -0.345833] t⁴ y² + [-0.00266667, -0.00266666] t³ x³ + [0.00133333, 0.00133334] t³ x² y + [0.0393333, 0.0393334] t³ x y² + [-0.00666667, -0.00666666] t³ y³ + [-1.43729e-08, 1.70314e-08]"
      ]
     },
     "execution_count": 20,
     "metadata": {},
     "output_type": "execute_result"
    }
   ],
   "source": [
    "# renombrar variables\n",
    "data_x = replace(data_x, \"local_var_1\" => \"x\")\n",
    "data_x = replace(data_x, \"local_var_2\" => \"y\")\n",
    "data_x = replace(data_x, \"local_t\" => \"t\")\n",
    "\n",
    "# renombrar intervalos\n",
    "data_x = replace(data_x, \",\" => \"..\")\n",
    "data_x = replace(data_x, \"[\" => \"(\")\n",
    "data_x = replace(data_x, \"]\" => \")\")\n",
    "\n",
    "tm = TaylorModelN(pol, rem, x0, dom)"
   ]
  },
  {
   "cell_type": "code",
   "execution_count": 21,
   "id": "865b0843",
   "metadata": {},
   "outputs": [
    {
     "data": {
      "text/plain": [
       "TaylorModelN{3, Interval{Float64}, Float64}"
      ]
     },
     "execution_count": 21,
     "metadata": {},
     "output_type": "execute_result"
    }
   ],
   "source": [
    "typeof(tm)"
   ]
  },
  {
   "cell_type": "code",
   "execution_count": 22,
   "id": "5278e0f3",
   "metadata": {},
   "outputs": [
    {
     "data": {
      "text/plain": [
       " [5, 5] + [-2.5, -2.5] t + [0.199999, 0.200001] x + [-9.375, -9.375] t² + [-0.100001, -0.0999999] t x + [-1.00001, -1] t y + [2.39583, 2.39584] t³ + [-1.37501, -1.375] t² x + [-0.500001, -0.5] t² y + [-0.0400001, -0.0399999] t x y + [20.7421, 20.7422] t⁴ + [-0.570834, -0.570833] t³ x + [3.79166, 3.79167] t³ y + [-0.0400001, -0.0399999] t² x² + [-0.120001, -0.119999] t² x y + [0.0999999, 0.100001] t² y² + [7.93619, 7.9362] t⁵ + [4.30885, 4.30886] t⁴ x + [4.67708, 4.67709] t⁴ y + [-0.0933334, -0.0933333] t³ x² + [0.351666, 0.351667] t³ x y + [0.316666, 0.316667] t³ y² + [-0.00400001, -0.00399999] t² x² y + [0.00399999, 0.00400001] t² x y² + [-39.3611, -39.361] t⁶ + [5.42578, 5.42579] t⁵ x + [-8.41719, -8.41718] t⁵ y + [0.230833, 0.230834] t⁴ x² + [1.28499, 1.28501] t⁴ x y + [-0.345834, -0.345833] t⁴ y² + [-0.00266667, -0.00266666] t³ x³ + [0.00133333, 0.00133334] t³ x² y + [0.0393333, 0.0393334] t³ x y² + [-0.00666667, -0.00666666] t³ y³ + 𝒪(‖x‖⁹)"
      ]
     },
     "execution_count": 22,
     "metadata": {},
     "output_type": "execute_result"
    }
   ],
   "source": [
    "p = tm.pol"
   ]
  },
  {
   "cell_type": "code",
   "execution_count": 23,
   "id": "9507c714",
   "metadata": {},
   "outputs": [
    {
     "data": {
      "text/plain": [
       "9-element Vector{HomogeneousPolynomial{Interval{Float64}}}:\n",
       "                                                                                                                                                                                                                                                                                                          [5, 5]\n",
       "                                                                                                                                                                                                                                                                         [-2.5, -2.5] t + [0.199999, 0.200001] x\n",
       "                                                                                                                                                                                                                                          [-9.375, -9.375] t² + [-0.100001, -0.0999999] t x + [-1.00001, -1] t y\n",
       "                                                                                                                                                                                                       [2.39583, 2.39584] t³ + [-1.37501, -1.375] t² x + [-0.500001, -0.5] t² y + [-0.0400001, -0.0399999] t x y\n",
       "                                                                                                                                    [20.7421, 20.7422] t⁴ + [-0.570834, -0.570833] t³ x + [3.79166, 3.79167] t³ y + [-0.0400001, -0.0399999] t² x² + [-0.120001, -0.119999] t² x y + [0.0999999, 0.100001] t² y²\n",
       "                                                                    [7.93619, 7.9362] t⁵ + [4.30885, 4.30886] t⁴ x + [4.67708, 4.67709] t⁴ y + [-0.0933334, -0.0933333] t³ x² + [0.351666, 0.351667] t³ x y + [0.316666, 0.316667] t³ y² + [-0.00400001, -0.00399999] t² x² y + [0.00399999, 0.00400001] t² x y²\n",
       "  [-39.3611, -39.361] t⁶ + [5.42578, 5.42579] t⁵ x + [-8.41719, -8.41718] t⁵ y + [0.230833, 0.230834] t⁴ x² + [1.28499, 1.28501] t⁴ x y + [-0.345834, -0.345833] t⁴ y² + [-0.00266667, -0.00266666] t³ x³ + [0.00133333, 0.00133334] t³ x² y + [0.0393333, 0.0393334] t³ x y² + [-0.00666667, -0.00666666] t³ y³\n",
       "                                                                                                                                                                                                                                                                                                          [0, 0]\n",
       "                                                                                                                                                                                                                                                                                                          [0, 0]"
      ]
     },
     "execution_count": 23,
     "metadata": {},
     "output_type": "execute_result"
    }
   ],
   "source": [
    "p.coeffs"
   ]
  },
  {
   "cell_type": "code",
   "execution_count": 24,
   "id": "c1affd55",
   "metadata": {},
   "outputs": [
    {
     "data": {
      "text/plain": [
       "9-element Vector{Vector{Vector{Int64}}}:\n",
       " [[0, 0, 0]]\n",
       " [[1, 0, 0], [0, 1, 0], [0, 0, 1]]\n",
       " [[2, 0, 0], [1, 1, 0], [1, 0, 1], [0, 2, 0], [0, 1, 1], [0, 0, 2]]\n",
       " [[3, 0, 0], [2, 1, 0], [2, 0, 1], [1, 2, 0], [1, 1, 1], [1, 0, 2], [0, 3, 0], [0, 2, 1], [0, 1, 2], [0, 0, 3]]\n",
       " [[4, 0, 0], [3, 1, 0], [3, 0, 1], [2, 2, 0], [2, 1, 1], [2, 0, 2], [1, 3, 0], [1, 2, 1], [1, 1, 2], [1, 0, 3], [0, 4, 0], [0, 3, 1], [0, 2, 2], [0, 1, 3], [0, 0, 4]]\n",
       " [[5, 0, 0], [4, 1, 0], [4, 0, 1], [3, 2, 0], [3, 1, 1], [3, 0, 2], [2, 3, 0], [2, 2, 1], [2, 1, 2], [2, 0, 3]  …  [1, 3, 1], [1, 2, 2], [1, 1, 3], [1, 0, 4], [0, 5, 0], [0, 4, 1], [0, 3, 2], [0, 2, 3], [0, 1, 4], [0, 0, 5]]\n",
       " [[6, 0, 0], [5, 1, 0], [5, 0, 1], [4, 2, 0], [4, 1, 1], [4, 0, 2], [3, 3, 0], [3, 2, 1], [3, 1, 2], [3, 0, 3]  …  [1, 2, 3], [1, 1, 4], [1, 0, 5], [0, 6, 0], [0, 5, 1], [0, 4, 2], [0, 3, 3], [0, 2, 4], [0, 1, 5], [0, 0, 6]]\n",
       " [[7, 0, 0], [6, 1, 0], [6, 0, 1], [5, 2, 0], [5, 1, 1], [5, 0, 2], [4, 3, 0], [4, 2, 1], [4, 1, 2], [4, 0, 3]  …  [1, 1, 5], [1, 0, 6], [0, 7, 0], [0, 6, 1], [0, 5, 2], [0, 4, 3], [0, 3, 4], [0, 2, 5], [0, 1, 6], [0, 0, 7]]\n",
       " [[8, 0, 0], [7, 1, 0], [7, 0, 1], [6, 2, 0], [6, 1, 1], [6, 0, 2], [5, 3, 0], [5, 2, 1], [5, 1, 2], [5, 0, 3]  …  [1, 0, 7], [0, 8, 0], [0, 7, 1], [0, 6, 2], [0, 5, 3], [0, 4, 4], [0, 3, 5], [0, 2, 6], [0, 1, 7], [0, 0, 8]]"
      ]
     },
     "execution_count": 24,
     "metadata": {},
     "output_type": "execute_result"
    }
   ],
   "source": [
    "CT = TaylorSeries.coeff_table"
   ]
  },
  {
   "cell_type": "code",
   "execution_count": 25,
   "id": "22f5d135",
   "metadata": {},
   "outputs": [
    {
     "data": {
      "text/plain": [
       "1-element Vector{Int64}:\n",
       " 1"
      ]
     },
     "execution_count": 25,
     "metadata": {},
     "output_type": "execute_result"
    }
   ],
   "source": [
    "findall(x -> x[1] == 1, CT[2])"
   ]
  },
  {
   "cell_type": "code",
   "execution_count": 26,
   "id": "e9478a2b",
   "metadata": {},
   "outputs": [
    {
     "data": {
      "text/plain": [
       "2-element Vector{Int64}:\n",
       " 2\n",
       " 3"
      ]
     },
     "execution_count": 26,
     "metadata": {},
     "output_type": "execute_result"
    }
   ],
   "source": [
    "findall(x -> x[1] == 1, CT[3])"
   ]
  },
  {
   "cell_type": "code",
   "execution_count": 27,
   "id": "8402d69b",
   "metadata": {},
   "outputs": [
    {
     "data": {
      "text/plain": [
       "3-element Vector{Int64}:\n",
       " 4\n",
       " 5\n",
       " 6"
      ]
     },
     "execution_count": 27,
     "metadata": {},
     "output_type": "execute_result"
    }
   ],
   "source": [
    "findall(x -> x[1] == 1, CT[4])"
   ]
  },
  {
   "cell_type": "code",
   "execution_count": 28,
   "id": "ced8b520",
   "metadata": {},
   "outputs": [
    {
     "data": {
      "text/plain": [
       "1-element Vector{Interval{Float64}}:\n",
       " [5, 5]"
      ]
     },
     "execution_count": 28,
     "metadata": {},
     "output_type": "execute_result"
    }
   ],
   "source": [
    "p.coeffs[1].coeffs"
   ]
  },
  {
   "cell_type": "code",
   "execution_count": 29,
   "id": "7602a10f",
   "metadata": {},
   "outputs": [
    {
     "data": {
      "text/plain": [
       "3-element Vector{Any}:\n",
       " Interval{Float64}[[-2.5, -2.5]]\n",
       " Interval{Float64}[[-0.100001, -0.0999999], [-1.00001, -1]]\n",
       " Interval{Float64}[[-0.0400001, -0.0399999]]"
      ]
     },
     "execution_count": 29,
     "metadata": {},
     "output_type": "execute_result"
    }
   ],
   "source": [
    "#for (k, pk) in enumerate(p.coeffs) # polinomios de orden k\n",
    "#end\n",
    "\n",
    "# quiero obtener todos los terminos con t^1\n",
    "out = []\n",
    "\n",
    "for j in 1:length(CT)\n",
    "    # hago x[1] porque la coordenada del tiempo es la 1\n",
    "    idx = findall(x -> x[1] == 1, CT[j])\n",
    "    isempty(idx) && continue\n",
    "    \n",
    "    c = p.coeffs[j].coeffs[idx]\n",
    "    filter!(!iszero, c) # me quedo con los no son cero\n",
    "    length(c) == 0 && continue\n",
    "\n",
    "    push!(out, c)\n",
    "end\n",
    "out"
   ]
  },
  {
   "cell_type": "code",
   "execution_count": 30,
   "id": "708cfb28",
   "metadata": {},
   "outputs": [
    {
     "data": {
      "text/plain": [
       "2-element Vector{TaylorN{Float64}}:\n",
       "  1.0 x + 𝒪(‖x‖⁹)\n",
       "    0.0 + 𝒪(‖x‖⁹)"
      ]
     },
     "execution_count": 30,
     "metadata": {},
     "output_type": "execute_result"
    }
   ],
   "source": [
    "spatial_vars = [x, y]\n",
    "spatial_vars .* CT[2][2][2:end]"
   ]
  },
  {
   "cell_type": "code",
   "execution_count": 31,
   "id": "045181d8",
   "metadata": {},
   "outputs": [
    {
     "data": {
      "text/plain": [
       " [5, 5] + [-2.5, -2.5] t + [0.199999, 0.200001] x + [-9.375, -9.375] t² + [-0.100001, -0.0999999] t x + [-1.00001, -1] t y + [2.39583, 2.39584] t³ + [-1.37501, -1.375] t² x + [-0.500001, -0.5] t² y + [-0.0400001, -0.0399999] t x y + [20.7421, 20.7422] t⁴ + [-0.570834, -0.570833] t³ x + [3.79166, 3.79167] t³ y + [-0.0400001, -0.0399999] t² x² + [-0.120001, -0.119999] t² x y + [0.0999999, 0.100001] t² y² + [7.93619, 7.9362] t⁵ + [4.30885, 4.30886] t⁴ x + [4.67708, 4.67709] t⁴ y + [-0.0933334, -0.0933333] t³ x² + [0.351666, 0.351667] t³ x y + [0.316666, 0.316667] t³ y² + [-0.00400001, -0.00399999] t² x² y + [0.00399999, 0.00400001] t² x y² + [-39.3611, -39.361] t⁶ + [5.42578, 5.42579] t⁵ x + [-8.41719, -8.41718] t⁵ y + [0.230833, 0.230834] t⁴ x² + [1.28499, 1.28501] t⁴ x y + [-0.345834, -0.345833] t⁴ y² + [-0.00266667, -0.00266666] t³ x³ + [0.00133333, 0.00133334] t³ x² y + [0.0393333, 0.0393334] t³ x y² + [-0.00666667, -0.00666666] t³ y³ + 𝒪(‖x‖⁹)"
      ]
     },
     "execution_count": 31,
     "metadata": {},
     "output_type": "execute_result"
    }
   ],
   "source": [
    "p"
   ]
  },
  {
   "cell_type": "code",
   "execution_count": 32,
   "id": "6399a56e",
   "metadata": {},
   "outputs": [],
   "source": [
    "# ahora la hacemos generando los polinomios"
   ]
  },
  {
   "cell_type": "code",
   "execution_count": 33,
   "id": "36ba7b48",
   "metadata": {},
   "outputs": [
    {
     "data": {
      "text/plain": [
       "2-element Vector{TaylorN{Float64}}:\n",
       "  1.0 x + 𝒪(‖x‖⁹)\n",
       "  1.0 y + 𝒪(‖x‖⁹)"
      ]
     },
     "execution_count": 33,
     "metadata": {},
     "output_type": "execute_result"
    }
   ],
   "source": [
    "get_variables()[2:end]"
   ]
  },
  {
   "cell_type": "code",
   "execution_count": 34,
   "id": "283c204d",
   "metadata": {},
   "outputs": [
    {
     "data": {
      "text/plain": [
       "_extract_pol (generic function with 1 method)"
      ]
     },
     "execution_count": 34,
     "metadata": {},
     "output_type": "execute_result"
    }
   ],
   "source": [
    "#for (k, pk) in enumerate(p.coeffs) # polinomios de orden k\n",
    "#end\n",
    "\n",
    "function _extract_pol(p, ord)\n",
    "    # quiero obtener todos los terminos con t^k\n",
    "    out = zero(p)\n",
    "\n",
    "    spatial_vars = get_variables()[2:end] # asumo que la primera es el tiempo!\n",
    "\n",
    "    for j in 1:length(CT)\n",
    "        # hago x[1] porque la coordenada del tiempo es la 1\n",
    "        idx = findall(x -> x[1] == ord, CT[j])\n",
    "        isempty(idx) && continue\n",
    "\n",
    "        c = p.coeffs[j].coeffs[idx]\n",
    "\n",
    "        # FIXME sacar los ceros aca mismo...\n",
    "        #filter!(!iszero, c) # me quedo con los no son cero    \n",
    "        length(c) == 0 && continue\n",
    "\n",
    "        out += sum(c[k] * prod(spatial_vars .^ CT[j][idx[k]][2:end]) for k in 1:length(idx))\n",
    "    end\n",
    "    return out\n",
    "end"
   ]
  },
  {
   "cell_type": "code",
   "execution_count": 35,
   "id": "43ab6ab7",
   "metadata": {},
   "outputs": [
    {
     "data": {
      "text/plain": [
       " [-2.5, -2.5] + [-0.100001, -0.0999999] x + [-1.00001, -1] y + [-0.0400001, -0.0399999] x y + 𝒪(‖x‖⁹)"
      ]
     },
     "execution_count": 35,
     "metadata": {},
     "output_type": "execute_result"
    }
   ],
   "source": [
    "# defino una variable de tiempo para el taylor model\n",
    "orderT = 8\n",
    "t_tm = Taylor1(orderT)\n",
    "\n",
    "# _extract_pol(p, k) * t_tm^k for k in 0:orderT]\n",
    "p1 = _extract_pol(p, 1)"
   ]
  },
  {
   "cell_type": "code",
   "execution_count": 36,
   "id": "27b69e00",
   "metadata": {},
   "outputs": [
    {
     "data": {
      "text/plain": [
       " 1.0 t + 𝒪(t⁹)"
      ]
     },
     "execution_count": 36,
     "metadata": {},
     "output_type": "execute_result"
    }
   ],
   "source": [
    "t_tm"
   ]
  },
  {
   "cell_type": "code",
   "execution_count": 37,
   "id": "092ac7a8",
   "metadata": {},
   "outputs": [
    {
     "ename": "LoadError",
     "evalue": "ArgumentError: There is no reasonable promotion among `Taylor1{Float64}` and `TaylorN{Interval{Float64}}` types",
     "output_type": "error",
     "traceback": [
      "ArgumentError: There is no reasonable promotion among `Taylor1{Float64}` and `TaylorN{Interval{Float64}}` types",
      "",
      "Stacktrace:",
      " [1] promote_rule(#unused#::Type{Taylor1{Float64}}, #unused#::Type{TaylorN{Interval{Float64}}})",
      "   @ TaylorSeries ~/.julia/packages/TaylorSeries/Xx5I6/src/conversion.jl:209",
      " [2] promote_type",
      "   @ ./promotion.jl:245 [inlined]",
      " [3] _promote",
      "   @ ./promotion.jl:282 [inlined]",
      " [4] promote",
      "   @ ./promotion.jl:306 [inlined]",
      " [5] *(x::TaylorN{Interval{Float64}}, y::Taylor1{Float64})",
      "   @ Base ./promotion.jl:336",
      " [6] top-level scope",
      "   @ In[37]:1",
      " [7] eval",
      "   @ ./boot.jl:373 [inlined]",
      " [8] include_string(mapexpr::typeof(REPL.softscope), mod::Module, code::String, filename::String)",
      "   @ Base ./loading.jl:1196"
     ]
    }
   ],
   "source": [
    "p1 * t_tm"
   ]
  },
  {
   "cell_type": "code",
   "execution_count": 38,
   "id": "442909ba",
   "metadata": {},
   "outputs": [
    {
     "data": {
      "text/plain": [
       " [-9.375, -9.375] + [-1.37501, -1.375] x + [-0.500001, -0.5] y + [-0.0400001, -0.0399999] x² + [-0.120001, -0.119999] x y + [0.0999999, 0.100001] y² + [-0.00400001, -0.00399999] x² y + [0.00399999, 0.00400001] x y² + 𝒪(‖x‖⁹)"
      ]
     },
     "execution_count": 38,
     "metadata": {},
     "output_type": "execute_result"
    }
   ],
   "source": [
    "_extract_pol(p, 2)"
   ]
  },
  {
   "cell_type": "code",
   "execution_count": 39,
   "id": "70954483",
   "metadata": {},
   "outputs": [
    {
     "data": {
      "text/plain": [
       "  [5, 5] + [0.199999, 0.200001] x + 𝒪(‖x‖⁹) + ( [-2.5, -2.5] + [-0.100001, -0.0999999] x + [-1.00001, -1] y + [-0.0400001, -0.0399999] x y + 𝒪(‖x‖⁹)) t + ( [-9.375, -9.375] + [-1.37501, -1.375] x + [-0.500001, -0.5] y + [-0.0400001, -0.0399999] x² + [-0.120001, -0.119999] x y + [0.0999999, 0.100001] y² + [-0.00400001, -0.00399999] x² y + [0.00399999, 0.00400001] x y² + 𝒪(‖x‖⁹)) t² + ( [2.39583, 2.39584] + [-0.570834, -0.570833] x + [3.79166, 3.79167] y + [-0.0933334, -0.0933333] x² + [0.351666, 0.351667] x y + [0.316666, 0.316667] y² + [-0.00266667, -0.00266666] x³ + [0.00133333, 0.00133334] x² y + [0.0393333, 0.0393334] x y² + [-0.00666667, -0.00666666] y³ + 𝒪(‖x‖⁹)) t³ + ( [20.7421, 20.7422] + [4.30885, 4.30886] x + [4.67708, 4.67709] y + [0.230833, 0.230834] x² + [1.28499, 1.28501] x y + [-0.345834, -0.345833] y² + 𝒪(‖x‖⁹)) t⁴ + ( [7.93619, 7.9362] + [5.42578, 5.42579] x + [-8.41719, -8.41718] y + 𝒪(‖x‖⁹)) t⁵ + ( [-39.3611, -39.361] + 𝒪(‖x‖⁹)) t⁶ + 𝒪(t⁹)"
      ]
     },
     "execution_count": 39,
     "metadata": {},
     "output_type": "execute_result"
    }
   ],
   "source": [
    "pol_tm = sum(Taylor1(_extract_pol(p, k), orderT) * t_tm^k for k in 0:orderT)"
   ]
  },
  {
   "cell_type": "code",
   "execution_count": 40,
   "id": "ba1dbc78",
   "metadata": {},
   "outputs": [
    {
     "data": {
      "text/plain": [
       " [5, 5] + [0.199999, 0.200001] x + 𝒪(‖x‖⁹)"
      ]
     },
     "execution_count": 40,
     "metadata": {},
     "output_type": "execute_result"
    }
   ],
   "source": [
    "pol_tm.coeffs[1]"
   ]
  },
  {
   "cell_type": "code",
   "execution_count": 41,
   "id": "a14244dc",
   "metadata": {},
   "outputs": [
    {
     "data": {
      "text/plain": [
       " [5, 5] + [-2.5, -2.5] t + [0.199999, 0.200001] x + [-9.375, -9.375] t² + [-0.100001, -0.0999999] t x + [-1.00001, -1] t y + [2.39583, 2.39584] t³ + [-1.37501, -1.375] t² x + [-0.500001, -0.5] t² y + [-0.0400001, -0.0399999] t x y + [20.7421, 20.7422] t⁴ + [-0.570834, -0.570833] t³ x + [3.79166, 3.79167] t³ y + [-0.0400001, -0.0399999] t² x² + [-0.120001, -0.119999] t² x y + [0.0999999, 0.100001] t² y² + [7.93619, 7.9362] t⁵ + [4.30885, 4.30886] t⁴ x + [4.67708, 4.67709] t⁴ y + [-0.0933334, -0.0933333] t³ x² + [0.351666, 0.351667] t³ x y + [0.316666, 0.316667] t³ y² + [-0.00400001, -0.00399999] t² x² y + [0.00399999, 0.00400001] t² x y² + [-39.3611, -39.361] t⁶ + [5.42578, 5.42579] t⁵ x + [-8.41719, -8.41718] t⁵ y + [0.230833, 0.230834] t⁴ x² + [1.28499, 1.28501] t⁴ x y + [-0.345834, -0.345833] t⁴ y² + [-0.00266667, -0.00266666] t³ x³ + [0.00133333, 0.00133334] t³ x² y + [0.0393333, 0.0393334] t³ x y² + [-0.00666667, -0.00666666] t³ y³ + 𝒪(‖x‖⁹)"
      ]
     },
     "execution_count": 41,
     "metadata": {},
     "output_type": "execute_result"
    }
   ],
   "source": [
    "p"
   ]
  },
  {
   "cell_type": "code",
   "execution_count": 42,
   "id": "2e584ce1",
   "metadata": {},
   "outputs": [
    {
     "data": {
      "text/plain": [
       "Taylor1{TaylorN{Interval{Float64}}}"
      ]
     },
     "execution_count": 42,
     "metadata": {},
     "output_type": "execute_result"
    }
   ],
   "source": [
    "typeof(pol_tm)"
   ]
  },
  {
   "cell_type": "code",
   "execution_count": 43,
   "id": "e2181ab3",
   "metadata": {},
   "outputs": [
    {
     "data": {
      "text/plain": [
       "[0, 0]"
      ]
     },
     "execution_count": 43,
     "metadata": {},
     "output_type": "execute_result"
    }
   ],
   "source": [
    "x0_t = Interval(0)"
   ]
  },
  {
   "cell_type": "code",
   "execution_count": 44,
   "id": "c33d16c4",
   "metadata": {},
   "outputs": [
    {
     "data": {
      "text/plain": [
       "  [5, 5] + [0.199999, 0.200001] x + ( [-2.5, -2.5] + [-0.100001, -0.0999999] x + [-1.00001, -1] y + [-0.0400001, -0.0399999] x y) t + ( [-9.375, -9.375] + [-1.37501, -1.375] x + [-0.500001, -0.5] y + [-0.0400001, -0.0399999] x² + [-0.120001, -0.119999] x y + [0.0999999, 0.100001] y² + [-0.00400001, -0.00399999] x² y + [0.00399999, 0.00400001] x y²) t² + ( [2.39583, 2.39584] + [-0.570834, -0.570833] x + [3.79166, 3.79167] y + [-0.0933334, -0.0933333] x² + [0.351666, 0.351667] x y + [0.316666, 0.316667] y² + [-0.00266667, -0.00266666] x³ + [0.00133333, 0.00133334] x² y + [0.0393333, 0.0393334] x y² + [-0.00666667, -0.00666666] y³) t³ + ( [20.7421, 20.7422] + [4.30885, 4.30886] x + [4.67708, 4.67709] y + [0.230833, 0.230834] x² + [1.28499, 1.28501] x y + [-0.345834, -0.345833] y²) t⁴ + ( [7.93619, 7.9362] + [5.42578, 5.42579] x + [-8.41719, -8.41718] y) t⁵ + ( [-39.3611, -39.361]) t⁶ + [-1.43729e-08, 1.70314e-08]"
      ]
     },
     "execution_count": 44,
     "metadata": {},
     "output_type": "execute_result"
    }
   ],
   "source": [
    "R = TaylorModel1(pol_tm, rem, x0_t, dom_t)"
   ]
  },
  {
   "cell_type": "code",
   "execution_count": 45,
   "id": "d362a160",
   "metadata": {},
   "outputs": [
    {
     "name": "stderr",
     "output_type": "stream",
     "text": [
      "┌ Info: Precompiling ReachabilityAnalysis [1e97bd63-91d1-579d-8e8d-501d2b57c93f]\n",
      "└ @ Base loading.jl:1423\n"
     ]
    }
   ],
   "source": [
    "using ReachabilityAnalysis"
   ]
  },
  {
   "cell_type": "code",
   "execution_count": 51,
   "id": "b1468888",
   "metadata": {},
   "outputs": [
    {
     "data": {
      "text/plain": [
       "TaylorModelReachSet{Float64, Interval{Float64}}(TaylorModel1{TaylorN{Interval{Float64}}, Float64}[  [5, 5] + [0.199999, 0.200001] x + ( [-2.5, -2.5] + [-0.100001, -0.0999999] x + [-1.00001, -1] y + [-0.0400001, -0.0399999] x y) t + ( [-9.375, -9.375] + [-1.37501, -1.375] x + [-0.500001, -0.5] y + [-0.0400001, -0.0399999] x² + [-0.120001, -0.119999] x y + [0.0999999, 0.100001] y² + [-0.00400001, -0.00399999] x² y + [0.00399999, 0.00400001] x y²) t² + ( [2.39583, 2.39584] + [-0.570834, -0.570833] x + [3.79166, 3.79167] y + [-0.0933334, -0.0933333] x² + [0.351666, 0.351667] x y + [0.316666, 0.316667] y² + [-0.00266667, -0.00266666] x³ + [0.00133333, 0.00133334] x² y + [0.0393333, 0.0393334] x y² + [-0.00666667, -0.00666666] y³) t³ + ( [20.7421, 20.7422] + [4.30885, 4.30886] x + [4.67708, 4.67709] y + [0.230833, 0.230834] x² + [1.28499, 1.28501] x y + [-0.345834, -0.345833] y²) t⁴ + ( [7.93619, 7.9362] + [5.42578, 5.42579] x + [-8.41719, -8.41718] y) t⁵ + ( [-39.3611, -39.361]) t⁶ + [-1.43729e-08, 1.70314e-08]], [0, 0.0100001])"
      ]
     },
     "execution_count": 51,
     "metadata": {},
     "output_type": "execute_result"
    }
   ],
   "source": [
    "X = TaylorModelReachSet([R], dom_t) # con el cambio, funciona"
   ]
  },
  {
   "cell_type": "markdown",
   "id": "27b36b61",
   "metadata": {},
   "source": [
    "Eso no anda porque en TaylorModelReachSet usamos polinomios con coeffs floats.."
   ]
  },
  {
   "cell_type": "markdown",
   "id": "984830c7",
   "metadata": {},
   "source": [
    "uso floating-point rigorous polynomial approximation para pasar los intervalos al remainder..."
   ]
  },
  {
   "cell_type": "code",
   "execution_count": 47,
   "id": "84c1f47c",
   "metadata": {},
   "outputs": [
    {
     "data": {
      "text/html": [
       "# 6 methods for generic function <b>fp_rpa</b>:<ul><li> fp_rpa(tm::<b>TaylorModel1{T, T}</b>)<i> where T</i> in TaylorModels at <a href=\"file:///home/mforets/.julia/packages/TaylorModels/HzpNT/src/rpa_functions.jl\" target=\"_blank\">/home/mforets/.julia/packages/TaylorModels/HzpNT/src/rpa_functions.jl:233</a></li> <li> fp_rpa(tm::<b>TaylorModel1{Interval{T}, T}</b>)<i> where T</i> in TaylorModels at <a href=\"file:///home/mforets/.julia/packages/TaylorModels/HzpNT/src/rpa_functions.jl\" target=\"_blank\">/home/mforets/.julia/packages/TaylorModels/HzpNT/src/rpa_functions.jl:235</a></li> <li> fp_rpa(tm::<b>RTaylorModel1{T, T}</b>)<i> where T</i> in TaylorModels at <a href=\"file:///home/mforets/.julia/packages/TaylorModels/HzpNT/src/rpa_functions.jl\" target=\"_blank\">/home/mforets/.julia/packages/TaylorModels/HzpNT/src/rpa_functions.jl:233</a></li> <li> fp_rpa(tm::<b>RTaylorModel1{Interval{T}, T}</b>)<i> where T</i> in TaylorModels at <a href=\"file:///home/mforets/.julia/packages/TaylorModels/HzpNT/src/rpa_functions.jl\" target=\"_blank\">/home/mforets/.julia/packages/TaylorModels/HzpNT/src/rpa_functions.jl:235</a></li> <li> fp_rpa(tm::<b>TaylorModelN{N, T, T}</b>)<i> where {N, T}</i> in TaylorModels at <a href=\"file:///home/mforets/.julia/packages/TaylorModels/HzpNT/src/rpa_functions.jl\" target=\"_blank\">/home/mforets/.julia/packages/TaylorModels/HzpNT/src/rpa_functions.jl:256</a></li> <li> fp_rpa(tm::<b>TaylorModelN{N, Interval{T}, T}</b>)<i> where {N, T}</i> in TaylorModels at <a href=\"file:///home/mforets/.julia/packages/TaylorModels/HzpNT/src/rpa_functions.jl\" target=\"_blank\">/home/mforets/.julia/packages/TaylorModels/HzpNT/src/rpa_functions.jl:258</a></li> </ul>"
      ],
      "text/plain": [
       "# 6 methods for generic function \"fp_rpa\":\n",
       "[1] fp_rpa(tm::TaylorModel1{T, T}) where T in TaylorModels at /home/mforets/.julia/packages/TaylorModels/HzpNT/src/rpa_functions.jl:233\n",
       "[2] fp_rpa(tm::TaylorModel1{Interval{T}, T}) where T in TaylorModels at /home/mforets/.julia/packages/TaylorModels/HzpNT/src/rpa_functions.jl:235\n",
       "[3] fp_rpa(tm::RTaylorModel1{T, T}) where T in TaylorModels at /home/mforets/.julia/packages/TaylorModels/HzpNT/src/rpa_functions.jl:233\n",
       "[4] fp_rpa(tm::RTaylorModel1{Interval{T}, T}) where T in TaylorModels at /home/mforets/.julia/packages/TaylorModels/HzpNT/src/rpa_functions.jl:235\n",
       "[5] fp_rpa(tm::TaylorModelN{N, T, T}) where {N, T} in TaylorModels at /home/mforets/.julia/packages/TaylorModels/HzpNT/src/rpa_functions.jl:256\n",
       "[6] fp_rpa(tm::TaylorModelN{N, Interval{T}, T}) where {N, T} in TaylorModels at /home/mforets/.julia/packages/TaylorModels/HzpNT/src/rpa_functions.jl:258"
      ]
     },
     "execution_count": 47,
     "metadata": {},
     "output_type": "execute_result"
    }
   ],
   "source": [
    "methods(fp_rpa)"
   ]
  },
  {
   "cell_type": "code",
   "execution_count": 48,
   "id": "6632f9a3",
   "metadata": {},
   "outputs": [
    {
     "data": {
      "text/plain": [
       "TaylorModel1{TaylorN{Interval{Float64}}, Float64}"
      ]
     },
     "execution_count": 48,
     "metadata": {},
     "output_type": "execute_result"
    }
   ],
   "source": [
    "typeof(R)"
   ]
  },
  {
   "cell_type": "code",
   "execution_count": 49,
   "id": "44c4ba0e",
   "metadata": {},
   "outputs": [
    {
     "ename": "LoadError",
     "evalue": "MethodError: no method matching fp_rpa(::Taylor1{TaylorN{Interval{Float64}}})\n\u001b[0mClosest candidates are:\n\u001b[0m  fp_rpa(\u001b[91m::TaylorModel1{T, T}\u001b[39m) where T at /home/mforets/.julia/packages/TaylorModels/HzpNT/src/rpa_functions.jl:233\n\u001b[0m  fp_rpa(\u001b[91m::TaylorModel1{Interval{T}, T}\u001b[39m) where T at /home/mforets/.julia/packages/TaylorModels/HzpNT/src/rpa_functions.jl:235\n\u001b[0m  fp_rpa(\u001b[91m::RTaylorModel1{T, T}\u001b[39m) where T at /home/mforets/.julia/packages/TaylorModels/HzpNT/src/rpa_functions.jl:233\n\u001b[0m  ...",
     "output_type": "error",
     "traceback": [
      "MethodError: no method matching fp_rpa(::Taylor1{TaylorN{Interval{Float64}}})\n\u001b[0mClosest candidates are:\n\u001b[0m  fp_rpa(\u001b[91m::TaylorModel1{T, T}\u001b[39m) where T at /home/mforets/.julia/packages/TaylorModels/HzpNT/src/rpa_functions.jl:233\n\u001b[0m  fp_rpa(\u001b[91m::TaylorModel1{Interval{T}, T}\u001b[39m) where T at /home/mforets/.julia/packages/TaylorModels/HzpNT/src/rpa_functions.jl:235\n\u001b[0m  fp_rpa(\u001b[91m::RTaylorModel1{T, T}\u001b[39m) where T at /home/mforets/.julia/packages/TaylorModels/HzpNT/src/rpa_functions.jl:233\n\u001b[0m  ...",
      "",
      "Stacktrace:",
      " [1] top-level scope",
      "   @ In[49]:1",
      " [2] eval",
      "   @ ./boot.jl:373 [inlined]",
      " [3] include_string(mapexpr::typeof(REPL.softscope), mod::Module, code::String, filename::String)",
      "   @ Base ./loading.jl:1196"
     ]
    }
   ],
   "source": [
    "fp_rpa(pol_tm)"
   ]
  },
  {
   "cell_type": "markdown",
   "id": "4fd233f1",
   "metadata": {},
   "source": [
    "IDea: generalizar la def the TaylorModelReachSet "
   ]
  },
  {
   "cell_type": "markdown",
   "id": "6bdb5c65",
   "metadata": {},
   "source": [
    "```\n",
    "using ReachabilityAnalysis: AbstractTaylorModelReachSet, TimeInterval\n",
    "\n",
    "struct TaylorModelReachSet2{N, S} <: AbstractTaylorModelReachSet{N}\n",
    "    X::Vector{TaylorModel1{TaylorN{S}, N}}\n",
    "    Δt::TimeInterval\n",
    "end\n",
    "\n",
    "X = TaylorModelReachSet2([R], dom_t)\n",
    "\n",
    "evaluate(R, dom_t) # works\n",
    "```"
   ]
  },
  {
   "cell_type": "code",
   "execution_count": 50,
   "id": "2b38161c",
   "metadata": {},
   "outputs": [
    {
     "name": "stderr",
     "output_type": "stream",
     "text": [
      "WARNING: using Plots.text in module Main conflicts with an existing identifier.\n"
     ]
    }
   ],
   "source": [
    "using Plots"
   ]
  },
  {
   "cell_type": "code",
   "execution_count": 52,
   "id": "b95496ca",
   "metadata": {},
   "outputs": [
    {
     "ename": "LoadError",
     "evalue": "BoundsError: attempt to access 1-element Vector{TaylorN{Interval{Float64}}} at index [2]",
     "output_type": "error",
     "traceback": [
      "BoundsError: attempt to access 1-element Vector{TaylorN{Interval{Float64}}} at index [2]",
      "",
      "Stacktrace:",
      "  [1] getindex",
      "    @ ./array.jl:839 [inlined]",
      "  [2] #112",
      "    @ ./none:0 [inlined]",
      "  [3] iterate",
      "    @ ./generator.jl:47 [inlined]",
      "  [4] collect_to!",
      "    @ ./array.jl:760 [inlined]",
      "  [5] collect_to_with_first!",
      "    @ ./array.jl:738 [inlined]",
      "  [6] collect(itr::Base.Generator{UnitRange{Int64}, ReachabilityAnalysis.var\"#112#113\"{IntervalBox{3, Float64}, Vector{TaylorN{Interval{Float64}}}}})",
      "    @ Base ./array.jl:719",
      "  [7] _overapproximate(R::TaylorModelReachSet{Float64, Interval{Float64}}, #unused#::Type{Hyperrectangle})",
      "    @ ReachabilityAnalysis ~/.julia/dev/ReachabilityAnalysis/src/ReachSets/TaylorModelReachSet.jl:186",
      "  [8] overapproximate(R::TaylorModelReachSet{Float64, Interval{Float64}}, ::Type{Hyperrectangle}; partition::Nothing, nsdiv::Int64, ntdiv::Int64)",
      "    @ ReachabilityAnalysis ~/.julia/dev/ReachabilityAnalysis/src/ReachSets/TaylorModelReachSet.jl:205",
      "  [9] overapproximate(R::TaylorModelReachSet{Float64, Interval{Float64}}, ::Type{Hyperrectangle})",
      "    @ ReachabilityAnalysis ~/.julia/dev/ReachabilityAnalysis/src/ReachSets/TaylorModelReachSet.jl:204",
      " [10] top-level scope",
      "    @ In[52]:1",
      " [11] eval",
      "    @ ./boot.jl:373 [inlined]",
      " [12] include_string(mapexpr::typeof(REPL.softscope), mod::Module, code::String, filename::String)",
      "    @ Base ./loading.jl:1196"
     ]
    }
   ],
   "source": [
    "overapproximate(X, Hyperrectangle)"
   ]
  },
  {
   "cell_type": "code",
   "execution_count": null,
   "id": "35b6988c",
   "metadata": {},
   "outputs": [],
   "source": [
    "overapproximate(X, Hyperrectangle)"
   ]
  },
  {
   "cell_type": "code",
   "execution_count": 56,
   "id": "8e6ba6c9",
   "metadata": {},
   "outputs": [
    {
     "data": {
      "text/plain": [
       " [5, 5] + [-2.5, -2.5] t + [0.199999, 0.200001] x + [-9.375, -9.375] t² + [-0.100001, -0.0999999] t x + [-1.00001, -1] t y + [2.39583, 2.39584] t³ + [-1.37501, -1.375] t² x + [-0.500001, -0.5] t² y + [-0.0400001, -0.0399999] t x y + [20.7421, 20.7422] t⁴ + [-0.570834, -0.570833] t³ x + [3.79166, 3.79167] t³ y + [-0.0400001, -0.0399999] t² x² + [-0.120001, -0.119999] t² x y + [0.0999999, 0.100001] t² y² + [7.93619, 7.9362] t⁵ + [4.30885, 4.30886] t⁴ x + [4.67708, 4.67709] t⁴ y + [-0.0933334, -0.0933333] t³ x² + [0.351666, 0.351667] t³ x y + [0.316666, 0.316667] t³ y² + [-0.00400001, -0.00399999] t² x² y + [0.00399999, 0.00400001] t² x y² + [-39.3611, -39.361] t⁶ + [5.42578, 5.42579] t⁵ x + [-8.41719, -8.41718] t⁵ y + [0.230833, 0.230834] t⁴ x² + [1.28499, 1.28501] t⁴ x y + [-0.345834, -0.345833] t⁴ y² + [-0.00266667, -0.00266666] t³ x³ + [0.00133333, 0.00133334] t³ x² y + [0.0393333, 0.0393334] t³ x y² + [-0.00666667, -0.00666666] t³ y³ + 𝒪(‖x‖⁹)"
      ]
     },
     "execution_count": 56,
     "metadata": {},
     "output_type": "execute_result"
    }
   ],
   "source": [
    "# REPITO con y\n",
    "\n",
    "data_y = data[1] # \"y\" variable\n",
    "\n",
    "# quedarme con el right-hand side\n",
    "data_y = split(data_y, \"=\")[2] |> strip\n",
    "\n",
    "# renombrar variables\n",
    "data_y = replace(data_y, \"local_var_1\" => \"x\")\n",
    "data_y = replace(data_y, \"local_var_2\" => \"y\")\n",
    "data_y = replace(data_y, \"local_t\" => \"t\")\n",
    "\n",
    "# renombrar intervalos\n",
    "data_y = replace(data_y, \",\" => \"..\")\n",
    "data_y = replace(data_y, \"[\" => \"(\")\n",
    "data_y = replace(data_y, \"]\" => \")\")\n",
    "\n",
    "Ry = Meta.parse(data_y) |> eval\n",
    "\n",
    "aux = split(data_y, \"+\")\n",
    "rem = aux[end]\n",
    "rem = Meta.parse(rem) |> eval # resto del modelo de Taylor\n",
    "\n",
    "# le saco la parte del remainder (el +1 es para que tambien elimine el simbolo +)\n",
    "q = length(data_y) - (length(aux[end]) + 1)\n",
    "pol = data_x[1:q]\n",
    "pol = Meta.parse(pol) |> eval\n",
    "\n",
    "\n"
   ]
  },
  {
   "cell_type": "markdown",
   "id": "56c76028",
   "metadata": {},
   "source": [
    "## Workflow"
   ]
  },
  {
   "cell_type": "markdown",
   "id": "d4137e67",
   "metadata": {},
   "source": [
    "- cargo datos de salida de flow*\n",
    "- construyo el Taylor model para cada variable\n",
    "- instancio TaylorModelReachSet"
   ]
  },
  {
   "cell_type": "code",
   "execution_count": null,
   "id": "5a3b560a",
   "metadata": {},
   "outputs": [],
   "source": []
  },
  {
   "cell_type": "code",
   "execution_count": null,
   "id": "b0e920fa",
   "metadata": {},
   "outputs": [],
   "source": []
  },
  {
   "cell_type": "markdown",
   "id": "79cffcbd",
   "metadata": {},
   "source": [
    "### cosas viejas"
   ]
  },
  {
   "cell_type": "code",
   "execution_count": null,
   "id": "28dc7178",
   "metadata": {},
   "outputs": [],
   "source": []
  },
  {
   "cell_type": "code",
   "execution_count": null,
   "id": "d7f63956",
   "metadata": {},
   "outputs": [],
   "source": []
  },
  {
   "cell_type": "code",
   "execution_count": null,
   "id": "b12fc9b2",
   "metadata": {},
   "outputs": [],
   "source": [
    "using Symbolics, IntervalArithmetic"
   ]
  },
  {
   "cell_type": "code",
   "execution_count": null,
   "id": "2fdfcaa1",
   "metadata": {},
   "outputs": [],
   "source": [
    "@variables local_t local_var_1 local_var_2"
   ]
  },
  {
   "cell_type": "code",
   "execution_count": null,
   "id": "a37ee611",
   "metadata": {},
   "outputs": [],
   "source": [
    "f = eval(Meta.parse(data_x));"
   ]
  },
  {
   "cell_type": "code",
   "execution_count": null,
   "id": "5fba89ad",
   "metadata": {},
   "outputs": [],
   "source": []
  },
  {
   "cell_type": "code",
   "execution_count": null,
   "id": "9e76aa9a",
   "metadata": {},
   "outputs": [],
   "source": [
    "expr = :([5.00000000000000e0 , 5.00000000000000e0] + [2.00000000000000e-1 , 2.00000000000001e-1] * local_var_1 + [-2.50000000000000e0 , -2.50000000000000e0] * local_t + [-1.00000000000001e0 , -1.00000000000000e0] * local_t * local_var_2 + [-1.00000000000001e-1 , -1.00000000000000e-1] * local_t * local_var_1 + [-9.37500000000000e0 , -9.37500000000000e0] * local_t^2 + [-4.00000000000002e-2 , -4.00000000000000e-2] * local_t * local_var_1 * local_var_2 + [-5.00000000000001e-1 , -5.00000000000000e-1] * local_t^2 * local_var_2 + [-1.37500000000001e0 , -1.37500000000000e0] * local_t^2 * local_var_1 + [2.39583333333333e0 , 2.39583333333334e0] * local_t^3 + [1.00000000000000e-1 , 1.00000000000001e-1] * local_t^2 * local_var_2^2 + [-1.20000000000001e-1 , -1.20000000000000e-1] * local_t^2 * local_var_1 * local_var_2 + [-4.00000000000002e-2 , -4.00000000000000e-2] * local_t^2 * local_var_1^2 + [3.79166666666666e0 , 3.79166666666668e0] * local_t^3 * local_var_2 + [-5.70833333333335e-1 , -5.70833333333333e-1] * local_t^3 * local_var_1 + [2.07421874999999e1 , 2.07421875000001e1] * local_t^4 + [4.00000000000000e-3 , 4.00000000000002e-3] * local_t^2 * local_var_1 * local_var_2^2 + [-4.00000000000002e-3 , -4.00000000000000e-3] * local_t^2 * local_var_1^2 * local_var_2 + [3.16666666666666e-1 , 3.16666666666668e-1] * local_t^3 * local_var_2^2 + [3.51666666666667e-1 , 3.51666666666668e-1] * local_t^3 * local_var_1 * local_var_2 + [-9.33333333333337e-2 , -9.33333333333334e-2] * local_t^3 * local_var_1^2 + [4.67708333333331e0 , 4.67708333333336e0] * local_t^4 * local_var_2 + [4.30885416666666e0 , 4.30885416666669e0] * local_t^4 * local_var_1 + [7.93619791666664e0 , 7.93619791666665e0] * local_t^5 + [-3.71654142564716e-6 , 3.61155996611113e-6])"
   ]
  },
  {
   "cell_type": "code",
   "execution_count": null,
   "id": "4021c167",
   "metadata": {},
   "outputs": [],
   "source": [
    "flow[4]"
   ]
  },
  {
   "cell_type": "code",
   "execution_count": null,
   "id": "cabc56a2",
   "metadata": {},
   "outputs": [],
   "source": [
    "flow[5]"
   ]
  },
  {
   "cell_type": "code",
   "execution_count": null,
   "id": "53d2dbdd",
   "metadata": {},
   "outputs": [],
   "source": [
    "using TaylorModels"
   ]
  },
  {
   "cell_type": "code",
   "execution_count": null,
   "id": "27db7e8b",
   "metadata": {},
   "outputs": [],
   "source": []
  },
  {
   "cell_type": "markdown",
   "id": "26adf658",
   "metadata": {},
   "source": [
    "In Flow*, the reach-sets are represented using Taylor models in N+1 variables, where the last variable represents \"time\"."
   ]
  },
  {
   "cell_type": "markdown",
   "id": "cc9dacea",
   "metadata": {},
   "source": [
    "The text file `Lotka_Volterra.flow` contains the output generated by the algorithm."
   ]
  },
  {
   "cell_type": "markdown",
   "id": "d16e36d2",
   "metadata": {},
   "source": [
    "Let's analyze in more detail the contents of this file."
   ]
  },
  {
   "cell_type": "markdown",
   "id": "b592bc5c",
   "metadata": {},
   "source": [
    "The first part defines the symbols used for the state variables, in this case `x` and `y`. Also defined is the order of the Taylor models (in this case, `6`), the cutoff threshold (in this case, `1e-20`), and finally the models' name (in this case, `Lotka_Volterra`)."
   ]
  },
  {
   "cell_type": "markdown",
   "id": "34fbef99",
   "metadata": {},
   "source": [
    "Header of `Lotka_Volterra.flow`:\n",
    "\n",
    "```\n",
    "state var x,y\n",
    "\n",
    "gnuplot octagon x , y\n",
    "\n",
    "order 6\n",
    "\n",
    "cutoff 1.000000e-20\n",
    "\n",
    "output Lotka_Volterra\n",
    "```"
   ]
  }
 ],
 "metadata": {
  "kernelspec": {
   "display_name": "Julia 1.7.0-rc1",
   "language": "julia",
   "name": "julia-1.7"
  },
  "language_info": {
   "file_extension": ".jl",
   "mimetype": "application/julia",
   "name": "julia",
   "version": "1.7.0"
  }
 },
 "nbformat": 4,
 "nbformat_minor": 5
}
