{
 "cells": [
  {
   "cell_type": "markdown",
   "id": "42029096",
   "metadata": {},
   "source": [
    "# Exploring Flow*"
   ]
  },
  {
   "cell_type": "markdown",
   "id": "b96187e0",
   "metadata": {},
   "source": [
    "In this blog post we [...]"
   ]
  },
  {
   "cell_type": "markdown",
   "id": "0b717695",
   "metadata": {},
   "source": [
    "## Installing the tool"
   ]
  },
  {
   "cell_type": "markdown",
   "id": "4bf97cac",
   "metadata": {},
   "source": [
    "We first download the tool version 2.1.0 (May 2017) from the webpage https://flowstar.org/dowloads/"
   ]
  },
  {
   "cell_type": "markdown",
   "id": "a7ba3d41",
   "metadata": {},
   "source": [
    "The installation process is simple provided that the required dependencies are met."
   ]
  },
  {
   "cell_type": "markdown",
   "id": "8b823840",
   "metadata": {},
   "source": [
    "We installed Flow* in two different machines:\n",
    "\n",
    "- Ubuntu LTS v20.04 running on a Windows desktop machine (Asus ZenBook UX331UA-AS51).\n",
    "- Dell XPS15 running Linux Fedora 34."
   ]
  },
  {
   "cell_type": "markdown",
   "id": "04dfdc0c",
   "metadata": {},
   "source": [
    "In Fedora, we used `dnf install` to install the required dependencies `gmp-devel`, `gsl-devel`, `glpk-devel`, `flex` and `bison`. The library `mpfr` was downloaded and compiled using the instructions in the [downloads page](https://www.mpfr.org/mpfr-current/)."
   ]
  },
  {
   "cell_type": "markdown",
   "id": "1c6edbdb",
   "metadata": {},
   "source": [
    "The required dependencies are detailed in Flow*'s [user manual](https://home.cs.colorado.edu/~xich8622/manual/manual-2.0.0.pdf)."
   ]
  },
  {
   "cell_type": "markdown",
   "id": "7a0b4dfb",
   "metadata": {},
   "source": [
    "## Solving the Lotka-Volterra model"
   ]
  },
  {
   "cell_type": "markdown",
   "id": "78136956",
   "metadata": {},
   "source": [
    "Apart from the models that can be downloaded in the [Flow* webpage](https://flowstar.org/), we are aware of an online model repository from the [*Theory of Hybrid Systems Group* from RWTH Aachen University](https://ths.rwth-aachen.de/research/projects/hypro/benchmarks-of-continuous-and-hybrid-systems/)."
   ]
  },
  {
   "cell_type": "markdown",
   "id": "81fca841",
   "metadata": {},
   "source": [
    "We use the Lotka-Volterra model because it is a simple model. For comparison, the same model can be found in the documentation ReachabilityAnalysis.jl [here](https://juliareach.github.io/ReachabilityAnalysis.jl/dev/models/LotkaVolterra/). "
   ]
  },
  {
   "cell_type": "markdown",
   "id": "459d7249",
   "metadata": {},
   "source": [
    "The model file is copied next. It can be read as a plain text file."
   ]
  },
  {
   "cell_type": "markdown",
   "id": "06352439",
   "metadata": {},
   "source": [
    "```\n",
    "continuous reachability\n",
    "{\n",
    " state var x,y\n",
    "\t\n",
    " setting\n",
    " {\n",
    "  fixed steps 0.02\n",
    "  time 5\n",
    "  remainder estimation 1e-5\n",
    "  QR precondition\n",
    "  gnuplot octagon x,y\n",
    "  adaptive orders { min 4 , max 6 }\n",
    "  cutoff 1e-20\n",
    "  precision 53\n",
    "  output Lotka_Volterra\n",
    "  print on\n",
    " }\n",
    "\t\n",
    " poly ode 2\n",
    " {\n",
    "  x' = 1.5*x - x*y\n",
    "  y' = -3*y + x*y\n",
    " }\n",
    " \n",
    " init\n",
    " {\n",
    "  x in [4.8 , 5.2]\n",
    "  y in [1.8 , 2.2]\n",
    " }\n",
    "}\n",
    "```"
   ]
  },
  {
   "cell_type": "markdown",
   "id": "4e82604d",
   "metadata": {},
   "source": [
    "The model file describes a purely continuous model (`continuous reachability`), then the names for the state variables are defined (`state var x,y`)."
   ]
  },
  {
   "cell_type": "markdown",
   "id": "a79c8af5",
   "metadata": {},
   "source": [
    "The next part defines the settings for reachability analysis (`setting`):\n",
    "\n",
    "- `fixed steps 0.02`: use fixed time steps of size `0.02`\n",
    "- `time 5`: time horizon for the simulation\n",
    "- `remainder estimation 1e-5`: estimate of the remainder before each iteration\n",
    "- `QR precondition`: preconditioning technique for the Taylor expansion\n",
    "- `gnuplot octagon x,y`: overapproximation method for plotting\n",
    "- `adaptive orders { min 4 , max 6 }`: range of Taylor model's order\n",
    "- `cutoff 1e-20`: threshold for polynomial coefficients (\n",
    "- `precision 53`: precision (number of bits) for the interval bounds\n",
    "- `output Lotka_Volterra`: number of output file\n",
    "- `print on`: verbose on"
   ]
  },
  {
   "cell_type": "markdown",
   "id": "c1581cc4",
   "metadata": {},
   "source": [
    "The following block of code defines the differential equations; in this case,"
   ]
  },
  {
   "cell_type": "markdown",
   "id": "116d815e",
   "metadata": {},
   "source": [
    "```\n",
    " poly ode 2\n",
    " {\n",
    "  x' = 1.5*x - x*y\n",
    "  y' = -3*y + x*y\n",
    " }\n",
    "```"
   ]
  },
  {
   "cell_type": "markdown",
   "id": "964f27bf",
   "metadata": {},
   "source": [
    "Where `poly ode 2` specifies a system with two variables."
   ]
  },
  {
   "cell_type": "markdown",
   "id": "6a2c060b",
   "metadata": {},
   "source": [
    "Finally, the `init` block specify the settings for reachability analysis. "
   ]
  },
  {
   "cell_type": "markdown",
   "id": "81bb4274",
   "metadata": {},
   "source": [
    "```julia\n",
    " init\n",
    " {\n",
    "  x in [4.8 , 5.2]\n",
    "  y in [1.8 , 2.2]\n",
    " }\n",
    "```"
   ]
  },
  {
   "cell_type": "markdown",
   "id": "bfc7e8b9",
   "metadata": {},
   "source": [
    "In this case this defines a hyperrectangle of sides `4.8 .. 5.2` and `1.8 .. 2.2`."
   ]
  },
  {
   "cell_type": "markdown",
   "id": "3c66434f",
   "metadata": {},
   "source": [
    "## Running the example"
   ]
  },
  {
   "cell_type": "markdown",
   "id": "45f3d76d",
   "metadata": {},
   "source": [
    "We made a small modification in the model that can be downloaded from "
   ]
  },
  {
   "cell_type": "markdown",
   "id": "05bc0292",
   "metadata": {},
   "source": [
    "[ ..... ]"
   ]
  },
  {
   "cell_type": "markdown",
   "id": "02138654",
   "metadata": {},
   "source": [
    "## Parsing the result"
   ]
  },
  {
   "cell_type": "code",
   "execution_count": 60,
   "id": "9c45c3e0",
   "metadata": {},
   "outputs": [
    {
     "data": {
      "text/plain": [
       "\"LotkaVolterra/outputs/Lotka_Volterra.flow\""
      ]
     },
     "execution_count": 60,
     "metadata": {},
     "output_type": "execute_result"
    }
   ],
   "source": [
    "src = \"LotkaVolterra/outputs/Lotka_Volterra.flow\""
   ]
  },
  {
   "cell_type": "code",
   "execution_count": 72,
   "id": "d93308b4",
   "metadata": {},
   "outputs": [
    {
     "data": {
      "text/plain": [
       "500"
      ]
     },
     "execution_count": 72,
     "metadata": {},
     "output_type": "execute_result"
    }
   ],
   "source": [
    "text = String(read(src))\n",
    "flow = split(text, \"{\");\n",
    "\n",
    "flow = flow[3:end]\n",
    "\n",
    "N = length(flow) # number of reach-sets"
   ]
  },
  {
   "cell_type": "code",
   "execution_count": 73,
   "id": "b4a8e1bc",
   "metadata": {},
   "outputs": [
    {
     "data": {
      "text/plain": [
       "12-element Vector{SubString{String}}:\n",
       " \"\"\n",
       " \"x = [5.00000000000000e0 , 5.00\" ⋯ 2446 bytes ⋯ \"0625e-8 , 1.70313210117098e-8]\"\n",
       " \"\"\n",
       " \"y = [2.00000000000000e0 , 2.00\" ⋯ 2452 bytes ⋯ \"2587e-8 , 1.77595808728572e-8]\"\n",
       " \"\"\n",
       " \"\"\n",
       " \"local_t in [0 , 1.00000000000001e-2]\"\n",
       " \"local_var_1 in [-1.00000000000000e0 , 1.00000000000000e0]\"\n",
       " \"local_var_2 in [-1.00000000000000e0 , 1.00000000000000e0]\"\n",
       " \"}\"\n",
       " \"\"\n",
       " \"\""
      ]
     },
     "execution_count": 73,
     "metadata": {},
     "output_type": "execute_result"
    }
   ],
   "source": [
    "R = flow[1] # first reach-set\n",
    "data = split(R, \"\\n\")"
   ]
  },
  {
   "cell_type": "code",
   "execution_count": 80,
   "id": "d7cc6b61",
   "metadata": {},
   "outputs": [
    {
     "data": {
      "text/plain": [
       "\"(5.00000000000000e0 .. 5.00000000000000e0) + (2.00000000000000e-1 .. 2.00000000000001e-1) * x + (-2.50000000000000e0 .. -2.50000000000000e0) * t + (-1.00000000000001e0 .. -1.00000000000000e0) * t * y + (-1.00000000000001e-1 .. -1.00000000000000e-1) * t * x + (-9.3750000\" ⋯ 1455 bytes ⋯ \" (2.30833333333333e-1 .. 2.30833333333335e-1) * t^4 * x^2 + (-8.41718750000027e0 .. -8.41718749999971e0) * t^5 * y + (5.42578124999991e0 .. 5.42578125000012e0) * t^5 * x + (-3.93610026041663e1 .. -3.93610026041660e1) * t^6 + (-1.43728770330625e-8 .. 1.70313210117098e-8)\""
      ]
     },
     "execution_count": 80,
     "metadata": {},
     "output_type": "execute_result"
    }
   ],
   "source": [
    "data_x = data[2] # \"x\" variable\n",
    "\n",
    "data_x = replace(data_x, \",\" => \"..\")\n",
    "data_x = replace(data_x, \"[\" => \"(\")\n",
    "data_x = replace(data_x, \"]\" => \")\")\n",
    "data_x = split(data_x, \"=\")[2] |> strip\n",
    "\n",
    "data_x = replace(data_x, \"local_var_1\" => \"x\")\n",
    "data_x = replace(data_x, \"local_var_2\" => \"y\")\n",
    "data_x = replace(data_x, \"local_t\" => \"t\")\n",
    "\n",
    "data_x"
   ]
  },
  {
   "cell_type": "markdown",
   "id": "89daa161",
   "metadata": {},
   "source": [
    "The aim is to convert this reach-set to a `TaylorModelN` whose coefficients are intervals."
   ]
  },
  {
   "cell_type": "code",
   "execution_count": 81,
   "id": "a88bdc94",
   "metadata": {},
   "outputs": [],
   "source": [
    "using TaylorModels"
   ]
  },
  {
   "cell_type": "code",
   "execution_count": 82,
   "id": "72c109c3",
   "metadata": {},
   "outputs": [
    {
     "data": {
      "text/plain": [
       "3-element Vector{TaylorN{Float64}}:\n",
       "  1.0 t + 𝒪(‖x‖⁹)\n",
       "  1.0 x + 𝒪(‖x‖⁹)\n",
       "  1.0 y + 𝒪(‖x‖⁹)"
      ]
     },
     "execution_count": 82,
     "metadata": {},
     "output_type": "execute_result"
    }
   ],
   "source": [
    "t, x, y = set_variables(\"t x y\", order=8)"
   ]
  },
  {
   "cell_type": "code",
   "execution_count": 85,
   "id": "347d52c1",
   "metadata": {},
   "outputs": [
    {
     "data": {
      "text/plain": [
       " [4.99999, 5.00001] + [-2.5, -2.5] t + [0.199999, 0.200001] x + [-9.375, -9.375] t² + [-0.100001, -0.0999999] t x + [-1.00001, -1] t y + [2.39583, 2.39584] t³ + [-1.37501, -1.375] t² x + [-0.500001, -0.5] t² y + [-0.0400001, -0.0399999] t x y + [20.7421, 20.7422] t⁴ + [-0.570834, -0.570833] t³ x + [3.79166, 3.79167] t³ y + [-0.0400001, -0.0399999] t² x² + [-0.120001, -0.119999] t² x y + [0.0999999, 0.100001] t² y² + [7.93619, 7.9362] t⁵ + [4.30885, 4.30886] t⁴ x + [4.67708, 4.67709] t⁴ y + [-0.0933334, -0.0933333] t³ x² + [0.351666, 0.351667] t³ x y + [0.316666, 0.316667] t³ y² + [-0.00400001, -0.00399999] t² x² y + [0.00399999, 0.00400001] t² x y² + [-39.3611, -39.361] t⁶ + [5.42578, 5.42579] t⁵ x + [-8.41719, -8.41718] t⁵ y + [0.230833, 0.230834] t⁴ x² + [1.28499, 1.28501] t⁴ x y + [-0.345834, -0.345833] t⁴ y² + [-0.00266667, -0.00266666] t³ x³ + [0.00133333, 0.00133334] t³ x² y + [0.0393333, 0.0393334] t³ x y² + [-0.00666667, -0.00666666] t³ y³ + 𝒪(‖x‖⁹)"
      ]
     },
     "execution_count": 85,
     "metadata": {},
     "output_type": "execute_result"
    }
   ],
   "source": [
    "R = Meta.parse(data_x) |> eval"
   ]
  },
  {
   "cell_type": "code",
   "execution_count": 86,
   "id": "4c1bbc38",
   "metadata": {},
   "outputs": [
    {
     "data": {
      "text/plain": [
       "TaylorN{Interval{Float64}}"
      ]
     },
     "execution_count": 86,
     "metadata": {},
     "output_type": "execute_result"
    }
   ],
   "source": [
    "typeof(R)"
   ]
  },
  {
   "cell_type": "markdown",
   "id": "53ab22fc",
   "metadata": {},
   "source": [
    "- Taylor1\n",
    "- TaylorN\n",
    "- TaylorModel1\n",
    "- TaylorModelN"
   ]
  },
  {
   "cell_type": "code",
   "execution_count": 55,
   "id": "9ff31060",
   "metadata": {},
   "outputs": [
    {
     "data": {
      "text/plain": [
       "\" (-3.71654142564716e-6 .. 3.61155996611113e-6)\""
      ]
     },
     "execution_count": 55,
     "metadata": {},
     "output_type": "execute_result"
    }
   ],
   "source": [
    "aux = split(data_x, \"+\")\n",
    "pol = aux[1:end-1]\n",
    "rem = aux[end]"
   ]
  },
  {
   "cell_type": "code",
   "execution_count": 39,
   "id": "b12fc9b2",
   "metadata": {},
   "outputs": [],
   "source": [
    "using Symbolics, IntervalArithmetic"
   ]
  },
  {
   "cell_type": "code",
   "execution_count": 40,
   "id": "2fdfcaa1",
   "metadata": {},
   "outputs": [
    {
     "data": {
      "text/latex": [
       "\\begin{equation}\n",
       "\\left[\n",
       "\\begin{array}{c}\n",
       "local_{t} \\\\\n",
       "local_{var\\_1} \\\\\n",
       "local_{var\\_2} \\\\\n",
       "\\end{array}\n",
       "\\right]\n",
       "\\end{equation}\n"
      ],
      "text/plain": [
       "3-element Vector{Num}:\n",
       "     local_t\n",
       " local_var_1\n",
       " local_var_2"
      ]
     },
     "execution_count": 40,
     "metadata": {},
     "output_type": "execute_result"
    }
   ],
   "source": [
    "@variables local_t local_var_1 local_var_2"
   ]
  },
  {
   "cell_type": "code",
   "execution_count": 47,
   "id": "a37ee611",
   "metadata": {},
   "outputs": [],
   "source": [
    "f = eval(Meta.parse(data_x));"
   ]
  },
  {
   "cell_type": "code",
   "execution_count": 51,
   "id": "5fba89ad",
   "metadata": {},
   "outputs": [],
   "source": []
  },
  {
   "cell_type": "code",
   "execution_count": 16,
   "id": "9e76aa9a",
   "metadata": {},
   "outputs": [
    {
     "data": {
      "text/plain": [
       ":([5.0, 5.0] + [0.2, 0.200000000000001] * local_var_1 + [-2.5, -2.5] * local_t + [-1.00000000000001, -1.0] * local_t * local_var_2 + [-0.100000000000001, -0.1] * local_t * local_var_1 + [-9.375, -9.375] * local_t ^ 2 + [-0.0400000000000002, -0.04] * local_t * local_var_1 * local_var_2 + [-0.500000000000001, -0.5] * local_t ^ 2 * local_var_2 + [-1.37500000000001, -1.375] * local_t ^ 2 * local_var_1 + [2.39583333333333, 2.39583333333334] * local_t ^ 3 + [0.1, 0.100000000000001] * local_t ^ 2 * local_var_2 ^ 2 + [-0.120000000000001, -0.12] * local_t ^ 2 * local_var_1 * local_var_2 + [-0.0400000000000002, -0.04] * local_t ^ 2 * local_var_1 ^ 2 + [3.79166666666666, 3.79166666666668] * local_t ^ 3 * local_var_2 + [-0.570833333333335, -0.570833333333333] * local_t ^ 3 * local_var_1 + [20.7421874999999, 20.7421875000001] * local_t ^ 4 + [0.004, 0.00400000000000002] * local_t ^ 2 * local_var_1 * local_var_2 ^ 2 + [-0.00400000000000002, -0.004] * local_t ^ 2 * local_var_1 ^ 2 * local_var_2 + [0.316666666666666, 0.316666666666668] * local_t ^ 3 * local_var_2 ^ 2 + [0.351666666666667, 0.351666666666668] * local_t ^ 3 * local_var_1 * local_var_2 + [-0.0933333333333337, -0.0933333333333334] * local_t ^ 3 * local_var_1 ^ 2 + [4.67708333333331, 4.67708333333336] * local_t ^ 4 * local_var_2 + [4.30885416666666, 4.30885416666669] * local_t ^ 4 * local_var_1 + [7.93619791666664, 7.93619791666665] * local_t ^ 5 + [-3.71654142564716e-6, 3.61155996611113e-6])"
      ]
     },
     "execution_count": 16,
     "metadata": {},
     "output_type": "execute_result"
    }
   ],
   "source": [
    "expr = :([5.00000000000000e0 , 5.00000000000000e0] + [2.00000000000000e-1 , 2.00000000000001e-1] * local_var_1 + [-2.50000000000000e0 , -2.50000000000000e0] * local_t + [-1.00000000000001e0 , -1.00000000000000e0] * local_t * local_var_2 + [-1.00000000000001e-1 , -1.00000000000000e-1] * local_t * local_var_1 + [-9.37500000000000e0 , -9.37500000000000e0] * local_t^2 + [-4.00000000000002e-2 , -4.00000000000000e-2] * local_t * local_var_1 * local_var_2 + [-5.00000000000001e-1 , -5.00000000000000e-1] * local_t^2 * local_var_2 + [-1.37500000000001e0 , -1.37500000000000e0] * local_t^2 * local_var_1 + [2.39583333333333e0 , 2.39583333333334e0] * local_t^3 + [1.00000000000000e-1 , 1.00000000000001e-1] * local_t^2 * local_var_2^2 + [-1.20000000000001e-1 , -1.20000000000000e-1] * local_t^2 * local_var_1 * local_var_2 + [-4.00000000000002e-2 , -4.00000000000000e-2] * local_t^2 * local_var_1^2 + [3.79166666666666e0 , 3.79166666666668e0] * local_t^3 * local_var_2 + [-5.70833333333335e-1 , -5.70833333333333e-1] * local_t^3 * local_var_1 + [2.07421874999999e1 , 2.07421875000001e1] * local_t^4 + [4.00000000000000e-3 , 4.00000000000002e-3] * local_t^2 * local_var_1 * local_var_2^2 + [-4.00000000000002e-3 , -4.00000000000000e-3] * local_t^2 * local_var_1^2 * local_var_2 + [3.16666666666666e-1 , 3.16666666666668e-1] * local_t^3 * local_var_2^2 + [3.51666666666667e-1 , 3.51666666666668e-1] * local_t^3 * local_var_1 * local_var_2 + [-9.33333333333337e-2 , -9.33333333333334e-2] * local_t^3 * local_var_1^2 + [4.67708333333331e0 , 4.67708333333336e0] * local_t^4 * local_var_2 + [4.30885416666666e0 , 4.30885416666669e0] * local_t^4 * local_var_1 + [7.93619791666664e0 , 7.93619791666665e0] * local_t^5 + [-3.71654142564716e-6 , 3.61155996611113e-6])"
   ]
  },
  {
   "cell_type": "code",
   "execution_count": 12,
   "id": "4021c167",
   "metadata": {},
   "outputs": [
    {
     "data": {
      "text/plain": [
       "\"\\nx = [4.94627245832176e0 , 4.94627245832178e0] + [-2.01689183333334e-2 , -2.01689183333333e-2] * local_var_2 + [1.97446122750000e-1 , 1.97446122750001e-1] * local_var_1 + [-2.87145614659829e0 , -2.87145614659826e0] * local_t + [4.25333333333333e-5 , 4.25333333333335e-5]\" ⋯ 8676 bytes ⋯ \"4684265708e-4 , 3.28024684265733e-4] * local_t^4 * local_var_1^2 + [-1.03260271052719e-5 , 1.05744350065855e-5]\\n\\n\\nlocal_t in [0 , 2.00000000000001e-2]\\nlocal_var_1 in [-1.00000000000000e0 , 1.00000000000000e0]\\nlocal_var_2 in [-1.00000000000000e0 , 1.00000000000000e0]\\n}\\n\\n\""
      ]
     },
     "execution_count": 12,
     "metadata": {},
     "output_type": "execute_result"
    }
   ],
   "source": [
    "flow[4]"
   ]
  },
  {
   "cell_type": "code",
   "execution_count": 13,
   "id": "cabc56a2",
   "metadata": {},
   "outputs": [
    {
     "data": {
      "text/plain": [
       "\"\\nx = [4.88520694988594e0 , 4.88520694988596e0] + [-4.05462410145678e-2 , -4.05462410145675e-2] * local_var_2 + [1.93774983568780e-1 , 1.93774983568782e-1] * local_var_1 + [-3.23311485601497e0 , -3.23311485601492e0] * local_t + [1.79313394630744e-4 , 1.79313394630746e-4]\" ⋯ 9948 bytes ⋯ \"9198636271e-3 , 1.64169198636279e-3] * local_t^4 * local_var_1^2 + [-1.79237441919779e-5 , 1.82141163949649e-5]\\n\\n\\nlocal_t in [0 , 2.00000000000001e-2]\\nlocal_var_1 in [-1.00000000000000e0 , 1.00000000000000e0]\\nlocal_var_2 in [-1.00000000000000e0 , 1.00000000000000e0]\\n}\\n\\n\""
      ]
     },
     "execution_count": 13,
     "metadata": {},
     "output_type": "execute_result"
    }
   ],
   "source": [
    "flow[5]"
   ]
  },
  {
   "cell_type": "code",
   "execution_count": 56,
   "id": "53d2dbdd",
   "metadata": {},
   "outputs": [],
   "source": [
    "using TaylorModels"
   ]
  },
  {
   "cell_type": "code",
   "execution_count": 57,
   "id": "27db7e8b",
   "metadata": {},
   "outputs": [
    {
     "data": {
      "text/plain": [
       "3-element Vector{TaylorN{Float64}}:\n",
       "  1.0 t + 𝒪(‖x‖⁵)\n",
       "  1.0 x + 𝒪(‖x‖⁵)\n",
       "  1.0 y + 𝒪(‖x‖⁵)"
      ]
     },
     "execution_count": 57,
     "metadata": {},
     "output_type": "execute_result"
    }
   ],
   "source": []
  },
  {
   "cell_type": "markdown",
   "id": "26adf658",
   "metadata": {},
   "source": [
    "In Flow*, the reach-sets are represented using Taylor models in N+1 variables, where the last variable represents \"time\"."
   ]
  },
  {
   "cell_type": "markdown",
   "id": "cc9dacea",
   "metadata": {},
   "source": [
    "The text file `Lotka_Volterra.flow` contains the output generated by the algorithm."
   ]
  },
  {
   "cell_type": "markdown",
   "id": "d16e36d2",
   "metadata": {},
   "source": [
    "Let's analyze in more detail the contents of this file."
   ]
  },
  {
   "cell_type": "markdown",
   "id": "b592bc5c",
   "metadata": {},
   "source": [
    "The first part defines the symbols used for the state variables, in this case `x` and `y`. Also defined is the order of the Taylor models (in this case, `6`), the cutoff threshold (in this case, `1e-20`), and finally the models' name (in this case, `Lotka_Volterra`)."
   ]
  },
  {
   "cell_type": "markdown",
   "id": "34fbef99",
   "metadata": {},
   "source": [
    "Header of `Lotka_Volterra.flow`:\n",
    "\n",
    "```\n",
    "state var x,y\n",
    "\n",
    "gnuplot octagon x , y\n",
    "\n",
    "order 6\n",
    "\n",
    "cutoff 1.000000e-20\n",
    "\n",
    "output Lotka_Volterra\n",
    "```"
   ]
  }
 ],
 "metadata": {
  "kernelspec": {
   "display_name": "Julia 1.7.0-rc1",
   "language": "julia",
   "name": "julia-1.7"
  },
  "language_info": {
   "file_extension": ".jl",
   "mimetype": "application/julia",
   "name": "julia",
   "version": "1.7.0"
  }
 },
 "nbformat": 4,
 "nbformat_minor": 5
}
