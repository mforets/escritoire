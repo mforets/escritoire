{
 "cells": [
  {
   "cell_type": "markdown",
   "metadata": {},
   "source": [
    "## Loading dependencies"
   ]
  },
  {
   "cell_type": "code",
   "execution_count": 34,
   "metadata": {},
   "outputs": [],
   "source": [
    "using LazySets           # for set computations\n",
    "using Symbolics          # for symbolics computations\n",
    "using Plots              # for plotting\n",
    "using IntervalArithmetic # for computations with intervals\n",
    "\n",
    "using LazySets: center,   # fix an ambiguity between LazySets and Plots\n",
    "                Interval  # fix an ambiguity between LazySets and IntervalArithmetic \n",
    "\n",
    "using ReachabilityAnalysis # for reachability analysis\n",
    "\n",
    "# load stuff that allows using symbolic / numeric differentiation\n",
    "using ReachabilityAnalysis: _jacobian_expression, _jacobian_function,\n",
    "                            _hessian_expression, _hessian_function"
   ]
  },
  {
   "cell_type": "markdown",
   "metadata": {},
   "source": [
    "## Running example: Lotka-Volterra equations"
   ]
  },
  {
   "cell_type": "code",
   "execution_count": 2,
   "metadata": {},
   "outputs": [
    {
     "data": {
      "text/plain": [
       "lotkavolterra! (generic function with 1 method)"
      ]
     },
     "execution_count": 2,
     "metadata": {},
     "output_type": "execute_result"
    }
   ],
   "source": [
    "function lotkavolterra!(dx, x, params, t)\n",
    "    local α, β, γ, δ = 1.5, 1., 3., 1.\n",
    "    \n",
    "    dx[1] = α * x[1] - β * x[1] * x[2]\n",
    "    dx[2] = δ * x[1] * x[2] - γ * x[2]\n",
    "    \n",
    "    return dx\n",
    "end"
   ]
  },
  {
   "cell_type": "code",
   "execution_count": 3,
   "metadata": {},
   "outputs": [
    {
     "data": {
      "text/plain": [
       "2-element Vector{Float64}:\n",
       "  0.5\n",
       " -2.0"
      ]
     },
     "execution_count": 3,
     "metadata": {},
     "output_type": "execute_result"
    }
   ],
   "source": [
    "params = []\n",
    "t = 0.0\n",
    "x0 = [1.0, 1.0] # initial states\n",
    "dx = [0.0, 0.0] # right-hand side\n",
    "\n",
    "# this call will store the evaluation of the right-hand side\n",
    "# on the vector dx\n",
    "lotkavolterra!(dx, x0, params, t)"
   ]
  },
  {
   "cell_type": "code",
   "execution_count": 4,
   "metadata": {},
   "outputs": [
    {
     "data": {
      "text/plain": [
       "2-element Vector{Float64}:\n",
       "  0.5\n",
       " -2.0"
      ]
     },
     "execution_count": 4,
     "metadata": {},
     "output_type": "execute_result"
    }
   ],
   "source": [
    "dx"
   ]
  },
  {
   "cell_type": "code",
   "execution_count": 5,
   "metadata": {},
   "outputs": [
    {
     "data": {
      "text/plain": [
       "0.5"
      ]
     },
     "execution_count": 5,
     "metadata": {},
     "output_type": "execute_result"
    }
   ],
   "source": [
    "# for example\n",
    "α, β, γ, δ = 1.5, 1., 3., 1.\n",
    "α * x0[1] - β * x0[1] * x0[2]"
   ]
  },
  {
   "cell_type": "code",
   "execution_count": 6,
   "metadata": {},
   "outputs": [
    {
     "data": {
      "text/plain": [
       "-2.0"
      ]
     },
     "execution_count": 6,
     "metadata": {},
     "output_type": "execute_result"
    }
   ],
   "source": [
    "δ * x0[1] * x0[2] - γ * x0[2]"
   ]
  },
  {
   "cell_type": "markdown",
   "metadata": {},
   "source": [
    "## Splitting boxes"
   ]
  },
  {
   "cell_type": "code",
   "execution_count": 7,
   "metadata": {},
   "outputs": [
    {
     "data": {
      "image/svg+xml": [
       "<?xml version=\"1.0\" encoding=\"utf-8\"?>\n",
       "<svg xmlns=\"http://www.w3.org/2000/svg\" xmlns:xlink=\"http://www.w3.org/1999/xlink\" width=\"600\" height=\"400\" viewBox=\"0 0 2400 1600\">\n",
       "<defs>\n",
       "  <clipPath id=\"clip990\">\n",
       "    <rect x=\"0\" y=\"0\" width=\"2400\" height=\"1600\"/>\n",
       "  </clipPath>\n",
       "</defs>\n",
       "<path clip-path=\"url(#clip990)\" d=\"\n",
       "M0 1600 L2400 1600 L2400 0 L0 0  Z\n",
       "  \" fill=\"#ffffff\" fill-rule=\"evenodd\" fill-opacity=\"1\"/>\n",
       "<defs>\n",
       "  <clipPath id=\"clip991\">\n",
       "    <rect x=\"480\" y=\"0\" width=\"1681\" height=\"1600\"/>\n",
       "  </clipPath>\n",
       "</defs>\n",
       "<path clip-path=\"url(#clip990)\" d=\"\n",
       "M224.098 1486.45 L2352.76 1486.45 L2352.76 47.2441 L224.098 47.2441  Z\n",
       "  \" fill=\"#ffffff\" fill-rule=\"evenodd\" fill-opacity=\"1\"/>\n",
       "<defs>\n",
       "  <clipPath id=\"clip992\">\n",
       "    <rect x=\"224\" y=\"47\" width=\"2130\" height=\"1440\"/>\n",
       "  </clipPath>\n",
       "</defs>\n",
       "<polyline clip-path=\"url(#clip992)\" style=\"stroke:#000000; stroke-linecap:butt; stroke-linejoin:round; stroke-width:2; stroke-opacity:0.1; fill:none\" points=\"\n",
       "  284.343,1486.45 284.343,47.2441 \n",
       "  \"/>\n",
       "<polyline clip-path=\"url(#clip992)\" style=\"stroke:#000000; stroke-linecap:butt; stroke-linejoin:round; stroke-width:2; stroke-opacity:0.1; fill:none\" points=\"\n",
       "  740.745,1486.45 740.745,47.2441 \n",
       "  \"/>\n",
       "<polyline clip-path=\"url(#clip992)\" style=\"stroke:#000000; stroke-linecap:butt; stroke-linejoin:round; stroke-width:2; stroke-opacity:0.1; fill:none\" points=\"\n",
       "  1197.15,1486.45 1197.15,47.2441 \n",
       "  \"/>\n",
       "<polyline clip-path=\"url(#clip992)\" style=\"stroke:#000000; stroke-linecap:butt; stroke-linejoin:round; stroke-width:2; stroke-opacity:0.1; fill:none\" points=\"\n",
       "  1653.55,1486.45 1653.55,47.2441 \n",
       "  \"/>\n",
       "<polyline clip-path=\"url(#clip992)\" style=\"stroke:#000000; stroke-linecap:butt; stroke-linejoin:round; stroke-width:2; stroke-opacity:0.1; fill:none\" points=\"\n",
       "  2109.95,1486.45 2109.95,47.2441 \n",
       "  \"/>\n",
       "<polyline clip-path=\"url(#clip990)\" style=\"stroke:#000000; stroke-linecap:butt; stroke-linejoin:round; stroke-width:4; stroke-opacity:1; fill:none\" points=\"\n",
       "  224.098,1486.45 2352.76,1486.45 \n",
       "  \"/>\n",
       "<polyline clip-path=\"url(#clip990)\" style=\"stroke:#000000; stroke-linecap:butt; stroke-linejoin:round; stroke-width:4; stroke-opacity:1; fill:none\" points=\"\n",
       "  284.343,1486.45 284.343,1467.55 \n",
       "  \"/>\n",
       "<polyline clip-path=\"url(#clip990)\" style=\"stroke:#000000; stroke-linecap:butt; stroke-linejoin:round; stroke-width:4; stroke-opacity:1; fill:none\" points=\"\n",
       "  740.745,1486.45 740.745,1467.55 \n",
       "  \"/>\n",
       "<polyline clip-path=\"url(#clip990)\" style=\"stroke:#000000; stroke-linecap:butt; stroke-linejoin:round; stroke-width:4; stroke-opacity:1; fill:none\" points=\"\n",
       "  1197.15,1486.45 1197.15,1467.55 \n",
       "  \"/>\n",
       "<polyline clip-path=\"url(#clip990)\" style=\"stroke:#000000; stroke-linecap:butt; stroke-linejoin:round; stroke-width:4; stroke-opacity:1; fill:none\" points=\"\n",
       "  1653.55,1486.45 1653.55,1467.55 \n",
       "  \"/>\n",
       "<polyline clip-path=\"url(#clip990)\" style=\"stroke:#000000; stroke-linecap:butt; stroke-linejoin:round; stroke-width:4; stroke-opacity:1; fill:none\" points=\"\n",
       "  2109.95,1486.45 2109.95,1467.55 \n",
       "  \"/>\n",
       "<path clip-path=\"url(#clip990)\" d=\"M246.646 1515.64 Q243.035 1515.64 241.207 1519.2 Q239.401 1522.75 239.401 1529.87 Q239.401 1536.98 241.207 1540.55 Q243.035 1544.09 246.646 1544.09 Q250.281 1544.09 252.086 1540.55 Q253.915 1536.98 253.915 1529.87 Q253.915 1522.75 252.086 1519.2 Q250.281 1515.64 246.646 1515.64 M246.646 1511.93 Q252.457 1511.93 255.512 1516.54 Q258.591 1521.12 258.591 1529.87 Q258.591 1538.6 255.512 1543.21 Q252.457 1547.79 246.646 1547.79 Q240.836 1547.79 237.758 1543.21 Q234.702 1538.6 234.702 1529.87 Q234.702 1521.12 237.758 1516.54 Q240.836 1511.93 246.646 1511.93 Z\" fill=\"#000000\" fill-rule=\"evenodd\" fill-opacity=\"1\" /><path clip-path=\"url(#clip990)\" d=\"M266.808 1541.24 L271.693 1541.24 L271.693 1547.12 L266.808 1547.12 L266.808 1541.24 Z\" fill=\"#000000\" fill-rule=\"evenodd\" fill-opacity=\"1\" /><path clip-path=\"url(#clip990)\" d=\"M291.878 1515.64 Q288.267 1515.64 286.438 1519.2 Q284.632 1522.75 284.632 1529.87 Q284.632 1536.98 286.438 1540.55 Q288.267 1544.09 291.878 1544.09 Q295.512 1544.09 297.317 1540.55 Q299.146 1536.98 299.146 1529.87 Q299.146 1522.75 297.317 1519.2 Q295.512 1515.64 291.878 1515.64 M291.878 1511.93 Q297.688 1511.93 300.743 1516.54 Q303.822 1521.12 303.822 1529.87 Q303.822 1538.6 300.743 1543.21 Q297.688 1547.79 291.878 1547.79 Q286.067 1547.79 282.989 1543.21 Q279.933 1538.6 279.933 1529.87 Q279.933 1521.12 282.989 1516.54 Q286.067 1511.93 291.878 1511.93 Z\" fill=\"#000000\" fill-rule=\"evenodd\" fill-opacity=\"1\" /><path clip-path=\"url(#clip990)\" d=\"M322.039 1515.64 Q318.428 1515.64 316.6 1519.2 Q314.794 1522.75 314.794 1529.87 Q314.794 1536.98 316.6 1540.55 Q318.428 1544.09 322.039 1544.09 Q325.674 1544.09 327.479 1540.55 Q329.308 1536.98 329.308 1529.87 Q329.308 1522.75 327.479 1519.2 Q325.674 1515.64 322.039 1515.64 M322.039 1511.93 Q327.85 1511.93 330.905 1516.54 Q333.984 1521.12 333.984 1529.87 Q333.984 1538.6 330.905 1543.21 Q327.85 1547.79 322.039 1547.79 Q316.229 1547.79 313.151 1543.21 Q310.095 1538.6 310.095 1529.87 Q310.095 1521.12 313.151 1516.54 Q316.229 1511.93 322.039 1511.93 Z\" fill=\"#000000\" fill-rule=\"evenodd\" fill-opacity=\"1\" /><path clip-path=\"url(#clip990)\" d=\"M703.546 1515.64 Q699.935 1515.64 698.106 1519.2 Q696.301 1522.75 696.301 1529.87 Q696.301 1536.98 698.106 1540.55 Q699.935 1544.09 703.546 1544.09 Q707.18 1544.09 708.986 1540.55 Q710.814 1536.98 710.814 1529.87 Q710.814 1522.75 708.986 1519.2 Q707.18 1515.64 703.546 1515.64 M703.546 1511.93 Q709.356 1511.93 712.412 1516.54 Q715.49 1521.12 715.49 1529.87 Q715.49 1538.6 712.412 1543.21 Q709.356 1547.79 703.546 1547.79 Q697.736 1547.79 694.657 1543.21 Q691.601 1538.6 691.601 1529.87 Q691.601 1521.12 694.657 1516.54 Q697.736 1511.93 703.546 1511.93 Z\" fill=\"#000000\" fill-rule=\"evenodd\" fill-opacity=\"1\" /><path clip-path=\"url(#clip990)\" d=\"M723.708 1541.24 L728.592 1541.24 L728.592 1547.12 L723.708 1547.12 L723.708 1541.24 Z\" fill=\"#000000\" fill-rule=\"evenodd\" fill-opacity=\"1\" /><path clip-path=\"url(#clip990)\" d=\"M742.805 1543.18 L759.124 1543.18 L759.124 1547.12 L737.18 1547.12 L737.18 1543.18 Q739.842 1540.43 744.425 1535.8 Q749.032 1531.15 750.212 1529.81 Q752.458 1527.28 753.337 1525.55 Q754.24 1523.79 754.24 1522.1 Q754.24 1519.34 752.296 1517.61 Q750.374 1515.87 747.272 1515.87 Q745.073 1515.87 742.62 1516.63 Q740.189 1517.4 737.411 1518.95 L737.411 1514.23 Q740.235 1513.09 742.689 1512.51 Q745.143 1511.93 747.18 1511.93 Q752.55 1511.93 755.745 1514.62 Q758.939 1517.31 758.939 1521.8 Q758.939 1523.93 758.129 1525.85 Q757.342 1527.74 755.235 1530.34 Q754.657 1531.01 751.555 1534.23 Q748.453 1537.42 742.805 1543.18 Z\" fill=\"#000000\" fill-rule=\"evenodd\" fill-opacity=\"1\" /><path clip-path=\"url(#clip990)\" d=\"M768.985 1512.56 L787.342 1512.56 L787.342 1516.5 L773.268 1516.5 L773.268 1524.97 Q774.286 1524.62 775.305 1524.46 Q776.323 1524.27 777.342 1524.27 Q783.129 1524.27 786.508 1527.44 Q789.888 1530.62 789.888 1536.03 Q789.888 1541.61 786.416 1544.71 Q782.944 1547.79 776.624 1547.79 Q774.448 1547.79 772.18 1547.42 Q769.934 1547.05 767.527 1546.31 L767.527 1541.61 Q769.61 1542.74 771.833 1543.3 Q774.055 1543.86 776.532 1543.86 Q780.536 1543.86 782.874 1541.75 Q785.212 1539.64 785.212 1536.03 Q785.212 1532.42 782.874 1530.31 Q780.536 1528.21 776.532 1528.21 Q774.657 1528.21 772.782 1528.62 Q770.93 1529.04 768.985 1529.92 L768.985 1512.56 Z\" fill=\"#000000\" fill-rule=\"evenodd\" fill-opacity=\"1\" /><path clip-path=\"url(#clip990)\" d=\"M1159.45 1515.64 Q1155.84 1515.64 1154.01 1519.2 Q1152.2 1522.75 1152.2 1529.87 Q1152.2 1536.98 1154.01 1540.55 Q1155.84 1544.09 1159.45 1544.09 Q1163.08 1544.09 1164.89 1540.55 Q1166.72 1536.98 1166.72 1529.87 Q1166.72 1522.75 1164.89 1519.2 Q1163.08 1515.64 1159.45 1515.64 M1159.45 1511.93 Q1165.26 1511.93 1168.32 1516.54 Q1171.39 1521.12 1171.39 1529.87 Q1171.39 1538.6 1168.32 1543.21 Q1165.26 1547.79 1159.45 1547.79 Q1153.64 1547.79 1150.56 1543.21 Q1147.51 1538.6 1147.51 1529.87 Q1147.51 1521.12 1150.56 1516.54 Q1153.64 1511.93 1159.45 1511.93 Z\" fill=\"#000000\" fill-rule=\"evenodd\" fill-opacity=\"1\" /><path clip-path=\"url(#clip990)\" d=\"M1179.61 1541.24 L1184.5 1541.24 L1184.5 1547.12 L1179.61 1547.12 L1179.61 1541.24 Z\" fill=\"#000000\" fill-rule=\"evenodd\" fill-opacity=\"1\" /><path clip-path=\"url(#clip990)\" d=\"M1194.73 1512.56 L1213.08 1512.56 L1213.08 1516.5 L1199.01 1516.5 L1199.01 1524.97 Q1200.03 1524.62 1201.05 1524.46 Q1202.07 1524.27 1203.08 1524.27 Q1208.87 1524.27 1212.25 1527.44 Q1215.63 1530.62 1215.63 1536.03 Q1215.63 1541.61 1212.16 1544.71 Q1208.69 1547.79 1202.37 1547.79 Q1200.19 1547.79 1197.92 1547.42 Q1195.68 1547.05 1193.27 1546.31 L1193.27 1541.61 Q1195.35 1542.74 1197.57 1543.3 Q1199.8 1543.86 1202.27 1543.86 Q1206.28 1543.86 1208.62 1541.75 Q1210.95 1539.64 1210.95 1536.03 Q1210.95 1532.42 1208.62 1530.31 Q1206.28 1528.21 1202.27 1528.21 Q1200.4 1528.21 1198.52 1528.62 Q1196.67 1529.04 1194.73 1529.92 L1194.73 1512.56 Z\" fill=\"#000000\" fill-rule=\"evenodd\" fill-opacity=\"1\" /><path clip-path=\"url(#clip990)\" d=\"M1234.84 1515.64 Q1231.23 1515.64 1229.4 1519.2 Q1227.6 1522.75 1227.6 1529.87 Q1227.6 1536.98 1229.4 1540.55 Q1231.23 1544.09 1234.84 1544.09 Q1238.48 1544.09 1240.28 1540.55 Q1242.11 1536.98 1242.11 1529.87 Q1242.11 1522.75 1240.28 1519.2 Q1238.48 1515.64 1234.84 1515.64 M1234.84 1511.93 Q1240.65 1511.93 1243.71 1516.54 Q1246.79 1521.12 1246.79 1529.87 Q1246.79 1538.6 1243.71 1543.21 Q1240.65 1547.79 1234.84 1547.79 Q1229.03 1547.79 1225.95 1543.21 Q1222.9 1538.6 1222.9 1529.87 Q1222.9 1521.12 1225.95 1516.54 Q1229.03 1511.93 1234.84 1511.93 Z\" fill=\"#000000\" fill-rule=\"evenodd\" fill-opacity=\"1\" /><path clip-path=\"url(#clip990)\" d=\"M1616.35 1515.64 Q1612.74 1515.64 1610.91 1519.2 Q1609.1 1522.75 1609.1 1529.87 Q1609.1 1536.98 1610.91 1540.55 Q1612.74 1544.09 1616.35 1544.09 Q1619.98 1544.09 1621.79 1540.55 Q1623.62 1536.98 1623.62 1529.87 Q1623.62 1522.75 1621.79 1519.2 Q1619.98 1515.64 1616.35 1515.64 M1616.35 1511.93 Q1622.16 1511.93 1625.22 1516.54 Q1628.29 1521.12 1628.29 1529.87 Q1628.29 1538.6 1625.22 1543.21 Q1622.16 1547.79 1616.35 1547.79 Q1610.54 1547.79 1607.46 1543.21 Q1604.41 1538.6 1604.41 1529.87 Q1604.41 1521.12 1607.46 1516.54 Q1610.54 1511.93 1616.35 1511.93 Z\" fill=\"#000000\" fill-rule=\"evenodd\" fill-opacity=\"1\" /><path clip-path=\"url(#clip990)\" d=\"M1636.51 1541.24 L1641.4 1541.24 L1641.4 1547.12 L1636.51 1547.12 L1636.51 1541.24 Z\" fill=\"#000000\" fill-rule=\"evenodd\" fill-opacity=\"1\" /><path clip-path=\"url(#clip990)\" d=\"M1650.4 1512.56 L1672.62 1512.56 L1672.62 1514.55 L1660.08 1547.12 L1655.19 1547.12 L1667 1516.5 L1650.4 1516.5 L1650.4 1512.56 Z\" fill=\"#000000\" fill-rule=\"evenodd\" fill-opacity=\"1\" /><path clip-path=\"url(#clip990)\" d=\"M1681.79 1512.56 L1700.15 1512.56 L1700.15 1516.5 L1686.07 1516.5 L1686.07 1524.97 Q1687.09 1524.62 1688.11 1524.46 Q1689.13 1524.27 1690.15 1524.27 Q1695.93 1524.27 1699.31 1527.44 Q1702.69 1530.62 1702.69 1536.03 Q1702.69 1541.61 1699.22 1544.71 Q1695.75 1547.79 1689.43 1547.79 Q1687.25 1547.79 1684.98 1547.42 Q1682.74 1547.05 1680.33 1546.31 L1680.33 1541.61 Q1682.41 1542.74 1684.64 1543.3 Q1686.86 1543.86 1689.34 1543.86 Q1693.34 1543.86 1695.68 1541.75 Q1698.02 1539.64 1698.02 1536.03 Q1698.02 1532.42 1695.68 1530.31 Q1693.34 1528.21 1689.34 1528.21 Q1687.46 1528.21 1685.59 1528.62 Q1683.73 1529.04 1681.79 1529.92 L1681.79 1512.56 Z\" fill=\"#000000\" fill-rule=\"evenodd\" fill-opacity=\"1\" /><path clip-path=\"url(#clip990)\" d=\"M2062.02 1543.18 L2069.66 1543.18 L2069.66 1516.82 L2061.35 1518.49 L2061.35 1514.23 L2069.61 1512.56 L2074.29 1512.56 L2074.29 1543.18 L2081.93 1543.18 L2081.93 1547.12 L2062.02 1547.12 L2062.02 1543.18 Z\" fill=\"#000000\" fill-rule=\"evenodd\" fill-opacity=\"1\" /><path clip-path=\"url(#clip990)\" d=\"M2091.37 1541.24 L2096.26 1541.24 L2096.26 1547.12 L2091.37 1547.12 L2091.37 1541.24 Z\" fill=\"#000000\" fill-rule=\"evenodd\" fill-opacity=\"1\" /><path clip-path=\"url(#clip990)\" d=\"M2116.44 1515.64 Q2112.83 1515.64 2111 1519.2 Q2109.2 1522.75 2109.2 1529.87 Q2109.2 1536.98 2111 1540.55 Q2112.83 1544.09 2116.44 1544.09 Q2120.08 1544.09 2121.88 1540.55 Q2123.71 1536.98 2123.71 1529.87 Q2123.71 1522.75 2121.88 1519.2 Q2120.08 1515.64 2116.44 1515.64 M2116.44 1511.93 Q2122.25 1511.93 2125.31 1516.54 Q2128.39 1521.12 2128.39 1529.87 Q2128.39 1538.6 2125.31 1543.21 Q2122.25 1547.79 2116.44 1547.79 Q2110.63 1547.79 2107.55 1543.21 Q2104.5 1538.6 2104.5 1529.87 Q2104.5 1521.12 2107.55 1516.54 Q2110.63 1511.93 2116.44 1511.93 Z\" fill=\"#000000\" fill-rule=\"evenodd\" fill-opacity=\"1\" /><path clip-path=\"url(#clip990)\" d=\"M2146.61 1515.64 Q2142.99 1515.64 2141.17 1519.2 Q2139.36 1522.75 2139.36 1529.87 Q2139.36 1536.98 2141.17 1540.55 Q2142.99 1544.09 2146.61 1544.09 Q2150.24 1544.09 2152.04 1540.55 Q2153.87 1536.98 2153.87 1529.87 Q2153.87 1522.75 2152.04 1519.2 Q2150.24 1515.64 2146.61 1515.64 M2146.61 1511.93 Q2152.42 1511.93 2155.47 1516.54 Q2158.55 1521.12 2158.55 1529.87 Q2158.55 1538.6 2155.47 1543.21 Q2152.42 1547.79 2146.61 1547.79 Q2140.79 1547.79 2137.72 1543.21 Q2134.66 1538.6 2134.66 1529.87 Q2134.66 1521.12 2137.72 1516.54 Q2140.79 1511.93 2146.61 1511.93 Z\" fill=\"#000000\" fill-rule=\"evenodd\" fill-opacity=\"1\" /><polyline clip-path=\"url(#clip992)\" style=\"stroke:#000000; stroke-linecap:butt; stroke-linejoin:round; stroke-width:2; stroke-opacity:0.1; fill:none\" points=\"\n",
       "  224.098,1314.53 2352.76,1314.53 \n",
       "  \"/>\n",
       "<polyline clip-path=\"url(#clip992)\" style=\"stroke:#000000; stroke-linecap:butt; stroke-linejoin:round; stroke-width:2; stroke-opacity:0.1; fill:none\" points=\"\n",
       "  224.098,1131.97 2352.76,1131.97 \n",
       "  \"/>\n",
       "<polyline clip-path=\"url(#clip992)\" style=\"stroke:#000000; stroke-linecap:butt; stroke-linejoin:round; stroke-width:2; stroke-opacity:0.1; fill:none\" points=\"\n",
       "  224.098,949.407 2352.76,949.407 \n",
       "  \"/>\n",
       "<polyline clip-path=\"url(#clip992)\" style=\"stroke:#000000; stroke-linecap:butt; stroke-linejoin:round; stroke-width:2; stroke-opacity:0.1; fill:none\" points=\"\n",
       "  224.098,766.846 2352.76,766.846 \n",
       "  \"/>\n",
       "<polyline clip-path=\"url(#clip992)\" style=\"stroke:#000000; stroke-linecap:butt; stroke-linejoin:round; stroke-width:2; stroke-opacity:0.1; fill:none\" points=\"\n",
       "  224.098,584.285 2352.76,584.285 \n",
       "  \"/>\n",
       "<polyline clip-path=\"url(#clip992)\" style=\"stroke:#000000; stroke-linecap:butt; stroke-linejoin:round; stroke-width:2; stroke-opacity:0.1; fill:none\" points=\"\n",
       "  224.098,401.725 2352.76,401.725 \n",
       "  \"/>\n",
       "<polyline clip-path=\"url(#clip992)\" style=\"stroke:#000000; stroke-linecap:butt; stroke-linejoin:round; stroke-width:2; stroke-opacity:0.1; fill:none\" points=\"\n",
       "  224.098,219.164 2352.76,219.164 \n",
       "  \"/>\n",
       "<polyline clip-path=\"url(#clip990)\" style=\"stroke:#000000; stroke-linecap:butt; stroke-linejoin:round; stroke-width:4; stroke-opacity:1; fill:none\" points=\"\n",
       "  224.098,1486.45 224.098,47.2441 \n",
       "  \"/>\n",
       "<polyline clip-path=\"url(#clip990)\" style=\"stroke:#000000; stroke-linecap:butt; stroke-linejoin:round; stroke-width:4; stroke-opacity:1; fill:none\" points=\"\n",
       "  224.098,1314.53 242.996,1314.53 \n",
       "  \"/>\n",
       "<polyline clip-path=\"url(#clip990)\" style=\"stroke:#000000; stroke-linecap:butt; stroke-linejoin:round; stroke-width:4; stroke-opacity:1; fill:none\" points=\"\n",
       "  224.098,1131.97 242.996,1131.97 \n",
       "  \"/>\n",
       "<polyline clip-path=\"url(#clip990)\" style=\"stroke:#000000; stroke-linecap:butt; stroke-linejoin:round; stroke-width:4; stroke-opacity:1; fill:none\" points=\"\n",
       "  224.098,949.407 242.996,949.407 \n",
       "  \"/>\n",
       "<polyline clip-path=\"url(#clip990)\" style=\"stroke:#000000; stroke-linecap:butt; stroke-linejoin:round; stroke-width:4; stroke-opacity:1; fill:none\" points=\"\n",
       "  224.098,766.846 242.996,766.846 \n",
       "  \"/>\n",
       "<polyline clip-path=\"url(#clip990)\" style=\"stroke:#000000; stroke-linecap:butt; stroke-linejoin:round; stroke-width:4; stroke-opacity:1; fill:none\" points=\"\n",
       "  224.098,584.285 242.996,584.285 \n",
       "  \"/>\n",
       "<polyline clip-path=\"url(#clip990)\" style=\"stroke:#000000; stroke-linecap:butt; stroke-linejoin:round; stroke-width:4; stroke-opacity:1; fill:none\" points=\"\n",
       "  224.098,401.725 242.996,401.725 \n",
       "  \"/>\n",
       "<polyline clip-path=\"url(#clip990)\" style=\"stroke:#000000; stroke-linecap:butt; stroke-linejoin:round; stroke-width:4; stroke-opacity:1; fill:none\" points=\"\n",
       "  224.098,219.164 242.996,219.164 \n",
       "  \"/>\n",
       "<path clip-path=\"url(#clip990)\" d=\"M81.8021 1314.98 L111.478 1314.98 L111.478 1318.91 L81.8021 1318.91 L81.8021 1314.98 Z\" fill=\"#000000\" fill-rule=\"evenodd\" fill-opacity=\"1\" /><path clip-path=\"url(#clip990)\" d=\"M131.57 1300.33 Q127.959 1300.33 126.131 1303.89 Q124.325 1307.43 124.325 1314.56 Q124.325 1321.67 126.131 1325.23 Q127.959 1328.78 131.57 1328.78 Q135.205 1328.78 137.01 1325.23 Q138.839 1321.67 138.839 1314.56 Q138.839 1307.43 137.01 1303.89 Q135.205 1300.33 131.57 1300.33 M131.57 1296.62 Q137.381 1296.62 140.436 1301.23 Q143.515 1305.81 143.515 1314.56 Q143.515 1323.29 140.436 1327.9 Q137.381 1332.48 131.57 1332.48 Q125.76 1332.48 122.682 1327.9 Q119.626 1323.29 119.626 1314.56 Q119.626 1305.81 122.682 1301.23 Q125.76 1296.62 131.57 1296.62 Z\" fill=\"#000000\" fill-rule=\"evenodd\" fill-opacity=\"1\" /><path clip-path=\"url(#clip990)\" d=\"M151.732 1325.93 L156.617 1325.93 L156.617 1331.81 L151.732 1331.81 L151.732 1325.93 Z\" fill=\"#000000\" fill-rule=\"evenodd\" fill-opacity=\"1\" /><path clip-path=\"url(#clip990)\" d=\"M180.968 1313.17 Q184.325 1313.89 186.2 1316.16 Q188.098 1318.43 188.098 1321.76 Q188.098 1326.88 184.579 1329.68 Q181.061 1332.48 174.579 1332.48 Q172.404 1332.48 170.089 1332.04 Q167.797 1331.62 165.343 1330.77 L165.343 1326.25 Q167.288 1327.39 169.603 1327.97 Q171.917 1328.54 174.441 1328.54 Q178.839 1328.54 181.13 1326.81 Q183.445 1325.07 183.445 1321.76 Q183.445 1318.71 181.292 1316.99 Q179.163 1315.26 175.343 1315.26 L171.316 1315.26 L171.316 1311.41 L175.528 1311.41 Q178.978 1311.41 180.806 1310.05 Q182.635 1308.66 182.635 1306.07 Q182.635 1303.41 180.737 1301.99 Q178.862 1300.56 175.343 1300.56 Q173.422 1300.56 171.223 1300.97 Q169.024 1301.39 166.385 1302.27 L166.385 1298.1 Q169.047 1297.36 171.362 1296.99 Q173.7 1296.62 175.76 1296.62 Q181.084 1296.62 184.186 1299.05 Q187.288 1301.46 187.288 1305.58 Q187.288 1308.45 185.644 1310.44 Q184.001 1312.41 180.968 1313.17 Z\" fill=\"#000000\" fill-rule=\"evenodd\" fill-opacity=\"1\" /><path clip-path=\"url(#clip990)\" d=\"M82.7512 1132.42 L112.427 1132.42 L112.427 1136.35 L82.7512 1136.35 L82.7512 1132.42 Z\" fill=\"#000000\" fill-rule=\"evenodd\" fill-opacity=\"1\" /><path clip-path=\"url(#clip990)\" d=\"M132.519 1117.77 Q128.908 1117.77 127.08 1121.33 Q125.274 1124.87 125.274 1132 Q125.274 1139.11 127.08 1142.67 Q128.908 1146.22 132.519 1146.22 Q136.154 1146.22 137.959 1142.67 Q139.788 1139.11 139.788 1132 Q139.788 1124.87 137.959 1121.33 Q136.154 1117.77 132.519 1117.77 M132.519 1114.06 Q138.33 1114.06 141.385 1118.67 Q144.464 1123.25 144.464 1132 Q144.464 1140.73 141.385 1145.34 Q138.33 1149.92 132.519 1149.92 Q126.709 1149.92 123.631 1145.34 Q120.575 1140.73 120.575 1132 Q120.575 1123.25 123.631 1118.67 Q126.709 1114.06 132.519 1114.06 Z\" fill=\"#000000\" fill-rule=\"evenodd\" fill-opacity=\"1\" /><path clip-path=\"url(#clip990)\" d=\"M152.681 1143.37 L157.566 1143.37 L157.566 1149.25 L152.681 1149.25 L152.681 1143.37 Z\" fill=\"#000000\" fill-rule=\"evenodd\" fill-opacity=\"1\" /><path clip-path=\"url(#clip990)\" d=\"M171.779 1145.31 L188.098 1145.31 L188.098 1149.25 L166.154 1149.25 L166.154 1145.31 Q168.816 1142.56 173.399 1137.93 Q178.005 1133.28 179.186 1131.93 Q181.431 1129.41 182.311 1127.67 Q183.214 1125.91 183.214 1124.22 Q183.214 1121.47 181.269 1119.73 Q179.348 1118 176.246 1118 Q174.047 1118 171.593 1118.76 Q169.163 1119.53 166.385 1121.08 L166.385 1116.35 Q169.209 1115.22 171.663 1114.64 Q174.116 1114.06 176.153 1114.06 Q181.524 1114.06 184.718 1116.75 Q187.913 1119.43 187.913 1123.92 Q187.913 1126.05 187.103 1127.97 Q186.315 1129.87 184.209 1132.47 Q183.63 1133.14 180.528 1136.35 Q177.427 1139.55 171.779 1145.31 Z\" fill=\"#000000\" fill-rule=\"evenodd\" fill-opacity=\"1\" /><path clip-path=\"url(#clip990)\" d=\"M82.3808 949.858 L112.057 949.858 L112.057 953.793 L82.3808 953.793 L82.3808 949.858 Z\" fill=\"#000000\" fill-rule=\"evenodd\" fill-opacity=\"1\" /><path clip-path=\"url(#clip990)\" d=\"M132.149 935.205 Q128.538 935.205 126.709 938.77 Q124.904 942.312 124.904 949.441 Q124.904 956.548 126.709 960.113 Q128.538 963.654 132.149 963.654 Q135.783 963.654 137.589 960.113 Q139.418 956.548 139.418 949.441 Q139.418 942.312 137.589 938.77 Q135.783 935.205 132.149 935.205 M132.149 931.502 Q137.959 931.502 141.015 936.108 Q144.093 940.691 144.093 949.441 Q144.093 958.168 141.015 962.775 Q137.959 967.358 132.149 967.358 Q126.339 967.358 123.26 962.775 Q120.205 958.168 120.205 949.441 Q120.205 940.691 123.26 936.108 Q126.339 931.502 132.149 931.502 Z\" fill=\"#000000\" fill-rule=\"evenodd\" fill-opacity=\"1\" /><path clip-path=\"url(#clip990)\" d=\"M152.311 960.807 L157.195 960.807 L157.195 966.687 L152.311 966.687 L152.311 960.807 Z\" fill=\"#000000\" fill-rule=\"evenodd\" fill-opacity=\"1\" /><path clip-path=\"url(#clip990)\" d=\"M168.191 962.752 L175.829 962.752 L175.829 936.386 L167.519 938.053 L167.519 933.793 L175.783 932.127 L180.459 932.127 L180.459 962.752 L188.098 962.752 L188.098 966.687 L168.191 966.687 L168.191 962.752 Z\" fill=\"#000000\" fill-rule=\"evenodd\" fill-opacity=\"1\" /><path clip-path=\"url(#clip990)\" d=\"M130.922 752.645 Q127.311 752.645 125.482 756.209 Q123.677 759.751 123.677 766.881 Q123.677 773.987 125.482 777.552 Q127.311 781.094 130.922 781.094 Q134.556 781.094 136.362 777.552 Q138.191 773.987 138.191 766.881 Q138.191 759.751 136.362 756.209 Q134.556 752.645 130.922 752.645 M130.922 748.941 Q136.732 748.941 139.788 753.547 Q142.867 758.131 142.867 766.881 Q142.867 775.608 139.788 780.214 Q136.732 784.797 130.922 784.797 Q125.112 784.797 122.033 780.214 Q118.978 775.608 118.978 766.881 Q118.978 758.131 122.033 753.547 Q125.112 748.941 130.922 748.941 Z\" fill=\"#000000\" fill-rule=\"evenodd\" fill-opacity=\"1\" /><path clip-path=\"url(#clip990)\" d=\"M151.084 778.246 L155.968 778.246 L155.968 784.126 L151.084 784.126 L151.084 778.246 Z\" fill=\"#000000\" fill-rule=\"evenodd\" fill-opacity=\"1\" /><path clip-path=\"url(#clip990)\" d=\"M176.153 752.645 Q172.542 752.645 170.714 756.209 Q168.908 759.751 168.908 766.881 Q168.908 773.987 170.714 777.552 Q172.542 781.094 176.153 781.094 Q179.788 781.094 181.593 777.552 Q183.422 773.987 183.422 766.881 Q183.422 759.751 181.593 756.209 Q179.788 752.645 176.153 752.645 M176.153 748.941 Q181.964 748.941 185.019 753.547 Q188.098 758.131 188.098 766.881 Q188.098 775.608 185.019 780.214 Q181.964 784.797 176.153 784.797 Q170.343 784.797 167.265 780.214 Q164.209 775.608 164.209 766.881 Q164.209 758.131 167.265 753.547 Q170.343 748.941 176.153 748.941 Z\" fill=\"#000000\" fill-rule=\"evenodd\" fill-opacity=\"1\" /><path clip-path=\"url(#clip990)\" d=\"M132.149 570.084 Q128.538 570.084 126.709 573.649 Q124.904 577.19 124.904 584.32 Q124.904 591.426 126.709 594.991 Q128.538 598.533 132.149 598.533 Q135.783 598.533 137.589 594.991 Q139.418 591.426 139.418 584.32 Q139.418 577.19 137.589 573.649 Q135.783 570.084 132.149 570.084 M132.149 566.38 Q137.959 566.38 141.015 570.987 Q144.093 575.57 144.093 584.32 Q144.093 593.047 141.015 597.653 Q137.959 602.237 132.149 602.237 Q126.339 602.237 123.26 597.653 Q120.205 593.047 120.205 584.32 Q120.205 575.57 123.26 570.987 Q126.339 566.38 132.149 566.38 Z\" fill=\"#000000\" fill-rule=\"evenodd\" fill-opacity=\"1\" /><path clip-path=\"url(#clip990)\" d=\"M152.311 595.686 L157.195 595.686 L157.195 601.565 L152.311 601.565 L152.311 595.686 Z\" fill=\"#000000\" fill-rule=\"evenodd\" fill-opacity=\"1\" /><path clip-path=\"url(#clip990)\" d=\"M168.191 597.63 L175.829 597.63 L175.829 571.264 L167.519 572.931 L167.519 568.672 L175.783 567.005 L180.459 567.005 L180.459 597.63 L188.098 597.63 L188.098 601.565 L168.191 601.565 L168.191 597.63 Z\" fill=\"#000000\" fill-rule=\"evenodd\" fill-opacity=\"1\" /><path clip-path=\"url(#clip990)\" d=\"M132.519 387.523 Q128.908 387.523 127.08 391.088 Q125.274 394.63 125.274 401.759 Q125.274 408.866 127.08 412.43 Q128.908 415.972 132.519 415.972 Q136.154 415.972 137.959 412.43 Q139.788 408.866 139.788 401.759 Q139.788 394.63 137.959 391.088 Q136.154 387.523 132.519 387.523 M132.519 383.82 Q138.33 383.82 141.385 388.426 Q144.464 393.009 144.464 401.759 Q144.464 410.486 141.385 415.093 Q138.33 419.676 132.519 419.676 Q126.709 419.676 123.631 415.093 Q120.575 410.486 120.575 401.759 Q120.575 393.009 123.631 388.426 Q126.709 383.82 132.519 383.82 Z\" fill=\"#000000\" fill-rule=\"evenodd\" fill-opacity=\"1\" /><path clip-path=\"url(#clip990)\" d=\"M152.681 413.125 L157.566 413.125 L157.566 419.005 L152.681 419.005 L152.681 413.125 Z\" fill=\"#000000\" fill-rule=\"evenodd\" fill-opacity=\"1\" /><path clip-path=\"url(#clip990)\" d=\"M171.779 415.069 L188.098 415.069 L188.098 419.005 L166.154 419.005 L166.154 415.069 Q168.816 412.315 173.399 407.685 Q178.005 403.032 179.186 401.69 Q181.431 399.167 182.311 397.431 Q183.214 395.671 183.214 393.982 Q183.214 391.227 181.269 389.491 Q179.348 387.755 176.246 387.755 Q174.047 387.755 171.593 388.519 Q169.163 389.282 166.385 390.833 L166.385 386.111 Q169.209 384.977 171.663 384.398 Q174.116 383.82 176.153 383.82 Q181.524 383.82 184.718 386.505 Q187.913 389.19 187.913 393.681 Q187.913 395.81 187.103 397.732 Q186.315 399.63 184.209 402.222 Q183.63 402.894 180.528 406.111 Q177.427 409.306 171.779 415.069 Z\" fill=\"#000000\" fill-rule=\"evenodd\" fill-opacity=\"1\" /><path clip-path=\"url(#clip990)\" d=\"M131.57 204.963 Q127.959 204.963 126.131 208.527 Q124.325 212.069 124.325 219.199 Q124.325 226.305 126.131 229.87 Q127.959 233.411 131.57 233.411 Q135.205 233.411 137.01 229.87 Q138.839 226.305 138.839 219.199 Q138.839 212.069 137.01 208.527 Q135.205 204.963 131.57 204.963 M131.57 201.259 Q137.381 201.259 140.436 205.865 Q143.515 210.449 143.515 219.199 Q143.515 227.925 140.436 232.532 Q137.381 237.115 131.57 237.115 Q125.76 237.115 122.682 232.532 Q119.626 227.925 119.626 219.199 Q119.626 210.449 122.682 205.865 Q125.76 201.259 131.57 201.259 Z\" fill=\"#000000\" fill-rule=\"evenodd\" fill-opacity=\"1\" /><path clip-path=\"url(#clip990)\" d=\"M151.732 230.564 L156.617 230.564 L156.617 236.444 L151.732 236.444 L151.732 230.564 Z\" fill=\"#000000\" fill-rule=\"evenodd\" fill-opacity=\"1\" /><path clip-path=\"url(#clip990)\" d=\"M180.968 217.81 Q184.325 218.527 186.2 220.796 Q188.098 223.064 188.098 226.398 Q188.098 231.513 184.579 234.314 Q181.061 237.115 174.579 237.115 Q172.404 237.115 170.089 236.675 Q167.797 236.259 165.343 235.402 L165.343 230.888 Q167.288 232.023 169.603 232.601 Q171.917 233.18 174.441 233.18 Q178.839 233.18 181.13 231.444 Q183.445 229.708 183.445 226.398 Q183.445 223.342 181.292 221.629 Q179.163 219.893 175.343 219.893 L171.316 219.893 L171.316 216.05 L175.528 216.05 Q178.978 216.05 180.806 214.685 Q182.635 213.296 182.635 210.703 Q182.635 208.041 180.737 206.629 Q178.862 205.194 175.343 205.194 Q173.422 205.194 171.223 205.611 Q169.024 206.027 166.385 206.907 L166.385 202.74 Q169.047 202 171.362 201.629 Q173.7 201.259 175.76 201.259 Q181.084 201.259 184.186 203.689 Q187.288 206.097 187.288 210.217 Q187.288 213.087 185.644 215.078 Q184.001 217.046 180.968 217.81 Z\" fill=\"#000000\" fill-rule=\"evenodd\" fill-opacity=\"1\" /><circle clip-path=\"url(#clip992)\" cx=\"284.343\" cy=\"766.846\" r=\"14\" fill=\"#009af9\" fill-rule=\"evenodd\" fill-opacity=\"0.5\" stroke=\"#000000\" stroke-opacity=\"0.5\" stroke-width=\"3.2\"/>\n",
       "<path clip-path=\"url(#clip992)\" d=\"\n",
       "M2292.51 584.285 L1927.39 584.285 L1927.39 949.407 L2292.51 949.407 L2292.51 584.285 L2292.51 584.285  Z\n",
       "  \" fill=\"#e26f46\" fill-rule=\"evenodd\" fill-opacity=\"0.5\"/>\n",
       "<polyline clip-path=\"url(#clip992)\" style=\"stroke:#000000; stroke-linecap:butt; stroke-linejoin:round; stroke-width:4; stroke-opacity:0.5; fill:none\" points=\"\n",
       "  2292.51,584.285 1927.39,584.285 1927.39,949.407 2292.51,949.407 2292.51,584.285 \n",
       "  \"/>\n",
       "</svg>\n"
      ]
     },
     "execution_count": 7,
     "metadata": {},
     "output_type": "execute_result"
    }
   ],
   "source": [
    "# definition of a box in terms of outer and inner bounds\n",
    "L = [0.9, -0.1]\n",
    "H = [1.1, +0.1]\n",
    "B = Hyperrectangle(low=L, high=H)\n",
    "\n",
    "plot(ZeroSet(2)) # the origin\n",
    "plot!(B, ratio=1.)   # the box; ratio specifies the aspect ratio"
   ]
  },
  {
   "cell_type": "code",
   "execution_count": 8,
   "metadata": {},
   "outputs": [
    {
     "data": {
      "text/plain": [
       "2-element Vector{Float64}:\n",
       " 0.10000000000000009\n",
       " 0.1"
      ]
     },
     "execution_count": 8,
     "metadata": {},
     "output_type": "execute_result"
    }
   ],
   "source": [
    "R = radius_hyperrectangle(B) # radius vector"
   ]
  },
  {
   "cell_type": "code",
   "execution_count": 9,
   "metadata": {},
   "outputs": [
    {
     "data": {
      "text/plain": [
       "2-element Vector{Float64}:\n",
       " 0.050000000000000044\n",
       " 0.05"
      ]
     },
     "execution_count": 9,
     "metadata": {},
     "output_type": "execute_result"
    }
   ],
   "source": [
    "Rhalf = R ./ 2"
   ]
  },
  {
   "cell_type": "code",
   "execution_count": 10,
   "metadata": {},
   "outputs": [
    {
     "data": {
      "image/svg+xml": [
       "<?xml version=\"1.0\" encoding=\"utf-8\"?>\n",
       "<svg xmlns=\"http://www.w3.org/2000/svg\" xmlns:xlink=\"http://www.w3.org/1999/xlink\" width=\"600\" height=\"400\" viewBox=\"0 0 2400 1600\">\n",
       "<defs>\n",
       "  <clipPath id=\"clip030\">\n",
       "    <rect x=\"0\" y=\"0\" width=\"2400\" height=\"1600\"/>\n",
       "  </clipPath>\n",
       "</defs>\n",
       "<path clip-path=\"url(#clip030)\" d=\"\n",
       "M0 1600 L2400 1600 L2400 0 L0 0  Z\n",
       "  \" fill=\"#ffffff\" fill-rule=\"evenodd\" fill-opacity=\"1\"/>\n",
       "<defs>\n",
       "  <clipPath id=\"clip031\">\n",
       "    <rect x=\"480\" y=\"0\" width=\"1681\" height=\"1600\"/>\n",
       "  </clipPath>\n",
       "</defs>\n",
       "<path clip-path=\"url(#clip030)\" d=\"\n",
       "M193.288 1486.45 L2352.76 1486.45 L2352.76 47.2441 L193.288 47.2441  Z\n",
       "  \" fill=\"#ffffff\" fill-rule=\"evenodd\" fill-opacity=\"1\"/>\n",
       "<defs>\n",
       "  <clipPath id=\"clip032\">\n",
       "    <rect x=\"193\" y=\"47\" width=\"2160\" height=\"1440\"/>\n",
       "  </clipPath>\n",
       "</defs>\n",
       "<polyline clip-path=\"url(#clip032)\" style=\"stroke:#000000; stroke-linecap:butt; stroke-linejoin:round; stroke-width:2; stroke-opacity:0.1; fill:none\" points=\"\n",
       "  254.405,1486.45 254.405,47.2441 \n",
       "  \"/>\n",
       "<polyline clip-path=\"url(#clip032)\" style=\"stroke:#000000; stroke-linecap:butt; stroke-linejoin:round; stroke-width:2; stroke-opacity:0.1; fill:none\" points=\"\n",
       "  717.413,1486.45 717.413,47.2441 \n",
       "  \"/>\n",
       "<polyline clip-path=\"url(#clip032)\" style=\"stroke:#000000; stroke-linecap:butt; stroke-linejoin:round; stroke-width:2; stroke-opacity:0.1; fill:none\" points=\"\n",
       "  1180.42,1486.45 1180.42,47.2441 \n",
       "  \"/>\n",
       "<polyline clip-path=\"url(#clip032)\" style=\"stroke:#000000; stroke-linecap:butt; stroke-linejoin:round; stroke-width:2; stroke-opacity:0.1; fill:none\" points=\"\n",
       "  1643.43,1486.45 1643.43,47.2441 \n",
       "  \"/>\n",
       "<polyline clip-path=\"url(#clip032)\" style=\"stroke:#000000; stroke-linecap:butt; stroke-linejoin:round; stroke-width:2; stroke-opacity:0.1; fill:none\" points=\"\n",
       "  2106.44,1486.45 2106.44,47.2441 \n",
       "  \"/>\n",
       "<polyline clip-path=\"url(#clip030)\" style=\"stroke:#000000; stroke-linecap:butt; stroke-linejoin:round; stroke-width:4; stroke-opacity:1; fill:none\" points=\"\n",
       "  193.288,1486.45 2352.76,1486.45 \n",
       "  \"/>\n",
       "<polyline clip-path=\"url(#clip030)\" style=\"stroke:#000000; stroke-linecap:butt; stroke-linejoin:round; stroke-width:4; stroke-opacity:1; fill:none\" points=\"\n",
       "  254.405,1486.45 254.405,1467.55 \n",
       "  \"/>\n",
       "<polyline clip-path=\"url(#clip030)\" style=\"stroke:#000000; stroke-linecap:butt; stroke-linejoin:round; stroke-width:4; stroke-opacity:1; fill:none\" points=\"\n",
       "  717.413,1486.45 717.413,1467.55 \n",
       "  \"/>\n",
       "<polyline clip-path=\"url(#clip030)\" style=\"stroke:#000000; stroke-linecap:butt; stroke-linejoin:round; stroke-width:4; stroke-opacity:1; fill:none\" points=\"\n",
       "  1180.42,1486.45 1180.42,1467.55 \n",
       "  \"/>\n",
       "<polyline clip-path=\"url(#clip030)\" style=\"stroke:#000000; stroke-linecap:butt; stroke-linejoin:round; stroke-width:4; stroke-opacity:1; fill:none\" points=\"\n",
       "  1643.43,1486.45 1643.43,1467.55 \n",
       "  \"/>\n",
       "<polyline clip-path=\"url(#clip030)\" style=\"stroke:#000000; stroke-linecap:butt; stroke-linejoin:round; stroke-width:4; stroke-opacity:1; fill:none\" points=\"\n",
       "  2106.44,1486.45 2106.44,1467.55 \n",
       "  \"/>\n",
       "<path clip-path=\"url(#clip030)\" d=\"M216.708 1515.64 Q213.097 1515.64 211.269 1519.2 Q209.463 1522.75 209.463 1529.87 Q209.463 1536.98 211.269 1540.55 Q213.097 1544.09 216.708 1544.09 Q220.343 1544.09 222.148 1540.55 Q223.977 1536.98 223.977 1529.87 Q223.977 1522.75 222.148 1519.2 Q220.343 1515.64 216.708 1515.64 M216.708 1511.93 Q222.518 1511.93 225.574 1516.54 Q228.653 1521.12 228.653 1529.87 Q228.653 1538.6 225.574 1543.21 Q222.518 1547.79 216.708 1547.79 Q210.898 1547.79 207.819 1543.21 Q204.764 1538.6 204.764 1529.87 Q204.764 1521.12 207.819 1516.54 Q210.898 1511.93 216.708 1511.93 Z\" fill=\"#000000\" fill-rule=\"evenodd\" fill-opacity=\"1\" /><path clip-path=\"url(#clip030)\" d=\"M236.87 1541.24 L241.754 1541.24 L241.754 1547.12 L236.87 1547.12 L236.87 1541.24 Z\" fill=\"#000000\" fill-rule=\"evenodd\" fill-opacity=\"1\" /><path clip-path=\"url(#clip030)\" d=\"M261.94 1515.64 Q258.328 1515.64 256.5 1519.2 Q254.694 1522.75 254.694 1529.87 Q254.694 1536.98 256.5 1540.55 Q258.328 1544.09 261.94 1544.09 Q265.574 1544.09 267.379 1540.55 Q269.208 1536.98 269.208 1529.87 Q269.208 1522.75 267.379 1519.2 Q265.574 1515.64 261.94 1515.64 M261.94 1511.93 Q267.75 1511.93 270.805 1516.54 Q273.884 1521.12 273.884 1529.87 Q273.884 1538.6 270.805 1543.21 Q267.75 1547.79 261.94 1547.79 Q256.129 1547.79 253.051 1543.21 Q249.995 1538.6 249.995 1529.87 Q249.995 1521.12 253.051 1516.54 Q256.129 1511.93 261.94 1511.93 Z\" fill=\"#000000\" fill-rule=\"evenodd\" fill-opacity=\"1\" /><path clip-path=\"url(#clip030)\" d=\"M292.101 1515.64 Q288.49 1515.64 286.662 1519.2 Q284.856 1522.75 284.856 1529.87 Q284.856 1536.98 286.662 1540.55 Q288.49 1544.09 292.101 1544.09 Q295.736 1544.09 297.541 1540.55 Q299.37 1536.98 299.37 1529.87 Q299.37 1522.75 297.541 1519.2 Q295.736 1515.64 292.101 1515.64 M292.101 1511.93 Q297.912 1511.93 300.967 1516.54 Q304.046 1521.12 304.046 1529.87 Q304.046 1538.6 300.967 1543.21 Q297.912 1547.79 292.101 1547.79 Q286.291 1547.79 283.213 1543.21 Q280.157 1538.6 280.157 1529.87 Q280.157 1521.12 283.213 1516.54 Q286.291 1511.93 292.101 1511.93 Z\" fill=\"#000000\" fill-rule=\"evenodd\" fill-opacity=\"1\" /><path clip-path=\"url(#clip030)\" d=\"M680.214 1515.64 Q676.603 1515.64 674.774 1519.2 Q672.968 1522.75 672.968 1529.87 Q672.968 1536.98 674.774 1540.55 Q676.603 1544.09 680.214 1544.09 Q683.848 1544.09 685.654 1540.55 Q687.482 1536.98 687.482 1529.87 Q687.482 1522.75 685.654 1519.2 Q683.848 1515.64 680.214 1515.64 M680.214 1511.93 Q686.024 1511.93 689.079 1516.54 Q692.158 1521.12 692.158 1529.87 Q692.158 1538.6 689.079 1543.21 Q686.024 1547.79 680.214 1547.79 Q674.404 1547.79 671.325 1543.21 Q668.269 1538.6 668.269 1529.87 Q668.269 1521.12 671.325 1516.54 Q674.404 1511.93 680.214 1511.93 Z\" fill=\"#000000\" fill-rule=\"evenodd\" fill-opacity=\"1\" /><path clip-path=\"url(#clip030)\" d=\"M700.376 1541.24 L705.26 1541.24 L705.26 1547.12 L700.376 1547.12 L700.376 1541.24 Z\" fill=\"#000000\" fill-rule=\"evenodd\" fill-opacity=\"1\" /><path clip-path=\"url(#clip030)\" d=\"M719.473 1543.18 L735.792 1543.18 L735.792 1547.12 L713.848 1547.12 L713.848 1543.18 Q716.51 1540.43 721.093 1535.8 Q725.7 1531.15 726.88 1529.81 Q729.126 1527.28 730.005 1525.55 Q730.908 1523.79 730.908 1522.1 Q730.908 1519.34 728.963 1517.61 Q727.042 1515.87 723.94 1515.87 Q721.741 1515.87 719.288 1516.63 Q716.857 1517.4 714.079 1518.95 L714.079 1514.23 Q716.903 1513.09 719.357 1512.51 Q721.811 1511.93 723.848 1511.93 Q729.218 1511.93 732.413 1514.62 Q735.607 1517.31 735.607 1521.8 Q735.607 1523.93 734.797 1525.85 Q734.01 1527.74 731.903 1530.34 Q731.325 1531.01 728.223 1534.23 Q725.121 1537.42 719.473 1543.18 Z\" fill=\"#000000\" fill-rule=\"evenodd\" fill-opacity=\"1\" /><path clip-path=\"url(#clip030)\" d=\"M745.653 1512.56 L764.01 1512.56 L764.01 1516.5 L749.936 1516.5 L749.936 1524.97 Q750.954 1524.62 751.973 1524.46 Q752.991 1524.27 754.01 1524.27 Q759.797 1524.27 763.176 1527.44 Q766.556 1530.62 766.556 1536.03 Q766.556 1541.61 763.084 1544.71 Q759.611 1547.79 753.292 1547.79 Q751.116 1547.79 748.848 1547.42 Q746.602 1547.05 744.195 1546.31 L744.195 1541.61 Q746.278 1542.74 748.5 1543.3 Q750.723 1543.86 753.199 1543.86 Q757.204 1543.86 759.542 1541.75 Q761.88 1539.64 761.88 1536.03 Q761.88 1532.42 759.542 1530.31 Q757.204 1528.21 753.199 1528.21 Q751.324 1528.21 749.449 1528.62 Q747.598 1529.04 745.653 1529.92 L745.653 1512.56 Z\" fill=\"#000000\" fill-rule=\"evenodd\" fill-opacity=\"1\" /><path clip-path=\"url(#clip030)\" d=\"M1142.72 1515.64 Q1139.11 1515.64 1137.28 1519.2 Q1135.48 1522.75 1135.48 1529.87 Q1135.48 1536.98 1137.28 1540.55 Q1139.11 1544.09 1142.72 1544.09 Q1146.36 1544.09 1148.16 1540.55 Q1149.99 1536.98 1149.99 1529.87 Q1149.99 1522.75 1148.16 1519.2 Q1146.36 1515.64 1142.72 1515.64 M1142.72 1511.93 Q1148.53 1511.93 1151.59 1516.54 Q1154.67 1521.12 1154.67 1529.87 Q1154.67 1538.6 1151.59 1543.21 Q1148.53 1547.79 1142.72 1547.79 Q1136.91 1547.79 1133.83 1543.21 Q1130.78 1538.6 1130.78 1529.87 Q1130.78 1521.12 1133.83 1516.54 Q1136.91 1511.93 1142.72 1511.93 Z\" fill=\"#000000\" fill-rule=\"evenodd\" fill-opacity=\"1\" /><path clip-path=\"url(#clip030)\" d=\"M1162.89 1541.24 L1167.77 1541.24 L1167.77 1547.12 L1162.89 1547.12 L1162.89 1541.24 Z\" fill=\"#000000\" fill-rule=\"evenodd\" fill-opacity=\"1\" /><path clip-path=\"url(#clip030)\" d=\"M1178 1512.56 L1196.36 1512.56 L1196.36 1516.5 L1182.28 1516.5 L1182.28 1524.97 Q1183.3 1524.62 1184.32 1524.46 Q1185.34 1524.27 1186.36 1524.27 Q1192.14 1524.27 1195.52 1527.44 Q1198.9 1530.62 1198.9 1536.03 Q1198.9 1541.61 1195.43 1544.71 Q1191.96 1547.79 1185.64 1547.79 Q1183.46 1547.79 1181.2 1547.42 Q1178.95 1547.05 1176.54 1546.31 L1176.54 1541.61 Q1178.63 1542.74 1180.85 1543.3 Q1183.07 1543.86 1185.55 1543.86 Q1189.55 1543.86 1191.89 1541.75 Q1194.23 1539.64 1194.23 1536.03 Q1194.23 1532.42 1191.89 1530.31 Q1189.55 1528.21 1185.55 1528.21 Q1183.67 1528.21 1181.8 1528.62 Q1179.95 1529.04 1178 1529.92 L1178 1512.56 Z\" fill=\"#000000\" fill-rule=\"evenodd\" fill-opacity=\"1\" /><path clip-path=\"url(#clip030)\" d=\"M1218.12 1515.64 Q1214.51 1515.64 1212.68 1519.2 Q1210.87 1522.75 1210.87 1529.87 Q1210.87 1536.98 1212.68 1540.55 Q1214.51 1544.09 1218.12 1544.09 Q1221.75 1544.09 1223.56 1540.55 Q1225.39 1536.98 1225.39 1529.87 Q1225.39 1522.75 1223.56 1519.2 Q1221.75 1515.64 1218.12 1515.64 M1218.12 1511.93 Q1223.93 1511.93 1226.98 1516.54 Q1230.06 1521.12 1230.06 1529.87 Q1230.06 1538.6 1226.98 1543.21 Q1223.93 1547.79 1218.12 1547.79 Q1212.31 1547.79 1209.23 1543.21 Q1206.17 1538.6 1206.17 1529.87 Q1206.17 1521.12 1209.23 1516.54 Q1212.31 1511.93 1218.12 1511.93 Z\" fill=\"#000000\" fill-rule=\"evenodd\" fill-opacity=\"1\" /><path clip-path=\"url(#clip030)\" d=\"M1606.23 1515.64 Q1602.62 1515.64 1600.79 1519.2 Q1598.98 1522.75 1598.98 1529.87 Q1598.98 1536.98 1600.79 1540.55 Q1602.62 1544.09 1606.23 1544.09 Q1609.86 1544.09 1611.67 1540.55 Q1613.5 1536.98 1613.5 1529.87 Q1613.5 1522.75 1611.67 1519.2 Q1609.86 1515.64 1606.23 1515.64 M1606.23 1511.93 Q1612.04 1511.93 1615.09 1516.54 Q1618.17 1521.12 1618.17 1529.87 Q1618.17 1538.6 1615.09 1543.21 Q1612.04 1547.79 1606.23 1547.79 Q1600.42 1547.79 1597.34 1543.21 Q1594.28 1538.6 1594.28 1529.87 Q1594.28 1521.12 1597.34 1516.54 Q1600.42 1511.93 1606.23 1511.93 Z\" fill=\"#000000\" fill-rule=\"evenodd\" fill-opacity=\"1\" /><path clip-path=\"url(#clip030)\" d=\"M1626.39 1541.24 L1631.28 1541.24 L1631.28 1547.12 L1626.39 1547.12 L1626.39 1541.24 Z\" fill=\"#000000\" fill-rule=\"evenodd\" fill-opacity=\"1\" /><path clip-path=\"url(#clip030)\" d=\"M1640.28 1512.56 L1662.5 1512.56 L1662.5 1514.55 L1649.96 1547.12 L1645.07 1547.12 L1656.88 1516.5 L1640.28 1516.5 L1640.28 1512.56 Z\" fill=\"#000000\" fill-rule=\"evenodd\" fill-opacity=\"1\" /><path clip-path=\"url(#clip030)\" d=\"M1671.67 1512.56 L1690.03 1512.56 L1690.03 1516.5 L1675.95 1516.5 L1675.95 1524.97 Q1676.97 1524.62 1677.99 1524.46 Q1679.01 1524.27 1680.03 1524.27 Q1685.81 1524.27 1689.19 1527.44 Q1692.57 1530.62 1692.57 1536.03 Q1692.57 1541.61 1689.1 1544.71 Q1685.63 1547.79 1679.31 1547.79 Q1677.13 1547.79 1674.86 1547.42 Q1672.62 1547.05 1670.21 1546.31 L1670.21 1541.61 Q1672.29 1542.74 1674.52 1543.3 Q1676.74 1543.86 1679.21 1543.86 Q1683.22 1543.86 1685.56 1541.75 Q1687.9 1539.64 1687.9 1536.03 Q1687.9 1532.42 1685.56 1530.31 Q1683.22 1528.21 1679.21 1528.21 Q1677.34 1528.21 1675.46 1528.62 Q1673.61 1529.04 1671.67 1529.92 L1671.67 1512.56 Z\" fill=\"#000000\" fill-rule=\"evenodd\" fill-opacity=\"1\" /><path clip-path=\"url(#clip030)\" d=\"M2058.51 1543.18 L2066.15 1543.18 L2066.15 1516.82 L2057.84 1518.49 L2057.84 1514.23 L2066.1 1512.56 L2070.78 1512.56 L2070.78 1543.18 L2078.42 1543.18 L2078.42 1547.12 L2058.51 1547.12 L2058.51 1543.18 Z\" fill=\"#000000\" fill-rule=\"evenodd\" fill-opacity=\"1\" /><path clip-path=\"url(#clip030)\" d=\"M2087.86 1541.24 L2092.74 1541.24 L2092.74 1547.12 L2087.86 1547.12 L2087.86 1541.24 Z\" fill=\"#000000\" fill-rule=\"evenodd\" fill-opacity=\"1\" /><path clip-path=\"url(#clip030)\" d=\"M2112.93 1515.64 Q2109.32 1515.64 2107.49 1519.2 Q2105.68 1522.75 2105.68 1529.87 Q2105.68 1536.98 2107.49 1540.55 Q2109.32 1544.09 2112.93 1544.09 Q2116.56 1544.09 2118.37 1540.55 Q2120.2 1536.98 2120.2 1529.87 Q2120.2 1522.75 2118.37 1519.2 Q2116.56 1515.64 2112.93 1515.64 M2112.93 1511.93 Q2118.74 1511.93 2121.79 1516.54 Q2124.87 1521.12 2124.87 1529.87 Q2124.87 1538.6 2121.79 1543.21 Q2118.74 1547.79 2112.93 1547.79 Q2107.12 1547.79 2104.04 1543.21 Q2100.98 1538.6 2100.98 1529.87 Q2100.98 1521.12 2104.04 1516.54 Q2107.12 1511.93 2112.93 1511.93 Z\" fill=\"#000000\" fill-rule=\"evenodd\" fill-opacity=\"1\" /><path clip-path=\"url(#clip030)\" d=\"M2143.09 1515.64 Q2139.48 1515.64 2137.65 1519.2 Q2135.85 1522.75 2135.85 1529.87 Q2135.85 1536.98 2137.65 1540.55 Q2139.48 1544.09 2143.09 1544.09 Q2146.72 1544.09 2148.53 1540.55 Q2150.36 1536.98 2150.36 1529.87 Q2150.36 1522.75 2148.53 1519.2 Q2146.72 1515.64 2143.09 1515.64 M2143.09 1511.93 Q2148.9 1511.93 2151.96 1516.54 Q2155.04 1521.12 2155.04 1529.87 Q2155.04 1538.6 2151.96 1543.21 Q2148.9 1547.79 2143.09 1547.79 Q2137.28 1547.79 2134.2 1543.21 Q2131.15 1538.6 2131.15 1529.87 Q2131.15 1521.12 2134.2 1516.54 Q2137.28 1511.93 2143.09 1511.93 Z\" fill=\"#000000\" fill-rule=\"evenodd\" fill-opacity=\"1\" /><polyline clip-path=\"url(#clip032)\" style=\"stroke:#000000; stroke-linecap:butt; stroke-linejoin:round; stroke-width:2; stroke-opacity:0.1; fill:none\" points=\"\n",
       "  193.288,1322.46 2352.76,1322.46 \n",
       "  \"/>\n",
       "<polyline clip-path=\"url(#clip032)\" style=\"stroke:#000000; stroke-linecap:butt; stroke-linejoin:round; stroke-width:2; stroke-opacity:0.1; fill:none\" points=\"\n",
       "  193.288,1137.25 2352.76,1137.25 \n",
       "  \"/>\n",
       "<polyline clip-path=\"url(#clip032)\" style=\"stroke:#000000; stroke-linecap:butt; stroke-linejoin:round; stroke-width:2; stroke-opacity:0.1; fill:none\" points=\"\n",
       "  193.288,952.049 2352.76,952.049 \n",
       "  \"/>\n",
       "<polyline clip-path=\"url(#clip032)\" style=\"stroke:#000000; stroke-linecap:butt; stroke-linejoin:round; stroke-width:2; stroke-opacity:0.1; fill:none\" points=\"\n",
       "  193.288,766.846 2352.76,766.846 \n",
       "  \"/>\n",
       "<polyline clip-path=\"url(#clip032)\" style=\"stroke:#000000; stroke-linecap:butt; stroke-linejoin:round; stroke-width:2; stroke-opacity:0.1; fill:none\" points=\"\n",
       "  193.288,581.643 2352.76,581.643 \n",
       "  \"/>\n",
       "<polyline clip-path=\"url(#clip032)\" style=\"stroke:#000000; stroke-linecap:butt; stroke-linejoin:round; stroke-width:2; stroke-opacity:0.1; fill:none\" points=\"\n",
       "  193.288,396.44 2352.76,396.44 \n",
       "  \"/>\n",
       "<polyline clip-path=\"url(#clip032)\" style=\"stroke:#000000; stroke-linecap:butt; stroke-linejoin:round; stroke-width:2; stroke-opacity:0.1; fill:none\" points=\"\n",
       "  193.288,211.237 2352.76,211.237 \n",
       "  \"/>\n",
       "<polyline clip-path=\"url(#clip030)\" style=\"stroke:#000000; stroke-linecap:butt; stroke-linejoin:round; stroke-width:4; stroke-opacity:1; fill:none\" points=\"\n",
       "  193.288,1486.45 193.288,47.2441 \n",
       "  \"/>\n",
       "<polyline clip-path=\"url(#clip030)\" style=\"stroke:#000000; stroke-linecap:butt; stroke-linejoin:round; stroke-width:4; stroke-opacity:1; fill:none\" points=\"\n",
       "  193.288,1322.46 212.185,1322.46 \n",
       "  \"/>\n",
       "<polyline clip-path=\"url(#clip030)\" style=\"stroke:#000000; stroke-linecap:butt; stroke-linejoin:round; stroke-width:4; stroke-opacity:1; fill:none\" points=\"\n",
       "  193.288,1137.25 212.185,1137.25 \n",
       "  \"/>\n",
       "<polyline clip-path=\"url(#clip030)\" style=\"stroke:#000000; stroke-linecap:butt; stroke-linejoin:round; stroke-width:4; stroke-opacity:1; fill:none\" points=\"\n",
       "  193.288,952.049 212.185,952.049 \n",
       "  \"/>\n",
       "<polyline clip-path=\"url(#clip030)\" style=\"stroke:#000000; stroke-linecap:butt; stroke-linejoin:round; stroke-width:4; stroke-opacity:1; fill:none\" points=\"\n",
       "  193.288,766.846 212.185,766.846 \n",
       "  \"/>\n",
       "<polyline clip-path=\"url(#clip030)\" style=\"stroke:#000000; stroke-linecap:butt; stroke-linejoin:round; stroke-width:4; stroke-opacity:1; fill:none\" points=\"\n",
       "  193.288,581.643 212.185,581.643 \n",
       "  \"/>\n",
       "<polyline clip-path=\"url(#clip030)\" style=\"stroke:#000000; stroke-linecap:butt; stroke-linejoin:round; stroke-width:4; stroke-opacity:1; fill:none\" points=\"\n",
       "  193.288,396.44 212.185,396.44 \n",
       "  \"/>\n",
       "<polyline clip-path=\"url(#clip030)\" style=\"stroke:#000000; stroke-linecap:butt; stroke-linejoin:round; stroke-width:4; stroke-opacity:1; fill:none\" points=\"\n",
       "  193.288,211.237 212.185,211.237 \n",
       "  \"/>\n",
       "<path clip-path=\"url(#clip030)\" d=\"M50.9921 1322.91 L80.6679 1322.91 L80.6679 1326.84 L50.9921 1326.84 L50.9921 1322.91 Z\" fill=\"#000000\" fill-rule=\"evenodd\" fill-opacity=\"1\" /><path clip-path=\"url(#clip030)\" d=\"M100.76 1308.25 Q97.1493 1308.25 95.3206 1311.82 Q93.515 1315.36 93.515 1322.49 Q93.515 1329.6 95.3206 1333.16 Q97.1493 1336.7 100.76 1336.7 Q104.395 1336.7 106.2 1333.16 Q108.029 1329.6 108.029 1322.49 Q108.029 1315.36 106.2 1311.82 Q104.395 1308.25 100.76 1308.25 M100.76 1304.55 Q106.571 1304.55 109.626 1309.16 Q112.705 1313.74 112.705 1322.49 Q112.705 1331.22 109.626 1335.82 Q106.571 1340.41 100.76 1340.41 Q94.9502 1340.41 91.8715 1335.82 Q88.816 1331.22 88.816 1322.49 Q88.816 1313.74 91.8715 1309.16 Q94.9502 1304.55 100.76 1304.55 Z\" fill=\"#000000\" fill-rule=\"evenodd\" fill-opacity=\"1\" /><path clip-path=\"url(#clip030)\" d=\"M120.922 1333.86 L125.807 1333.86 L125.807 1339.74 L120.922 1339.74 L120.922 1333.86 Z\" fill=\"#000000\" fill-rule=\"evenodd\" fill-opacity=\"1\" /><path clip-path=\"url(#clip030)\" d=\"M150.158 1321.1 Q153.515 1321.82 155.39 1324.09 Q157.288 1326.36 157.288 1329.69 Q157.288 1334.8 153.769 1337.61 Q150.251 1340.41 143.769 1340.41 Q141.593 1340.41 139.279 1339.97 Q136.987 1339.55 134.533 1338.69 L134.533 1334.18 Q136.478 1335.31 138.793 1335.89 Q141.107 1336.47 143.631 1336.47 Q148.029 1336.47 150.32 1334.74 Q152.635 1333 152.635 1329.69 Q152.635 1326.63 150.482 1324.92 Q148.353 1323.18 144.533 1323.18 L140.506 1323.18 L140.506 1319.34 L144.718 1319.34 Q148.168 1319.34 149.996 1317.98 Q151.825 1316.59 151.825 1313.99 Q151.825 1311.33 149.927 1309.92 Q148.052 1308.49 144.533 1308.49 Q142.612 1308.49 140.413 1308.9 Q138.214 1309.32 135.575 1310.2 L135.575 1306.03 Q138.237 1305.29 140.552 1304.92 Q142.89 1304.55 144.95 1304.55 Q150.274 1304.55 153.376 1306.98 Q156.478 1309.39 156.478 1313.51 Q156.478 1316.38 154.834 1318.37 Q153.191 1320.34 150.158 1321.1 Z\" fill=\"#000000\" fill-rule=\"evenodd\" fill-opacity=\"1\" /><path clip-path=\"url(#clip030)\" d=\"M51.9412 1137.7 L81.617 1137.7 L81.617 1141.64 L51.9412 1141.64 L51.9412 1137.7 Z\" fill=\"#000000\" fill-rule=\"evenodd\" fill-opacity=\"1\" /><path clip-path=\"url(#clip030)\" d=\"M101.709 1123.05 Q98.0984 1123.05 96.2697 1126.62 Q94.4641 1130.16 94.4641 1137.29 Q94.4641 1144.39 96.2697 1147.96 Q98.0984 1151.5 101.709 1151.5 Q105.344 1151.5 107.149 1147.96 Q108.978 1144.39 108.978 1137.29 Q108.978 1130.16 107.149 1126.62 Q105.344 1123.05 101.709 1123.05 M101.709 1119.35 Q107.52 1119.35 110.575 1123.95 Q113.654 1128.54 113.654 1137.29 Q113.654 1146.01 110.575 1150.62 Q107.52 1155.2 101.709 1155.2 Q95.8993 1155.2 92.8206 1150.62 Q89.7651 1146.01 89.7651 1137.29 Q89.7651 1128.54 92.8206 1123.95 Q95.8993 1119.35 101.709 1119.35 Z\" fill=\"#000000\" fill-rule=\"evenodd\" fill-opacity=\"1\" /><path clip-path=\"url(#clip030)\" d=\"M121.871 1148.65 L126.756 1148.65 L126.756 1154.53 L121.871 1154.53 L121.871 1148.65 Z\" fill=\"#000000\" fill-rule=\"evenodd\" fill-opacity=\"1\" /><path clip-path=\"url(#clip030)\" d=\"M140.968 1150.6 L157.288 1150.6 L157.288 1154.53 L135.344 1154.53 L135.344 1150.6 Q138.006 1147.84 142.589 1143.21 Q147.195 1138.56 148.376 1137.22 Q150.621 1134.69 151.501 1132.96 Q152.404 1131.2 152.404 1129.51 Q152.404 1126.75 150.459 1125.02 Q148.538 1123.28 145.436 1123.28 Q143.237 1123.28 140.783 1124.05 Q138.353 1124.81 135.575 1126.36 L135.575 1121.64 Q138.399 1120.5 140.853 1119.93 Q143.306 1119.35 145.343 1119.35 Q150.714 1119.35 153.908 1122.03 Q157.103 1124.72 157.103 1129.21 Q157.103 1131.34 156.292 1133.26 Q155.505 1135.16 153.399 1137.75 Q152.82 1138.42 149.718 1141.64 Q146.617 1144.83 140.968 1150.6 Z\" fill=\"#000000\" fill-rule=\"evenodd\" fill-opacity=\"1\" /><path clip-path=\"url(#clip030)\" d=\"M51.5708 952.5 L81.2466 952.5 L81.2466 956.436 L51.5708 956.436 L51.5708 952.5 Z\" fill=\"#000000\" fill-rule=\"evenodd\" fill-opacity=\"1\" /><path clip-path=\"url(#clip030)\" d=\"M101.339 937.848 Q97.728 937.848 95.8993 941.413 Q94.0937 944.954 94.0937 952.084 Q94.0937 959.19 95.8993 962.755 Q97.728 966.297 101.339 966.297 Q104.973 966.297 106.779 962.755 Q108.608 959.19 108.608 952.084 Q108.608 944.954 106.779 941.413 Q104.973 937.848 101.339 937.848 M101.339 934.144 Q107.149 934.144 110.205 938.751 Q113.283 943.334 113.283 952.084 Q113.283 960.811 110.205 965.417 Q107.149 970 101.339 970 Q95.5289 970 92.4502 965.417 Q89.3947 960.811 89.3947 952.084 Q89.3947 943.334 92.4502 938.751 Q95.5289 934.144 101.339 934.144 Z\" fill=\"#000000\" fill-rule=\"evenodd\" fill-opacity=\"1\" /><path clip-path=\"url(#clip030)\" d=\"M121.501 963.449 L126.385 963.449 L126.385 969.329 L121.501 969.329 L121.501 963.449 Z\" fill=\"#000000\" fill-rule=\"evenodd\" fill-opacity=\"1\" /><path clip-path=\"url(#clip030)\" d=\"M137.381 965.394 L145.019 965.394 L145.019 939.028 L136.709 940.695 L136.709 936.436 L144.973 934.769 L149.649 934.769 L149.649 965.394 L157.288 965.394 L157.288 969.329 L137.381 969.329 L137.381 965.394 Z\" fill=\"#000000\" fill-rule=\"evenodd\" fill-opacity=\"1\" /><path clip-path=\"url(#clip030)\" d=\"M100.112 752.645 Q96.5011 752.645 94.6724 756.209 Q92.8669 759.751 92.8669 766.881 Q92.8669 773.987 94.6724 777.552 Q96.5011 781.094 100.112 781.094 Q103.746 781.094 105.552 777.552 Q107.381 773.987 107.381 766.881 Q107.381 759.751 105.552 756.209 Q103.746 752.645 100.112 752.645 M100.112 748.941 Q105.922 748.941 108.978 753.547 Q112.057 758.131 112.057 766.881 Q112.057 775.608 108.978 780.214 Q105.922 784.797 100.112 784.797 Q94.3021 784.797 91.2234 780.214 Q88.1679 775.608 88.1679 766.881 Q88.1679 758.131 91.2234 753.547 Q94.3021 748.941 100.112 748.941 Z\" fill=\"#000000\" fill-rule=\"evenodd\" fill-opacity=\"1\" /><path clip-path=\"url(#clip030)\" d=\"M120.274 778.246 L125.158 778.246 L125.158 784.126 L120.274 784.126 L120.274 778.246 Z\" fill=\"#000000\" fill-rule=\"evenodd\" fill-opacity=\"1\" /><path clip-path=\"url(#clip030)\" d=\"M145.343 752.645 Q141.732 752.645 139.904 756.209 Q138.098 759.751 138.098 766.881 Q138.098 773.987 139.904 777.552 Q141.732 781.094 145.343 781.094 Q148.978 781.094 150.783 777.552 Q152.612 773.987 152.612 766.881 Q152.612 759.751 150.783 756.209 Q148.978 752.645 145.343 752.645 M145.343 748.941 Q151.154 748.941 154.209 753.547 Q157.288 758.131 157.288 766.881 Q157.288 775.608 154.209 780.214 Q151.154 784.797 145.343 784.797 Q139.533 784.797 136.455 780.214 Q133.399 775.608 133.399 766.881 Q133.399 758.131 136.455 753.547 Q139.533 748.941 145.343 748.941 Z\" fill=\"#000000\" fill-rule=\"evenodd\" fill-opacity=\"1\" /><path clip-path=\"url(#clip030)\" d=\"M101.339 567.442 Q97.728 567.442 95.8993 571.006 Q94.0937 574.548 94.0937 581.678 Q94.0937 588.784 95.8993 592.349 Q97.728 595.891 101.339 595.891 Q104.973 595.891 106.779 592.349 Q108.608 588.784 108.608 581.678 Q108.608 574.548 106.779 571.006 Q104.973 567.442 101.339 567.442 M101.339 563.738 Q107.149 563.738 110.205 568.344 Q113.283 572.928 113.283 581.678 Q113.283 590.404 110.205 595.011 Q107.149 599.594 101.339 599.594 Q95.5289 599.594 92.4502 595.011 Q89.3947 590.404 89.3947 581.678 Q89.3947 572.928 92.4502 568.344 Q95.5289 563.738 101.339 563.738 Z\" fill=\"#000000\" fill-rule=\"evenodd\" fill-opacity=\"1\" /><path clip-path=\"url(#clip030)\" d=\"M121.501 593.043 L126.385 593.043 L126.385 598.923 L121.501 598.923 L121.501 593.043 Z\" fill=\"#000000\" fill-rule=\"evenodd\" fill-opacity=\"1\" /><path clip-path=\"url(#clip030)\" d=\"M137.381 594.988 L145.019 594.988 L145.019 568.622 L136.709 570.289 L136.709 566.03 L144.973 564.363 L149.649 564.363 L149.649 594.988 L157.288 594.988 L157.288 598.923 L137.381 598.923 L137.381 594.988 Z\" fill=\"#000000\" fill-rule=\"evenodd\" fill-opacity=\"1\" /><path clip-path=\"url(#clip030)\" d=\"M101.709 382.238 Q98.0984 382.238 96.2697 385.803 Q94.4641 389.345 94.4641 396.475 Q94.4641 403.581 96.2697 407.146 Q98.0984 410.687 101.709 410.687 Q105.344 410.687 107.149 407.146 Q108.978 403.581 108.978 396.475 Q108.978 389.345 107.149 385.803 Q105.344 382.238 101.709 382.238 M101.709 378.535 Q107.52 378.535 110.575 383.141 Q113.654 387.725 113.654 396.475 Q113.654 405.201 110.575 409.808 Q107.52 414.391 101.709 414.391 Q95.8993 414.391 92.8206 409.808 Q89.7651 405.201 89.7651 396.475 Q89.7651 387.725 92.8206 383.141 Q95.8993 378.535 101.709 378.535 Z\" fill=\"#000000\" fill-rule=\"evenodd\" fill-opacity=\"1\" /><path clip-path=\"url(#clip030)\" d=\"M121.871 407.84 L126.756 407.84 L126.756 413.72 L121.871 413.72 L121.871 407.84 Z\" fill=\"#000000\" fill-rule=\"evenodd\" fill-opacity=\"1\" /><path clip-path=\"url(#clip030)\" d=\"M140.968 409.785 L157.288 409.785 L157.288 413.72 L135.344 413.72 L135.344 409.785 Q138.006 407.03 142.589 402.4 Q147.195 397.748 148.376 396.405 Q150.621 393.882 151.501 392.146 Q152.404 390.387 152.404 388.697 Q152.404 385.942 150.459 384.206 Q148.538 382.47 145.436 382.47 Q143.237 382.47 140.783 383.234 Q138.353 383.998 135.575 385.549 L135.575 380.826 Q138.399 379.692 140.853 379.114 Q143.306 378.535 145.343 378.535 Q150.714 378.535 153.908 381.22 Q157.103 383.905 157.103 388.396 Q157.103 390.525 156.292 392.447 Q155.505 394.345 153.399 396.937 Q152.82 397.609 149.718 400.826 Q146.617 404.021 140.968 409.785 Z\" fill=\"#000000\" fill-rule=\"evenodd\" fill-opacity=\"1\" /><path clip-path=\"url(#clip030)\" d=\"M100.76 197.035 Q97.1493 197.035 95.3206 200.6 Q93.515 204.142 93.515 211.271 Q93.515 218.378 95.3206 221.943 Q97.1493 225.484 100.76 225.484 Q104.395 225.484 106.2 221.943 Q108.029 218.378 108.029 211.271 Q108.029 204.142 106.2 200.6 Q104.395 197.035 100.76 197.035 M100.76 193.332 Q106.571 193.332 109.626 197.938 Q112.705 202.521 112.705 211.271 Q112.705 219.998 109.626 224.605 Q106.571 229.188 100.76 229.188 Q94.9502 229.188 91.8715 224.605 Q88.816 219.998 88.816 211.271 Q88.816 202.521 91.8715 197.938 Q94.9502 193.332 100.76 193.332 Z\" fill=\"#000000\" fill-rule=\"evenodd\" fill-opacity=\"1\" /><path clip-path=\"url(#clip030)\" d=\"M120.922 222.637 L125.807 222.637 L125.807 228.517 L120.922 228.517 L120.922 222.637 Z\" fill=\"#000000\" fill-rule=\"evenodd\" fill-opacity=\"1\" /><path clip-path=\"url(#clip030)\" d=\"M150.158 209.883 Q153.515 210.6 155.39 212.869 Q157.288 215.137 157.288 218.47 Q157.288 223.586 153.769 226.387 Q150.251 229.188 143.769 229.188 Q141.593 229.188 139.279 228.748 Q136.987 228.332 134.533 227.475 L134.533 222.961 Q136.478 224.095 138.793 224.674 Q141.107 225.253 143.631 225.253 Q148.029 225.253 150.32 223.517 Q152.635 221.781 152.635 218.47 Q152.635 215.415 150.482 213.702 Q148.353 211.966 144.533 211.966 L140.506 211.966 L140.506 208.123 L144.718 208.123 Q148.168 208.123 149.996 206.758 Q151.825 205.369 151.825 202.776 Q151.825 200.114 149.927 198.702 Q148.052 197.267 144.533 197.267 Q142.612 197.267 140.413 197.684 Q138.214 198.1 135.575 198.98 L135.575 194.813 Q138.237 194.072 140.552 193.702 Q142.89 193.332 144.95 193.332 Q150.274 193.332 153.376 195.762 Q156.478 198.17 156.478 202.29 Q156.478 205.16 154.834 207.151 Q153.191 209.119 150.158 209.883 Z\" fill=\"#000000\" fill-rule=\"evenodd\" fill-opacity=\"1\" /><circle clip-path=\"url(#clip032)\" cx=\"254.405\" cy=\"766.846\" r=\"14\" fill=\"#009af9\" fill-rule=\"evenodd\" fill-opacity=\"0.5\" stroke=\"#000000\" stroke-opacity=\"0.5\" stroke-width=\"3.2\"/>\n",
       "<path clip-path=\"url(#clip032)\" d=\"\n",
       "M2291.64 581.643 L1921.23 581.643 L1921.23 952.049 L2291.64 952.049 L2291.64 581.643 L2291.64 581.643  Z\n",
       "  \" fill=\"#e26f46\" fill-rule=\"evenodd\" fill-opacity=\"0.5\"/>\n",
       "<polyline clip-path=\"url(#clip032)\" style=\"stroke:#000000; stroke-linecap:butt; stroke-linejoin:round; stroke-width:4; stroke-opacity:0.5; fill:none\" points=\"\n",
       "  2291.64,581.643 1921.23,581.643 1921.23,952.049 2291.64,952.049 2291.64,581.643 \n",
       "  \"/>\n",
       "<path clip-path=\"url(#clip032)\" d=\"\n",
       "M2106.44 859.448 L1921.23 859.448 L1921.23 952.049 L2106.44 952.049 L2106.44 859.448 L2106.44 859.448  Z\n",
       "  \" fill=\"#3da44d\" fill-rule=\"evenodd\" fill-opacity=\"0.5\"/>\n",
       "<polyline clip-path=\"url(#clip032)\" style=\"stroke:#000000; stroke-linecap:butt; stroke-linejoin:round; stroke-width:4; stroke-opacity:0.5; fill:none\" points=\"\n",
       "  2106.44,859.448 1921.23,859.448 1921.23,952.049 2106.44,952.049 2106.44,859.448 \n",
       "  \"/>\n",
       "<path clip-path=\"url(#clip032)\" d=\"\n",
       "M2291.64 859.448 L2106.44 859.448 L2106.44 952.049 L2291.64 952.049 L2291.64 859.448 L2291.64 859.448  Z\n",
       "  \" fill=\"#c271d2\" fill-rule=\"evenodd\" fill-opacity=\"0.5\"/>\n",
       "<polyline clip-path=\"url(#clip032)\" style=\"stroke:#000000; stroke-linecap:butt; stroke-linejoin:round; stroke-width:4; stroke-opacity:0.5; fill:none\" points=\"\n",
       "  2291.64,859.448 2106.44,859.448 2106.44,952.049 2291.64,952.049 2291.64,859.448 \n",
       "  \"/>\n",
       "<path clip-path=\"url(#clip032)\" d=\"\n",
       "M2106.44 766.846 L1921.23 766.846 L1921.23 859.448 L2106.44 859.448 L2106.44 766.846 L2106.44 766.846  Z\n",
       "  \" fill=\"#ac8d18\" fill-rule=\"evenodd\" fill-opacity=\"0.5\"/>\n",
       "<polyline clip-path=\"url(#clip032)\" style=\"stroke:#000000; stroke-linecap:butt; stroke-linejoin:round; stroke-width:4; stroke-opacity:0.5; fill:none\" points=\"\n",
       "  2106.44,766.846 1921.23,766.846 1921.23,859.448 2106.44,859.448 2106.44,766.846 \n",
       "  \"/>\n",
       "<path clip-path=\"url(#clip032)\" d=\"\n",
       "M2291.64 766.846 L2106.44 766.846 L2106.44 859.448 L2291.64 859.448 L2291.64 766.846 L2291.64 766.846  Z\n",
       "  \" fill=\"#00a9ad\" fill-rule=\"evenodd\" fill-opacity=\"0.5\"/>\n",
       "<polyline clip-path=\"url(#clip032)\" style=\"stroke:#000000; stroke-linecap:butt; stroke-linejoin:round; stroke-width:4; stroke-opacity:0.5; fill:none\" points=\"\n",
       "  2291.64,766.846 2106.44,766.846 2106.44,859.448 2291.64,859.448 2291.64,766.846 \n",
       "  \"/>\n",
       "<path clip-path=\"url(#clip032)\" d=\"\n",
       "M2106.44 674.244 L1921.23 674.244 L1921.23 766.846 L2106.44 766.846 L2106.44 674.244 L2106.44 674.244  Z\n",
       "  \" fill=\"#ed5d92\" fill-rule=\"evenodd\" fill-opacity=\"0.5\"/>\n",
       "<polyline clip-path=\"url(#clip032)\" style=\"stroke:#000000; stroke-linecap:butt; stroke-linejoin:round; stroke-width:4; stroke-opacity:0.5; fill:none\" points=\"\n",
       "  2106.44,674.244 1921.23,674.244 1921.23,766.846 2106.44,766.846 2106.44,674.244 \n",
       "  \"/>\n",
       "<path clip-path=\"url(#clip032)\" d=\"\n",
       "M2291.64 674.244 L2106.44 674.244 L2106.44 766.846 L2291.64 766.846 L2291.64 674.244 L2291.64 674.244  Z\n",
       "  \" fill=\"#c68125\" fill-rule=\"evenodd\" fill-opacity=\"0.5\"/>\n",
       "<polyline clip-path=\"url(#clip032)\" style=\"stroke:#000000; stroke-linecap:butt; stroke-linejoin:round; stroke-width:4; stroke-opacity:0.5; fill:none\" points=\"\n",
       "  2291.64,674.244 2106.44,674.244 2106.44,766.846 2291.64,766.846 2291.64,674.244 \n",
       "  \"/>\n",
       "<path clip-path=\"url(#clip032)\" d=\"\n",
       "M2106.44 581.643 L1921.23 581.643 L1921.23 674.244 L2106.44 674.244 L2106.44 581.643 L2106.44 581.643  Z\n",
       "  \" fill=\"#00a98d\" fill-rule=\"evenodd\" fill-opacity=\"0.5\"/>\n",
       "<polyline clip-path=\"url(#clip032)\" style=\"stroke:#000000; stroke-linecap:butt; stroke-linejoin:round; stroke-width:4; stroke-opacity:0.5; fill:none\" points=\"\n",
       "  2106.44,581.643 1921.23,581.643 1921.23,674.244 2106.44,674.244 2106.44,581.643 \n",
       "  \"/>\n",
       "<path clip-path=\"url(#clip032)\" d=\"\n",
       "M2291.64 581.643 L2106.44 581.643 L2106.44 674.244 L2291.64 674.244 L2291.64 581.643 L2291.64 581.643  Z\n",
       "  \" fill=\"#8e971d\" fill-rule=\"evenodd\" fill-opacity=\"0.5\"/>\n",
       "<polyline clip-path=\"url(#clip032)\" style=\"stroke:#000000; stroke-linecap:butt; stroke-linejoin:round; stroke-width:4; stroke-opacity:0.5; fill:none\" points=\"\n",
       "  2291.64,581.643 2106.44,581.643 2106.44,674.244 2291.64,674.244 2291.64,581.643 \n",
       "  \"/>\n",
       "</svg>\n"
      ]
     },
     "execution_count": 10,
     "metadata": {},
     "output_type": "execute_result"
    }
   ],
   "source": [
    "dvec = [2, 4] # division vector\n",
    "Bsplit = split(B, dvec)\n",
    "plot!(Bsplit)"
   ]
  },
  {
   "cell_type": "markdown",
   "metadata": {},
   "source": [
    "## Symbolic Jacobians and Hessians"
   ]
  },
  {
   "cell_type": "code",
   "execution_count": 11,
   "metadata": {},
   "outputs": [],
   "source": [
    "# for any box B, the objective function is the Taylor error"
   ]
  },
  {
   "cell_type": "code",
   "execution_count": 12,
   "metadata": {},
   "outputs": [
    {
     "data": {
      "text/latex": [
       "\\begin{equation}\n",
       "\\left[\n",
       "\\begin{array}{c}\n",
       "x{_1} \\\\\n",
       "x{_2} \\\\\n",
       "\\end{array}\n",
       "\\right]\n",
       "\\end{equation}\n"
      ],
      "text/plain": [
       "2-element Vector{Num}:\n",
       " x₁\n",
       " x₂"
      ]
     },
     "execution_count": 12,
     "metadata": {},
     "output_type": "execute_result"
    }
   ],
   "source": [
    "# vector of symbolic variables\n",
    "x = [Num(SymbolicUtils.Sym{Real}(:x, i)) for i in 1:2]"
   ]
  },
  {
   "cell_type": "markdown",
   "metadata": {},
   "source": [
    "Here we compute the symbolic expressions:"
   ]
  },
  {
   "cell_type": "code",
   "execution_count": 13,
   "metadata": {},
   "outputs": [
    {
     "data": {
      "text/latex": [
       "\\begin{equation}\n",
       "\\left[\n",
       "\\begin{array}{cc}\n",
       "1.5 - x{_2} &  - x{_1} \\\\\n",
       "x{_2} & -3.0 + x{_1} \\\\\n",
       "\\end{array}\n",
       "\\right]\n",
       "\\end{equation}\n"
      ],
      "text/plain": [
       "2×2 Matrix{Num}:\n",
       "  1.5 - x₂     -x₁\n",
       " x₂         x₁ - 3.0"
      ]
     },
     "execution_count": 13,
     "metadata": {},
     "output_type": "execute_result"
    }
   ],
   "source": [
    "sys = @system(x' = lotkavolterra!(x), dim=2)\n",
    "\n",
    "J = _jacobian_expression(sys, x)"
   ]
  },
  {
   "cell_type": "code",
   "execution_count": 14,
   "metadata": {},
   "outputs": [
    {
     "data": {
      "text/latex": [
       "\\begin{equation}\n",
       "1.5 - x{_2}\n",
       "\\end{equation}\n"
      ],
      "text/plain": [
       "1.5 - x₂"
      ]
     },
     "execution_count": 14,
     "metadata": {},
     "output_type": "execute_result"
    }
   ],
   "source": [
    "J[1, 1]"
   ]
  },
  {
   "cell_type": "code",
   "execution_count": 15,
   "metadata": {},
   "outputs": [
    {
     "data": {
      "text/latex": [
       "\\begin{equation}\n",
       "\\left[\n",
       "\\begin{array}{cc}\n",
       "0 & -1 \\\\\n",
       "-1 & 0 \\\\\n",
       "\\end{array}\n",
       "\\right]\n",
       "\\end{equation}\n"
      ],
      "text/plain": [
       "2×2 Matrix{Num}:\n",
       "  0  -1\n",
       " -1   0"
      ]
     },
     "execution_count": 15,
     "metadata": {},
     "output_type": "execute_result"
    }
   ],
   "source": [
    "H = ReachabilityAnalysis._hessian_expression(sys, x)\n",
    "\n",
    "H[1] # hessian with respect to the first component"
   ]
  },
  {
   "cell_type": "code",
   "execution_count": 16,
   "metadata": {},
   "outputs": [
    {
     "data": {
      "text/latex": [
       "\\begin{equation}\n",
       "\\left[\n",
       "\\begin{array}{cc}\n",
       "0 & 1 \\\\\n",
       "1 & 0 \\\\\n",
       "\\end{array}\n",
       "\\right]\n",
       "\\end{equation}\n"
      ],
      "text/plain": [
       "2×2 Matrix{Num}:\n",
       " 0  1\n",
       " 1  0"
      ]
     },
     "execution_count": 16,
     "metadata": {},
     "output_type": "execute_result"
    }
   ],
   "source": [
    "H[2] # hessian with respect to the second component"
   ]
  },
  {
   "cell_type": "markdown",
   "metadata": {},
   "source": [
    "We want to approximate the range of $H$."
   ]
  },
  {
   "cell_type": "markdown",
   "metadata": {},
   "source": [
    "## Symbolic-numeric linearization"
   ]
  },
  {
   "cell_type": "markdown",
   "metadata": {},
   "source": [
    "We can alternatively use Symbolics.jl to build (compile) functions\n",
    "that evaluate the Jacobian and Hessian. In other words, we get Julia function to evaluate these Jacobian / Hessian on given vectors."
   ]
  },
  {
   "cell_type": "code",
   "execution_count": 17,
   "metadata": {},
   "outputs": [
    {
     "data": {
      "text/plain": [
       "#421 (generic function with 1 method)"
      ]
     },
     "execution_count": 17,
     "metadata": {},
     "output_type": "execute_result"
    }
   ],
   "source": [
    "fjac = ReachabilityAnalysis._jacobian_function(sys, x)"
   ]
  },
  {
   "cell_type": "code",
   "execution_count": 18,
   "metadata": {},
   "outputs": [
    {
     "name": "stdout",
     "output_type": "stream",
     "text": [
      "  0.038667 seconds (55.41 k allocations: 3.426 MiB, 99.91% compilation time)\n"
     ]
    },
    {
     "data": {
      "text/plain": [
       "2×2 Matrix{Float64}:\n",
       " -8.5  -1.0\n",
       " 10.0  -2.0"
      ]
     },
     "execution_count": 18,
     "metadata": {},
     "output_type": "execute_result"
    }
   ],
   "source": [
    "@time fjac([1.0, 10.0])"
   ]
  },
  {
   "cell_type": "code",
   "execution_count": 19,
   "metadata": {},
   "outputs": [
    {
     "data": {
      "text/plain": [
       "2-element Vector{Function}:\n",
       " #423 (generic function with 1 method)\n",
       " #425 (generic function with 1 method)"
      ]
     },
     "execution_count": 19,
     "metadata": {},
     "output_type": "execute_result"
    }
   ],
   "source": [
    "fhes = ReachabilityAnalysis._hessian_function(sys, x)"
   ]
  },
  {
   "cell_type": "code",
   "execution_count": 20,
   "metadata": {},
   "outputs": [
    {
     "data": {
      "text/plain": [
       "#423 (generic function with 1 method)"
      ]
     },
     "execution_count": 20,
     "metadata": {},
     "output_type": "execute_result"
    }
   ],
   "source": [
    "fhes1 = fhes[1] # we have to specify the index"
   ]
  },
  {
   "cell_type": "code",
   "execution_count": 21,
   "metadata": {},
   "outputs": [
    {
     "data": {
      "text/plain": [
       "2×2 Matrix{Int64}:\n",
       "  0  -1\n",
       " -1   0"
      ]
     },
     "execution_count": 21,
     "metadata": {},
     "output_type": "execute_result"
    }
   ],
   "source": [
    "fhes1([1.0, 2.0])"
   ]
  },
  {
   "cell_type": "code",
   "execution_count": 22,
   "metadata": {},
   "outputs": [
    {
     "data": {
      "text/plain": [
       "2×2 Matrix{Int64}:\n",
       "  0  -1\n",
       " -1   0"
      ]
     },
     "execution_count": 22,
     "metadata": {},
     "output_type": "execute_result"
    }
   ],
   "source": [
    "fhes1([1.0, 10.0])"
   ]
  },
  {
   "cell_type": "code",
   "execution_count": 23,
   "metadata": {},
   "outputs": [
    {
     "data": {
      "text/plain": [
       "2-element Vector{IntervalArithmetic.Interval{Float64}}:\n",
       " [1, 1]\n",
       " [2, 2]"
      ]
     },
     "execution_count": 23,
     "metadata": {},
     "output_type": "execute_result"
    }
   ],
   "source": [
    "dint = [1.0 .. 1.0, 2.0 .. 2.0] # interval vector"
   ]
  },
  {
   "cell_type": "code",
   "execution_count": 24,
   "metadata": {},
   "outputs": [
    {
     "data": {
      "text/plain": [
       "2×2 Matrix{Int64}:\n",
       "  0  -1\n",
       " -1   0"
      ]
     },
     "execution_count": 24,
     "metadata": {},
     "output_type": "execute_result"
    }
   ],
   "source": [
    "fhes1(dint)"
   ]
  },
  {
   "cell_type": "code",
   "execution_count": 25,
   "metadata": {},
   "outputs": [
    {
     "data": {
      "text/plain": [
       "2-element Vector{Function}:\n",
       " #423 (generic function with 1 method)\n",
       " #425 (generic function with 1 method)"
      ]
     },
     "execution_count": 25,
     "metadata": {},
     "output_type": "execute_result"
    }
   ],
   "source": [
    "H = fhes # use hessian function"
   ]
  },
  {
   "cell_type": "code",
   "execution_count": 26,
   "metadata": {},
   "outputs": [
    {
     "data": {
      "text/plain": [
       "linearization_error (generic function with 4 methods)"
      ]
     },
     "execution_count": 26,
     "metadata": {},
     "output_type": "execute_result"
    }
   ],
   "source": [
    "# auxiliary functions needed because we are mixing intervals with sets\n",
    "LazySets.center(B::IntervalBox) = mid.(B)\n",
    "LazySets.radius_hyperrectangle(B::IntervalBox) = diam.(Bbox) ./ 2\n",
    "\n",
    "function _translate(B::IntervalBox, p)\n",
    "    return IntervalBox(B.v + p)\n",
    "end\n",
    "\n",
    "# overload the addition signs\n",
    "Base.:(-)(B::IntervalBox, p) = _translate(B, -p)\n",
    "Base.:(+)(B::IntervalBox, p) = _translate(B, p)\n",
    "\n",
    "\"\"\"\n",
    "    linearization_error(H, B::IntervalBox, p=center(B))\n",
    "\n",
    "Compute the linearization error for a given box.\n",
    "\n",
    "### Input\n",
    "\n",
    "- `H` -- Hessian array of the vector field\n",
    "- `B` -- domain of the expansion\n",
    "- `p` -- (optional, default: `center(B)`) point at which we are taking the Taylor expansion\n",
    "\n",
    "### Output\n",
    "\n",
    "Interval box evaluating a range enclosure of the Lagrangian term of the vector field\n",
    "whose Hessian is `H`.\n",
    "\"\"\"\n",
    "function linearization_error(H, B::IntervalBox, p=center(B))\n",
    "    u = B.v     # vector of intervals\n",
    "    w = u - p   # translation\n",
    "\n",
    "    # evaluate Taylor's formula with Lagrange remainder using interval arithmetic\n",
    "    R = [1/2 * w' * Hi(u) * w for Hi in H]\n",
    "\n",
    "    return IntervalBox(R)\n",
    "end\n",
    "\n",
    "# auxiliary method using any hyperrectangle\n",
    "function linearization_error(H, B::AbstractHyperrectangle, p=center(B))\n",
    "    Bbox = convert(IntervalBox, B)\n",
    "    return linearization_error(H, Bbox, p)\n",
    "end"
   ]
  },
  {
   "cell_type": "code",
   "execution_count": 27,
   "metadata": {},
   "outputs": [
    {
     "data": {
      "text/plain": [
       "#423 (generic function with 1 method)"
      ]
     },
     "execution_count": 27,
     "metadata": {},
     "output_type": "execute_result"
    }
   ],
   "source": [
    "H[1]"
   ]
  },
  {
   "cell_type": "code",
   "execution_count": 28,
   "metadata": {},
   "outputs": [
    {
     "data": {
      "text/plain": [
       "[-0.0100001, 0.0100001] × [-0.0100001, 0.0100001]"
      ]
     },
     "execution_count": 28,
     "metadata": {},
     "output_type": "execute_result"
    }
   ],
   "source": [
    "linearization_error(H, B) # uses the center of B by default"
   ]
  },
  {
   "cell_type": "markdown",
   "metadata": {},
   "source": [
    "## Approximation using splitting directions"
   ]
  },
  {
   "cell_type": "code",
   "execution_count": 29,
   "metadata": {},
   "outputs": [
    {
     "data": {
      "text/plain": [
       "linearization_error_div (generic function with 6 methods)"
      ]
     },
     "execution_count": 29,
     "metadata": {},
     "output_type": "execute_result"
    }
   ],
   "source": [
    "function linearization_error_div(H, B::IntervalBox, p=center(B), d=ones(dim(B)))\n",
    "\n",
    "    u = B.v     # vector of intervals\n",
    "    w = u - p   # translation\n",
    "    w = w ./ d  # elementwise division\n",
    "\n",
    "    R = [1/2 * w' * Hi(u) * w for Hi in H]\n",
    "\n",
    "    return IntervalBox(R)\n",
    "end\n",
    "\n",
    "function linearization_error_div(H, B::AbstractHyperrectangle, p=center(B), d=ones(dim(B)))\n",
    "    Bbox = convert(IntervalBox, B)\n",
    "    return linearization_error_div(H, Bbox, p, d)\n",
    "end"
   ]
  },
  {
   "cell_type": "code",
   "execution_count": 30,
   "metadata": {},
   "outputs": [
    {
     "data": {
      "text/plain": [
       "2-element Vector{Int64}:\n",
       " 2\n",
       " 4"
      ]
     },
     "execution_count": 30,
     "metadata": {},
     "output_type": "execute_result"
    }
   ],
   "source": [
    "d = [2, 4] # division vector"
   ]
  },
  {
   "cell_type": "code",
   "execution_count": 31,
   "metadata": {},
   "outputs": [
    {
     "data": {
      "text/plain": [
       "[-0.0100001, 0.0100001] × [-0.0100001, 0.0100001]"
      ]
     },
     "execution_count": 31,
     "metadata": {},
     "output_type": "execute_result"
    }
   ],
   "source": [
    "linearization_error_div(H, B)"
   ]
  },
  {
   "cell_type": "code",
   "execution_count": 32,
   "metadata": {},
   "outputs": [
    {
     "data": {
      "text/plain": [
       "[-0.00125001, 0.00125001] × [-0.00125001, 0.00125001]"
      ]
     },
     "execution_count": 32,
     "metadata": {},
     "output_type": "execute_result"
    }
   ],
   "source": [
    "linearization_error_div(H, B, center(B), [2, 4])"
   ]
  },
  {
   "cell_type": "code",
   "execution_count": 33,
   "metadata": {},
   "outputs": [
    {
     "data": {
      "text/plain": [
       "[-0.000500001, 0.000500001] × [-0.000500001, 0.000500001]"
      ]
     },
     "execution_count": 33,
     "metadata": {},
     "output_type": "execute_result"
    }
   ],
   "source": [
    "linearization_error_div(H, B, center(B), [2, 10])"
   ]
  },
  {
   "cell_type": "markdown",
   "metadata": {},
   "source": [
    "## Next steps\n",
    "\n",
    "- optimization: finding a particular direction\n",
    "- implement the intersection of unions"
   ]
  }
 ],
 "metadata": {
  "@webio": {
   "lastCommId": null,
   "lastKernelId": null
  },
  "kernelspec": {
   "display_name": "Julia 1.6.0",
   "language": "julia",
   "name": "julia-1.6"
  },
  "language_info": {
   "file_extension": ".jl",
   "mimetype": "application/julia",
   "name": "julia",
   "version": "1.6.0"
  }
 },
 "nbformat": 4,
 "nbformat_minor": 2
}
