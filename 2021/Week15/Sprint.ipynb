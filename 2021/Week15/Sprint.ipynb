{
 "cells": [
  {
   "cell_type": "markdown",
   "metadata": {},
   "source": [
    "## Tasks"
   ]
  },
  {
   "cell_type": "markdown",
   "metadata": {},
   "source": [
    "- [ ] PR that makes flowpipes computed with support functions (LGG09) work again (https://github.com/JuliaReach/ReachabilityAnalysis.jl/pull/452)"
   ]
  },
  {
   "cell_type": "markdown",
   "metadata": {},
   "source": [
    "- [ ] Check the `orderQ` option in the Van der Pol example is working fine"
   ]
  },
  {
   "cell_type": "markdown",
   "metadata": {},
   "source": [
    "- [ ] Find parameter choices such that we can verify the coupled Van der Pol with $N = 2$ and $\\mu = 1$ and also for $\\mu = 2$."
   ]
  },
  {
   "cell_type": "markdown",
   "metadata": {},
   "source": [
    "- [ ] Continue with reviewing the \"convex\" statements in set types (https://github.com/JuliaReach/LazySets.jl/issues/1837)"
   ]
  },
  {
   "cell_type": "markdown",
   "metadata": {},
   "source": [
    "- [ ] Run again the purely continuous linear models from last year (ARCH-COMP2020 RE AFF)."
   ]
  },
  {
   "cell_type": "markdown",
   "metadata": {},
   "source": [
    "- [ ] Run again the hybrid, linear models from last year (ARCH-COMP2020 RE AFF)."
   ]
  },
  {
   "cell_type": "markdown",
   "metadata": {},
   "source": [
    "- [ ] Run again the purely continuous nonlinear models from last year (ARCH-COMP2020 RE NLN)."
   ]
  },
  {
   "cell_type": "markdown",
   "metadata": {},
   "source": [
    "- [ ] Run again the purely continuous nonlinear models from last year (ARCH-COMP2020 RE NLN)."
   ]
  },
  {
   "cell_type": "markdown",
   "metadata": {},
   "source": [
    "- [ ] New function to remove redundant constraints on zonotopes https://github.com/JuliaReach/LazySets.jl/pull/2642"
   ]
  },
  {
   "cell_type": "markdown",
   "metadata": {},
   "source": [
    "- [ ] Intersection between a star set and a half-space https://github.com/JuliaReach/LazySets.jl/issues/2646"
   ]
  },
  {
   "cell_type": "markdown",
   "metadata": {},
   "source": [
    "- [ ] Conversion of a polyhedral set to a star set https://github.com/JuliaReach/LazySets.jl/issues/2645"
   ]
  },
  {
   "cell_type": "markdown",
   "metadata": {},
   "source": [
    "- [ ] Implement Algorithm for exact reachability using star sets << NeuralNetworkAnalysis.jl"
   ]
  },
  {
   "cell_type": "markdown",
   "metadata": {},
   "source": [
    "- [ ] Implement Algorithm for approximate reachability using star sets << NeuralNetworkAnalysis.jl"
   ]
  },
  {
   "cell_type": "markdown",
   "metadata": {},
   "source": [
    "- [ ] Solve from a subset does not result in a subset #122 https://github.com/JuliaReach/NeuralNetworkAnalysis.jl/issues/122"
   ]
  },
  {
   "cell_type": "markdown",
   "metadata": {},
   "source": [
    "- [ ] Finish https://github.com/JuliaReach/ReachabilityAnalysis.jl/pull/442 and the method in https://github.com/JuliaReach/ReachabilityAnalysis.jl/pull/440"
   ]
  },
  {
   "cell_type": "markdown",
   "metadata": {},
   "source": [
    "- [ ] Finish generalization of the initial states passed to TMJets, in  https://github.com/JuliaReach/ReachabilityAnalysis.jl/blob/master/src/Algorithms/TMJets/post.jl#L54 we should just use $\\Omega_0$ without overapproximation if it is the setrep of TaylorModelReachSet (vector of Taylor1 of TaylorModelN ...)"
   ]
  },
  {
   "cell_type": "code",
   "execution_count": null,
   "metadata": {},
   "outputs": [],
   "source": []
  }
 ],
 "metadata": {
  "kernelspec": {
   "display_name": "Julia 1.6.0",
   "language": "julia",
   "name": "julia-1.6"
  },
  "language_info": {
   "file_extension": ".jl",
   "mimetype": "application/julia",
   "name": "julia",
   "version": "1.6.0"
  }
 },
 "nbformat": 4,
 "nbformat_minor": 2
}
