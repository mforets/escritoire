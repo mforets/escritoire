{
 "cells": [
  {
   "cell_type": "markdown",
   "metadata": {},
   "source": [
    "References:\n",
    "\n",
    "- http://www.verivital.com/research/tran2019fm.pdf"
   ]
  },
  {
   "cell_type": "code",
   "execution_count": 2,
   "metadata": {},
   "outputs": [],
   "source": [
    "using Revise\n",
    "using LazySets, Plots\n",
    "using LazySets: center\n",
    "using LinearAlgebra"
   ]
  },
  {
   "cell_type": "code",
   "execution_count": 8,
   "metadata": {},
   "outputs": [
    {
     "data": {
      "image/svg+xml": [
       "<?xml version=\"1.0\" encoding=\"utf-8\"?>\n",
       "<svg xmlns=\"http://www.w3.org/2000/svg\" xmlns:xlink=\"http://www.w3.org/1999/xlink\" width=\"600\" height=\"400\" viewBox=\"0 0 2400 1600\">\n",
       "<defs>\n",
       "  <clipPath id=\"clip510\">\n",
       "    <rect x=\"0\" y=\"0\" width=\"2400\" height=\"1600\"/>\n",
       "  </clipPath>\n",
       "</defs>\n",
       "<path clip-path=\"url(#clip510)\" d=\"\n",
       "M0 1600 L2400 1600 L2400 0 L0 0  Z\n",
       "  \" fill=\"#ffffff\" fill-rule=\"evenodd\" fill-opacity=\"1\"/>\n",
       "<defs>\n",
       "  <clipPath id=\"clip511\">\n",
       "    <rect x=\"480\" y=\"0\" width=\"1681\" height=\"1600\"/>\n",
       "  </clipPath>\n",
       "</defs>\n",
       "<path clip-path=\"url(#clip510)\" d=\"\n",
       "M193.936 1486.45 L2352.76 1486.45 L2352.76 47.2441 L193.936 47.2441  Z\n",
       "  \" fill=\"#ffffff\" fill-rule=\"evenodd\" fill-opacity=\"1\"/>\n",
       "<defs>\n",
       "  <clipPath id=\"clip512\">\n",
       "    <rect x=\"193\" y=\"47\" width=\"2160\" height=\"1440\"/>\n",
       "  </clipPath>\n",
       "</defs>\n",
       "<polyline clip-path=\"url(#clip512)\" style=\"stroke:#000000; stroke-width:2; stroke-opacity:0.1; fill:none\" points=\"\n",
       "  255.035,1486.45 255.035,47.2441 \n",
       "  \"/>\n",
       "<polyline clip-path=\"url(#clip512)\" style=\"stroke:#000000; stroke-width:2; stroke-opacity:0.1; fill:none\" points=\"\n",
       "  933.909,1486.45 933.909,47.2441 \n",
       "  \"/>\n",
       "<polyline clip-path=\"url(#clip512)\" style=\"stroke:#000000; stroke-width:2; stroke-opacity:0.1; fill:none\" points=\"\n",
       "  1612.78,1486.45 1612.78,47.2441 \n",
       "  \"/>\n",
       "<polyline clip-path=\"url(#clip512)\" style=\"stroke:#000000; stroke-width:2; stroke-opacity:0.1; fill:none\" points=\"\n",
       "  2291.66,1486.45 2291.66,47.2441 \n",
       "  \"/>\n",
       "<polyline clip-path=\"url(#clip510)\" style=\"stroke:#000000; stroke-width:4; stroke-opacity:1; fill:none\" points=\"\n",
       "  193.936,1486.45 2352.76,1486.45 \n",
       "  \"/>\n",
       "<polyline clip-path=\"url(#clip510)\" style=\"stroke:#000000; stroke-width:4; stroke-opacity:1; fill:none\" points=\"\n",
       "  255.035,1486.45 255.035,1469.18 \n",
       "  \"/>\n",
       "<polyline clip-path=\"url(#clip510)\" style=\"stroke:#000000; stroke-width:4; stroke-opacity:1; fill:none\" points=\"\n",
       "  933.909,1486.45 933.909,1469.18 \n",
       "  \"/>\n",
       "<polyline clip-path=\"url(#clip510)\" style=\"stroke:#000000; stroke-width:4; stroke-opacity:1; fill:none\" points=\"\n",
       "  1612.78,1486.45 1612.78,1469.18 \n",
       "  \"/>\n",
       "<polyline clip-path=\"url(#clip510)\" style=\"stroke:#000000; stroke-width:4; stroke-opacity:1; fill:none\" points=\"\n",
       "  2291.66,1486.45 2291.66,1469.18 \n",
       "  \"/>\n",
       "<path clip-path=\"url(#clip510)\" d=\"M 0 0 M255.035 1515.64 Q251.424 1515.64 249.595 1519.2 Q247.789 1522.75 247.789 1529.87 Q247.789 1536.98 249.595 1540.55 Q251.424 1544.09 255.035 1544.09 Q258.669 1544.09 260.474 1540.55 Q262.303 1536.98 262.303 1529.87 Q262.303 1522.75 260.474 1519.2 Q258.669 1515.64 255.035 1515.64 M255.035 1511.93 Q260.845 1511.93 263.9 1516.54 Q266.979 1521.12 266.979 1529.87 Q266.979 1538.6 263.9 1543.21 Q260.845 1547.79 255.035 1547.79 Q249.225 1547.79 246.146 1543.21 Q243.09 1538.6 243.09 1529.87 Q243.09 1521.12 246.146 1516.54 Q249.225 1511.93 255.035 1511.93 Z\" fill=\"#000000\" fill-rule=\"evenodd\" fill-opacity=\"1\" /><path clip-path=\"url(#clip510)\" d=\"M 0 0 M924.291 1543.18 L931.93 1543.18 L931.93 1516.82 L923.62 1518.49 L923.62 1514.23 L931.883 1512.56 L936.559 1512.56 L936.559 1543.18 L944.198 1543.18 L944.198 1547.12 L924.291 1547.12 L924.291 1543.18 Z\" fill=\"#000000\" fill-rule=\"evenodd\" fill-opacity=\"1\" /><path clip-path=\"url(#clip510)\" d=\"M 0 0 M1607.44 1543.18 L1623.76 1543.18 L1623.76 1547.12 L1601.81 1547.12 L1601.81 1543.18 Q1604.47 1540.43 1609.06 1535.8 Q1613.66 1531.15 1614.84 1529.81 Q1617.09 1527.28 1617.97 1525.55 Q1618.87 1523.79 1618.87 1522.1 Q1618.87 1519.34 1616.93 1517.61 Q1615.01 1515.87 1611.9 1515.87 Q1609.7 1515.87 1607.25 1516.63 Q1604.82 1517.4 1602.04 1518.95 L1602.04 1514.23 Q1604.87 1513.09 1607.32 1512.51 Q1609.77 1511.93 1611.81 1511.93 Q1617.18 1511.93 1620.38 1514.62 Q1623.57 1517.31 1623.57 1521.8 Q1623.57 1523.93 1622.76 1525.85 Q1621.97 1527.74 1619.87 1530.34 Q1619.29 1531.01 1616.19 1534.23 Q1613.08 1537.42 1607.44 1543.18 Z\" fill=\"#000000\" fill-rule=\"evenodd\" fill-opacity=\"1\" /><path clip-path=\"url(#clip510)\" d=\"M 0 0 M2295.9 1528.49 Q2299.26 1529.2 2301.14 1531.47 Q2303.03 1533.74 2303.03 1537.07 Q2303.03 1542.19 2299.52 1544.99 Q2296 1547.79 2289.52 1547.79 Q2287.34 1547.79 2285.03 1547.35 Q2282.73 1546.93 2280.28 1546.08 L2280.28 1541.56 Q2282.22 1542.7 2284.54 1543.28 Q2286.85 1543.86 2289.38 1543.86 Q2293.78 1543.86 2296.07 1542.12 Q2298.38 1540.38 2298.38 1537.07 Q2298.38 1534.02 2296.23 1532.31 Q2294.1 1530.57 2290.28 1530.57 L2286.25 1530.57 L2286.25 1526.73 L2290.47 1526.73 Q2293.91 1526.73 2295.74 1525.36 Q2297.57 1523.97 2297.57 1521.38 Q2297.57 1518.72 2295.67 1517.31 Q2293.8 1515.87 2290.28 1515.87 Q2288.36 1515.87 2286.16 1516.29 Q2283.96 1516.7 2281.32 1517.58 L2281.32 1513.42 Q2283.98 1512.68 2286.3 1512.31 Q2288.64 1511.93 2290.7 1511.93 Q2296.02 1511.93 2299.12 1514.37 Q2302.22 1516.77 2302.22 1520.89 Q2302.22 1523.76 2300.58 1525.75 Q2298.94 1527.72 2295.9 1528.49 Z\" fill=\"#000000\" fill-rule=\"evenodd\" fill-opacity=\"1\" /><polyline clip-path=\"url(#clip512)\" style=\"stroke:#000000; stroke-width:2; stroke-opacity:0.1; fill:none\" points=\"\n",
       "  193.936,1445.72 2352.76,1445.72 \n",
       "  \"/>\n",
       "<polyline clip-path=\"url(#clip512)\" style=\"stroke:#000000; stroke-width:2; stroke-opacity:0.1; fill:none\" points=\"\n",
       "  193.936,1106.28 2352.76,1106.28 \n",
       "  \"/>\n",
       "<polyline clip-path=\"url(#clip512)\" style=\"stroke:#000000; stroke-width:2; stroke-opacity:0.1; fill:none\" points=\"\n",
       "  193.936,766.846 2352.76,766.846 \n",
       "  \"/>\n",
       "<polyline clip-path=\"url(#clip512)\" style=\"stroke:#000000; stroke-width:2; stroke-opacity:0.1; fill:none\" points=\"\n",
       "  193.936,427.411 2352.76,427.411 \n",
       "  \"/>\n",
       "<polyline clip-path=\"url(#clip512)\" style=\"stroke:#000000; stroke-width:2; stroke-opacity:0.1; fill:none\" points=\"\n",
       "  193.936,87.9763 2352.76,87.9763 \n",
       "  \"/>\n",
       "<polyline clip-path=\"url(#clip510)\" style=\"stroke:#000000; stroke-width:4; stroke-opacity:1; fill:none\" points=\"\n",
       "  193.936,1486.45 193.936,47.2441 \n",
       "  \"/>\n",
       "<polyline clip-path=\"url(#clip510)\" style=\"stroke:#000000; stroke-width:4; stroke-opacity:1; fill:none\" points=\"\n",
       "  193.936,1445.72 219.842,1445.72 \n",
       "  \"/>\n",
       "<polyline clip-path=\"url(#clip510)\" style=\"stroke:#000000; stroke-width:4; stroke-opacity:1; fill:none\" points=\"\n",
       "  193.936,1106.28 219.842,1106.28 \n",
       "  \"/>\n",
       "<polyline clip-path=\"url(#clip510)\" style=\"stroke:#000000; stroke-width:4; stroke-opacity:1; fill:none\" points=\"\n",
       "  193.936,766.846 219.842,766.846 \n",
       "  \"/>\n",
       "<polyline clip-path=\"url(#clip510)\" style=\"stroke:#000000; stroke-width:4; stroke-opacity:1; fill:none\" points=\"\n",
       "  193.936,427.411 219.842,427.411 \n",
       "  \"/>\n",
       "<polyline clip-path=\"url(#clip510)\" style=\"stroke:#000000; stroke-width:4; stroke-opacity:1; fill:none\" points=\"\n",
       "  193.936,87.9763 219.842,87.9763 \n",
       "  \"/>\n",
       "<path clip-path=\"url(#clip510)\" d=\"M 0 0 M50.9921 1446.17 L80.6679 1446.17 L80.6679 1450.1 L50.9921 1450.1 L50.9921 1446.17 Z\" fill=\"#000000\" fill-rule=\"evenodd\" fill-opacity=\"1\" /><path clip-path=\"url(#clip510)\" d=\"M 0 0 M91.5706 1459.06 L99.2095 1459.06 L99.2095 1432.69 L90.8993 1434.36 L90.8993 1430.1 L99.1632 1428.44 L103.839 1428.44 L103.839 1459.06 L111.478 1459.06 L111.478 1463 L91.5706 1463 L91.5706 1459.06 Z\" fill=\"#000000\" fill-rule=\"evenodd\" fill-opacity=\"1\" /><path clip-path=\"url(#clip510)\" d=\"M 0 0 M120.922 1457.12 L125.807 1457.12 L125.807 1463 L120.922 1463 L120.922 1457.12 Z\" fill=\"#000000\" fill-rule=\"evenodd\" fill-opacity=\"1\" /><path clip-path=\"url(#clip510)\" d=\"M 0 0 M145.992 1431.51 Q142.381 1431.51 140.552 1435.08 Q138.746 1438.62 138.746 1445.75 Q138.746 1452.86 140.552 1456.42 Q142.381 1459.96 145.992 1459.96 Q149.626 1459.96 151.431 1456.42 Q153.26 1452.86 153.26 1445.75 Q153.26 1438.62 151.431 1435.08 Q149.626 1431.51 145.992 1431.51 M145.992 1427.81 Q151.802 1427.81 154.857 1432.42 Q157.936 1437 157.936 1445.75 Q157.936 1454.48 154.857 1459.08 Q151.802 1463.67 145.992 1463.67 Q140.181 1463.67 137.103 1459.08 Q134.047 1454.48 134.047 1445.75 Q134.047 1437 137.103 1432.42 Q140.181 1427.81 145.992 1427.81 Z\" fill=\"#000000\" fill-rule=\"evenodd\" fill-opacity=\"1\" /><path clip-path=\"url(#clip510)\" d=\"M 0 0 M51.9875 1106.73 L81.6633 1106.73 L81.6633 1110.67 L51.9875 1110.67 L51.9875 1106.73 Z\" fill=\"#000000\" fill-rule=\"evenodd\" fill-opacity=\"1\" /><path clip-path=\"url(#clip510)\" d=\"M 0 0 M101.756 1092.08 Q98.1447 1092.08 96.316 1095.64 Q94.5104 1099.19 94.5104 1106.32 Q94.5104 1113.42 96.316 1116.99 Q98.1447 1120.53 101.756 1120.53 Q105.39 1120.53 107.196 1116.99 Q109.024 1113.42 109.024 1106.32 Q109.024 1099.19 107.196 1095.64 Q105.39 1092.08 101.756 1092.08 M101.756 1088.38 Q107.566 1088.38 110.621 1092.98 Q113.7 1097.57 113.7 1106.32 Q113.7 1115.04 110.621 1119.65 Q107.566 1124.23 101.756 1124.23 Q95.9456 1124.23 92.8669 1119.65 Q89.8114 1115.04 89.8114 1106.32 Q89.8114 1097.57 92.8669 1092.98 Q95.9456 1088.38 101.756 1088.38 Z\" fill=\"#000000\" fill-rule=\"evenodd\" fill-opacity=\"1\" /><path clip-path=\"url(#clip510)\" d=\"M 0 0 M121.918 1117.68 L126.802 1117.68 L126.802 1123.56 L121.918 1123.56 L121.918 1117.68 Z\" fill=\"#000000\" fill-rule=\"evenodd\" fill-opacity=\"1\" /><path clip-path=\"url(#clip510)\" d=\"M 0 0 M137.033 1089 L155.39 1089 L155.39 1092.94 L141.316 1092.94 L141.316 1101.41 Q142.334 1101.06 143.353 1100.9 Q144.371 1100.71 145.39 1100.71 Q151.177 1100.71 154.556 1103.89 Q157.936 1107.06 157.936 1112.47 Q157.936 1118.05 154.464 1121.15 Q150.992 1124.23 144.672 1124.23 Q142.496 1124.23 140.228 1123.86 Q137.982 1123.49 135.575 1122.75 L135.575 1118.05 Q137.658 1119.19 139.881 1119.74 Q142.103 1120.3 144.58 1120.3 Q148.584 1120.3 150.922 1118.19 Q153.26 1116.08 153.26 1112.47 Q153.26 1108.86 150.922 1106.76 Q148.584 1104.65 144.58 1104.65 Q142.705 1104.65 140.83 1105.07 Q138.978 1105.48 137.033 1106.36 L137.033 1089 Z\" fill=\"#000000\" fill-rule=\"evenodd\" fill-opacity=\"1\" /><path clip-path=\"url(#clip510)\" d=\"M 0 0 M100.76 752.645 Q97.1493 752.645 95.3206 756.209 Q93.515 759.751 93.515 766.881 Q93.515 773.987 95.3206 777.552 Q97.1493 781.094 100.76 781.094 Q104.395 781.094 106.2 777.552 Q108.029 773.987 108.029 766.881 Q108.029 759.751 106.2 756.209 Q104.395 752.645 100.76 752.645 M100.76 748.941 Q106.571 748.941 109.626 753.547 Q112.705 758.131 112.705 766.881 Q112.705 775.608 109.626 780.214 Q106.571 784.797 100.76 784.797 Q94.9502 784.797 91.8715 780.214 Q88.816 775.608 88.816 766.881 Q88.816 758.131 91.8715 753.547 Q94.9502 748.941 100.76 748.941 Z\" fill=\"#000000\" fill-rule=\"evenodd\" fill-opacity=\"1\" /><path clip-path=\"url(#clip510)\" d=\"M 0 0 M120.922 778.246 L125.807 778.246 L125.807 784.126 L120.922 784.126 L120.922 778.246 Z\" fill=\"#000000\" fill-rule=\"evenodd\" fill-opacity=\"1\" /><path clip-path=\"url(#clip510)\" d=\"M 0 0 M145.992 752.645 Q142.381 752.645 140.552 756.209 Q138.746 759.751 138.746 766.881 Q138.746 773.987 140.552 777.552 Q142.381 781.094 145.992 781.094 Q149.626 781.094 151.431 777.552 Q153.26 773.987 153.26 766.881 Q153.26 759.751 151.431 756.209 Q149.626 752.645 145.992 752.645 M145.992 748.941 Q151.802 748.941 154.857 753.547 Q157.936 758.131 157.936 766.881 Q157.936 775.608 154.857 780.214 Q151.802 784.797 145.992 784.797 Q140.181 784.797 137.103 780.214 Q134.047 775.608 134.047 766.881 Q134.047 758.131 137.103 753.547 Q140.181 748.941 145.992 748.941 Z\" fill=\"#000000\" fill-rule=\"evenodd\" fill-opacity=\"1\" /><path clip-path=\"url(#clip510)\" d=\"M 0 0 M101.756 413.21 Q98.1447 413.21 96.316 416.775 Q94.5104 420.316 94.5104 427.446 Q94.5104 434.552 96.316 438.117 Q98.1447 441.659 101.756 441.659 Q105.39 441.659 107.196 438.117 Q109.024 434.552 109.024 427.446 Q109.024 420.316 107.196 416.775 Q105.39 413.21 101.756 413.21 M101.756 409.506 Q107.566 409.506 110.621 414.113 Q113.7 418.696 113.7 427.446 Q113.7 436.173 110.621 440.779 Q107.566 445.362 101.756 445.362 Q95.9456 445.362 92.8669 440.779 Q89.8114 436.173 89.8114 427.446 Q89.8114 418.696 92.8669 414.113 Q95.9456 409.506 101.756 409.506 Z\" fill=\"#000000\" fill-rule=\"evenodd\" fill-opacity=\"1\" /><path clip-path=\"url(#clip510)\" d=\"M 0 0 M121.918 438.812 L126.802 438.812 L126.802 444.691 L121.918 444.691 L121.918 438.812 Z\" fill=\"#000000\" fill-rule=\"evenodd\" fill-opacity=\"1\" /><path clip-path=\"url(#clip510)\" d=\"M 0 0 M137.033 410.131 L155.39 410.131 L155.39 414.066 L141.316 414.066 L141.316 422.538 Q142.334 422.191 143.353 422.029 Q144.371 421.844 145.39 421.844 Q151.177 421.844 154.556 425.015 Q157.936 428.187 157.936 433.603 Q157.936 439.182 154.464 442.284 Q150.992 445.362 144.672 445.362 Q142.496 445.362 140.228 444.992 Q137.982 444.622 135.575 443.881 L135.575 439.182 Q137.658 440.316 139.881 440.872 Q142.103 441.427 144.58 441.427 Q148.584 441.427 150.922 439.321 Q153.26 437.214 153.26 433.603 Q153.26 429.992 150.922 427.886 Q148.584 425.779 144.58 425.779 Q142.705 425.779 140.83 426.196 Q138.978 426.613 137.033 427.492 L137.033 410.131 Z\" fill=\"#000000\" fill-rule=\"evenodd\" fill-opacity=\"1\" /><path clip-path=\"url(#clip510)\" d=\"M 0 0 M91.5706 101.321 L99.2095 101.321 L99.2095 74.9555 L90.8993 76.6222 L90.8993 72.3629 L99.1632 70.6963 L103.839 70.6963 L103.839 101.321 L111.478 101.321 L111.478 105.256 L91.5706 105.256 L91.5706 101.321 Z\" fill=\"#000000\" fill-rule=\"evenodd\" fill-opacity=\"1\" /><path clip-path=\"url(#clip510)\" d=\"M 0 0 M120.922 99.3767 L125.807 99.3767 L125.807 105.256 L120.922 105.256 L120.922 99.3767 Z\" fill=\"#000000\" fill-rule=\"evenodd\" fill-opacity=\"1\" /><path clip-path=\"url(#clip510)\" d=\"M 0 0 M145.992 73.775 Q142.381 73.775 140.552 77.3398 Q138.746 80.8814 138.746 88.011 Q138.746 95.1174 140.552 98.6822 Q142.381 102.224 145.992 102.224 Q149.626 102.224 151.431 98.6822 Q153.26 95.1174 153.26 88.011 Q153.26 80.8814 151.431 77.3398 Q149.626 73.775 145.992 73.775 M145.992 70.0713 Q151.802 70.0713 154.857 74.6777 Q157.936 79.261 157.936 88.011 Q157.936 96.7378 154.857 101.344 Q151.802 105.928 145.992 105.928 Q140.181 105.928 137.103 101.344 Q134.047 96.7378 134.047 88.011 Q134.047 79.261 137.103 74.6777 Q140.181 70.0713 145.992 70.0713 Z\" fill=\"#000000\" fill-rule=\"evenodd\" fill-opacity=\"1\" /><circle clip-path=\"url(#clip512)\" cx=\"255.035\" cy=\"766.846\" r=\"14\" fill=\"#009af9\" fill-rule=\"evenodd\" fill-opacity=\"0.5\" stroke=\"#000000\" stroke-opacity=\"0.5\" stroke-width=\"3.2\"/>\n",
       "<path clip-path=\"url(#clip512)\" d=\"\n",
       "M2291.66 87.9763 L933.909 87.9763 L933.909 1445.72 L2291.66 1445.72 L2291.66 87.9763 L2291.66 87.9763  Z\n",
       "  \" fill=\"#e26f46\" fill-rule=\"evenodd\" fill-opacity=\"0.5\"/>\n",
       "<polyline clip-path=\"url(#clip512)\" style=\"stroke:#000000; stroke-width:4; stroke-opacity:0.5; fill:none\" points=\"\n",
       "  2291.66,87.9763 933.909,87.9763 933.909,1445.72 2291.66,1445.72 2291.66,87.9763 \n",
       "  \"/>\n",
       "</svg>\n"
      ]
     },
     "execution_count": 8,
     "metadata": {},
     "output_type": "execute_result"
    }
   ],
   "source": [
    "c = zeros(2)\n",
    "V = Matrix(1.0I, 2, 2)\n",
    "P = BallInf([2.0, 0.0], 1.0)\n",
    "Θ = Star(c, V, P)\n",
    "\n",
    "plot(ZeroSet(2))\n",
    "plot!(Θ)"
   ]
  },
  {
   "cell_type": "code",
   "execution_count": null,
   "metadata": {},
   "outputs": [],
   "source": [
    "# input star\n",
    "#Θbox = box_approximation(Θ)"
   ]
  },
  {
   "cell_type": "code",
   "execution_count": 46,
   "metadata": {},
   "outputs": [
    {
     "data": {
      "text/plain": [
       "stepRELU (generic function with 3 methods)"
      ]
     },
     "execution_count": 46,
     "metadata": {},
     "output_type": "execute_result"
    }
   ],
   "source": [
    "function reachRELU(Θ::ST) where {ST<:LazySets.STAR}\n",
    "\n",
    "    n = LazySets.dim(Θ)\n",
    "    Θbox = box_approximation(Θ)\n",
    "    \n",
    "    # processing list\n",
    "    out = Vector{Vector{ST}}(undef, n+1)\n",
    "    out[1] = [Θ]\n",
    "\n",
    "    for k in 1:n  # loop over directions\n",
    "\n",
    "        # get lower bound on the current direction\n",
    "        lb = low(Θbox, k)\n",
    "\n",
    "        # check if the star is included in the current positive orthant\n",
    "        #lb ≥ 0 && continue\n",
    "        if lb ≥ 0\n",
    "           out[k+1] = out[k] # identity \n",
    "        end\n",
    "\n",
    "        ub = high(Θbox, k)\n",
    "        out[k+1] = stepRELU(out[k], k, lb, ub)\n",
    "    end\n",
    "\n",
    "    return out[end]\n",
    "end\n",
    "\n",
    "function _relu_projection_matrix(k, n; N=Float64)\n",
    "    M = Matrix(one(N)*I, n, n)\n",
    "    M[:, k] .= zero(N)\n",
    "    return M\n",
    "end\n",
    "\n",
    "# could also return a SEV\n",
    "function _relu_projection_halfspace(k, n; N=Float64)\n",
    "    a = zeros(N, n)\n",
    "    a[k] = -one(N)\n",
    "    b = zero(N)\n",
    "    return HalfSpace(a, b)\n",
    "end\n",
    "\n",
    "function _relu_projection_halfspace_neg(k, n; N=Float64)\n",
    "    a = zeros(N, n)\n",
    "    a[k] = one(N)\n",
    "    b = zero(N)\n",
    "    return HalfSpace(a, b)\n",
    "end\n",
    "\n",
    "function stepRELU(Θ::ST, k, lb, ub) where {ST<:LazySets.STAR}\n",
    "    n = dim(Θ)\n",
    "    \n",
    "    # no-op: all positive\n",
    "    if lb ≥ 0\n",
    "        return [Θ]\n",
    "    end\n",
    "\n",
    "    # all negative\n",
    "    M = _relu_projection_matrix(k, n)\n",
    "    if ub ≤ 0\n",
    "        Θnew = linear_map_lazy(M, Θ)\n",
    "        return [Θnew] \n",
    "    end\n",
    "\n",
    "    # general case\n",
    "    H = _relu_projection_halfspace(k, n) # x[k] ≥ 0\n",
    "    Θnew_pos = intersection(Θ, H)\n",
    "\n",
    "    Hneg = _relu_projection_halfspace_neg(k, n) # x[k] < 0\n",
    "    Θnew_neg = intersection(Θ, Hneg)\n",
    "    M = _relu_projection_matrix(k, n)\n",
    "    Θnew_neg = linear_map_lazy(M, Θnew_neg)\n",
    "    return [Θnew_pos, Θnew_neg]\n",
    "end\n",
    "    \n",
    "function stepRELU(Θ::Vector{ST}, k, lb, ub) where {ST<:LazySets.STAR}\n",
    "    out = Vector{ST}()\n",
    "    for Θi in Θ\n",
    "        append!(out, stepRELU(Θi, k, lb, ub))\n",
    "    end\n",
    "    return out\n",
    "end"
   ]
  },
  {
   "cell_type": "code",
   "execution_count": 47,
   "metadata": {},
   "outputs": [
    {
     "ename": "LoadError",
     "evalue": "MethodError: \u001b[0mCannot `convert` an object of type \n\u001b[0m  AffineMap{Float64{},\u001b[92mHPolyhedron{Float64, Vector{Float64}}\u001b[39m,Float64{},Array{Float64{},2},Array{Float64{},1}}\u001b[0m to an object of type \n\u001b[0m  AffineMap{Float64{},\u001b[91mBallInf{Float64, Vector{Float64}}\u001b[39m,Float64{},Array{Float64{},2},Array{Float64{},1}}\n\u001b[0mClosest candidates are:\n\u001b[0m  convert(::Type{T}, \u001b[91m::T\u001b[39m) where T at essentials.jl:205",
     "output_type": "error",
     "traceback": [
      "MethodError: \u001b[0mCannot `convert` an object of type \n\u001b[0m  AffineMap{Float64{},\u001b[92mHPolyhedron{Float64, Vector{Float64}}\u001b[39m,Float64{},Array{Float64{},2},Array{Float64{},1}}\u001b[0m to an object of type \n\u001b[0m  AffineMap{Float64{},\u001b[91mBallInf{Float64, Vector{Float64}}\u001b[39m,Float64{},Array{Float64{},2},Array{Float64{},1}}\n\u001b[0mClosest candidates are:\n\u001b[0m  convert(::Type{T}, \u001b[91m::T\u001b[39m) where T at essentials.jl:205",
      "",
      "Stacktrace:",
      "  [1] setindex!(A::Vector{AffineMap{Float64, BallInf{Float64, Vector{Float64}}, Float64, Matrix{Float64}, Vector{Float64}}}, x::AffineMap{Float64, HPolyhedron{Float64, Vector{Float64}}, Float64, Matrix{Float64}, Vector{Float64}}, i1::Int64)",
      "    @ Base ./array.jl:839",
      "  [2] _unsafe_copyto!(dest::Vector{AffineMap{Float64, BallInf{Float64, Vector{Float64}}, Float64, Matrix{Float64}, Vector{Float64}}}, doffs::Int64, src::Vector{AffineMap{Float64, HPolyhedron{Float64, Vector{Float64}}, Float64, Matrix{Float64}, Vector{Float64}}}, soffs::Int64, n::Int64)",
      "    @ Base ./array.jl:235",
      "  [3] unsafe_copyto!",
      "    @ ./array.jl:289 [inlined]",
      "  [4] _copyto_impl!",
      "    @ ./array.jl:313 [inlined]",
      "  [5] copyto!",
      "    @ ./array.jl:299 [inlined]",
      "  [6] append!",
      "    @ ./array.jl:977 [inlined]",
      "  [7] stepRELU(Θ::Vector{AffineMap{Float64, BallInf{Float64, Vector{Float64}}, Float64, Matrix{Float64}, Vector{Float64}}}, k::Int64, lb::Float64, ub::Float64)",
      "    @ Main ./In[46]:78",
      "  [8] reachRELU(Θ::AffineMap{Float64, BallInf{Float64, Vector{Float64}}, Float64, Matrix{Float64}, Vector{Float64}})",
      "    @ Main ./In[46]:22",
      "  [9] top-level scope",
      "    @ In[47]:1",
      " [10] eval",
      "    @ ./boot.jl:360 [inlined]",
      " [11] include_string(mapexpr::typeof(REPL.softscope), mod::Module, code::String, filename::String)",
      "    @ Base ./loading.jl:1094"
     ]
    }
   ],
   "source": [
    "reachRELU(Θ)"
   ]
  },
  {
   "cell_type": "code",
   "execution_count": 30,
   "metadata": {},
   "outputs": [
    {
     "data": {
      "text/plain": [
       "AffineMap{Float64, BallInf{Float64, Vector{Float64}}, Float64, Matrix{Float64}, Vector{Float64}}([1.0 0.0; 0.0 1.0], BallInf{Float64, Vector{Float64}}([2.0, 0.0], 1.0), [0.0, 0.0])"
      ]
     },
     "execution_count": 30,
     "metadata": {},
     "output_type": "execute_result"
    }
   ],
   "source": [
    "Θ"
   ]
  },
  {
   "cell_type": "code",
   "execution_count": 37,
   "metadata": {},
   "outputs": [
    {
     "data": {
      "text/html": [
       "linear_map(M::<b>AbstractMatrix{T} where T</b>, am::<b>AbstractAffineMap</b>) in LazySets at <a href=\"https://github.com/JuliaReach/LazySets.jl/tree/ba5d9e0a681f843ea416e16373680325a9c51b53//src/Interfaces/AbstractAffineMap.jl#L302\" target=\"_blank\">/home/mforets/.julia/dev/LazySets/src/Interfaces/AbstractAffineMap.jl:302</a>"
      ],
      "text/plain": [
       "linear_map(M::AbstractMatrix{T} where T, am::AbstractAffineMap) in LazySets at /home/mforets/.julia/dev/LazySets/src/Interfaces/AbstractAffineMap.jl:302"
      ]
     },
     "execution_count": 37,
     "metadata": {},
     "output_type": "execute_result"
    }
   ],
   "source": [
    "M = _relu_projection_matrix(2, 2)\n",
    "\n",
    "@which linear_map(M, Θ)"
   ]
  },
  {
   "cell_type": "code",
   "execution_count": 38,
   "metadata": {},
   "outputs": [
    {
     "name": "stdout",
     "output_type": "stream",
     "text": [
      "search: \u001b[0m\u001b[1mA\u001b[22m\u001b[0m\u001b[1mf\u001b[22m\u001b[0m\u001b[1mf\u001b[22m\u001b[0m\u001b[1mi\u001b[22m\u001b[0m\u001b[1mn\u001b[22m\u001b[0m\u001b[1me\u001b[22m\u001b[0m\u001b[1mM\u001b[22m\u001b[0m\u001b[1ma\u001b[22m\u001b[0m\u001b[1mp\u001b[22m \u001b[0m\u001b[1ma\u001b[22m\u001b[0m\u001b[1mf\u001b[22m\u001b[0m\u001b[1mf\u001b[22m\u001b[0m\u001b[1mi\u001b[22m\u001b[0m\u001b[1mn\u001b[22m\u001b[0m\u001b[1me\u001b[22m_\u001b[0m\u001b[1mm\u001b[22m\u001b[0m\u001b[1ma\u001b[22m\u001b[0m\u001b[1mp\u001b[22m \u001b[0m\u001b[1mA\u001b[22mbstractA\u001b[0m\u001b[1mf\u001b[22m\u001b[0m\u001b[1mf\u001b[22m\u001b[0m\u001b[1mi\u001b[22m\u001b[0m\u001b[1mn\u001b[22m\u001b[0m\u001b[1me\u001b[22m\u001b[0m\u001b[1mM\u001b[22m\u001b[0m\u001b[1ma\u001b[22m\u001b[0m\u001b[1mp\u001b[22m\n",
      "\n"
     ]
    },
    {
     "data": {
      "text/latex": [
       "\\begin{verbatim}\n",
       "AffineMap{N, S<:LazySet{N}, NM, MAT<:AbstractMatrix{NM},\n",
       "          VN<:AbstractVector{NM}} <: AbstractAffineMap{N, S}\n",
       "\\end{verbatim}\n",
       "Type that represents an affine transformation $M⋅X ⊕ v$ of a set $X$, that is the set\n",
       "\n",
       "$$Y = \\{ y ∈ \\mathbb{R}^n : y = Mx + v,\\qquad x ∈ X \\}.$$\n",
       "If $X$ is $n$-dimensional then $M$ should be an $m × n$ matrix and  `\\texttt{v ∈ {\\textbackslash}mathbb\\{R\\}\\^{}m}.\n",
       "\n",
       "\\subsubsection{Fields}\n",
       "\\begin{itemize}\n",
       "\\item \\texttt{M} – matrix\n",
       "\n",
       "\n",
       "\\item \\texttt{X} – set\n",
       "\n",
       "\n",
       "\\item \\texttt{v} – translation vector\n",
       "\n",
       "\\end{itemize}\n",
       "The fields' getter functions are \\texttt{matrix}, \\texttt{set} and \\texttt{vector} respectively.\n",
       "\n",
       "\\subsubsection{Notes}\n",
       "An affine map is the composition of a linear map and a translation. This type is parametric in the coefficients of the linear map, \\texttt{NM}, which may be different from the numeric type of the wrapped set, \\texttt{N}. However, the numeric type of the translation vector should be \\texttt{NM}.\n",
       "\n",
       "\\subsubsection{Examples}\n",
       "For the examples we create a $3×2$ matrix, a two-dimensional unit square, and a three-dimensional vector. Then we combine them in an \\texttt{AffineMap}.\n",
       "\n",
       "\\begin{verbatim}\n",
       "julia> A = [1 2; 1 3; 1 4]; X = BallInf([0, 0], 1); b2 = [1, 2]; b3 = [1, 2, 3];\n",
       "\n",
       "julia> AffineMap(A, X, b3)\n",
       "AffineMap{Int64,BallInf{Int64,Array{Int64,1}},Int64,Array{Int64,2},Array{Int64,1}}([1 2; 1 3; 1 4], BallInf{Int64,Array{Int64,1}}([0, 0], 1), [1, 2, 3])\n",
       "\\end{verbatim}\n",
       "For convenience, \\texttt{A} does not need to be a matrix but we also allow to use \\texttt{UniformScaling}s resp. scalars (interpreted as a scaling, i.e., a scaled identity matrix). Scaling by $1$ is ignored and simplified to a pure \\texttt{Translation}.\n",
       "\n",
       "\\begin{verbatim}\n",
       "julia> using LinearAlgebra\n",
       "\n",
       "julia> am = AffineMap(2I, X, b2)\n",
       "AffineMap{Int64,BallInf{Int64,Array{Int64,1}},Int64,Diagonal{Int64,Array{Int64,1}},Array{Int64,1}}([2 0; 0 2], BallInf{Int64,Array{Int64,1}}([0, 0], 1), [1, 2])\n",
       "\n",
       "julia> AffineMap(2, X, b2) == am\n",
       "true\n",
       "\n",
       "julia> AffineMap(1, X, b2)\n",
       "Translation{Int64,Array{Int64,1},BallInf{Int64,Array{Int64,1}}}(BallInf{Int64,Array{Int64,1}}([0, 0], 1), [1, 2])\n",
       "\\end{verbatim}\n",
       "Applying a linear map to an \\texttt{AffineMap} object combines the two maps into a new \\texttt{AffineMap} instance. Again we can make use of the conversion for convenience.\n",
       "\n",
       "\\begin{verbatim}\n",
       "julia> B = [2 0; 0 2]; am2 = B * am\n",
       "AffineMap{Int64,BallInf{Int64,Array{Int64,1}},Int64,Array{Int64,2},Array{Int64,1}}([4 0; 0 4], BallInf{Int64,Array{Int64,1}}([0, 0], 1), [2, 4])\n",
       "\n",
       "julia> 2 * am == am2\n",
       "true\n",
       "\\end{verbatim}\n",
       "The application of an \\texttt{AffineMap} to a \\texttt{ZeroSet} or an \\texttt{EmptySet} is simplified automatically.\n",
       "\n",
       "\\begin{verbatim}\n",
       "julia> AffineMap(A, ZeroSet{Int}(2), b3)\n",
       "Singleton{Int64,Array{Int64,1}}([1, 2, 3])\n",
       "\n",
       "julia> AffineMap(A, EmptySet{Int}(2), b3)\n",
       "EmptySet{Int64}(2)\n",
       "\\end{verbatim}\n"
      ],
      "text/markdown": [
       "```\n",
       "AffineMap{N, S<:LazySet{N}, NM, MAT<:AbstractMatrix{NM},\n",
       "          VN<:AbstractVector{NM}} <: AbstractAffineMap{N, S}\n",
       "```\n",
       "\n",
       "Type that represents an affine transformation $M⋅X ⊕ v$ of a set $X$, that is the set\n",
       "\n",
       "$$\n",
       "Y = \\{ y ∈ \\mathbb{R}^n : y = Mx + v,\\qquad x ∈ X \\}.\n",
       "$$\n",
       "\n",
       "If $X$ is $n$-dimensional then $M$ should be an $m × n$ matrix and  ``v ∈ \\mathbb{R}^m`.\n",
       "\n",
       "### Fields\n",
       "\n",
       "  * `M` – matrix\n",
       "  * `X` – set\n",
       "  * `v` – translation vector\n",
       "\n",
       "The fields' getter functions are `matrix`, `set` and `vector` respectively.\n",
       "\n",
       "### Notes\n",
       "\n",
       "An affine map is the composition of a linear map and a translation. This type is parametric in the coefficients of the linear map, `NM`, which may be different from the numeric type of the wrapped set, `N`. However, the numeric type of the translation vector should be `NM`.\n",
       "\n",
       "### Examples\n",
       "\n",
       "For the examples we create a $3×2$ matrix, a two-dimensional unit square, and a three-dimensional vector. Then we combine them in an `AffineMap`.\n",
       "\n",
       "```jldoctest constructors\n",
       "julia> A = [1 2; 1 3; 1 4]; X = BallInf([0, 0], 1); b2 = [1, 2]; b3 = [1, 2, 3];\n",
       "\n",
       "julia> AffineMap(A, X, b3)\n",
       "AffineMap{Int64,BallInf{Int64,Array{Int64,1}},Int64,Array{Int64,2},Array{Int64,1}}([1 2; 1 3; 1 4], BallInf{Int64,Array{Int64,1}}([0, 0], 1), [1, 2, 3])\n",
       "```\n",
       "\n",
       "For convenience, `A` does not need to be a matrix but we also allow to use `UniformScaling`s resp. scalars (interpreted as a scaling, i.e., a scaled identity matrix). Scaling by $1$ is ignored and simplified to a pure `Translation`.\n",
       "\n",
       "```jldoctest constructors\n",
       "julia> using LinearAlgebra\n",
       "\n",
       "julia> am = AffineMap(2I, X, b2)\n",
       "AffineMap{Int64,BallInf{Int64,Array{Int64,1}},Int64,Diagonal{Int64,Array{Int64,1}},Array{Int64,1}}([2 0; 0 2], BallInf{Int64,Array{Int64,1}}([0, 0], 1), [1, 2])\n",
       "\n",
       "julia> AffineMap(2, X, b2) == am\n",
       "true\n",
       "\n",
       "julia> AffineMap(1, X, b2)\n",
       "Translation{Int64,Array{Int64,1},BallInf{Int64,Array{Int64,1}}}(BallInf{Int64,Array{Int64,1}}([0, 0], 1), [1, 2])\n",
       "```\n",
       "\n",
       "Applying a linear map to an `AffineMap` object combines the two maps into a new `AffineMap` instance. Again we can make use of the conversion for convenience.\n",
       "\n",
       "```jldoctest constructors\n",
       "julia> B = [2 0; 0 2]; am2 = B * am\n",
       "AffineMap{Int64,BallInf{Int64,Array{Int64,1}},Int64,Array{Int64,2},Array{Int64,1}}([4 0; 0 4], BallInf{Int64,Array{Int64,1}}([0, 0], 1), [2, 4])\n",
       "\n",
       "julia> 2 * am == am2\n",
       "true\n",
       "```\n",
       "\n",
       "The application of an `AffineMap` to a `ZeroSet` or an `EmptySet` is simplified automatically.\n",
       "\n",
       "```jldoctest constructors\n",
       "julia> AffineMap(A, ZeroSet{Int}(2), b3)\n",
       "Singleton{Int64,Array{Int64,1}}([1, 2, 3])\n",
       "\n",
       "julia> AffineMap(A, EmptySet{Int}(2), b3)\n",
       "EmptySet{Int64}(2)\n",
       "```\n"
      ],
      "text/plain": [
       "\u001b[36m  AffineMap{N, S<:LazySet{N}, NM, MAT<:AbstractMatrix{NM},\u001b[39m\n",
       "\u001b[36m            VN<:AbstractVector{NM}} <: AbstractAffineMap{N, S}\u001b[39m\n",
       "\n",
       "  Type that represents an affine transformation \u001b[35mM⋅X ⊕ v\u001b[39m of a set \u001b[35mX\u001b[39m, that is\n",
       "  the set\n",
       "\n",
       "\u001b[35m  Y = \\{ y ∈ \\mathbb{R}^n : y = Mx + v,\\qquad x ∈ X \\}.\u001b[39m\n",
       "\n",
       "  If \u001b[35mX\u001b[39m is \u001b[35mn\u001b[39m-dimensional then \u001b[35mM\u001b[39m should be an \u001b[35mm × n\u001b[39m matrix and `\u001b[36mv ∈\n",
       "  \\mathbb{R}^m\u001b[39m.\n",
       "\n",
       "\u001b[1m  Fields\u001b[22m\n",
       "\u001b[1m  ––––––––\u001b[22m\n",
       "\n",
       "    •  \u001b[36mM\u001b[39m – matrix\n",
       "\n",
       "    •  \u001b[36mX\u001b[39m – set\n",
       "\n",
       "    •  \u001b[36mv\u001b[39m – translation vector\n",
       "\n",
       "  The fields' getter functions are \u001b[36mmatrix\u001b[39m, \u001b[36mset\u001b[39m and \u001b[36mvector\u001b[39m respectively.\n",
       "\n",
       "\u001b[1m  Notes\u001b[22m\n",
       "\u001b[1m  –––––––\u001b[22m\n",
       "\n",
       "  An affine map is the composition of a linear map and a translation. This\n",
       "  type is parametric in the coefficients of the linear map, \u001b[36mNM\u001b[39m, which may be\n",
       "  different from the numeric type of the wrapped set, \u001b[36mN\u001b[39m. However, the numeric\n",
       "  type of the translation vector should be \u001b[36mNM\u001b[39m.\n",
       "\n",
       "\u001b[1m  Examples\u001b[22m\n",
       "\u001b[1m  ––––––––––\u001b[22m\n",
       "\n",
       "  For the examples we create a \u001b[35m3×2\u001b[39m matrix, a two-dimensional unit square, and\n",
       "  a three-dimensional vector. Then we combine them in an \u001b[36mAffineMap\u001b[39m.\n",
       "\n",
       "\u001b[36m  julia> A = [1 2; 1 3; 1 4]; X = BallInf([0, 0], 1); b2 = [1, 2]; b3 = [1, 2, 3];\u001b[39m\n",
       "\u001b[36m  \u001b[39m\n",
       "\u001b[36m  julia> AffineMap(A, X, b3)\u001b[39m\n",
       "\u001b[36m  AffineMap{Int64,BallInf{Int64,Array{Int64,1}},Int64,Array{Int64,2},Array{Int64,1}}([1 2; 1 3; 1 4], BallInf{Int64,Array{Int64,1}}([0, 0], 1), [1, 2, 3])\u001b[39m\n",
       "\n",
       "  For convenience, \u001b[36mA\u001b[39m does not need to be a matrix but we also allow to use\n",
       "  \u001b[36mUniformScaling\u001b[39ms resp. scalars (interpreted as a scaling, i.e., a scaled\n",
       "  identity matrix). Scaling by \u001b[35m1\u001b[39m is ignored and simplified to a pure\n",
       "  \u001b[36mTranslation\u001b[39m.\n",
       "\n",
       "\u001b[36m  julia> using LinearAlgebra\u001b[39m\n",
       "\u001b[36m  \u001b[39m\n",
       "\u001b[36m  julia> am = AffineMap(2I, X, b2)\u001b[39m\n",
       "\u001b[36m  AffineMap{Int64,BallInf{Int64,Array{Int64,1}},Int64,Diagonal{Int64,Array{Int64,1}},Array{Int64,1}}([2 0; 0 2], BallInf{Int64,Array{Int64,1}}([0, 0], 1), [1, 2])\u001b[39m\n",
       "\u001b[36m  \u001b[39m\n",
       "\u001b[36m  julia> AffineMap(2, X, b2) == am\u001b[39m\n",
       "\u001b[36m  true\u001b[39m\n",
       "\u001b[36m  \u001b[39m\n",
       "\u001b[36m  julia> AffineMap(1, X, b2)\u001b[39m\n",
       "\u001b[36m  Translation{Int64,Array{Int64,1},BallInf{Int64,Array{Int64,1}}}(BallInf{Int64,Array{Int64,1}}([0, 0], 1), [1, 2])\u001b[39m\n",
       "\n",
       "  Applying a linear map to an \u001b[36mAffineMap\u001b[39m object combines the two maps into a\n",
       "  new \u001b[36mAffineMap\u001b[39m instance. Again we can make use of the conversion for\n",
       "  convenience.\n",
       "\n",
       "\u001b[36m  julia> B = [2 0; 0 2]; am2 = B * am\u001b[39m\n",
       "\u001b[36m  AffineMap{Int64,BallInf{Int64,Array{Int64,1}},Int64,Array{Int64,2},Array{Int64,1}}([4 0; 0 4], BallInf{Int64,Array{Int64,1}}([0, 0], 1), [2, 4])\u001b[39m\n",
       "\u001b[36m  \u001b[39m\n",
       "\u001b[36m  julia> 2 * am == am2\u001b[39m\n",
       "\u001b[36m  true\u001b[39m\n",
       "\n",
       "  The application of an \u001b[36mAffineMap\u001b[39m to a \u001b[36mZeroSet\u001b[39m or an \u001b[36mEmptySet\u001b[39m is simplified\n",
       "  automatically.\n",
       "\n",
       "\u001b[36m  julia> AffineMap(A, ZeroSet{Int}(2), b3)\u001b[39m\n",
       "\u001b[36m  Singleton{Int64,Array{Int64,1}}([1, 2, 3])\u001b[39m\n",
       "\u001b[36m  \u001b[39m\n",
       "\u001b[36m  julia> AffineMap(A, EmptySet{Int}(2), b3)\u001b[39m\n",
       "\u001b[36m  EmptySet{Int64}(2)\u001b[39m"
      ]
     },
     "execution_count": 38,
     "metadata": {},
     "output_type": "execute_result"
    }
   ],
   "source": [
    "?AffineMap"
   ]
  },
  {
   "cell_type": "code",
   "execution_count": 41,
   "metadata": {},
   "outputs": [
    {
     "data": {
      "text/plain": [
       "2-element Vector{Float64}:\n",
       " 0.0\n",
       " 0.0"
      ]
     },
     "execution_count": 41,
     "metadata": {},
     "output_type": "execute_result"
    }
   ],
   "source": [
    "vector(Θ)"
   ]
  },
  {
   "cell_type": "code",
   "execution_count": 45,
   "metadata": {},
   "outputs": [
    {
     "data": {
      "text/plain": [
       "linear_map_lazy (generic function with 1 method)"
      ]
     },
     "execution_count": 45,
     "metadata": {},
     "output_type": "execute_result"
    }
   ],
   "source": [
    "function linear_map_lazy(M::AbstractMatrix, am::AbstractAffineMap)\n",
    "     return AffineMap(M * matrix(am), set(am), M * vector(am))\n",
    "end"
   ]
  },
  {
   "cell_type": "code",
   "execution_count": 44,
   "metadata": {},
   "outputs": [
    {
     "ename": "LoadError",
     "evalue": "UndefVarError: am not defined",
     "output_type": "error",
     "traceback": [
      "UndefVarError: am not defined",
      "",
      "Stacktrace:",
      " [1] top-level scope",
      "   @ In[44]:1",
      " [2] eval",
      "   @ ./boot.jl:360 [inlined]",
      " [3] include_string(mapexpr::typeof(REPL.softscope), mod::Module, code::String, filename::String)",
      "   @ Base ./loading.jl:1094"
     ]
    }
   ],
   "source": [
    "linear_map_lazy(M, am)"
   ]
  },
  {
   "cell_type": "code",
   "execution_count": null,
   "metadata": {},
   "outputs": [],
   "source": []
  }
 ],
 "metadata": {
  "kernelspec": {
   "display_name": "Julia 1.6.0",
   "language": "julia",
   "name": "julia-1.6"
  },
  "language_info": {
   "file_extension": ".jl",
   "mimetype": "application/julia",
   "name": "julia",
   "version": "1.6.0"
  }
 },
 "nbformat": 4,
 "nbformat_minor": 2
}
